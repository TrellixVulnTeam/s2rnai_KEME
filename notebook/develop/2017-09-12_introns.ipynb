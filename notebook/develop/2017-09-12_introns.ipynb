{
 "cells": [
  {
   "cell_type": "markdown",
   "metadata": {},
   "source": [
    "# Generate list of possible motifs\n",
    "* Build BED for intron and upstream region\n",
    "* intersect with fimo output from the entire genome for each of the 5 motif databases\n",
    "* take fdr of pvalues\n",
    "* concat datasets??? "
   ]
  },
  {
   "cell_type": "code",
   "execution_count": 69,
   "metadata": {},
   "outputs": [],
   "source": [
    "import gffutils\n",
    "from gffutils import pybedtools_integration\n",
    "import pybedtools\n",
    "from pybedtools.featurefuncs import gff2bed\n",
    "import pandas as pd\n",
    "import seaborn as sb\n",
    "import statsmodels\n",
    "import statsmodels.api as sm\n",
    "%matplotlib inline"
   ]
  },
  {
   "cell_type": "markdown",
   "metadata": {},
   "source": [
    "I first use gffutils to get introns plus 1kb upstream of transcripts:"
   ]
  },
  {
   "cell_type": "code",
   "execution_count": 4,
   "metadata": {},
   "outputs": [
    {
     "name": "stderr",
     "output_type": "stream",
     "text": [
      "/Users/bergeric/miniconda3/lib/python3.5/site-packages/gffutils/interface.py:161: UserWarning: It appears that this database has not had the ANALYZE sqlite3 command run on it. Doing so can dramatically speed up queries, and is done by default for databases created with gffutils >0.8.7.1 (this database was created with version 0.8.7.1) Consider calling the analyze() method of this object.\n",
      "  \"method of this object.\" % self.version)\n"
     ]
    }
   ],
   "source": [
    "db = gffutils.FeatureDB('/data/LCDB/lcdb-references/dmel/r6-11/gtf/dmel_r6-11.gtf.db')"
   ]
  },
  {
   "cell_type": "code",
   "execution_count": 5,
   "metadata": {},
   "outputs": [],
   "source": [
    "idb = gffutils.create_db(db.create_introns(), \":memory:\")"
   ]
  },
  {
   "cell_type": "code",
   "execution_count": 6,
   "metadata": {},
   "outputs": [
    {
     "name": "stdout",
     "output_type": "stream",
     "text": [
      "intron\n"
     ]
    }
   ],
   "source": [
    "for a in idb.featuretypes():\n",
    "    print(a)"
   ]
  },
  {
   "cell_type": "code",
   "execution_count": 8,
   "metadata": {},
   "outputs": [],
   "source": [
    "ibed = pybedtools_integration.to_bedtool(idb.features_of_type('intron')).saveas('../../data/dm6_introns.bed')"
   ]
  },
  {
   "cell_type": "markdown",
   "metadata": {},
   "source": [
    "- get exons, then merge them\n",
    "- subtract from gene to get introns\n",
    "- slop transcripts\n",
    "- subtract transcripts from slopped transcripts to get just upstream\n",
    "- cat slop with introns"
   ]
  },
  {
   "cell_type": "code",
   "execution_count": 9,
   "metadata": {
    "collapsed": true
   },
   "outputs": [],
   "source": [
    "exons = pybedtools_integration.to_bedtool(db.features_of_type('exon')).saveas()"
   ]
  },
  {
   "cell_type": "code",
   "execution_count": 22,
   "metadata": {},
   "outputs": [],
   "source": [
    "exonmerge = exons.sort().merge().saveas('../../data/dm6_exons.bed') #need to figure this out"
   ]
  },
  {
   "cell_type": "code",
   "execution_count": 29,
   "metadata": {},
   "outputs": [],
   "source": [
    "genes = pybedtools_integration.to_bedtool(db.features_of_type('gene')).saveas('../../data/dm6_genes.gtf')\n",
    "genes = genes.sort().merge().saveas()"
   ]
  },
  {
   "cell_type": "code",
   "execution_count": 30,
   "metadata": {},
   "outputs": [],
   "source": [
    "introns = genes.subtract(exonmerge).saveas('../../data/dm6_introns_3rdway.bed')"
   ]
  },
  {
   "cell_type": "code",
   "execution_count": 14,
   "metadata": {
    "collapsed": true
   },
   "outputs": [],
   "source": [
    "transcripts = pybedtools_integration.to_bedtool(db.features_of_type('transcript')).saveas()"
   ]
  },
  {
   "cell_type": "code",
   "execution_count": 15,
   "metadata": {
    "collapsed": true
   },
   "outputs": [],
   "source": [
    "slopped = transcripts.slop(b=1000, s=True, genome='dm6').saveas()"
   ]
  },
  {
   "cell_type": "code",
   "execution_count": 16,
   "metadata": {
    "collapsed": true
   },
   "outputs": [],
   "source": [
    "diff = slopped.subtract(transcripts, s=True)"
   ]
  },
  {
   "cell_type": "code",
   "execution_count": 32,
   "metadata": {},
   "outputs": [],
   "source": [
    "#woo Justin says looks good\n",
    "intslop = diff.cat(introns).saveas('../../data/dm6_intron_sloptranscript.bed')"
   ]
  },
  {
   "cell_type": "markdown",
   "metadata": {},
   "source": [
    "Now I have my regions, need to intersect with fimo outputs from each database: \n",
    "\n",
    "This is annoying since I had to copy over all from biowulf but I can fix the paths later"
   ]
  },
  {
   "cell_type": "markdown",
   "metadata": {},
   "source": [
    "# dmmpmm"
   ]
  },
  {
   "cell_type": "markdown",
   "metadata": {},
   "source": [
    "First, read in fimo for whole genome. I'm currently unsure if I want to bother with this gff2bed step or just use my parser, since I need the pvalue information which is lost in gff2bed. "
   ]
  },
  {
   "cell_type": "code",
   "execution_count": 33,
   "metadata": {
    "collapsed": true
   },
   "outputs": [],
   "source": [
    "#read in fimo for whole genome\n",
    "fimo = pybedtools.BedTool('../../data/fimo_frombiowulf/motif_alignments_dmmpmm2009_dm6.gff')\n",
    "fimo_bed = fimo.each(gff2bed, name_field='Name').saveas()\n",
    "fimodf = fimo_bed.to_dataframe()\n",
    "fimo_bed_df = fimodf.join(dmm_df, how='inner', rsuffix='_r')[['chrom','start','end','name', 'pvalue','strand']]\n",
    "#fimo_bed_df.to_csv('../../data/dmmpmm.bed', sep='\\t', header=None, index=False)"
   ]
  },
  {
   "cell_type": "markdown",
   "metadata": {},
   "source": [
    "Here's my parser: (only problem is its going to be slower for the big files)"
   ]
  },
  {
   "cell_type": "code",
   "execution_count": 131,
   "metadata": {},
   "outputs": [],
   "source": [
    "table = []\n",
    "with open('../../data/fimo_frombiowulf/motif_alignments_dmmpmm2009_dm6.gff') as f:\n",
    "    for line in f: \n",
    "        if not line.startswith('##'):\n",
    "            broken = line.split('\\t')\n",
    "            pattern = broken[8].split(';')[3]\n",
    "            pval = float(broken[8].split(';')[2][7:])\n",
    "            qval = float(pattern[7:].strip())\n",
    "            TF = broken[8].split(';')[0][5:]\n",
    "            start = broken[3]\n",
    "            end = broken[4]\n",
    "            chrom = broken[0]\n",
    "            strand = broken[6]\n",
    "            stuff = (chrom, start, end, TF, strand, pval, qval)\n",
    "            table.append(stuff)\n",
    "            \n",
    "new_df_dmm= pd.DataFrame(table, columns=['chrom','start','end','name', 'strand', 'pvalue', 'qvalue'])"
   ]
  },
  {
   "cell_type": "code",
   "execution_count": 174,
   "metadata": {},
   "outputs": [],
   "source": [
    "dmm_df = new_df_dmm[['chrom','start','end', 'name', 'strand','pvalue']]\n",
    "#add column for motif_FBgn\n",
    "symbolmap = pd.read_table('/data/LCDB/lcdb-references/dmel/r6-11/gtf/dmel_r6-11.SYMBOL.csv', sep=',') \n",
    "addcol = dmm_df.merge(symbolmap, left_on='name', right_on='SYMBOL', how='left')\n",
    "addcol[['chrom','start','end','name','strand','pvalue','ENSEMBL']].to_csv('../../data/dmmpmm.bed', sep='\\t', header=None, index=False)"
   ]
  },
  {
   "cell_type": "code",
   "execution_count": 175,
   "metadata": {
    "collapsed": true
   },
   "outputs": [],
   "source": [
    "dm_intersect = pybedtools.BedTool('../../data/dmmpmm.bed').intersect(intslop, wb=True).saveas().to_dataframe()"
   ]
  },
  {
   "cell_type": "code",
   "execution_count": 176,
   "metadata": {},
   "outputs": [
    {
     "data": {
      "text/html": [
       "<div>\n",
       "<style>\n",
       "    .dataframe thead tr:only-child th {\n",
       "        text-align: right;\n",
       "    }\n",
       "\n",
       "    .dataframe thead th {\n",
       "        text-align: left;\n",
       "    }\n",
       "\n",
       "    .dataframe tbody tr th {\n",
       "        vertical-align: top;\n",
       "    }\n",
       "</style>\n",
       "<table border=\"1\" class=\"dataframe\">\n",
       "  <thead>\n",
       "    <tr style=\"text-align: right;\">\n",
       "      <th></th>\n",
       "      <th>chrom</th>\n",
       "      <th>start</th>\n",
       "      <th>end</th>\n",
       "      <th>name</th>\n",
       "      <th>score</th>\n",
       "      <th>strand</th>\n",
       "      <th>thickStart</th>\n",
       "      <th>thickEnd</th>\n",
       "      <th>itemRgb</th>\n",
       "      <th>blockCount</th>\n",
       "    </tr>\n",
       "  </thead>\n",
       "  <tbody>\n",
       "    <tr>\n",
       "      <th>0</th>\n",
       "      <td>chr2L</td>\n",
       "      <td>278605</td>\n",
       "      <td>278612</td>\n",
       "      <td>bcd</td>\n",
       "      <td>+</td>\n",
       "      <td>0.000014</td>\n",
       "      <td>FBgn0000166</td>\n",
       "      <td>chr2L</td>\n",
       "      <td>278234</td>\n",
       "      <td>279234</td>\n",
       "    </tr>\n",
       "    <tr>\n",
       "      <th>1</th>\n",
       "      <td>chr2L</td>\n",
       "      <td>383877</td>\n",
       "      <td>383884</td>\n",
       "      <td>bcd</td>\n",
       "      <td>+</td>\n",
       "      <td>0.000014</td>\n",
       "      <td>FBgn0000166</td>\n",
       "      <td>chr2L</td>\n",
       "      <td>378481</td>\n",
       "      <td>384510</td>\n",
       "    </tr>\n",
       "    <tr>\n",
       "      <th>2</th>\n",
       "      <td>chr2L</td>\n",
       "      <td>579770</td>\n",
       "      <td>579777</td>\n",
       "      <td>bcd</td>\n",
       "      <td>+</td>\n",
       "      <td>0.000014</td>\n",
       "      <td>FBgn0000166</td>\n",
       "      <td>chr2L</td>\n",
       "      <td>579549</td>\n",
       "      <td>580549</td>\n",
       "    </tr>\n",
       "    <tr>\n",
       "      <th>3</th>\n",
       "      <td>chr2L</td>\n",
       "      <td>683479</td>\n",
       "      <td>683486</td>\n",
       "      <td>bcd</td>\n",
       "      <td>+</td>\n",
       "      <td>0.000014</td>\n",
       "      <td>FBgn0000166</td>\n",
       "      <td>chr2L</td>\n",
       "      <td>657384</td>\n",
       "      <td>705870</td>\n",
       "    </tr>\n",
       "    <tr>\n",
       "      <th>4</th>\n",
       "      <td>chr2L</td>\n",
       "      <td>1222849</td>\n",
       "      <td>1222856</td>\n",
       "      <td>bcd</td>\n",
       "      <td>+</td>\n",
       "      <td>0.000014</td>\n",
       "      <td>FBgn0000166</td>\n",
       "      <td>chr2L</td>\n",
       "      <td>1220035</td>\n",
       "      <td>1227701</td>\n",
       "    </tr>\n",
       "  </tbody>\n",
       "</table>\n",
       "</div>"
      ],
      "text/plain": [
       "   chrom    start      end name score    strand   thickStart thickEnd  \\\n",
       "0  chr2L   278605   278612  bcd     +  0.000014  FBgn0000166    chr2L   \n",
       "1  chr2L   383877   383884  bcd     +  0.000014  FBgn0000166    chr2L   \n",
       "2  chr2L   579770   579777  bcd     +  0.000014  FBgn0000166    chr2L   \n",
       "3  chr2L   683479   683486  bcd     +  0.000014  FBgn0000166    chr2L   \n",
       "4  chr2L  1222849  1222856  bcd     +  0.000014  FBgn0000166    chr2L   \n",
       "\n",
       "   itemRgb  blockCount  \n",
       "0   278234      279234  \n",
       "1   378481      384510  \n",
       "2   579549      580549  \n",
       "3   657384      705870  \n",
       "4  1220035     1227701  "
      ]
     },
     "execution_count": 176,
     "metadata": {},
     "output_type": "execute_result"
    }
   ],
   "source": [
    "dm_intersect.head()"
   ]
  },
  {
   "cell_type": "code",
   "execution_count": 177,
   "metadata": {},
   "outputs": [
    {
     "data": {
      "text/html": [
       "<div>\n",
       "<style>\n",
       "    .dataframe thead tr:only-child th {\n",
       "        text-align: right;\n",
       "    }\n",
       "\n",
       "    .dataframe thead th {\n",
       "        text-align: left;\n",
       "    }\n",
       "\n",
       "    .dataframe tbody tr th {\n",
       "        vertical-align: top;\n",
       "    }\n",
       "</style>\n",
       "<table border=\"1\" class=\"dataframe\">\n",
       "  <thead>\n",
       "    <tr style=\"text-align: right;\">\n",
       "      <th></th>\n",
       "      <th>chrom</th>\n",
       "      <th>start</th>\n",
       "      <th>end</th>\n",
       "      <th>strand</th>\n",
       "      <th>pval</th>\n",
       "      <th>motif_symbol</th>\n",
       "      <th>motif_FBgn</th>\n",
       "    </tr>\n",
       "  </thead>\n",
       "  <tbody>\n",
       "    <tr>\n",
       "      <th>0</th>\n",
       "      <td>chr2L</td>\n",
       "      <td>278605</td>\n",
       "      <td>278612</td>\n",
       "      <td>+</td>\n",
       "      <td>0.000014</td>\n",
       "      <td>bcd</td>\n",
       "      <td>FBgn0000166</td>\n",
       "    </tr>\n",
       "    <tr>\n",
       "      <th>1</th>\n",
       "      <td>chr2L</td>\n",
       "      <td>383877</td>\n",
       "      <td>383884</td>\n",
       "      <td>+</td>\n",
       "      <td>0.000014</td>\n",
       "      <td>bcd</td>\n",
       "      <td>FBgn0000166</td>\n",
       "    </tr>\n",
       "    <tr>\n",
       "      <th>2</th>\n",
       "      <td>chr2L</td>\n",
       "      <td>579770</td>\n",
       "      <td>579777</td>\n",
       "      <td>+</td>\n",
       "      <td>0.000014</td>\n",
       "      <td>bcd</td>\n",
       "      <td>FBgn0000166</td>\n",
       "    </tr>\n",
       "    <tr>\n",
       "      <th>3</th>\n",
       "      <td>chr2L</td>\n",
       "      <td>683479</td>\n",
       "      <td>683486</td>\n",
       "      <td>+</td>\n",
       "      <td>0.000014</td>\n",
       "      <td>bcd</td>\n",
       "      <td>FBgn0000166</td>\n",
       "    </tr>\n",
       "    <tr>\n",
       "      <th>4</th>\n",
       "      <td>chr2L</td>\n",
       "      <td>1222849</td>\n",
       "      <td>1222856</td>\n",
       "      <td>+</td>\n",
       "      <td>0.000014</td>\n",
       "      <td>bcd</td>\n",
       "      <td>FBgn0000166</td>\n",
       "    </tr>\n",
       "  </tbody>\n",
       "</table>\n",
       "</div>"
      ],
      "text/plain": [
       "   chrom    start      end strand      pval motif_symbol   motif_FBgn\n",
       "0  chr2L   278605   278612      +  0.000014          bcd  FBgn0000166\n",
       "1  chr2L   383877   383884      +  0.000014          bcd  FBgn0000166\n",
       "2  chr2L   579770   579777      +  0.000014          bcd  FBgn0000166\n",
       "3  chr2L   683479   683486      +  0.000014          bcd  FBgn0000166\n",
       "4  chr2L  1222849  1222856      +  0.000014          bcd  FBgn0000166"
      ]
     },
     "execution_count": 177,
     "metadata": {},
     "output_type": "execute_result"
    }
   ],
   "source": [
    "dm_frame = dm_intersect[['chrom','start','end','score','strand','name','thickStart']]\n",
    "dm_frame.columns = ['chrom','start','end','strand', 'pval','motif_symbol','motif_FBgn']\n",
    "dm_frame.head()"
   ]
  },
  {
   "cell_type": "code",
   "execution_count": 138,
   "metadata": {},
   "outputs": [],
   "source": [
    "#I don't know why this module is weird depending on if I run in biowulf or my comp??? \n",
    "#Biowulf: \n",
    "#pvals_c = statsmodels.sandbox.stats.multicomp.multipletests(less_big.pval, alpha=.01, method='fdr_bh')[1]\n",
    "#my comp: \n",
    "dm_pvals_c= sm.stats.multipletests(dm_frame.pval.values, alpha=.01, method='fdr_bh')[1]"
   ]
  },
  {
   "cell_type": "code",
   "execution_count": 139,
   "metadata": {
    "collapsed": true
   },
   "outputs": [],
   "source": [
    "dm_frame_copy = dm_frame.copy()"
   ]
  },
  {
   "cell_type": "code",
   "execution_count": 140,
   "metadata": {
    "collapsed": true,
    "scrolled": false
   },
   "outputs": [],
   "source": [
    "dm_frame_copy['FDR'] = list(pvals_c)"
   ]
  },
  {
   "cell_type": "code",
   "execution_count": 141,
   "metadata": {},
   "outputs": [
    {
     "data": {
      "text/html": [
       "<div>\n",
       "<style>\n",
       "    .dataframe thead tr:only-child th {\n",
       "        text-align: right;\n",
       "    }\n",
       "\n",
       "    .dataframe thead th {\n",
       "        text-align: left;\n",
       "    }\n",
       "\n",
       "    .dataframe tbody tr th {\n",
       "        vertical-align: top;\n",
       "    }\n",
       "</style>\n",
       "<table border=\"1\" class=\"dataframe\">\n",
       "  <thead>\n",
       "    <tr style=\"text-align: right;\">\n",
       "      <th></th>\n",
       "      <th>chrom</th>\n",
       "      <th>start</th>\n",
       "      <th>end</th>\n",
       "      <th>name</th>\n",
       "      <th>strand</th>\n",
       "      <th>pval</th>\n",
       "      <th>intron_start</th>\n",
       "      <th>intron_end</th>\n",
       "      <th>FDR</th>\n",
       "    </tr>\n",
       "  </thead>\n",
       "  <tbody>\n",
       "    <tr>\n",
       "      <th>0</th>\n",
       "      <td>chr2L</td>\n",
       "      <td>278605</td>\n",
       "      <td>278612</td>\n",
       "      <td>bcd</td>\n",
       "      <td>+</td>\n",
       "      <td>0.000014</td>\n",
       "      <td>278234</td>\n",
       "      <td>279234</td>\n",
       "      <td>0.000099</td>\n",
       "    </tr>\n",
       "    <tr>\n",
       "      <th>1</th>\n",
       "      <td>chr2L</td>\n",
       "      <td>383877</td>\n",
       "      <td>383884</td>\n",
       "      <td>bcd</td>\n",
       "      <td>+</td>\n",
       "      <td>0.000014</td>\n",
       "      <td>378481</td>\n",
       "      <td>384510</td>\n",
       "      <td>0.000099</td>\n",
       "    </tr>\n",
       "    <tr>\n",
       "      <th>2</th>\n",
       "      <td>chr2L</td>\n",
       "      <td>579770</td>\n",
       "      <td>579777</td>\n",
       "      <td>bcd</td>\n",
       "      <td>+</td>\n",
       "      <td>0.000014</td>\n",
       "      <td>579549</td>\n",
       "      <td>580549</td>\n",
       "      <td>0.000099</td>\n",
       "    </tr>\n",
       "    <tr>\n",
       "      <th>3</th>\n",
       "      <td>chr2L</td>\n",
       "      <td>683479</td>\n",
       "      <td>683486</td>\n",
       "      <td>bcd</td>\n",
       "      <td>+</td>\n",
       "      <td>0.000014</td>\n",
       "      <td>657384</td>\n",
       "      <td>705870</td>\n",
       "      <td>0.000099</td>\n",
       "    </tr>\n",
       "    <tr>\n",
       "      <th>4</th>\n",
       "      <td>chr2L</td>\n",
       "      <td>1222849</td>\n",
       "      <td>1222856</td>\n",
       "      <td>bcd</td>\n",
       "      <td>+</td>\n",
       "      <td>0.000014</td>\n",
       "      <td>1220035</td>\n",
       "      <td>1227701</td>\n",
       "      <td>0.000099</td>\n",
       "    </tr>\n",
       "  </tbody>\n",
       "</table>\n",
       "</div>"
      ],
      "text/plain": [
       "   chrom    start      end name strand      pval  intron_start  intron_end  \\\n",
       "0  chr2L   278605   278612  bcd      +  0.000014        278234      279234   \n",
       "1  chr2L   383877   383884  bcd      +  0.000014        378481      384510   \n",
       "2  chr2L   579770   579777  bcd      +  0.000014        579549      580549   \n",
       "3  chr2L   683479   683486  bcd      +  0.000014        657384      705870   \n",
       "4  chr2L  1222849  1222856  bcd      +  0.000014       1220035     1227701   \n",
       "\n",
       "        FDR  \n",
       "0  0.000099  \n",
       "1  0.000099  \n",
       "2  0.000099  \n",
       "3  0.000099  \n",
       "4  0.000099  "
      ]
     },
     "execution_count": 141,
     "metadata": {},
     "output_type": "execute_result"
    }
   ],
   "source": [
    "dm_frame_copy.head()"
   ]
  },
  {
   "cell_type": "code",
   "execution_count": 142,
   "metadata": {},
   "outputs": [
    {
     "data": {
      "text/html": [
       "<div>\n",
       "<style>\n",
       "    .dataframe thead tr:only-child th {\n",
       "        text-align: right;\n",
       "    }\n",
       "\n",
       "    .dataframe thead th {\n",
       "        text-align: left;\n",
       "    }\n",
       "\n",
       "    .dataframe tbody tr th {\n",
       "        vertical-align: top;\n",
       "    }\n",
       "</style>\n",
       "<table border=\"1\" class=\"dataframe\">\n",
       "  <thead>\n",
       "    <tr style=\"text-align: right;\">\n",
       "      <th></th>\n",
       "      <th>chrom</th>\n",
       "      <th>start</th>\n",
       "      <th>end</th>\n",
       "      <th>name</th>\n",
       "      <th>strand</th>\n",
       "      <th>pvalue</th>\n",
       "      <th>qvalue</th>\n",
       "    </tr>\n",
       "  </thead>\n",
       "  <tbody>\n",
       "    <tr>\n",
       "      <th>0</th>\n",
       "      <td>chr2L</td>\n",
       "      <td>83874</td>\n",
       "      <td>83881</td>\n",
       "      <td>bcd</td>\n",
       "      <td>+</td>\n",
       "      <td>0.000014</td>\n",
       "      <td>1.0</td>\n",
       "    </tr>\n",
       "    <tr>\n",
       "      <th>1</th>\n",
       "      <td>chr2L</td>\n",
       "      <td>278605</td>\n",
       "      <td>278612</td>\n",
       "      <td>bcd</td>\n",
       "      <td>+</td>\n",
       "      <td>0.000014</td>\n",
       "      <td>1.0</td>\n",
       "    </tr>\n",
       "    <tr>\n",
       "      <th>2</th>\n",
       "      <td>chr2L</td>\n",
       "      <td>383877</td>\n",
       "      <td>383884</td>\n",
       "      <td>bcd</td>\n",
       "      <td>+</td>\n",
       "      <td>0.000014</td>\n",
       "      <td>1.0</td>\n",
       "    </tr>\n",
       "    <tr>\n",
       "      <th>3</th>\n",
       "      <td>chr2L</td>\n",
       "      <td>405798</td>\n",
       "      <td>405805</td>\n",
       "      <td>bcd</td>\n",
       "      <td>+</td>\n",
       "      <td>0.000014</td>\n",
       "      <td>1.0</td>\n",
       "    </tr>\n",
       "    <tr>\n",
       "      <th>4</th>\n",
       "      <td>chr2L</td>\n",
       "      <td>554220</td>\n",
       "      <td>554227</td>\n",
       "      <td>bcd</td>\n",
       "      <td>+</td>\n",
       "      <td>0.000014</td>\n",
       "      <td>1.0</td>\n",
       "    </tr>\n",
       "  </tbody>\n",
       "</table>\n",
       "</div>"
      ],
      "text/plain": [
       "   chrom   start     end name strand    pvalue  qvalue\n",
       "0  chr2L   83874   83881  bcd      +  0.000014     1.0\n",
       "1  chr2L  278605  278612  bcd      +  0.000014     1.0\n",
       "2  chr2L  383877  383884  bcd      +  0.000014     1.0\n",
       "3  chr2L  405798  405805  bcd      +  0.000014     1.0\n",
       "4  chr2L  554220  554227  bcd      +  0.000014     1.0"
      ]
     },
     "execution_count": 142,
     "metadata": {},
     "output_type": "execute_result"
    }
   ],
   "source": [
    "new_df_dmm.head()"
   ]
  },
  {
   "cell_type": "code",
   "execution_count": 143,
   "metadata": {},
   "outputs": [
    {
     "data": {
      "text/plain": [
       "<matplotlib.axes._subplots.AxesSubplot at 0x395283128>"
      ]
     },
     "execution_count": 143,
     "metadata": {},
     "output_type": "execute_result"
    },
    {
     "data": {
      "image/png": "[encoded data removed]",
      "text/plain": [
       "<matplotlib.figure.Figure at 0x395283630>"
      ]
     },
     "metadata": {},
     "output_type": "display_data"
    }
   ],
   "source": [
    "sb.distplot(pvals_c)"
   ]
  },
  {
   "cell_type": "code",
   "execution_count": 144,
   "metadata": {},
   "outputs": [
    {
     "data": {
      "text/plain": [
       "<matplotlib.axes._subplots.AxesSubplot at 0x39602f1d0>"
      ]
     },
     "execution_count": 144,
     "metadata": {},
     "output_type": "execute_result"
    },
    {
     "data": {
      "image/png": "[encoded data removed]",
      "text/plain": [
       "<matplotlib.figure.Figure at 0x39604e7b8>"
      ]
     },
     "metadata": {},
     "output_type": "display_data"
    }
   ],
   "source": [
    "sb.distplot(new_df.qvalue)"
   ]
  },
  {
   "cell_type": "code",
   "execution_count": 42,
   "metadata": {
    "collapsed": true
   },
   "outputs": [],
   "source": [
    "#not using anymore but keeping here: \n",
    "#from qvalue import qvalue\n",
    "#qvalue.estimate(less_big.pval)"
   ]
  },
  {
   "cell_type": "markdown",
   "metadata": {},
   "source": [
    "# flyReg"
   ]
  },
  {
   "cell_type": "code",
   "execution_count": 145,
   "metadata": {
    "collapsed": true
   },
   "outputs": [],
   "source": [
    "table = []\n",
    "with open('../../data/fimo_frombiowulf/motif_alignments_flyReg_dm6.gff') as f:\n",
    "    for line in f: \n",
    "        if not line.startswith('##'):\n",
    "            broken = line.split('\\t')\n",
    "            pattern = broken[8].split(';')[3]\n",
    "            pval = float(broken[8].split(';')[2][7:])\n",
    "            qval = float(pattern[7:].strip())\n",
    "            TF = broken[8].split(';')[0][5:]\n",
    "            start = broken[3]\n",
    "            end = broken[4]\n",
    "            chrom = broken[0]\n",
    "            strand = broken[6]\n",
    "            stuff = (chrom, start, end, TF, strand, pval, qval)\n",
    "            table.append(stuff)\n",
    "            \n",
    "new_df_flyReg= pd.DataFrame(table, columns=['chrom','start','end','name', 'strand', 'pvalue', 'qvalue'])"
   ]
  },
  {
   "cell_type": "code",
   "execution_count": 166,
   "metadata": {},
   "outputs": [],
   "source": [
    "flyReg_df = new_df_flyReg[['chrom','start','end', 'name', 'strand','pvalue']]"
   ]
  },
  {
   "cell_type": "code",
   "execution_count": 170,
   "metadata": {},
   "outputs": [],
   "source": [
    "#add column for motif_FBgn\n",
    "symbolmap = pd.read_table('/data/LCDB/lcdb-references/dmel/r6-11/gtf/dmel_r6-11.SYMBOL.csv', sep=',') \n",
    "addcol = flyReg_df.merge(symbolmap, left_on='name', right_on='SYMBOL', how='left')\n",
    "addcol[['chrom','start','end','name','strand','pvalue','ENSEMBL']].to_csv('../../data/flyReg.bed', sep='\\t', header=None, index=False)"
   ]
  },
  {
   "cell_type": "code",
   "execution_count": 171,
   "metadata": {
    "collapsed": true
   },
   "outputs": [],
   "source": [
    "fR_intersect = pybedtools.BedTool('../../data/flyReg.bed').intersect(intslop, wb=True).saveas().to_dataframe()"
   ]
  },
  {
   "cell_type": "code",
   "execution_count": 172,
   "metadata": {},
   "outputs": [
    {
     "data": {
      "text/html": [
       "<div>\n",
       "<style>\n",
       "    .dataframe thead tr:only-child th {\n",
       "        text-align: right;\n",
       "    }\n",
       "\n",
       "    .dataframe thead th {\n",
       "        text-align: left;\n",
       "    }\n",
       "\n",
       "    .dataframe tbody tr th {\n",
       "        vertical-align: top;\n",
       "    }\n",
       "</style>\n",
       "<table border=\"1\" class=\"dataframe\">\n",
       "  <thead>\n",
       "    <tr style=\"text-align: right;\">\n",
       "      <th></th>\n",
       "      <th>chrom</th>\n",
       "      <th>start</th>\n",
       "      <th>end</th>\n",
       "      <th>name</th>\n",
       "      <th>score</th>\n",
       "      <th>strand</th>\n",
       "      <th>thickStart</th>\n",
       "      <th>thickEnd</th>\n",
       "      <th>itemRgb</th>\n",
       "      <th>blockCount</th>\n",
       "    </tr>\n",
       "  </thead>\n",
       "  <tbody>\n",
       "    <tr>\n",
       "      <th>0</th>\n",
       "      <td>chr2L</td>\n",
       "      <td>57297</td>\n",
       "      <td>57304</td>\n",
       "      <td>abd-A</td>\n",
       "      <td>+</td>\n",
       "      <td>0.000026</td>\n",
       "      <td>FBgn0000014</td>\n",
       "      <td>chr2L</td>\n",
       "      <td>55767</td>\n",
       "      <td>58080</td>\n",
       "    </tr>\n",
       "    <tr>\n",
       "      <th>1</th>\n",
       "      <td>chr2L</td>\n",
       "      <td>77833</td>\n",
       "      <td>77840</td>\n",
       "      <td>abd-A</td>\n",
       "      <td>+</td>\n",
       "      <td>0.000026</td>\n",
       "      <td>FBgn0000014</td>\n",
       "      <td>chr2L</td>\n",
       "      <td>77783</td>\n",
       "      <td>78783</td>\n",
       "    </tr>\n",
       "    <tr>\n",
       "      <th>2</th>\n",
       "      <td>chr2L</td>\n",
       "      <td>81797</td>\n",
       "      <td>81804</td>\n",
       "      <td>abd-A</td>\n",
       "      <td>+</td>\n",
       "      <td>0.000026</td>\n",
       "      <td>FBgn0000014</td>\n",
       "      <td>chr2L</td>\n",
       "      <td>81420</td>\n",
       "      <td>82420</td>\n",
       "    </tr>\n",
       "    <tr>\n",
       "      <th>3</th>\n",
       "      <td>chr2L</td>\n",
       "      <td>109268</td>\n",
       "      <td>109275</td>\n",
       "      <td>abd-A</td>\n",
       "      <td>+</td>\n",
       "      <td>0.000026</td>\n",
       "      <td>FBgn0000014</td>\n",
       "      <td>chr2L</td>\n",
       "      <td>108809</td>\n",
       "      <td>109593</td>\n",
       "    </tr>\n",
       "    <tr>\n",
       "      <th>4</th>\n",
       "      <td>chr2L</td>\n",
       "      <td>177022</td>\n",
       "      <td>177029</td>\n",
       "      <td>abd-A</td>\n",
       "      <td>+</td>\n",
       "      <td>0.000026</td>\n",
       "      <td>FBgn0000014</td>\n",
       "      <td>chr2L</td>\n",
       "      <td>175447</td>\n",
       "      <td>182819</td>\n",
       "    </tr>\n",
       "  </tbody>\n",
       "</table>\n",
       "</div>"
      ],
      "text/plain": [
       "   chrom   start     end   name score    strand   thickStart thickEnd  \\\n",
       "0  chr2L   57297   57304  abd-A     +  0.000026  FBgn0000014    chr2L   \n",
       "1  chr2L   77833   77840  abd-A     +  0.000026  FBgn0000014    chr2L   \n",
       "2  chr2L   81797   81804  abd-A     +  0.000026  FBgn0000014    chr2L   \n",
       "3  chr2L  109268  109275  abd-A     +  0.000026  FBgn0000014    chr2L   \n",
       "4  chr2L  177022  177029  abd-A     +  0.000026  FBgn0000014    chr2L   \n",
       "\n",
       "   itemRgb  blockCount  \n",
       "0    55767       58080  \n",
       "1    77783       78783  \n",
       "2    81420       82420  \n",
       "3   108809      109593  \n",
       "4   175447      182819  "
      ]
     },
     "execution_count": 172,
     "metadata": {},
     "output_type": "execute_result"
    }
   ],
   "source": [
    "fR_intersect.head()"
   ]
  },
  {
   "cell_type": "code",
   "execution_count": 173,
   "metadata": {},
   "outputs": [
    {
     "data": {
      "text/html": [
       "<div>\n",
       "<style>\n",
       "    .dataframe thead tr:only-child th {\n",
       "        text-align: right;\n",
       "    }\n",
       "\n",
       "    .dataframe thead th {\n",
       "        text-align: left;\n",
       "    }\n",
       "\n",
       "    .dataframe tbody tr th {\n",
       "        vertical-align: top;\n",
       "    }\n",
       "</style>\n",
       "<table border=\"1\" class=\"dataframe\">\n",
       "  <thead>\n",
       "    <tr style=\"text-align: right;\">\n",
       "      <th></th>\n",
       "      <th>chrom</th>\n",
       "      <th>start</th>\n",
       "      <th>end</th>\n",
       "      <th>strand</th>\n",
       "      <th>pval</th>\n",
       "      <th>motif_symbol</th>\n",
       "      <th>motif_FBgn</th>\n",
       "    </tr>\n",
       "  </thead>\n",
       "  <tbody>\n",
       "    <tr>\n",
       "      <th>0</th>\n",
       "      <td>chr2L</td>\n",
       "      <td>57297</td>\n",
       "      <td>57304</td>\n",
       "      <td>+</td>\n",
       "      <td>0.000026</td>\n",
       "      <td>abd-A</td>\n",
       "      <td>FBgn0000014</td>\n",
       "    </tr>\n",
       "    <tr>\n",
       "      <th>1</th>\n",
       "      <td>chr2L</td>\n",
       "      <td>77833</td>\n",
       "      <td>77840</td>\n",
       "      <td>+</td>\n",
       "      <td>0.000026</td>\n",
       "      <td>abd-A</td>\n",
       "      <td>FBgn0000014</td>\n",
       "    </tr>\n",
       "    <tr>\n",
       "      <th>2</th>\n",
       "      <td>chr2L</td>\n",
       "      <td>81797</td>\n",
       "      <td>81804</td>\n",
       "      <td>+</td>\n",
       "      <td>0.000026</td>\n",
       "      <td>abd-A</td>\n",
       "      <td>FBgn0000014</td>\n",
       "    </tr>\n",
       "    <tr>\n",
       "      <th>3</th>\n",
       "      <td>chr2L</td>\n",
       "      <td>109268</td>\n",
       "      <td>109275</td>\n",
       "      <td>+</td>\n",
       "      <td>0.000026</td>\n",
       "      <td>abd-A</td>\n",
       "      <td>FBgn0000014</td>\n",
       "    </tr>\n",
       "    <tr>\n",
       "      <th>4</th>\n",
       "      <td>chr2L</td>\n",
       "      <td>177022</td>\n",
       "      <td>177029</td>\n",
       "      <td>+</td>\n",
       "      <td>0.000026</td>\n",
       "      <td>abd-A</td>\n",
       "      <td>FBgn0000014</td>\n",
       "    </tr>\n",
       "  </tbody>\n",
       "</table>\n",
       "</div>"
      ],
      "text/plain": [
       "   chrom   start     end strand      pval motif_symbol   motif_FBgn\n",
       "0  chr2L   57297   57304      +  0.000026        abd-A  FBgn0000014\n",
       "1  chr2L   77833   77840      +  0.000026        abd-A  FBgn0000014\n",
       "2  chr2L   81797   81804      +  0.000026        abd-A  FBgn0000014\n",
       "3  chr2L  109268  109275      +  0.000026        abd-A  FBgn0000014\n",
       "4  chr2L  177022  177029      +  0.000026        abd-A  FBgn0000014"
      ]
     },
     "execution_count": 173,
     "metadata": {},
     "output_type": "execute_result"
    }
   ],
   "source": [
    "fR_frame = fR_intersect[['chrom','start','end','score','strand','name','thickStart']]\n",
    "fR_frame.columns = ['chrom','start','end','strand', 'pval','motif_symbol','motif_FBgn']\n",
    "fR_frame.head()"
   ]
  },
  {
   "cell_type": "code",
   "execution_count": 150,
   "metadata": {
    "collapsed": true
   },
   "outputs": [],
   "source": [
    "#I don't know why this module is weird depending on if I run in biowulf or my comp??? \n",
    "#Biowulf: \n",
    "#pvals_c = statsmodels.sandbox.stats.multicomp.multipletests(less_big.pval, alpha=.01, method='fdr_bh')[1]\n",
    "#my comp: \n",
    "fR_pvals_c= sm.stats.multipletests(fR_frame.pval.values, alpha=.01, method='fdr_bh')[1]"
   ]
  },
  {
   "cell_type": "code",
   "execution_count": 151,
   "metadata": {
    "collapsed": true
   },
   "outputs": [],
   "source": [
    "fR_frame_copy = fR_frame.copy()\n",
    "fR_frame_copy['FDR'] = list(fR_pvals_c)"
   ]
  },
  {
   "cell_type": "code",
   "execution_count": 152,
   "metadata": {},
   "outputs": [
    {
     "data": {
      "text/html": [
       "<div>\n",
       "<style>\n",
       "    .dataframe thead tr:only-child th {\n",
       "        text-align: right;\n",
       "    }\n",
       "\n",
       "    .dataframe thead th {\n",
       "        text-align: left;\n",
       "    }\n",
       "\n",
       "    .dataframe tbody tr th {\n",
       "        vertical-align: top;\n",
       "    }\n",
       "</style>\n",
       "<table border=\"1\" class=\"dataframe\">\n",
       "  <thead>\n",
       "    <tr style=\"text-align: right;\">\n",
       "      <th></th>\n",
       "      <th>chrom</th>\n",
       "      <th>start</th>\n",
       "      <th>end</th>\n",
       "      <th>name</th>\n",
       "      <th>strand</th>\n",
       "      <th>pval</th>\n",
       "      <th>intron_start</th>\n",
       "      <th>intron_end</th>\n",
       "      <th>FDR</th>\n",
       "    </tr>\n",
       "  </thead>\n",
       "  <tbody>\n",
       "    <tr>\n",
       "      <th>0</th>\n",
       "      <td>chr2L</td>\n",
       "      <td>57297</td>\n",
       "      <td>57304</td>\n",
       "      <td>abd-A</td>\n",
       "      <td>+</td>\n",
       "      <td>0.000026</td>\n",
       "      <td>55767</td>\n",
       "      <td>58080</td>\n",
       "      <td>0.000095</td>\n",
       "    </tr>\n",
       "    <tr>\n",
       "      <th>1</th>\n",
       "      <td>chr2L</td>\n",
       "      <td>77833</td>\n",
       "      <td>77840</td>\n",
       "      <td>abd-A</td>\n",
       "      <td>+</td>\n",
       "      <td>0.000026</td>\n",
       "      <td>77783</td>\n",
       "      <td>78783</td>\n",
       "      <td>0.000095</td>\n",
       "    </tr>\n",
       "    <tr>\n",
       "      <th>2</th>\n",
       "      <td>chr2L</td>\n",
       "      <td>81797</td>\n",
       "      <td>81804</td>\n",
       "      <td>abd-A</td>\n",
       "      <td>+</td>\n",
       "      <td>0.000026</td>\n",
       "      <td>81420</td>\n",
       "      <td>82420</td>\n",
       "      <td>0.000095</td>\n",
       "    </tr>\n",
       "    <tr>\n",
       "      <th>3</th>\n",
       "      <td>chr2L</td>\n",
       "      <td>109268</td>\n",
       "      <td>109275</td>\n",
       "      <td>abd-A</td>\n",
       "      <td>+</td>\n",
       "      <td>0.000026</td>\n",
       "      <td>108809</td>\n",
       "      <td>109593</td>\n",
       "      <td>0.000095</td>\n",
       "    </tr>\n",
       "    <tr>\n",
       "      <th>4</th>\n",
       "      <td>chr2L</td>\n",
       "      <td>177022</td>\n",
       "      <td>177029</td>\n",
       "      <td>abd-A</td>\n",
       "      <td>+</td>\n",
       "      <td>0.000026</td>\n",
       "      <td>175447</td>\n",
       "      <td>182819</td>\n",
       "      <td>0.000095</td>\n",
       "    </tr>\n",
       "  </tbody>\n",
       "</table>\n",
       "</div>"
      ],
      "text/plain": [
       "   chrom   start     end   name strand      pval  intron_start  intron_end  \\\n",
       "0  chr2L   57297   57304  abd-A      +  0.000026         55767       58080   \n",
       "1  chr2L   77833   77840  abd-A      +  0.000026         77783       78783   \n",
       "2  chr2L   81797   81804  abd-A      +  0.000026         81420       82420   \n",
       "3  chr2L  109268  109275  abd-A      +  0.000026        108809      109593   \n",
       "4  chr2L  177022  177029  abd-A      +  0.000026        175447      182819   \n",
       "\n",
       "        FDR  \n",
       "0  0.000095  \n",
       "1  0.000095  \n",
       "2  0.000095  \n",
       "3  0.000095  \n",
       "4  0.000095  "
      ]
     },
     "execution_count": 152,
     "metadata": {},
     "output_type": "execute_result"
    }
   ],
   "source": [
    "fR_frame_copy.head()"
   ]
  },
  {
   "cell_type": "markdown",
   "metadata": {},
   "source": [
    "# idmmpmm"
   ]
  },
  {
   "cell_type": "code",
   "execution_count": 103,
   "metadata": {
    "collapsed": true
   },
   "outputs": [],
   "source": [
    "table = []\n",
    "with open('../../data/fimo_frombiowulf/motif_alignments_idmmpmm2009_dm6.gff') as f:\n",
    "    for line in f: \n",
    "        if not line.startswith('##'):\n",
    "            broken = line.split('\\t')\n",
    "            pattern = broken[8].split(';')[3]\n",
    "            pval = float(broken[8].split(';')[2][7:])\n",
    "            qval = float(pattern[7:].strip())\n",
    "            TF = broken[8].split(';')[0][5:]\n",
    "            start = broken[3]\n",
    "            end = broken[4]\n",
    "            chrom = broken[0]\n",
    "            strand = broken[6]\n",
    "            stuff = (chrom, start, end, TF, strand, pval, qval)\n",
    "            table.append(stuff)\n",
    "            \n",
    "new_df_idm= pd.DataFrame(table, columns=['chrom','start','end','name', 'strand', 'pvalue', 'qvalue'])"
   ]
  },
  {
   "cell_type": "code",
   "execution_count": 178,
   "metadata": {},
   "outputs": [],
   "source": [
    "idm_df = new_df_idm[['chrom','start','end', 'name', 'strand','pvalue']]\n",
    "#add column for motif_FBgn \n",
    "addcol = idm_df.merge(symbolmap, left_on='name', right_on='SYMBOL', how='left')\n",
    "addcol[['chrom','start','end','name','strand','pvalue','ENSEMBL']].to_csv('../../data/idm.bed', sep='\\t', header=None, index=False)"
   ]
  },
  {
   "cell_type": "code",
   "execution_count": 179,
   "metadata": {},
   "outputs": [
    {
     "data": {
      "text/html": [
       "<div>\n",
       "<style>\n",
       "    .dataframe thead tr:only-child th {\n",
       "        text-align: right;\n",
       "    }\n",
       "\n",
       "    .dataframe thead th {\n",
       "        text-align: left;\n",
       "    }\n",
       "\n",
       "    .dataframe tbody tr th {\n",
       "        vertical-align: top;\n",
       "    }\n",
       "</style>\n",
       "<table border=\"1\" class=\"dataframe\">\n",
       "  <thead>\n",
       "    <tr style=\"text-align: right;\">\n",
       "      <th></th>\n",
       "      <th>chrom</th>\n",
       "      <th>start</th>\n",
       "      <th>end</th>\n",
       "      <th>name</th>\n",
       "      <th>score</th>\n",
       "      <th>strand</th>\n",
       "      <th>thickStart</th>\n",
       "      <th>thickEnd</th>\n",
       "      <th>itemRgb</th>\n",
       "      <th>blockCount</th>\n",
       "    </tr>\n",
       "  </thead>\n",
       "  <tbody>\n",
       "    <tr>\n",
       "      <th>0</th>\n",
       "      <td>chr2L</td>\n",
       "      <td>18750</td>\n",
       "      <td>18757</td>\n",
       "      <td>abd-A</td>\n",
       "      <td>+</td>\n",
       "      <td>0.000036</td>\n",
       "      <td>FBgn0000014</td>\n",
       "      <td>chr2L</td>\n",
       "      <td>18570</td>\n",
       "      <td>19879</td>\n",
       "    </tr>\n",
       "    <tr>\n",
       "      <th>1</th>\n",
       "      <td>chr2L</td>\n",
       "      <td>74856</td>\n",
       "      <td>74863</td>\n",
       "      <td>abd-A</td>\n",
       "      <td>+</td>\n",
       "      <td>0.000036</td>\n",
       "      <td>FBgn0000014</td>\n",
       "      <td>chr2L</td>\n",
       "      <td>73836</td>\n",
       "      <td>74902</td>\n",
       "    </tr>\n",
       "    <tr>\n",
       "      <th>2</th>\n",
       "      <td>chr2L</td>\n",
       "      <td>182087</td>\n",
       "      <td>182094</td>\n",
       "      <td>abd-A</td>\n",
       "      <td>+</td>\n",
       "      <td>0.000036</td>\n",
       "      <td>FBgn0000014</td>\n",
       "      <td>chr2L</td>\n",
       "      <td>175447</td>\n",
       "      <td>182819</td>\n",
       "    </tr>\n",
       "    <tr>\n",
       "      <th>3</th>\n",
       "      <td>chr2L</td>\n",
       "      <td>203402</td>\n",
       "      <td>203409</td>\n",
       "      <td>abd-A</td>\n",
       "      <td>+</td>\n",
       "      <td>0.000036</td>\n",
       "      <td>FBgn0000014</td>\n",
       "      <td>chr2L</td>\n",
       "      <td>203397</td>\n",
       "      <td>204742</td>\n",
       "    </tr>\n",
       "    <tr>\n",
       "      <th>4</th>\n",
       "      <td>chr2L</td>\n",
       "      <td>255769</td>\n",
       "      <td>255776</td>\n",
       "      <td>abd-A</td>\n",
       "      <td>+</td>\n",
       "      <td>0.000036</td>\n",
       "      <td>FBgn0000014</td>\n",
       "      <td>chr2L</td>\n",
       "      <td>254750</td>\n",
       "      <td>259948</td>\n",
       "    </tr>\n",
       "  </tbody>\n",
       "</table>\n",
       "</div>"
      ],
      "text/plain": [
       "   chrom   start     end   name score    strand   thickStart thickEnd  \\\n",
       "0  chr2L   18750   18757  abd-A     +  0.000036  FBgn0000014    chr2L   \n",
       "1  chr2L   74856   74863  abd-A     +  0.000036  FBgn0000014    chr2L   \n",
       "2  chr2L  182087  182094  abd-A     +  0.000036  FBgn0000014    chr2L   \n",
       "3  chr2L  203402  203409  abd-A     +  0.000036  FBgn0000014    chr2L   \n",
       "4  chr2L  255769  255776  abd-A     +  0.000036  FBgn0000014    chr2L   \n",
       "\n",
       "   itemRgb  blockCount  \n",
       "0    18570       19879  \n",
       "1    73836       74902  \n",
       "2   175447      182819  \n",
       "3   203397      204742  \n",
       "4   254750      259948  "
      ]
     },
     "execution_count": 179,
     "metadata": {},
     "output_type": "execute_result"
    }
   ],
   "source": [
    "idm_intersect = pybedtools.BedTool('../../data/idm.bed').intersect(intslop, wb=True).saveas().to_dataframe()\n",
    "idm_intersect.head()"
   ]
  },
  {
   "cell_type": "code",
   "execution_count": 180,
   "metadata": {},
   "outputs": [
    {
     "data": {
      "text/html": [
       "<div>\n",
       "<style>\n",
       "    .dataframe thead tr:only-child th {\n",
       "        text-align: right;\n",
       "    }\n",
       "\n",
       "    .dataframe thead th {\n",
       "        text-align: left;\n",
       "    }\n",
       "\n",
       "    .dataframe tbody tr th {\n",
       "        vertical-align: top;\n",
       "    }\n",
       "</style>\n",
       "<table border=\"1\" class=\"dataframe\">\n",
       "  <thead>\n",
       "    <tr style=\"text-align: right;\">\n",
       "      <th></th>\n",
       "      <th>chrom</th>\n",
       "      <th>start</th>\n",
       "      <th>end</th>\n",
       "      <th>strand</th>\n",
       "      <th>pval</th>\n",
       "      <th>motif_symbol</th>\n",
       "      <th>motif_FBgn</th>\n",
       "    </tr>\n",
       "  </thead>\n",
       "  <tbody>\n",
       "    <tr>\n",
       "      <th>0</th>\n",
       "      <td>chr2L</td>\n",
       "      <td>18750</td>\n",
       "      <td>18757</td>\n",
       "      <td>+</td>\n",
       "      <td>0.000036</td>\n",
       "      <td>abd-A</td>\n",
       "      <td>FBgn0000014</td>\n",
       "    </tr>\n",
       "    <tr>\n",
       "      <th>1</th>\n",
       "      <td>chr2L</td>\n",
       "      <td>74856</td>\n",
       "      <td>74863</td>\n",
       "      <td>+</td>\n",
       "      <td>0.000036</td>\n",
       "      <td>abd-A</td>\n",
       "      <td>FBgn0000014</td>\n",
       "    </tr>\n",
       "    <tr>\n",
       "      <th>2</th>\n",
       "      <td>chr2L</td>\n",
       "      <td>182087</td>\n",
       "      <td>182094</td>\n",
       "      <td>+</td>\n",
       "      <td>0.000036</td>\n",
       "      <td>abd-A</td>\n",
       "      <td>FBgn0000014</td>\n",
       "    </tr>\n",
       "    <tr>\n",
       "      <th>3</th>\n",
       "      <td>chr2L</td>\n",
       "      <td>203402</td>\n",
       "      <td>203409</td>\n",
       "      <td>+</td>\n",
       "      <td>0.000036</td>\n",
       "      <td>abd-A</td>\n",
       "      <td>FBgn0000014</td>\n",
       "    </tr>\n",
       "    <tr>\n",
       "      <th>4</th>\n",
       "      <td>chr2L</td>\n",
       "      <td>255769</td>\n",
       "      <td>255776</td>\n",
       "      <td>+</td>\n",
       "      <td>0.000036</td>\n",
       "      <td>abd-A</td>\n",
       "      <td>FBgn0000014</td>\n",
       "    </tr>\n",
       "  </tbody>\n",
       "</table>\n",
       "</div>"
      ],
      "text/plain": [
       "   chrom   start     end strand      pval motif_symbol   motif_FBgn\n",
       "0  chr2L   18750   18757      +  0.000036        abd-A  FBgn0000014\n",
       "1  chr2L   74856   74863      +  0.000036        abd-A  FBgn0000014\n",
       "2  chr2L  182087  182094      +  0.000036        abd-A  FBgn0000014\n",
       "3  chr2L  203402  203409      +  0.000036        abd-A  FBgn0000014\n",
       "4  chr2L  255769  255776      +  0.000036        abd-A  FBgn0000014"
      ]
     },
     "execution_count": 180,
     "metadata": {},
     "output_type": "execute_result"
    }
   ],
   "source": [
    "idm_frame = idm_intersect[['chrom','start','end','score','strand','name','thickStart']]\n",
    "idm_frame.columns = ['chrom','start','end','strand', 'pval','motif_symbol','motif_FBgn']\n",
    "idm_frame.head()"
   ]
  },
  {
   "cell_type": "code",
   "execution_count": 115,
   "metadata": {
    "collapsed": true
   },
   "outputs": [],
   "source": [
    "#I don't know why this module is weird depending on if I run in biowulf or my comp??? \n",
    "#Biowulf: \n",
    "#pvals_c = statsmodels.sandbox.stats.multicomp.multipletests(less_big.pval, alpha=.01, method='fdr_bh')[1]\n",
    "#my comp: \n",
    "idm_pvals_c= sm.stats.multipletests(idm_frame.pval.values, alpha=.01, method='fdr_bh')[1]"
   ]
  },
  {
   "cell_type": "code",
   "execution_count": 129,
   "metadata": {
    "collapsed": true
   },
   "outputs": [],
   "source": [
    "idm_frame_copy = idm_frame.copy()\n",
    "idm_frame_copy['FDR'] = list(idm_pvals_c)"
   ]
  },
  {
   "cell_type": "code",
   "execution_count": 159,
   "metadata": {},
   "outputs": [],
   "source": [
    "idm_frame_copy.to_csv('../../data/idmintersect.bed', sep='\\t', header=None, index=False)"
   ]
  },
  {
   "cell_type": "markdown",
   "metadata": {},
   "source": [
    "# onTheFly"
   ]
  },
  {
   "cell_type": "code",
   "execution_count": 119,
   "metadata": {
    "collapsed": true
   },
   "outputs": [],
   "source": [
    "table = []\n",
    "with open('../../data/fimo_frombiowulf/motif_alignments_onTheFly_dm6.gff') as f:\n",
    "    for line in f: \n",
    "        if not line.startswith('##'):\n",
    "            broken = line.split('\\t')\n",
    "            pattern = broken[8].split(';')[3]\n",
    "            pval = float(broken[8].split(';')[2][7:])\n",
    "            qval = float(pattern[7:].strip())\n",
    "            TF = broken[8].split(';')[0][5:]\n",
    "            start = broken[3]\n",
    "            end = broken[4]\n",
    "            chrom = broken[0]\n",
    "            strand = broken[6]\n",
    "            stuff = (chrom, start, end, TF, strand, pval, qval)\n",
    "            table.append(stuff)\n",
    "            \n",
    "new_df_oTF= pd.DataFrame(table, columns=['chrom','start','end','name', 'strand', 'pvalue', 'qvalue'])"
   ]
  },
  {
   "cell_type": "code",
   "execution_count": 192,
   "metadata": {},
   "outputs": [],
   "source": [
    "oTF_df = new_df_oTF[['chrom','start','end', 'name', 'strand','pvalue']]\n",
    "#add column for motif_FBGN\n",
    "otfmap = pd.read_table('../../output/onTheFlyMap.tsv')\n",
    "y = otfmap[['name', 'FBgn']]\n",
    "update = oTF_df.merge(y, on='name', how='left')\n",
    "#add column for motif_symbol\n",
    "#do I need this? \n",
    "symbolmap = pd.read_table('/data/LCDB/lcdb-references/dmel/r6-11/gtf/dmel_r6-11.SYMBOL.csv', sep=',', na_values='NA', keep_default_na=False) \n",
    "newmap = symbolmap.drop_duplicates(subset='ENSEMBL', keep='first')\n",
    "updateagain = update.merge(newmap, left_on='FBgn', right_on='ENSEMBL', how='left')"
   ]
  },
  {
   "cell_type": "code",
   "execution_count": 194,
   "metadata": {},
   "outputs": [],
   "source": [
    "updateagain[['chrom','start','end','SYMBOL','strand','pvalue','FBgn']].to_csv('../../data/oTF.bed', sep='\\t', header=None, index=False)"
   ]
  },
  {
   "cell_type": "code",
   "execution_count": 195,
   "metadata": {},
   "outputs": [
    {
     "name": "stderr",
     "output_type": "stream",
     "text": [
      "/Users/bergeric/miniconda3/lib/python3.5/site-packages/IPython/core/interactiveshell.py:2802: DtypeWarning: Columns (3) have mixed types. Specify dtype option on import or set low_memory=False.\n",
      "  if self.run_code(code, result):\n"
     ]
    },
    {
     "data": {
      "text/html": [
       "<div>\n",
       "<style>\n",
       "    .dataframe thead tr:only-child th {\n",
       "        text-align: right;\n",
       "    }\n",
       "\n",
       "    .dataframe thead th {\n",
       "        text-align: left;\n",
       "    }\n",
       "\n",
       "    .dataframe tbody tr th {\n",
       "        vertical-align: top;\n",
       "    }\n",
       "</style>\n",
       "<table border=\"1\" class=\"dataframe\">\n",
       "  <thead>\n",
       "    <tr style=\"text-align: right;\">\n",
       "      <th></th>\n",
       "      <th>chrom</th>\n",
       "      <th>start</th>\n",
       "      <th>end</th>\n",
       "      <th>name</th>\n",
       "      <th>score</th>\n",
       "      <th>strand</th>\n",
       "      <th>thickStart</th>\n",
       "      <th>thickEnd</th>\n",
       "      <th>itemRgb</th>\n",
       "      <th>blockCount</th>\n",
       "    </tr>\n",
       "  </thead>\n",
       "  <tbody>\n",
       "    <tr>\n",
       "      <th>0</th>\n",
       "      <td>chr2L</td>\n",
       "      <td>61940</td>\n",
       "      <td>61946</td>\n",
       "      <td>svp</td>\n",
       "      <td>-</td>\n",
       "      <td>0.000066</td>\n",
       "      <td>FBgn0003651</td>\n",
       "      <td>chr2L</td>\n",
       "      <td>59268</td>\n",
       "      <td>66404</td>\n",
       "    </tr>\n",
       "    <tr>\n",
       "      <th>1</th>\n",
       "      <td>chr2L</td>\n",
       "      <td>116733</td>\n",
       "      <td>116739</td>\n",
       "      <td>svp</td>\n",
       "      <td>-</td>\n",
       "      <td>0.000066</td>\n",
       "      <td>FBgn0003651</td>\n",
       "      <td>chr2L</td>\n",
       "      <td>116488</td>\n",
       "      <td>116969</td>\n",
       "    </tr>\n",
       "    <tr>\n",
       "      <th>2</th>\n",
       "      <td>chr2L</td>\n",
       "      <td>228672</td>\n",
       "      <td>228678</td>\n",
       "      <td>svp</td>\n",
       "      <td>-</td>\n",
       "      <td>0.000066</td>\n",
       "      <td>FBgn0003651</td>\n",
       "      <td>chr2L</td>\n",
       "      <td>228588</td>\n",
       "      <td>229929</td>\n",
       "    </tr>\n",
       "    <tr>\n",
       "      <th>3</th>\n",
       "      <td>chr2L</td>\n",
       "      <td>308315</td>\n",
       "      <td>308321</td>\n",
       "      <td>svp</td>\n",
       "      <td>-</td>\n",
       "      <td>0.000066</td>\n",
       "      <td>FBgn0003651</td>\n",
       "      <td>chr2L</td>\n",
       "      <td>306389</td>\n",
       "      <td>308536</td>\n",
       "    </tr>\n",
       "    <tr>\n",
       "      <th>4</th>\n",
       "      <td>chr2L</td>\n",
       "      <td>317447</td>\n",
       "      <td>317453</td>\n",
       "      <td>svp</td>\n",
       "      <td>-</td>\n",
       "      <td>0.000066</td>\n",
       "      <td>FBgn0003651</td>\n",
       "      <td>chr2L</td>\n",
       "      <td>310605</td>\n",
       "      <td>318361</td>\n",
       "    </tr>\n",
       "  </tbody>\n",
       "</table>\n",
       "</div>"
      ],
      "text/plain": [
       "   chrom   start     end name score    strand   thickStart thickEnd  itemRgb  \\\n",
       "0  chr2L   61940   61946  svp     -  0.000066  FBgn0003651    chr2L    59268   \n",
       "1  chr2L  116733  116739  svp     -  0.000066  FBgn0003651    chr2L   116488   \n",
       "2  chr2L  228672  228678  svp     -  0.000066  FBgn0003651    chr2L   228588   \n",
       "3  chr2L  308315  308321  svp     -  0.000066  FBgn0003651    chr2L   306389   \n",
       "4  chr2L  317447  317453  svp     -  0.000066  FBgn0003651    chr2L   310605   \n",
       "\n",
       "   blockCount  \n",
       "0       66404  \n",
       "1      116969  \n",
       "2      229929  \n",
       "3      308536  \n",
       "4      318361  "
      ]
     },
     "execution_count": 195,
     "metadata": {},
     "output_type": "execute_result"
    }
   ],
   "source": [
    "oTF_intersect = pybedtools.BedTool('../../data/oTF.bed').intersect(intslop, wb=True).saveas().to_dataframe()\n",
    "oTF_intersect.head()"
   ]
  },
  {
   "cell_type": "code",
   "execution_count": 196,
   "metadata": {},
   "outputs": [
    {
     "data": {
      "text/html": [
       "<div>\n",
       "<style>\n",
       "    .dataframe thead tr:only-child th {\n",
       "        text-align: right;\n",
       "    }\n",
       "\n",
       "    .dataframe thead th {\n",
       "        text-align: left;\n",
       "    }\n",
       "\n",
       "    .dataframe tbody tr th {\n",
       "        vertical-align: top;\n",
       "    }\n",
       "</style>\n",
       "<table border=\"1\" class=\"dataframe\">\n",
       "  <thead>\n",
       "    <tr style=\"text-align: right;\">\n",
       "      <th></th>\n",
       "      <th>chrom</th>\n",
       "      <th>start</th>\n",
       "      <th>end</th>\n",
       "      <th>strand</th>\n",
       "      <th>pval</th>\n",
       "      <th>motif_symbol</th>\n",
       "      <th>motif_FBgn</th>\n",
       "    </tr>\n",
       "  </thead>\n",
       "  <tbody>\n",
       "    <tr>\n",
       "      <th>0</th>\n",
       "      <td>chr2L</td>\n",
       "      <td>61940</td>\n",
       "      <td>61946</td>\n",
       "      <td>-</td>\n",
       "      <td>0.000066</td>\n",
       "      <td>svp</td>\n",
       "      <td>FBgn0003651</td>\n",
       "    </tr>\n",
       "    <tr>\n",
       "      <th>1</th>\n",
       "      <td>chr2L</td>\n",
       "      <td>116733</td>\n",
       "      <td>116739</td>\n",
       "      <td>-</td>\n",
       "      <td>0.000066</td>\n",
       "      <td>svp</td>\n",
       "      <td>FBgn0003651</td>\n",
       "    </tr>\n",
       "    <tr>\n",
       "      <th>2</th>\n",
       "      <td>chr2L</td>\n",
       "      <td>228672</td>\n",
       "      <td>228678</td>\n",
       "      <td>-</td>\n",
       "      <td>0.000066</td>\n",
       "      <td>svp</td>\n",
       "      <td>FBgn0003651</td>\n",
       "    </tr>\n",
       "    <tr>\n",
       "      <th>3</th>\n",
       "      <td>chr2L</td>\n",
       "      <td>308315</td>\n",
       "      <td>308321</td>\n",
       "      <td>-</td>\n",
       "      <td>0.000066</td>\n",
       "      <td>svp</td>\n",
       "      <td>FBgn0003651</td>\n",
       "    </tr>\n",
       "    <tr>\n",
       "      <th>4</th>\n",
       "      <td>chr2L</td>\n",
       "      <td>317447</td>\n",
       "      <td>317453</td>\n",
       "      <td>-</td>\n",
       "      <td>0.000066</td>\n",
       "      <td>svp</td>\n",
       "      <td>FBgn0003651</td>\n",
       "    </tr>\n",
       "  </tbody>\n",
       "</table>\n",
       "</div>"
      ],
      "text/plain": [
       "   chrom   start     end strand      pval motif_symbol   motif_FBgn\n",
       "0  chr2L   61940   61946      -  0.000066          svp  FBgn0003651\n",
       "1  chr2L  116733  116739      -  0.000066          svp  FBgn0003651\n",
       "2  chr2L  228672  228678      -  0.000066          svp  FBgn0003651\n",
       "3  chr2L  308315  308321      -  0.000066          svp  FBgn0003651\n",
       "4  chr2L  317447  317453      -  0.000066          svp  FBgn0003651"
      ]
     },
     "execution_count": 196,
     "metadata": {},
     "output_type": "execute_result"
    }
   ],
   "source": [
    "oTF_frame = oTF_intersect[['chrom','start','end','score','strand','name','thickStart']]\n",
    "oTF_frame.columns = ['chrom','start','end','strand', 'pval','motif_symbol','motif_FBgn']\n",
    "oTF_frame.head()"
   ]
  },
  {
   "cell_type": "code",
   "execution_count": 123,
   "metadata": {
    "collapsed": true
   },
   "outputs": [],
   "source": [
    "#I don't know why this module is weird depending on if I run in biowulf or my comp??? \n",
    "#Biowulf: \n",
    "#pvals_c = statsmodels.sandbox.stats.multicomp.multipletests(less_big.pval, alpha=.01, method='fdr_bh')[1]\n",
    "#my comp: \n",
    "oTF_pvals_c= sm.stats.multipletests(oTF_frame.pval.values, alpha=.01, method='fdr_bh')[1]"
   ]
  },
  {
   "cell_type": "code",
   "execution_count": 127,
   "metadata": {
    "collapsed": true
   },
   "outputs": [],
   "source": [
    "oTF_frame_copy = oTF_frame.copy()\n",
    "oTF_frame_copy['FDR'] = list(oTF_pvals_c)"
   ]
  },
  {
   "cell_type": "code",
   "execution_count": 128,
   "metadata": {},
   "outputs": [
    {
     "data": {
      "text/html": [
       "<div>\n",
       "<style>\n",
       "    .dataframe thead tr:only-child th {\n",
       "        text-align: right;\n",
       "    }\n",
       "\n",
       "    .dataframe thead th {\n",
       "        text-align: left;\n",
       "    }\n",
       "\n",
       "    .dataframe tbody tr th {\n",
       "        vertical-align: top;\n",
       "    }\n",
       "</style>\n",
       "<table border=\"1\" class=\"dataframe\">\n",
       "  <thead>\n",
       "    <tr style=\"text-align: right;\">\n",
       "      <th></th>\n",
       "      <th>chrom</th>\n",
       "      <th>start</th>\n",
       "      <th>end</th>\n",
       "      <th>name</th>\n",
       "      <th>strand</th>\n",
       "      <th>pval</th>\n",
       "      <th>intron_start</th>\n",
       "      <th>intron_end</th>\n",
       "      <th>FDR</th>\n",
       "    </tr>\n",
       "  </thead>\n",
       "  <tbody>\n",
       "    <tr>\n",
       "      <th>0</th>\n",
       "      <td>chr2L</td>\n",
       "      <td>61940</td>\n",
       "      <td>61946</td>\n",
       "      <td>OTF0001.1</td>\n",
       "      <td>-</td>\n",
       "      <td>0.000066</td>\n",
       "      <td>59268</td>\n",
       "      <td>66404</td>\n",
       "      <td>0.000097</td>\n",
       "    </tr>\n",
       "    <tr>\n",
       "      <th>1</th>\n",
       "      <td>chr2L</td>\n",
       "      <td>116733</td>\n",
       "      <td>116739</td>\n",
       "      <td>OTF0001.1</td>\n",
       "      <td>-</td>\n",
       "      <td>0.000066</td>\n",
       "      <td>116488</td>\n",
       "      <td>116969</td>\n",
       "      <td>0.000097</td>\n",
       "    </tr>\n",
       "    <tr>\n",
       "      <th>2</th>\n",
       "      <td>chr2L</td>\n",
       "      <td>228672</td>\n",
       "      <td>228678</td>\n",
       "      <td>OTF0001.1</td>\n",
       "      <td>-</td>\n",
       "      <td>0.000066</td>\n",
       "      <td>228588</td>\n",
       "      <td>229929</td>\n",
       "      <td>0.000097</td>\n",
       "    </tr>\n",
       "    <tr>\n",
       "      <th>3</th>\n",
       "      <td>chr2L</td>\n",
       "      <td>308315</td>\n",
       "      <td>308321</td>\n",
       "      <td>OTF0001.1</td>\n",
       "      <td>-</td>\n",
       "      <td>0.000066</td>\n",
       "      <td>306389</td>\n",
       "      <td>308536</td>\n",
       "      <td>0.000097</td>\n",
       "    </tr>\n",
       "    <tr>\n",
       "      <th>4</th>\n",
       "      <td>chr2L</td>\n",
       "      <td>317447</td>\n",
       "      <td>317453</td>\n",
       "      <td>OTF0001.1</td>\n",
       "      <td>-</td>\n",
       "      <td>0.000066</td>\n",
       "      <td>310605</td>\n",
       "      <td>318361</td>\n",
       "      <td>0.000097</td>\n",
       "    </tr>\n",
       "  </tbody>\n",
       "</table>\n",
       "</div>"
      ],
      "text/plain": [
       "   chrom   start     end       name strand      pval  intron_start  \\\n",
       "0  chr2L   61940   61946  OTF0001.1      -  0.000066         59268   \n",
       "1  chr2L  116733  116739  OTF0001.1      -  0.000066        116488   \n",
       "2  chr2L  228672  228678  OTF0001.1      -  0.000066        228588   \n",
       "3  chr2L  308315  308321  OTF0001.1      -  0.000066        306389   \n",
       "4  chr2L  317447  317453  OTF0001.1      -  0.000066        310605   \n",
       "\n",
       "   intron_end       FDR  \n",
       "0       66404  0.000097  \n",
       "1      116969  0.000097  \n",
       "2      229929  0.000097  \n",
       "3      308536  0.000097  \n",
       "4      318361  0.000097  "
      ]
     },
     "execution_count": 128,
     "metadata": {},
     "output_type": "execute_result"
    }
   ],
   "source": [
    "oTF_frame_copy.head()"
   ]
  },
  {
   "cell_type": "markdown",
   "metadata": {},
   "source": [
    "# flyFactor\n",
    "\n",
    "needs to finish fimo"
   ]
  },
  {
   "cell_type": "code",
   "execution_count": null,
   "metadata": {
    "collapsed": true
   },
   "outputs": [],
   "source": []
  },
  {
   "cell_type": "markdown",
   "metadata": {},
   "source": [
    "once I have all of these ``` <database>_frame``` s, do a concat. Then,\n",
    "- Combine fimo datasets from all motif databases.\n",
    "- Remove duplicate entries due to a TF being present in multiple databases."
   ]
  },
  {
   "cell_type": "code",
   "execution_count": 229,
   "metadata": {},
   "outputs": [],
   "source": [
    "#FDR is only in the _copy frames so I'll just use the non copied ones: \n",
    "concat = [dm_frame, fR_frame, oTF_frame, idm_frame] #at some point add fF_frame\n",
    "alldatabases = pd.concat(concat)"
   ]
  },
  {
   "cell_type": "code",
   "execution_count": 230,
   "metadata": {},
   "outputs": [
    {
     "data": {
      "text/html": [
       "<div>\n",
       "<style>\n",
       "    .dataframe thead tr:only-child th {\n",
       "        text-align: right;\n",
       "    }\n",
       "\n",
       "    .dataframe thead th {\n",
       "        text-align: left;\n",
       "    }\n",
       "\n",
       "    .dataframe tbody tr th {\n",
       "        vertical-align: top;\n",
       "    }\n",
       "</style>\n",
       "<table border=\"1\" class=\"dataframe\">\n",
       "  <thead>\n",
       "    <tr style=\"text-align: right;\">\n",
       "      <th></th>\n",
       "      <th>chrom</th>\n",
       "      <th>start</th>\n",
       "      <th>end</th>\n",
       "      <th>strand</th>\n",
       "      <th>pval</th>\n",
       "      <th>motif_symbol</th>\n",
       "      <th>motif_FBgn</th>\n",
       "    </tr>\n",
       "  </thead>\n",
       "  <tbody>\n",
       "    <tr>\n",
       "      <th>0</th>\n",
       "      <td>chr2L</td>\n",
       "      <td>278605</td>\n",
       "      <td>278612</td>\n",
       "      <td>+</td>\n",
       "      <td>0.000014</td>\n",
       "      <td>bcd</td>\n",
       "      <td>FBgn0000166</td>\n",
       "    </tr>\n",
       "    <tr>\n",
       "      <th>1</th>\n",
       "      <td>chr2L</td>\n",
       "      <td>383877</td>\n",
       "      <td>383884</td>\n",
       "      <td>+</td>\n",
       "      <td>0.000014</td>\n",
       "      <td>bcd</td>\n",
       "      <td>FBgn0000166</td>\n",
       "    </tr>\n",
       "    <tr>\n",
       "      <th>2</th>\n",
       "      <td>chr2L</td>\n",
       "      <td>579770</td>\n",
       "      <td>579777</td>\n",
       "      <td>+</td>\n",
       "      <td>0.000014</td>\n",
       "      <td>bcd</td>\n",
       "      <td>FBgn0000166</td>\n",
       "    </tr>\n",
       "    <tr>\n",
       "      <th>3</th>\n",
       "      <td>chr2L</td>\n",
       "      <td>683479</td>\n",
       "      <td>683486</td>\n",
       "      <td>+</td>\n",
       "      <td>0.000014</td>\n",
       "      <td>bcd</td>\n",
       "      <td>FBgn0000166</td>\n",
       "    </tr>\n",
       "    <tr>\n",
       "      <th>4</th>\n",
       "      <td>chr2L</td>\n",
       "      <td>1222849</td>\n",
       "      <td>1222856</td>\n",
       "      <td>+</td>\n",
       "      <td>0.000014</td>\n",
       "      <td>bcd</td>\n",
       "      <td>FBgn0000166</td>\n",
       "    </tr>\n",
       "  </tbody>\n",
       "</table>\n",
       "</div>"
      ],
      "text/plain": [
       "   chrom    start      end strand      pval motif_symbol   motif_FBgn\n",
       "0  chr2L   278605   278612      +  0.000014          bcd  FBgn0000166\n",
       "1  chr2L   383877   383884      +  0.000014          bcd  FBgn0000166\n",
       "2  chr2L   579770   579777      +  0.000014          bcd  FBgn0000166\n",
       "3  chr2L   683479   683486      +  0.000014          bcd  FBgn0000166\n",
       "4  chr2L  1222849  1222856      +  0.000014          bcd  FBgn0000166"
      ]
     },
     "execution_count": 230,
     "metadata": {},
     "output_type": "execute_result"
    }
   ],
   "source": [
    "alldatabases.head()"
   ]
  },
  {
   "cell_type": "code",
   "execution_count": 209,
   "metadata": {},
   "outputs": [],
   "source": [
    "grp = alldatabases.groupby(['motif_symbol','motif_FBgn','chrom','strand'])"
   ]
  },
  {
   "cell_type": "code",
   "execution_count": 234,
   "metadata": {},
   "outputs": [],
   "source": [
    "alldata = pybedtools.BedTool.from_dataframe(alldatabases).saveas('../../data/alldatabases.bed')"
   ]
  },
  {
   "cell_type": "code",
   "execution_count": 238,
   "metadata": {},
   "outputs": [
    {
     "data": {
      "text/html": [
       "<div>\n",
       "<style>\n",
       "    .dataframe thead tr:only-child th {\n",
       "        text-align: right;\n",
       "    }\n",
       "\n",
       "    .dataframe thead th {\n",
       "        text-align: left;\n",
       "    }\n",
       "\n",
       "    .dataframe tbody tr th {\n",
       "        vertical-align: top;\n",
       "    }\n",
       "</style>\n",
       "<table border=\"1\" class=\"dataframe\">\n",
       "  <thead>\n",
       "    <tr style=\"text-align: right;\">\n",
       "      <th></th>\n",
       "      <th>chrom</th>\n",
       "      <th>start</th>\n",
       "      <th>end</th>\n",
       "      <th>strand</th>\n",
       "      <th>pval</th>\n",
       "      <th>motif_symbol</th>\n",
       "      <th>motif_FBgn</th>\n",
       "    </tr>\n",
       "  </thead>\n",
       "  <tbody>\n",
       "    <tr>\n",
       "      <th>24239</th>\n",
       "      <td>chr2L</td>\n",
       "      <td>21890</td>\n",
       "      <td>21897</td>\n",
       "      <td>-</td>\n",
       "      <td>0.000036</td>\n",
       "      <td>br-Z1</td>\n",
       "      <td>NaN</td>\n",
       "    </tr>\n",
       "    <tr>\n",
       "      <th>24239</th>\n",
       "      <td>chrX</td>\n",
       "      <td>18691118</td>\n",
       "      <td>18691125</td>\n",
       "      <td>-</td>\n",
       "      <td>0.000063</td>\n",
       "      <td>abd-A</td>\n",
       "      <td>FBgn0000014</td>\n",
       "    </tr>\n",
       "    <tr>\n",
       "      <th>24239</th>\n",
       "      <td>chr2R</td>\n",
       "      <td>14122938</td>\n",
       "      <td>14122947</td>\n",
       "      <td>-</td>\n",
       "      <td>0.000025</td>\n",
       "      <td>Eip74EF</td>\n",
       "      <td>FBgn0000567</td>\n",
       "    </tr>\n",
       "    <tr>\n",
       "      <th>24239</th>\n",
       "      <td>chr2L</td>\n",
       "      <td>18387117</td>\n",
       "      <td>18387126</td>\n",
       "      <td>+</td>\n",
       "      <td>0.000071</td>\n",
       "      <td>Abd-B</td>\n",
       "      <td>FBgn0000015</td>\n",
       "    </tr>\n",
       "  </tbody>\n",
       "</table>\n",
       "</div>"
      ],
      "text/plain": [
       "       chrom     start       end strand      pval motif_symbol   motif_FBgn\n",
       "24239  chr2L     21890     21897      -  0.000036        br-Z1          NaN\n",
       "24239   chrX  18691118  18691125      -  0.000063        abd-A  FBgn0000014\n",
       "24239  chr2R  14122938  14122947      -  0.000025      Eip74EF  FBgn0000567\n",
       "24239  chr2L  18387117  18387126      +  0.000071        Abd-B  FBgn0000015"
      ]
     },
     "execution_count": 238,
     "metadata": {},
     "output_type": "execute_result"
    }
   ],
   "source": [
    "alldatabases.loc[24239,:]"
   ]
  },
  {
   "cell_type": "code",
   "execution_count": 237,
   "metadata": {},
   "outputs": [
    {
     "ename": "BEDToolsError",
     "evalue": "\nCommand was:\n\n\tbedtools sort -i ../../data/alldatabases.bed\n\nError message was:\nDiffering number of BED fields encountered at line: 24239.  Exiting...\n",
     "output_type": "error",
     "traceback": [
      "\u001b[0;31m---------------------------------------------------------------------------\u001b[0m",
      "\u001b[0;31mBEDToolsError\u001b[0m                             Traceback (most recent call last)",
      "\u001b[0;32m<ipython-input-237-df4080c88802>\u001b[0m in \u001b[0;36m<module>\u001b[0;34m()\u001b[0m\n\u001b[0;32m----> 1\u001b[0;31m \u001b[0malldata\u001b[0m\u001b[0;34m.\u001b[0m\u001b[0msort\u001b[0m\u001b[0;34m(\u001b[0m\u001b[0;34m)\u001b[0m\u001b[0;34m\u001b[0m\u001b[0m\n\u001b[0m",
      "\u001b[0;32m~/miniconda3/lib/python3.5/site-packages/pybedtools/bedtool.py\u001b[0m in \u001b[0;36mdecorated\u001b[0;34m(self, *args, **kwargs)\u001b[0m\n\u001b[1;32m    804\u001b[0m             \u001b[0;31m# this calls the actual method in the first place; *result* is\u001b[0m\u001b[0;34m\u001b[0m\u001b[0;34m\u001b[0m\u001b[0m\n\u001b[1;32m    805\u001b[0m             \u001b[0;31m# whatever you get back\u001b[0m\u001b[0;34m\u001b[0m\u001b[0;34m\u001b[0m\u001b[0m\n\u001b[0;32m--> 806\u001b[0;31m             \u001b[0mresult\u001b[0m \u001b[0;34m=\u001b[0m \u001b[0mmethod\u001b[0m\u001b[0;34m(\u001b[0m\u001b[0mself\u001b[0m\u001b[0;34m,\u001b[0m \u001b[0;34m*\u001b[0m\u001b[0margs\u001b[0m\u001b[0;34m,\u001b[0m \u001b[0;34m**\u001b[0m\u001b[0mkwargs\u001b[0m\u001b[0;34m)\u001b[0m\u001b[0;34m\u001b[0m\u001b[0m\n\u001b[0m\u001b[1;32m    807\u001b[0m \u001b[0;34m\u001b[0m\u001b[0m\n\u001b[1;32m    808\u001b[0m             \u001b[0;31m# add appropriate tags\u001b[0m\u001b[0;34m\u001b[0m\u001b[0;34m\u001b[0m\u001b[0m\n",
      "\u001b[0;32m~/miniconda3/lib/python3.5/site-packages/pybedtools/bedtool.py\u001b[0m in \u001b[0;36mwrapped\u001b[0;34m(self, *args, **kwargs)\u001b[0m\n\u001b[1;32m    335\u001b[0m             stream = call_bedtools(cmds, tmp, stdin=stdin,\n\u001b[1;32m    336\u001b[0m                                    \u001b[0mcheck_stderr\u001b[0m\u001b[0;34m=\u001b[0m\u001b[0mcheck_stderr\u001b[0m\u001b[0;34m,\u001b[0m\u001b[0;34m\u001b[0m\u001b[0m\n\u001b[0;32m--> 337\u001b[0;31m                                    \u001b[0mdecode_output\u001b[0m\u001b[0;34m=\u001b[0m\u001b[0mdecode_output\u001b[0m\u001b[0;34m,\u001b[0m\u001b[0;34m\u001b[0m\u001b[0m\n\u001b[0m\u001b[1;32m    338\u001b[0m                                    )\n\u001b[1;32m    339\u001b[0m \u001b[0;34m\u001b[0m\u001b[0m\n",
      "\u001b[0;32m~/miniconda3/lib/python3.5/site-packages/pybedtools/helpers.py\u001b[0m in \u001b[0;36mcall_bedtools\u001b[0;34m(cmds, tmpfn, stdin, check_stderr, decode_output, encode_input)\u001b[0m\n\u001b[1;32m    354\u001b[0m                 \u001b[0msys\u001b[0m\u001b[0;34m.\u001b[0m\u001b[0mstderr\u001b[0m\u001b[0;34m.\u001b[0m\u001b[0mwrite\u001b[0m\u001b[0;34m(\u001b[0m\u001b[0mstderr\u001b[0m\u001b[0;34m)\u001b[0m\u001b[0;34m\u001b[0m\u001b[0m\n\u001b[1;32m    355\u001b[0m             \u001b[0;32melse\u001b[0m\u001b[0;34m:\u001b[0m\u001b[0;34m\u001b[0m\u001b[0m\n\u001b[0;32m--> 356\u001b[0;31m                 \u001b[0;32mraise\u001b[0m \u001b[0mBEDToolsError\u001b[0m\u001b[0;34m(\u001b[0m\u001b[0msubprocess\u001b[0m\u001b[0;34m.\u001b[0m\u001b[0mlist2cmdline\u001b[0m\u001b[0;34m(\u001b[0m\u001b[0mcmds\u001b[0m\u001b[0;34m)\u001b[0m\u001b[0;34m,\u001b[0m \u001b[0mstderr\u001b[0m\u001b[0;34m)\u001b[0m\u001b[0;34m\u001b[0m\u001b[0m\n\u001b[0m\u001b[1;32m    357\u001b[0m \u001b[0;34m\u001b[0m\u001b[0m\n\u001b[1;32m    358\u001b[0m \u001b[0;34m\u001b[0m\u001b[0m\n",
      "\u001b[0;31mBEDToolsError\u001b[0m: \nCommand was:\n\n\tbedtools sort -i ../../data/alldatabases.bed\n\nError message was:\nDiffering number of BED fields encountered at line: 24239.  Exiting...\n"
     ]
    }
   ],
   "source": [
    "#I'm trying to get this bedtool so that I can do .merge().saveas('../../data/alldatabases_merge.bed')\n",
    "#but sort isn't working for some irritating reason\n",
    "#If i can get the merge, view both in igv to make sure its doing what I want it to\n",
    "alldata.sort()"
   ]
  },
  {
   "cell_type": "code",
   "execution_count": null,
   "metadata": {
    "collapsed": true
   },
   "outputs": [],
   "source": []
  },
  {
   "cell_type": "markdown",
   "metadata": {},
   "source": [
    "# next! \n",
    "- Calculate FDR on fimo p-values\n",
    "- Generate matrix where FDR is the weight"
   ]
  },
  {
   "cell_type": "code",
   "execution_count": null,
   "metadata": {
    "collapsed": true
   },
   "outputs": [],
   "source": []
  }
 ],
 "metadata": {
  "kernelspec": {
   "display_name": "Python 3",
   "language": "python",
   "name": "python3"
  },
  "language_info": {
   "codemirror_mode": {
    "name": "ipython",
    "version": 3
   },
   "file_extension": ".py",
   "mimetype": "text/x-python",
   "name": "python",
   "nbconvert_exporter": "python",
   "pygments_lexer": "ipython3",
   "version": "3.5.4"
  }
 },
 "nbformat": 4,
 "nbformat_minor": 2
}
