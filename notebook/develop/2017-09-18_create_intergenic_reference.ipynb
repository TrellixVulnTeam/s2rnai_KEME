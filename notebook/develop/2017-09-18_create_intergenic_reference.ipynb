{
 "cells": [
  {
   "cell_type": "markdown",
   "metadata": {},
   "source": [
    "An intergenic reference was created by extending gene models by 100bp to account for "
   ]
  },
  {
   "cell_type": "code",
   "execution_count": 1,
   "metadata": {
    "code_folding": [
     0
    ]
   },
   "outputs": [
    {
     "name": "stdout",
     "output_type": "stream",
     "text": [
      "last updated: 2017-09-18 \n",
      "\n",
      "CPython 3.5.2\n",
      "IPython 6.1.0\n",
      "Git hash: 3e367cc790e599063cc3eb09a8cf55531591b111\n"
     ]
    }
   ],
   "source": [
    "# %load ../start.py\n",
    "# Load useful extensions\n",
    "import os\n",
    "import sys\n",
    "\n",
    "# Activate the autoreload extension for easy reloading of external packages\n",
    "%reload_ext autoreload\n",
    "%autoreload 1\n",
    "\n",
    "# Set up cashdir\n",
    "from ipycache import CacheMagics\n",
    "CacheMagics.cachedir = '../cachedir'\n",
    "\n",
    "# Trun on the water mark\n",
    "%reload_ext watermark\n",
    "%watermark -u -d -v -g\n",
    "\n",
    "# Load ipycache extension\n",
    "%reload_ext ipycache\n",
    "from ipycache import CacheMagics\n",
    "CacheMagics.cachedir = '../cachedir'\n",
    "\n",
    "# Add project library to path\n",
    "sys.path.insert(0, '../../lcdb-wf/lib')\n",
    "sys.path.insert(0, '../../lib/python')\n",
    "\n",
    "# Set up references\n",
    "import yaml\n",
    "with open('../../config/config.yml') as fh:\n",
    "    config = yaml.load(fh)\n",
    "\n",
    "assembly = config['assembly']\n",
    "tag = config['aligner']['tag']\n",
    "REF = os.path.join(os.environ['REFERENCES_DIR'], assembly, tag)\n"
   ]
  },
  {
   "cell_type": "code",
   "execution_count": 9,
   "metadata": {
    "code_folding": [],
    "collapsed": true
   },
   "outputs": [],
   "source": [
    "# other imports\n",
    "import gffutils\n",
    "from gffutils.pybedtools_integration import to_bedtool, featurefuncs"
   ]
  },
  {
   "cell_type": "code",
   "execution_count": 3,
   "metadata": {},
   "outputs": [
    {
     "name": "stderr",
     "output_type": "stream",
     "text": [
      "/data/fearjm/miniconda3/envs/s2rnai/lib/python3.5/site-packages/gffutils/interface.py:161: UserWarning: It appears that this database has not had the ANALYZE sqlite3 command run on it. Doing so can dramatically speed up queries, and is done by default for databases created with gffutils >0.8.7.1 (this database was created with version 0.8.7.1) Consider calling the analyze() method of this object.\n",
      "  \"method of this object.\" % self.version)\n"
     ]
    }
   ],
   "source": [
    "chromSizes =  os.path.join(REF, 'fasta/{assembly}_{tag}.chromsizes'.format(assembly=assembly, tag=tag))\n",
    "dbName = os.path.join(REF, 'gtf/{assembly}_{tag}.gtf.db'.format(assembly=assembly, tag=tag))\n",
    "db = gffutils.FeatureDB(dbName)"
   ]
  },
  {
   "cell_type": "code",
   "execution_count": 4,
   "metadata": {},
   "outputs": [
    {
     "data": {
      "text/plain": [
       "['3UTR',\n",
       " '5UTR',\n",
       " 'CDS',\n",
       " 'exon',\n",
       " 'gene',\n",
       " 'mRNA',\n",
       " 'miRNA',\n",
       " 'ncRNA',\n",
       " 'pre_miRNA',\n",
       " 'pseudogene',\n",
       " 'rRNA',\n",
       " 'snRNA',\n",
       " 'snoRNA',\n",
       " 'start_codon',\n",
       " 'stop_codon',\n",
       " 'tRNA',\n",
       " 'transcript']"
      ]
     },
     "execution_count": 4,
     "metadata": {},
     "output_type": "execute_result"
    }
   ],
   "source": [
    "list(db.featuretypes())"
   ]
  },
  {
   "cell_type": "code",
   "execution_count": 5,
   "metadata": {
    "collapsed": true
   },
   "outputs": [],
   "source": [
    "# Grab all genes\n",
    "gene = to_bedtool(db.features_of_type('gene')).saveas()"
   ]
  },
  {
   "cell_type": "code",
   "execution_count": 6,
   "metadata": {
    "collapsed": true
   },
   "outputs": [],
   "source": [
    "slopped = gene.slop(b=100, genome='dm6')"
   ]
  },
  {
   "cell_type": "code",
   "execution_count": 7,
   "metadata": {
    "collapsed": true
   },
   "outputs": [],
   "source": [
    "merged = slopped.sort().merge()"
   ]
  },
  {
   "cell_type": "code",
   "execution_count": 8,
   "metadata": {
    "collapsed": true
   },
   "outputs": [],
   "source": [
    "complement = merged.complement(genome='dm6').saveas()"
   ]
  },
  {
   "cell_type": "code",
   "execution_count": null,
   "metadata": {
    "collapsed": true
   },
   "outputs": [],
   "source": []
  },
  {
   "cell_type": "code",
   "execution_count": 10,
   "metadata": {
    "collapsed": true
   },
   "outputs": [],
   "source": [
    "feature = featurefuncs.bed2gff(complement[0])"
   ]
  },
  {
   "cell_type": "code",
   "execution_count": 12,
   "metadata": {},
   "outputs": [
    {
     "name": "stdout",
     "output_type": "stream",
     "text": [
      "chr2L\t.\t.\t1\t7428\t.\t.\t.\tName=\".\";\n",
      "\n"
     ]
    }
   ],
   "source": [
    "print(feature)"
   ]
  },
  {
   "cell_type": "code",
   "execution_count": 14,
   "metadata": {},
   "outputs": [
    {
     "data": {
      "text/plain": [
       "['__bool__',\n",
       " '__class__',\n",
       " '__copy__',\n",
       " '__delattr__',\n",
       " '__delitem__',\n",
       " '__dir__',\n",
       " '__doc__',\n",
       " '__eq__',\n",
       " '__format__',\n",
       " '__ge__',\n",
       " '__getattribute__',\n",
       " '__getitem__',\n",
       " '__gt__',\n",
       " '__hash__',\n",
       " '__init__',\n",
       " '__le__',\n",
       " '__len__',\n",
       " '__lt__',\n",
       " '__ne__',\n",
       " '__new__',\n",
       " '__pyx_vtable__',\n",
       " '__reduce__',\n",
       " '__reduce_ex__',\n",
       " '__repr__',\n",
       " '__setattr__',\n",
       " '__setitem__',\n",
       " '__sizeof__',\n",
       " '__str__',\n",
       " '__subclasshook__',\n",
       " 'append',\n",
       " 'attrs',\n",
       " 'chrom',\n",
       " 'count',\n",
       " 'deparse_attrs',\n",
       " 'end',\n",
       " 'fields',\n",
       " 'file_type',\n",
       " 'length',\n",
       " 'name',\n",
       " 'o_amt',\n",
       " 'o_end',\n",
       " 'o_start',\n",
       " 'score',\n",
       " 'start',\n",
       " 'stop',\n",
       " 'strand']"
      ]
     },
     "execution_count": 14,
     "metadata": {},
     "output_type": "execute_result"
    }
   ],
   "source": [
    "dir(feature)"
   ]
  },
  {
   "cell_type": "code",
   "execution_count": 37,
   "metadata": {
    "collapsed": true
   },
   "outputs": [],
   "source": [
    "feature.name = 'intergenic1'\n",
    "feature[1] = 'bedtools'\n",
    "feature[2] = 'gene'"
   ]
  },
  {
   "cell_type": "code",
   "execution_count": 38,
   "metadata": {},
   "outputs": [
    {
     "name": "stdout",
     "output_type": "stream",
     "text": [
      "chr2L\tbedtools\tgene\t1\t7428\t.\t.\t.\tName=\"intergenic1\";\n",
      "\n"
     ]
    }
   ],
   "source": [
    "print(feature)"
   ]
  },
  {
   "cell_type": "code",
   "execution_count": null,
   "metadata": {
    "collapsed": true
   },
   "outputs": [],
   "source": []
  }
 ],
 "metadata": {
  "kernelspec": {
   "display_name": "Python [conda env:s2rnai]",
   "language": "python",
   "name": "conda-env-s2rnai-py"
  },
  "language_info": {
   "codemirror_mode": {
    "name": "ipython",
    "version": 3
   },
   "file_extension": ".py",
   "mimetype": "text/x-python",
   "name": "python",
   "nbconvert_exporter": "python",
   "pygments_lexer": "ipython3",
   "version": "3.5.2"
  },
  "toc": {
   "nav_menu": {},
   "number_sections": true,
   "sideBar": true,
   "skip_h1_title": false,
   "toc_cell": false,
   "toc_position": {},
   "toc_section_display": "block",
   "toc_window_display": false
  }
 },
 "nbformat": 4,
 "nbformat_minor": 2
}
