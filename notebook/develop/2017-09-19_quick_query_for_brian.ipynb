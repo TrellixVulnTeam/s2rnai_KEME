{
 "cells": [
  {
   "cell_type": "markdown",
   "metadata": {},
   "source": [
    "Brian asked for:\n",
    "\n",
    ">Hi,\n",
    "If you can easily query for all Dmel genes with one transcript and no introns and send that to Astrid, that would be great.  Cc me.\n",
    "B"
   ]
  },
  {
   "cell_type": "code",
   "execution_count": 1,
   "metadata": {
    "code_folding": []
   },
   "outputs": [
    {
     "name": "stdout",
     "output_type": "stream",
     "text": [
      "last updated: 2017-09-20 \n",
      "\n",
      "CPython 3.5.2\n",
      "IPython 6.1.0\n",
      "Git hash: 6b3b5c6070b965c364a696bb9e37f7c8a5693542\n"
     ]
    }
   ],
   "source": [
    "# %load ../start.py\n",
    "# Load useful extensions\n",
    "import os\n",
    "import sys\n",
    "\n",
    "# Activate the autoreload extension for easy reloading of external packages\n",
    "%reload_ext autoreload\n",
    "%autoreload 1\n",
    "\n",
    "# Set up cashdir\n",
    "from ipycache import CacheMagics\n",
    "CacheMagics.cachedir = '../cachedir'\n",
    "\n",
    "# Trun on the water mark\n",
    "%reload_ext watermark\n",
    "%watermark -u -d -v -g\n",
    "\n",
    "# Load ipycache extension\n",
    "%reload_ext ipycache\n",
    "from ipycache import CacheMagics\n",
    "CacheMagics.cachedir = '../cachedir'\n",
    "\n",
    "# Add project library to path\n",
    "sys.path.insert(0, '../../lcdb-wf/lib')\n",
    "sys.path.insert(0, '../../lib/python')\n",
    "\n",
    "# Set up references\n",
    "import yaml\n",
    "with open('../../config/config.yml') as fh:\n",
    "    config = yaml.load(fh)\n",
    "\n",
    "assembly = config['assembly']\n",
    "tag = config['aligner']['tag']\n",
    "REF = os.path.join(os.environ['REFERENCES_DIR'], assembly, tag)\n"
   ]
  },
  {
   "cell_type": "code",
   "execution_count": 2,
   "metadata": {
    "code_folding": [],
    "collapsed": true
   },
   "outputs": [],
   "source": [
    "# Imports\n",
    "import gffutils\n",
    "import pandas as pd"
   ]
  },
  {
   "cell_type": "code",
   "execution_count": 3,
   "metadata": {
    "collapsed": true
   },
   "outputs": [],
   "source": [
    "# Connect to gff dtabase\n",
    "db = gffutils.FeatureDB('../../output/dmel-all-no-analysis-r6.16.gff.db')"
   ]
  },
  {
   "cell_type": "code",
   "execution_count": 6,
   "metadata": {},
   "outputs": [
    {
     "data": {
      "text/plain": [
       "['BAC_cloned_genomic_insert',\n",
       " 'CDS',\n",
       " 'DNA_motif',\n",
       " 'RNAi_reagent',\n",
       " 'TF_binding_site',\n",
       " 'breakpoint',\n",
       " 'chromosome',\n",
       " 'chromosome_band',\n",
       " 'complex_substitution',\n",
       " 'deletion',\n",
       " 'enhancer',\n",
       " 'exon',\n",
       " 'exon_junction',\n",
       " 'five_prime_UTR',\n",
       " 'gene',\n",
       " 'golden_path_region',\n",
       " 'insertion_site',\n",
       " 'insulator',\n",
       " 'intron',\n",
       " 'mRNA',\n",
       " 'mature_peptide',\n",
       " 'miRNA',\n",
       " 'modified_RNA_base_feature',\n",
       " 'ncRNA',\n",
       " 'oligonucleotide',\n",
       " 'origin_of_replication',\n",
       " 'orthologous_region',\n",
       " 'orthologous_to',\n",
       " 'pcr_product',\n",
       " 'point_mutation',\n",
       " 'polyA_site',\n",
       " 'pre_miRNA',\n",
       " 'protein',\n",
       " 'protein_binding_site',\n",
       " 'pseudogene',\n",
       " 'rRNA',\n",
       " 'region',\n",
       " 'regulatory_region',\n",
       " 'repeat_region',\n",
       " 'rescue_fragment',\n",
       " 'sequence_variant',\n",
       " 'silencer',\n",
       " 'snRNA',\n",
       " 'snoRNA',\n",
       " 'syntenic_region',\n",
       " 'tRNA',\n",
       " 'tandem_repeat',\n",
       " 'three_prime_UTR',\n",
       " 'transcription_start_site',\n",
       " 'transposable_element',\n",
       " 'transposable_element_insertion_site',\n",
       " 'uncharacterized_change_in_nucleotide_sequence']"
      ]
     },
     "execution_count": 6,
     "metadata": {},
     "output_type": "execute_result"
    }
   ],
   "source": [
    "sorted(list(db.featuretypes()))"
   ]
  },
  {
   "cell_type": "code",
   "execution_count": 11,
   "metadata": {
    "collapsed": true
   },
   "outputs": [],
   "source": [
    "# Check how many genes and mRNAs there are\n",
    "genes = list(db.features_of_type('gene'))\n",
    "mRNAs = list(db.features_of_type('mRNA'))\n",
    "ncRNAs = list(db.features_of_type('ncRNA'))"
   ]
  },
  {
   "cell_type": "code",
   "execution_count": 12,
   "metadata": {},
   "outputs": [
    {
     "name": "stdout",
     "output_type": "stream",
     "text": [
      "\n",
      "# genes:  17,730\n",
      "# mRNAs:  30,490\n",
      "# ncRNAs: 2,927\n",
      "\n"
     ]
    }
   ],
   "source": [
    "print(\"\"\"\n",
    "# genes:  {:,}\n",
    "# mRNAs:  {:,}\n",
    "# ncRNAs: {:,}\n",
    "\"\"\".format(len(genes), len(mRNAs), len(ncRNAs)))"
   ]
  },
  {
   "cell_type": "code",
   "execution_count": 40,
   "metadata": {},
   "outputs": [
    {
     "name": "stdout",
     "output_type": "stream",
     "text": [
      "In FlyBase r6.16 there are 1,803 mRNAs that have a single transcript with no introns.\n"
     ]
    }
   ],
   "source": [
    "# Iterate over genes and pull out mRNAs\n",
    "# Check if genes have a single transcript without introns.\n",
    "intronless = set()\n",
    "for gene in db.features_of_type('gene'):\n",
    "    mRNA = list(db.children(gene, featuretype='mRNA'))\n",
    "    if len(mRNA) == 1:\n",
    "        introns = list(db.children(mRNA[0], featuretype='intron'))\n",
    "        if len(introns) == 0:\n",
    "            intronless |= set([gene.id])\n",
    "\n",
    "print('In FlyBase r6.16 there are {:,} mRNAs that have a '\n",
    "      'single transcript with no introns.'.format(len(intronless)))"
   ]
  },
  {
   "cell_type": "code",
   "execution_count": 42,
   "metadata": {},
   "outputs": [
    {
     "name": "stdout",
     "output_type": "stream",
     "text": [
      "In FlyBase r6.16 there are 1,517 ncRNAs that have a single transcript with no introns.\n"
     ]
    }
   ],
   "source": [
    "# Iterate over genes and pull out mRNAs\n",
    "# Check if genes have a single transcript without introns.\n",
    "intronless_nc = set()\n",
    "for gene in db.features_of_type('gene'):\n",
    "    ncRNA = list(db.children(gene, featuretype='ncRNA'))\n",
    "    if len(ncRNA) == 1:\n",
    "        introns = list(db.children(ncRNA[0], featuretype='intron'))\n",
    "        if len(introns) == 0:\n",
    "            intronless_nc |= set([gene.id])\n",
    "\n",
    "print('In FlyBase r6.16 there are {:,} ncRNAs that have a '\n",
    "      'single transcript with no introns.'.format(len(intronless_nc)))"
   ]
  },
  {
   "cell_type": "code",
   "execution_count": 37,
   "metadata": {},
   "outputs": [],
   "source": [
    "# Import annotations\n",
    "anno = pd.read_csv(os.path.join(REF, 'fb_annotation/{}_{}.fb_annotation'.format(assembly, tag)), sep='\\t')"
   ]
  },
  {
   "cell_type": "code",
   "execution_count": 55,
   "metadata": {},
   "outputs": [],
   "source": [
    "anno.set_index('primary_FBgn', inplace=True)"
   ]
  },
  {
   "cell_type": "code",
   "execution_count": null,
   "metadata": {
    "collapsed": true
   },
   "outputs": [],
   "source": []
  },
  {
   "cell_type": "code",
   "execution_count": 43,
   "metadata": {
    "collapsed": true
   },
   "outputs": [],
   "source": [
    "dfM = pd.DataFrame(['mRNA']*len(intronless), index=intronless, columns=['type'])"
   ]
  },
  {
   "cell_type": "code",
   "execution_count": 44,
   "metadata": {
    "collapsed": true
   },
   "outputs": [],
   "source": [
    "dfN = pd.DataFrame(['ncRNA']*len(intronless_nc), index=intronless_nc, columns=['type'])"
   ]
  },
  {
   "cell_type": "code",
   "execution_count": 79,
   "metadata": {},
   "outputs": [],
   "source": [
    "df = pd.concat([dfM, dfN])"
   ]
  },
  {
   "cell_type": "code",
   "execution_count": 76,
   "metadata": {},
   "outputs": [
    {
     "data": {
      "text/plain": [
       "(3320, 1)"
      ]
     },
     "execution_count": 76,
     "metadata": {},
     "output_type": "execute_result"
    }
   ],
   "source": [
    "df.shape"
   ]
  },
  {
   "cell_type": "code",
   "execution_count": 80,
   "metadata": {
    "collapsed": true
   },
   "outputs": [],
   "source": [
    "dd = df.merge(anno, left_index=True, right_index=True, how='left')"
   ]
  },
  {
   "cell_type": "code",
   "execution_count": 81,
   "metadata": {},
   "outputs": [],
   "source": [
    "dd.index.name = 'FBgn'\n",
    "dd['linkout'] = dd.index.map(lambda x: 'http://flybase.org/cgi-bin/gbrowse2/dmel/?Search=1;name={0}'.format(x)).values"
   ]
  },
  {
   "cell_type": "code",
   "execution_count": 82,
   "metadata": {},
   "outputs": [],
   "source": [
    "dd.reset_index().to_csv('../../output/astrid_list.tsv', sep='\\t', index=False)"
   ]
  },
  {
   "cell_type": "code",
   "execution_count": null,
   "metadata": {
    "collapsed": true
   },
   "outputs": [],
   "source": []
  }
 ],
 "metadata": {
  "kernelspec": {
   "display_name": "Python [conda env:s2rnai]",
   "language": "python",
   "name": "conda-env-s2rnai-py"
  },
  "language_info": {
   "codemirror_mode": {
    "name": "ipython",
    "version": 3
   },
   "file_extension": ".py",
   "mimetype": "text/x-python",
   "name": "python",
   "nbconvert_exporter": "python",
   "pygments_lexer": "ipython3",
   "version": "3.5.2"
  },
  "toc": {
   "nav_menu": {},
   "number_sections": true,
   "sideBar": true,
   "skip_h1_title": false,
   "toc_cell": false,
   "toc_position": {},
   "toc_section_display": "block",
   "toc_window_display": false
  }
 },
 "nbformat": 4,
 "nbformat_minor": 2
}
