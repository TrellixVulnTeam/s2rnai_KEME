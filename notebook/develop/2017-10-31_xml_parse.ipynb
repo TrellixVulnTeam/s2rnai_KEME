{
 "cells": [
  {
   "cell_type": "code",
   "execution_count": 131,
   "metadata": {},
   "outputs": [
    {
     "data": {
      "text/plain": [
       "('../../output/chip/xmls/GSE49102.xml',\n",
       " <http.client.HTTPMessage at 0x2aab2695a550>)"
      ]
     },
     "execution_count": 131,
     "metadata": {},
     "output_type": "execute_result"
    }
   ],
   "source": [
    "from urllib.request import urlretrieve\n",
    "import os\n",
    "PATH = '../../output/chip/xmls/'\n",
    "gse = 'GSE49102'\n",
    "xml = 'https://www.ncbi.nlm.nih.gov/geo/query/acc.cgi?acc='+gse+'&targ=gsm&view=full&form=xml'\n",
    "os.makedirs(PATH, exist_ok=True)\n",
    "\n",
    "urlretrieve(xml, PATH+gse+'.xml')"
   ]
  },
  {
   "cell_type": "code",
   "execution_count": 132,
   "metadata": {},
   "outputs": [],
   "source": [
    "import xml.etree.ElementTree as ET\n",
    "import pandas as pd\n",
    "\n",
    "tree = ET.parse('../../output/chip/GSE49102.xml')\n",
    "root = tree.getroot()\n",
    "ns = {'url': 'http://www.ncbi.nlm.nih.gov/geo/info/MINiML'}\n",
    "\n",
    "table=[]\n",
    "for sample in root.findall('url:Sample', ns):\n",
    "    name = sample.get('iid')\n",
    "    sup = sample.find('url:Supplementary-Data', ns)\n",
    "    sup_type = sup.get('type')\n",
    "    if sup_type == 'BED': \n",
    "        for channel in sample.find('url:Channel',ns):\n",
    "            if channel.get('tag') == 'chip antibody':\n",
    "                tag = channel.text\n",
    "        row = (name, sup.text.strip(), tag.strip())\n",
    "        table.append(row)\n",
    "df = pd.DataFrame(table, columns=['GSM', 'url','chip_antibody'])"
   ]
  },
  {
   "cell_type": "code",
   "execution_count": 133,
   "metadata": {
    "scrolled": true
   },
   "outputs": [
    {
     "data": {
      "text/html": [
       "<div>\n",
       "<style>\n",
       "    .dataframe thead tr:only-child th {\n",
       "        text-align: right;\n",
       "    }\n",
       "\n",
       "    .dataframe thead th {\n",
       "        text-align: left;\n",
       "    }\n",
       "\n",
       "    .dataframe tbody tr th {\n",
       "        vertical-align: top;\n",
       "    }\n",
       "</style>\n",
       "<table border=\"1\" class=\"dataframe\">\n",
       "  <thead>\n",
       "    <tr style=\"text-align: right;\">\n",
       "      <th></th>\n",
       "      <th>GSM</th>\n",
       "      <th>url</th>\n",
       "      <th>chip_antibody</th>\n",
       "    </tr>\n",
       "  </thead>\n",
       "  <tbody>\n",
       "    <tr>\n",
       "      <th>0</th>\n",
       "      <td>GSM1193810</td>\n",
       "      <td>ftp://ftp.ncbi.nlm.nih.gov/geo/samples/GSM1193...</td>\n",
       "      <td>rabbit αWOC</td>\n",
       "    </tr>\n",
       "    <tr>\n",
       "      <th>1</th>\n",
       "      <td>GSM1193811</td>\n",
       "      <td>ftp://ftp.ncbi.nlm.nih.gov/geo/samples/GSM1193...</td>\n",
       "      <td>rabbit αROW</td>\n",
       "    </tr>\n",
       "    <tr>\n",
       "      <th>2</th>\n",
       "      <td>GSM1193812</td>\n",
       "      <td>ftp://ftp.ncbi.nlm.nih.gov/geo/samples/GSM1193...</td>\n",
       "      <td>guinea pig αZ4</td>\n",
       "    </tr>\n",
       "    <tr>\n",
       "      <th>3</th>\n",
       "      <td>GSM1193815</td>\n",
       "      <td>ftp://ftp.ncbi.nlm.nih.gov/geo/samples/GSM1193...</td>\n",
       "      <td>rabbit αHP1c</td>\n",
       "    </tr>\n",
       "    <tr>\n",
       "      <th>4</th>\n",
       "      <td>GSM1193816</td>\n",
       "      <td>ftp://ftp.ncbi.nlm.nih.gov/geo/samples/GSM1193...</td>\n",
       "      <td>rabbit αDsk2</td>\n",
       "    </tr>\n",
       "  </tbody>\n",
       "</table>\n",
       "</div>"
      ],
      "text/plain": [
       "          GSM                                                url  \\\n",
       "0  GSM1193810  ftp://ftp.ncbi.nlm.nih.gov/geo/samples/GSM1193...   \n",
       "1  GSM1193811  ftp://ftp.ncbi.nlm.nih.gov/geo/samples/GSM1193...   \n",
       "2  GSM1193812  ftp://ftp.ncbi.nlm.nih.gov/geo/samples/GSM1193...   \n",
       "3  GSM1193815  ftp://ftp.ncbi.nlm.nih.gov/geo/samples/GSM1193...   \n",
       "4  GSM1193816  ftp://ftp.ncbi.nlm.nih.gov/geo/samples/GSM1193...   \n",
       "\n",
       "    chip_antibody  \n",
       "0     rabbit αWOC  \n",
       "1     rabbit αROW  \n",
       "2  guinea pig αZ4  \n",
       "3    rabbit αHP1c  \n",
       "4    rabbit αDsk2  "
      ]
     },
     "execution_count": 133,
     "metadata": {},
     "output_type": "execute_result"
    }
   ],
   "source": [
    "df.head()"
   ]
  },
  {
   "cell_type": "code",
   "execution_count": 138,
   "metadata": {},
   "outputs": [
    {
     "data": {
      "text/plain": [
       "('../../output/chip/xmls/GSE49511.xml',\n",
       " <http.client.HTTPMessage at 0x2aab269897f0>)"
      ]
     },
     "execution_count": 138,
     "metadata": {},
     "output_type": "execute_result"
    }
   ],
   "source": [
    "#try first way again with full for GSE49511\n",
    "from urllib.request import urlretrieve\n",
    "import os\n",
    "PATH = '../../output/chip/xmls/'\n",
    "gse = 'GSE49511'\n",
    "xml = 'https://www.ncbi.nlm.nih.gov/geo/query/acc.cgi?acc='+gse+'&targ=all&view=full&form=xml'\n",
    "os.makedirs(PATH, exist_ok=True)\n",
    "\n",
    "urlretrieve(xml, PATH+gse+'.xml')"
   ]
  },
  {
   "cell_type": "code",
   "execution_count": 154,
   "metadata": {},
   "outputs": [],
   "source": [
    "import xml.etree.ElementTree as ET\n",
    "import pandas as pd\n",
    "\n",
    "tree = ET.parse(PATH+gse+'.xml')\n",
    "root = tree.getroot()\n",
    "ns = {'url': 'http://www.ncbi.nlm.nih.gov/geo/info/MINiML'}\n",
    "\n",
    "series_table = []\n",
    "for series in root.findall('url:Series',ns):\n",
    "    for x in series.findall('url:Supplementary-Data', ns):\n",
    "        sup_type = x.get('type')\n",
    "        if sup_type == 'BED':\n",
    "            name = series.get('iid')\n",
    "            dwld = x.text\n",
    "            row = (name, dwld)\n",
    "            series_table.append(row)\n",
    "            \n",
    "sample_table = []\n",
    "for sample in root.findall('url:Sample', ns):\n",
    "    name = sample.get('iid')\n",
    "    title = sample.find('url:Title', ns)\n",
    "    for channel in sample.find('url:Channel',ns):\n",
    "        if channel.get('tag') == 'chip antibody':\n",
    "            tag = channel.text\n",
    "    row = (name, title.text, tag.strip())\n",
    "    sample_table.append(row)"
   ]
  },
  {
   "cell_type": "code",
   "execution_count": null,
   "metadata": {
    "collapsed": true
   },
   "outputs": [],
   "source": [
    "#tomorrow I'm going to try using this ^^ with the first geo"
   ]
  }
 ],
 "metadata": {
  "kernelspec": {
   "display_name": "Python [conda env:s2rnai]",
   "language": "python",
   "name": "conda-env-s2rnai-py"
  },
  "language_info": {
   "codemirror_mode": {
    "name": "ipython",
    "version": 3
   },
   "file_extension": ".py",
   "mimetype": "text/x-python",
   "name": "python",
   "nbconvert_exporter": "python",
   "pygments_lexer": "ipython3",
   "version": "3.5.4"
  }
 },
 "nbformat": 4,
 "nbformat_minor": 2
}
