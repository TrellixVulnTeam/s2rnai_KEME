{
 "cells": [
  {
   "cell_type": "markdown",
   "metadata": {},
   "source": [
    "This notebook summarizes the counts for target gene and DRSC regions."
   ]
  },
  {
   "cell_type": "code",
   "execution_count": 1,
   "metadata": {},
   "outputs": [
    {
     "name": "stdout",
     "output_type": "stream",
     "text": [
      "last updated: 2017-09-20 \n",
      "\n",
      "CPython 3.5.2\n",
      "IPython 6.1.0\n",
      "Git hash: b31c213e0fbaedf9092be694730dd537cd996a08\n"
     ]
    }
   ],
   "source": [
    "# %load ../start.py\n",
    "# Load useful extensions\n",
    "import os\n",
    "import sys\n",
    "\n",
    "# Activate the autoreload extension for easy reloading of external packages\n",
    "%reload_ext autoreload\n",
    "%autoreload 1\n",
    "\n",
    "# Set up cashdir\n",
    "from ipycache import CacheMagics\n",
    "CacheMagics.cachedir = '../cachedir'\n",
    "\n",
    "# Trun on the water mark\n",
    "%reload_ext watermark\n",
    "%watermark -u -d -v -g\n",
    "\n",
    "# Load ipycache extension\n",
    "%reload_ext ipycache\n",
    "from ipycache import CacheMagics\n",
    "CacheMagics.cachedir = '../cachedir'\n",
    "\n",
    "# Add project library to path\n",
    "sys.path.insert(0, '../../lcdb-wf/lib')\n",
    "sys.path.insert(0, '../../lib/python')\n",
    "\n",
    "# Set up references\n",
    "import yaml\n",
    "with open('../../config/config.yml') as fh:\n",
    "    config = yaml.load(fh)\n",
    "\n",
    "assembly = config['assembly']\n",
    "tag = config['aligner']['tag']\n",
    "REF = os.path.join(os.environ['REFERENCES_DIR'], assembly, tag)\n",
    "\n",
    "%matplotlib inline"
   ]
  },
  {
   "cell_type": "code",
   "execution_count": 2,
   "metadata": {
    "collapsed": true
   },
   "outputs": [],
   "source": [
    "# imports\n",
    "import matplotlib as mpl\n",
    "import matplotlib.pyplot as plt\n",
    "import pandas as pd"
   ]
  },
  {
   "cell_type": "code",
   "execution_count": 3,
   "metadata": {
    "collapsed": true
   },
   "outputs": [],
   "source": [
    "stable = pd.read_csv('../../config/sampletable.tsv', sep='\\t')"
   ]
  },
  {
   "cell_type": "code",
   "execution_count": 4,
   "metadata": {},
   "outputs": [
    {
     "data": {
      "text/html": [
       "<div>\n",
       "<style>\n",
       "    .dataframe thead tr:only-child th {\n",
       "        text-align: right;\n",
       "    }\n",
       "\n",
       "    .dataframe thead th {\n",
       "        text-align: left;\n",
       "    }\n",
       "\n",
       "    .dataframe tbody tr th {\n",
       "        vertical-align: top;\n",
       "    }\n",
       "</style>\n",
       "<table border=\"1\" class=\"dataframe\">\n",
       "  <thead>\n",
       "    <tr style=\"text-align: right;\">\n",
       "      <th></th>\n",
       "      <th>samplename</th>\n",
       "      <th>SRX</th>\n",
       "      <th>BioSample</th>\n",
       "      <th>GEO</th>\n",
       "      <th>drsc</th>\n",
       "      <th>target_FBgn</th>\n",
       "      <th>target_symbol</th>\n",
       "      <th>drsc_rep</th>\n",
       "      <th>rep</th>\n",
       "      <th>plate_id</th>\n",
       "      <th>well_id</th>\n",
       "      <th>plate_row</th>\n",
       "      <th>plate_column</th>\n",
       "    </tr>\n",
       "  </thead>\n",
       "  <tbody>\n",
       "    <tr>\n",
       "      <th>0</th>\n",
       "      <td>SRR3486891</td>\n",
       "      <td>SRX1748887</td>\n",
       "      <td>SAMN04959321</td>\n",
       "      <td>GSM2145154</td>\n",
       "      <td>DRSC07681</td>\n",
       "      <td>FBgn0003396</td>\n",
       "      <td>shn</td>\n",
       "      <td>2</td>\n",
       "      <td>1</td>\n",
       "      <td>1</td>\n",
       "      <td>E8</td>\n",
       "      <td>E</td>\n",
       "      <td>8</td>\n",
       "    </tr>\n",
       "    <tr>\n",
       "      <th>1</th>\n",
       "      <td>SRR3486986</td>\n",
       "      <td>SRX1748983</td>\n",
       "      <td>SAMN04959673</td>\n",
       "      <td>GSM2145249</td>\n",
       "      <td>DRSC07681</td>\n",
       "      <td>FBgn0003396</td>\n",
       "      <td>shn</td>\n",
       "      <td>2</td>\n",
       "      <td>2</td>\n",
       "      <td>1</td>\n",
       "      <td>E8</td>\n",
       "      <td>E</td>\n",
       "      <td>8</td>\n",
       "    </tr>\n",
       "    <tr>\n",
       "      <th>2</th>\n",
       "      <td>SRR3487576</td>\n",
       "      <td>SRX1749576</td>\n",
       "      <td>SAMN04960293</td>\n",
       "      <td>GSM2145839</td>\n",
       "      <td>DRSC15627</td>\n",
       "      <td>FBgn0038742</td>\n",
       "      <td>Arc42</td>\n",
       "      <td>2</td>\n",
       "      <td>2</td>\n",
       "      <td>4</td>\n",
       "      <td>G4</td>\n",
       "      <td>G</td>\n",
       "      <td>4</td>\n",
       "    </tr>\n",
       "    <tr>\n",
       "      <th>3</th>\n",
       "      <td>SRR3487481</td>\n",
       "      <td>SRX1749480</td>\n",
       "      <td>SAMN04960137</td>\n",
       "      <td>GSM2145744</td>\n",
       "      <td>DRSC15627</td>\n",
       "      <td>FBgn0038742</td>\n",
       "      <td>Arc42</td>\n",
       "      <td>2</td>\n",
       "      <td>1</td>\n",
       "      <td>4</td>\n",
       "      <td>G4</td>\n",
       "      <td>G</td>\n",
       "      <td>4</td>\n",
       "    </tr>\n",
       "    <tr>\n",
       "      <th>4</th>\n",
       "      <td>SRR3486819</td>\n",
       "      <td>SRX1748815</td>\n",
       "      <td>SAMN04959150</td>\n",
       "      <td>GSM2145082</td>\n",
       "      <td>DRSC32770</td>\n",
       "      <td>FBgn0011715</td>\n",
       "      <td>Snr1</td>\n",
       "      <td>2</td>\n",
       "      <td>2</td>\n",
       "      <td>10</td>\n",
       "      <td>G7</td>\n",
       "      <td>G</td>\n",
       "      <td>7</td>\n",
       "    </tr>\n",
       "  </tbody>\n",
       "</table>\n",
       "</div>"
      ],
      "text/plain": [
       "   samplename         SRX     BioSample         GEO       drsc  target_FBgn  \\\n",
       "0  SRR3486891  SRX1748887  SAMN04959321  GSM2145154  DRSC07681  FBgn0003396   \n",
       "1  SRR3486986  SRX1748983  SAMN04959673  GSM2145249  DRSC07681  FBgn0003396   \n",
       "2  SRR3487576  SRX1749576  SAMN04960293  GSM2145839  DRSC15627  FBgn0038742   \n",
       "3  SRR3487481  SRX1749480  SAMN04960137  GSM2145744  DRSC15627  FBgn0038742   \n",
       "4  SRR3486819  SRX1748815  SAMN04959150  GSM2145082  DRSC32770  FBgn0011715   \n",
       "\n",
       "  target_symbol  drsc_rep  rep  plate_id well_id plate_row  plate_column  \n",
       "0           shn         2    1         1      E8         E             8  \n",
       "1           shn         2    2         1      E8         E             8  \n",
       "2         Arc42         2    2         4      G4         G             4  \n",
       "3         Arc42         2    1         4      G4         G             4  \n",
       "4          Snr1         2    2        10      G7         G             7  "
      ]
     },
     "execution_count": 4,
     "metadata": {},
     "output_type": "execute_result"
    }
   ],
   "source": [
    "stable.head()"
   ]
  },
  {
   "cell_type": "code",
   "execution_count": 5,
   "metadata": {
    "collapsed": true
   },
   "outputs": [],
   "source": [
    "srrs = stable.samplename.unique().tolist()\n",
    "lacz = stable[stable.target_symbol == 'LacZ'].samplename.unique().tolist()\n",
    "drsc = stable[stable.target_symbol != 'LacZ'].samplename.unique().tolist()"
   ]
  },
  {
   "cell_type": "code",
   "execution_count": 6,
   "metadata": {},
   "outputs": [
    {
     "data": {
      "text/plain": [
       "(1900, 20, 1880)"
      ]
     },
     "execution_count": 6,
     "metadata": {},
     "output_type": "execute_result"
    }
   ],
   "source": [
    "len(srrs), len(lacz), len(drsc)"
   ]
  },
  {
   "cell_type": "code",
   "execution_count": 7,
   "metadata": {
    "collapsed": true
   },
   "outputs": [],
   "source": [
    "dfs = []\n",
    "pattern = '../../rnaseq-wf/data/rnaseq_samples/{srr}/{srr}.cutadapt.bam.drsc.counts'\n",
    "for srr in drsc:\n",
    "    fname = pattern.format(srr=srr)\n",
    "    if os.path.exists(fname):\n",
    "        dfs.append(pd.read_table(fname))\n",
    "\n",
    "df = pd.concat(dfs, ignore_index=True)"
   ]
  },
  {
   "cell_type": "code",
   "execution_count": 8,
   "metadata": {},
   "outputs": [
    {
     "name": "stdout",
     "output_type": "stream",
     "text": [
      "(1880, 9)\n"
     ]
    },
    {
     "data": {
      "text/html": [
       "<div>\n",
       "<style>\n",
       "    .dataframe thead tr:only-child th {\n",
       "        text-align: right;\n",
       "    }\n",
       "\n",
       "    .dataframe thead th {\n",
       "        text-align: left;\n",
       "    }\n",
       "\n",
       "    .dataframe tbody tr th {\n",
       "        vertical-align: top;\n",
       "    }\n",
       "</style>\n",
       "<table border=\"1\" class=\"dataframe\">\n",
       "  <thead>\n",
       "    <tr style=\"text-align: right;\">\n",
       "      <th></th>\n",
       "      <th>srr</th>\n",
       "      <th>drsc</th>\n",
       "      <th>drsc_count</th>\n",
       "      <th>drsc_length</th>\n",
       "      <th>gene</th>\n",
       "      <th>gene_count</th>\n",
       "      <th>gene_length</th>\n",
       "      <th>sub_count</th>\n",
       "      <th>sub_length</th>\n",
       "    </tr>\n",
       "  </thead>\n",
       "  <tbody>\n",
       "    <tr>\n",
       "      <th>0</th>\n",
       "      <td>SRR3486891</td>\n",
       "      <td>DRSC07681</td>\n",
       "      <td>336</td>\n",
       "      <td>513</td>\n",
       "      <td>FBgn0003396</td>\n",
       "      <td>911</td>\n",
       "      <td>10997</td>\n",
       "      <td>593</td>\n",
       "      <td>10484</td>\n",
       "    </tr>\n",
       "    <tr>\n",
       "      <th>1</th>\n",
       "      <td>SRR3486986</td>\n",
       "      <td>DRSC07681</td>\n",
       "      <td>221</td>\n",
       "      <td>513</td>\n",
       "      <td>FBgn0003396</td>\n",
       "      <td>391</td>\n",
       "      <td>10997</td>\n",
       "      <td>170</td>\n",
       "      <td>10484</td>\n",
       "    </tr>\n",
       "    <tr>\n",
       "      <th>2</th>\n",
       "      <td>SRR3487576</td>\n",
       "      <td>DRSC15627</td>\n",
       "      <td>163</td>\n",
       "      <td>141</td>\n",
       "      <td>FBgn0038742</td>\n",
       "      <td>181</td>\n",
       "      <td>1418</td>\n",
       "      <td>20</td>\n",
       "      <td>1277</td>\n",
       "    </tr>\n",
       "    <tr>\n",
       "      <th>3</th>\n",
       "      <td>SRR3487481</td>\n",
       "      <td>DRSC15627</td>\n",
       "      <td>35</td>\n",
       "      <td>141</td>\n",
       "      <td>FBgn0038742</td>\n",
       "      <td>57</td>\n",
       "      <td>1418</td>\n",
       "      <td>24</td>\n",
       "      <td>1277</td>\n",
       "    </tr>\n",
       "    <tr>\n",
       "      <th>4</th>\n",
       "      <td>SRR3486819</td>\n",
       "      <td>DRSC32770</td>\n",
       "      <td>21</td>\n",
       "      <td>158</td>\n",
       "      <td>FBgn0011715</td>\n",
       "      <td>125</td>\n",
       "      <td>1335</td>\n",
       "      <td>110</td>\n",
       "      <td>1177</td>\n",
       "    </tr>\n",
       "  </tbody>\n",
       "</table>\n",
       "</div>"
      ],
      "text/plain": [
       "          srr       drsc  drsc_count  drsc_length         gene  gene_count  \\\n",
       "0  SRR3486891  DRSC07681         336          513  FBgn0003396         911   \n",
       "1  SRR3486986  DRSC07681         221          513  FBgn0003396         391   \n",
       "2  SRR3487576  DRSC15627         163          141  FBgn0038742         181   \n",
       "3  SRR3487481  DRSC15627          35          141  FBgn0038742          57   \n",
       "4  SRR3486819  DRSC32770          21          158  FBgn0011715         125   \n",
       "\n",
       "   gene_length  sub_count  sub_length  \n",
       "0        10997        593       10484  \n",
       "1        10997        170       10484  \n",
       "2         1418         20        1277  \n",
       "3         1418         24        1277  \n",
       "4         1335        110        1177  "
      ]
     },
     "execution_count": 8,
     "metadata": {},
     "output_type": "execute_result"
    }
   ],
   "source": [
    "print(df.shape)\n",
    "df.head()"
   ]
  },
  {
   "cell_type": "code",
   "execution_count": 9,
   "metadata": {
    "code_folding": [
     0
    ],
    "collapsed": true
   },
   "outputs": [],
   "source": [
    "# plotting function\n",
    "import seaborn as sns\n",
    "def make_plot(x, y, xlabel, ylabel, ax):\n",
    "    sns.regplot(x, y, ax=ax, \n",
    "                scatter_kws={\n",
    "                    'color': 'black',\n",
    "                    's': 3,\n",
    "                }, \n",
    "                ci=False, \n",
    "                line_kws={\n",
    "                    'color': 'red',\n",
    "                    'ls': '--',\n",
    "                    'lw': 1,\n",
    "                },\n",
    "               )\n",
    "    ax.set_xlabel(xlabel)\n",
    "    ax.set_ylabel(ylabel)"
   ]
  },
  {
   "cell_type": "code",
   "execution_count": 10,
   "metadata": {
    "code_folding": [
     0
    ],
    "scrolled": true
   },
   "outputs": [
    {
     "data": {
      "image/png": "[encoded data removed]",
      "text/plain": [
       "<matplotlib.figure.Figure at 0x2aab2c48dc88>"
      ]
     },
     "metadata": {},
     "output_type": "display_data"
    }
   ],
   "source": [
    "# Raw counts\n",
    "fig, (ax1, ax2, ax3) = plt.subplots(1, 3, figsize=plt.figaspect(1/3))\n",
    "make_plot(df['drsc_count'], df['gene_count'], 'Counts (DRSC)', 'Counts (Gene)', ax1)\n",
    "make_plot(df['drsc_count'], df['sub_count'], 'Counts (DRSC)', 'Counts (Subtracted Gene)', ax2)\n",
    "make_plot(df['gene_count'], df['sub_count'], 'Counts (Gene)', 'Counts (Subtracted Gene)', ax3)\n",
    "plt.suptitle('DRSC Reagent Count Bias')\n",
    "plt.tight_layout(rect=[0, 0, 1, .95])"
   ]
  },
  {
   "cell_type": "code",
   "execution_count": 11,
   "metadata": {
    "code_folding": [
     0
    ]
   },
   "outputs": [
    {
     "data": {
      "image/png": "[encoded data removed]",
      "text/plain": [
       "<matplotlib.figure.Figure at 0x2aab30252d30>"
      ]
     },
     "metadata": {},
     "output_type": "display_data"
    }
   ],
   "source": [
    "# Length normalized counts\n",
    "drsc_rpb = df.drsc_count / df.drsc_length\n",
    "sub_rpb = df.sub_count / df.sub_length\n",
    "gene_rpb = df.gene_count / df.gene_length\n",
    "\n",
    "fig, (ax1, ax2, ax3) = plt.subplots(1, 3, figsize=plt.figaspect(1/3))\n",
    "    \n",
    "make_plot(drsc_rpb, gene_rpb, 'Reads Per Base (DRSC)', 'Reads Per Base (Gene)', ax1)\n",
    "make_plot(drsc_rpb, sub_rpb, 'Reads Per Base (DRSC)', 'Reads Per Base (Subtracted Gene)', ax2)\n",
    "make_plot(gene_rpb, sub_rpb, 'Reads Per Base (Gene)', 'Reads Per Base (Subtracted Gene)', ax3)\n",
    "plt.suptitle('DRSC Length Corrected Reagent Counts (n={:,})'.format(len(drsc)))\n",
    "plt.tight_layout(rect=[0, 0, 1, .95])"
   ]
  },
  {
   "cell_type": "code",
   "execution_count": null,
   "metadata": {
    "collapsed": true
   },
   "outputs": [],
   "source": []
  },
  {
   "cell_type": "code",
   "execution_count": null,
   "metadata": {
    "collapsed": true
   },
   "outputs": [],
   "source": []
  },
  {
   "cell_type": "code",
   "execution_count": null,
   "metadata": {
    "collapsed": true
   },
   "outputs": [],
   "source": []
  },
  {
   "cell_type": "code",
   "execution_count": null,
   "metadata": {
    "collapsed": true
   },
   "outputs": [],
   "source": []
  },
  {
   "cell_type": "code",
   "execution_count": null,
   "metadata": {
    "collapsed": true
   },
   "outputs": [],
   "source": []
  },
  {
   "cell_type": "code",
   "execution_count": null,
   "metadata": {
    "collapsed": true
   },
   "outputs": [],
   "source": []
  },
  {
   "cell_type": "code",
   "execution_count": null,
   "metadata": {
    "collapsed": true
   },
   "outputs": [],
   "source": []
  },
  {
   "cell_type": "code",
   "execution_count": null,
   "metadata": {
    "collapsed": true
   },
   "outputs": [],
   "source": []
  },
  {
   "cell_type": "code",
   "execution_count": null,
   "metadata": {
    "collapsed": true
   },
   "outputs": [],
   "source": []
  }
 ],
 "metadata": {
  "kernelspec": {
   "display_name": "Python [conda env:s2rnai]",
   "language": "python",
   "name": "conda-env-s2rnai-py"
  },
  "language_info": {
   "codemirror_mode": {
    "name": "ipython",
    "version": 3
   },
   "file_extension": ".py",
   "mimetype": "text/x-python",
   "name": "python",
   "nbconvert_exporter": "python",
   "pygments_lexer": "ipython3",
   "version": "3.5.2"
  },
  "toc": {
   "nav_menu": {},
   "number_sections": true,
   "sideBar": true,
   "skip_h1_title": false,
   "toc_cell": false,
   "toc_position": {},
   "toc_section_display": "block",
   "toc_window_display": false
  }
 },
 "nbformat": 4,
 "nbformat_minor": 2
}
