{
 "cells": [
  {
   "cell_type": "markdown",
   "metadata": {},
   "source": [
    "This notebook summarizes the counts for target gene and DRSC regions."
   ]
  },
  {
   "cell_type": "code",
   "execution_count": 2,
   "metadata": {
    "code_folding": [
     0
    ]
   },
   "outputs": [
    {
     "name": "stdout",
     "output_type": "stream",
     "text": [
      "last updated: 2017-09-22 \n",
      "\n",
      "CPython 3.5.2\n",
      "IPython 6.1.0\n",
      "Git hash: b31c213e0fbaedf9092be694730dd537cd996a08\n"
     ]
    }
   ],
   "source": [
    "# %load ../start.py\n",
    "# Load useful extensions\n",
    "import os\n",
    "import sys\n",
    "\n",
    "# Activate the autoreload extension for easy reloading of external packages\n",
    "%reload_ext autoreload\n",
    "%autoreload 1\n",
    "\n",
    "# Set up cashdir\n",
    "from ipycache import CacheMagics\n",
    "CacheMagics.cachedir = '../cachedir'\n",
    "\n",
    "# Trun on the water mark\n",
    "%reload_ext watermark\n",
    "%watermark -u -d -v -g\n",
    "\n",
    "# Load ipycache extension\n",
    "%reload_ext ipycache\n",
    "from ipycache import CacheMagics\n",
    "CacheMagics.cachedir = '../cachedir'\n",
    "\n",
    "# Add project library to path\n",
    "sys.path.insert(0, '../../lcdb-wf/lib')\n",
    "sys.path.insert(0, '../../lib/python')\n",
    "\n",
    "# Set up references\n",
    "import yaml\n",
    "with open('../../config/config.yml') as fh:\n",
    "    config = yaml.load(fh)\n",
    "\n",
    "assembly = config['assembly']\n",
    "tag = config['aligner']['tag']\n",
    "REF = os.path.join(os.environ['REFERENCES_DIR'], assembly, tag)\n",
    "\n",
    "%matplotlib inline"
   ]
  },
  {
   "cell_type": "code",
   "execution_count": 8,
   "metadata": {
    "code_folding": [],
    "collapsed": true
   },
   "outputs": [],
   "source": [
    "# imports\n",
    "import matplotlib as mpl\n",
    "import matplotlib.pyplot as plt\n",
    "import pandas as pd\n",
    "import seaborn as sns"
   ]
  },
  {
   "cell_type": "code",
   "execution_count": 4,
   "metadata": {},
   "outputs": [
    {
     "data": {
      "text/plain": [
       "(1900, 20, 1880)"
      ]
     },
     "execution_count": 4,
     "metadata": {},
     "output_type": "execute_result"
    }
   ],
   "source": [
    "# get sample metadata\n",
    "stable = pd.read_csv('../../config/sampletable.tsv', sep='\\t')\n",
    "srrs = stable.samplename.unique().tolist()\n",
    "lacz = stable[stable.target_symbol == 'LacZ'].samplename.unique().tolist()\n",
    "drsc = stable[stable.target_symbol != 'LacZ'].samplename.unique().tolist()\n",
    "\n",
    "len(srrs), len(lacz), len(drsc)"
   ]
  },
  {
   "cell_type": "code",
   "execution_count": 7,
   "metadata": {},
   "outputs": [
    {
     "name": "stdout",
     "output_type": "stream",
     "text": [
      "(1880, 9)\n"
     ]
    },
    {
     "data": {
      "text/html": [
       "<div>\n",
       "<style>\n",
       "    .dataframe thead tr:only-child th {\n",
       "        text-align: right;\n",
       "    }\n",
       "\n",
       "    .dataframe thead th {\n",
       "        text-align: left;\n",
       "    }\n",
       "\n",
       "    .dataframe tbody tr th {\n",
       "        vertical-align: top;\n",
       "    }\n",
       "</style>\n",
       "<table border=\"1\" class=\"dataframe\">\n",
       "  <thead>\n",
       "    <tr style=\"text-align: right;\">\n",
       "      <th></th>\n",
       "      <th>srr</th>\n",
       "      <th>drsc</th>\n",
       "      <th>drsc_count</th>\n",
       "      <th>drsc_length</th>\n",
       "      <th>gene</th>\n",
       "      <th>gene_count</th>\n",
       "      <th>gene_length</th>\n",
       "      <th>sub_count</th>\n",
       "      <th>sub_length</th>\n",
       "    </tr>\n",
       "  </thead>\n",
       "  <tbody>\n",
       "    <tr>\n",
       "      <th>0</th>\n",
       "      <td>SRR3486891</td>\n",
       "      <td>DRSC07681</td>\n",
       "      <td>336</td>\n",
       "      <td>513</td>\n",
       "      <td>FBgn0003396</td>\n",
       "      <td>911</td>\n",
       "      <td>10997</td>\n",
       "      <td>593</td>\n",
       "      <td>10484</td>\n",
       "    </tr>\n",
       "    <tr>\n",
       "      <th>1</th>\n",
       "      <td>SRR3486986</td>\n",
       "      <td>DRSC07681</td>\n",
       "      <td>221</td>\n",
       "      <td>513</td>\n",
       "      <td>FBgn0003396</td>\n",
       "      <td>391</td>\n",
       "      <td>10997</td>\n",
       "      <td>170</td>\n",
       "      <td>10484</td>\n",
       "    </tr>\n",
       "    <tr>\n",
       "      <th>2</th>\n",
       "      <td>SRR3487576</td>\n",
       "      <td>DRSC15627</td>\n",
       "      <td>163</td>\n",
       "      <td>141</td>\n",
       "      <td>FBgn0038742</td>\n",
       "      <td>181</td>\n",
       "      <td>1418</td>\n",
       "      <td>20</td>\n",
       "      <td>1277</td>\n",
       "    </tr>\n",
       "    <tr>\n",
       "      <th>3</th>\n",
       "      <td>SRR3487481</td>\n",
       "      <td>DRSC15627</td>\n",
       "      <td>35</td>\n",
       "      <td>141</td>\n",
       "      <td>FBgn0038742</td>\n",
       "      <td>57</td>\n",
       "      <td>1418</td>\n",
       "      <td>24</td>\n",
       "      <td>1277</td>\n",
       "    </tr>\n",
       "    <tr>\n",
       "      <th>4</th>\n",
       "      <td>SRR3486819</td>\n",
       "      <td>DRSC32770</td>\n",
       "      <td>21</td>\n",
       "      <td>158</td>\n",
       "      <td>FBgn0011715</td>\n",
       "      <td>125</td>\n",
       "      <td>1335</td>\n",
       "      <td>110</td>\n",
       "      <td>1177</td>\n",
       "    </tr>\n",
       "  </tbody>\n",
       "</table>\n",
       "</div>"
      ],
      "text/plain": [
       "          srr       drsc  drsc_count  drsc_length         gene  gene_count  \\\n",
       "0  SRR3486891  DRSC07681         336          513  FBgn0003396         911   \n",
       "1  SRR3486986  DRSC07681         221          513  FBgn0003396         391   \n",
       "2  SRR3487576  DRSC15627         163          141  FBgn0038742         181   \n",
       "3  SRR3487481  DRSC15627          35          141  FBgn0038742          57   \n",
       "4  SRR3486819  DRSC32770          21          158  FBgn0011715         125   \n",
       "\n",
       "   gene_length  sub_count  sub_length  \n",
       "0        10997        593       10484  \n",
       "1        10997        170       10484  \n",
       "2         1418         20        1277  \n",
       "3         1418         24        1277  \n",
       "4         1335        110        1177  "
      ]
     },
     "execution_count": 7,
     "metadata": {},
     "output_type": "execute_result"
    }
   ],
   "source": [
    "# imports drsc adjusted counts tables\n",
    "dfs = []\n",
    "pattern = '../../rnaseq-wf/data/rnaseq_samples/{srr}/{srr}.cutadapt.bam.drsc.counts'\n",
    "for srr in drsc:\n",
    "    fname = pattern.format(srr=srr)\n",
    "    if os.path.exists(fname):\n",
    "        dfs.append(pd.read_table(fname))\n",
    "\n",
    "df = pd.concat(dfs, ignore_index=True)\n",
    "\n",
    "print(df.shape)\n",
    "df.head()"
   ]
  },
  {
   "cell_type": "code",
   "execution_count": 49,
   "metadata": {
    "code_folding": [],
    "collapsed": true
   },
   "outputs": [],
   "source": [
    "# plotting function\n",
    "def make_plot(x, y, xlabel, ylabel, ax):\n",
    "    ax.scatter(x, y, color='k', s=3)\n",
    "    ax.plot([0, 1], [0, 1], transform=ax.transAxes, ls='--', c='g')\n",
    "    ax.set_xlabel(xlabel)\n",
    "    ax.set_ylabel(ylabel)\n",
    "    axmin = min(ax.get_xlim()[0], ax.get_ylim()[0])\n",
    "    axmax = min(ax.get_xlim()[1], ax.get_ylim()[1])\n",
    "    ax.set_xlim(axmin, axmax)\n",
    "    ax.set_ylim(axmin, axmax)"
   ]
  },
  {
   "cell_type": "markdown",
   "metadata": {},
   "source": [
    "# Raw Counts"
   ]
  },
  {
   "cell_type": "code",
   "execution_count": 52,
   "metadata": {
    "code_folding": [],
    "scrolled": true
   },
   "outputs": [
    {
     "data": {
      "image/png": "[encoded data removed]",
      "text/plain": [
       "<matplotlib.figure.Figure at 0x2aab2c803400>"
      ]
     },
     "metadata": {},
     "output_type": "display_data"
    }
   ],
   "source": [
    "# Plot Raw counts\n",
    "fig, (ax1, ax2, ax3) = plt.subplots(1, 3, figsize=plt.figaspect(1/3))\n",
    "make_plot(df['drsc_count'], df['gene_count'], 'Counts (DRSC)', 'Counts (Gene)', ax1)\n",
    "make_plot(df['drsc_count'], df['sub_count'], 'Counts (DRSC)', 'Counts (Subtracted Gene)', ax2)\n",
    "make_plot(df['gene_count'], df['sub_count'], 'Counts (Gene)', 'Counts (Subtracted Gene)', ax3)\n",
    "plt.suptitle('DRSC Reagent Count Bias')\n",
    "plt.tight_layout(rect=[0, 0, 1, .95])"
   ]
  },
  {
   "cell_type": "code",
   "execution_count": 53,
   "metadata": {
    "collapsed": true
   },
   "outputs": [],
   "source": []
  },
  {
   "cell_type": "code",
   "execution_count": 58,
   "metadata": {
    "code_folding": [],
    "scrolled": false
   },
   "outputs": [
    {
     "data": {
      "image/png": "[encoded data removed]",
      "text/plain": [
       "<matplotlib.figure.Figure at 0x2aab2c9b97f0>"
      ]
     },
     "metadata": {},
     "output_type": "display_data"
    }
   ],
   "source": [
    "# Plot Raw counts\n",
    "fig, (ax1, ax2) = plt.subplots(1, 2, figsize=plt.figaspect(1/2))\n",
    "make_plot(df['drsc_count'], df['gene_count'], 'Counts (DRSC)', 'Counts (Gene)', ax1)\n",
    "make_plot(df['drsc_count'], df['sub_count'], 'Counts (DRSC)', 'Counts (Subtracted Gene)', ax2)\n",
    "\n",
    "mask1 = df['drsc_count'] > df['gene_count']\n",
    "ax1.scatter(df.loc[mask1, 'drsc_count'], df.loc[mask1, 'gene_count'], s=2, c='r')\n",
    "\n",
    "mask2 = df['drsc_count'] > df['sub_count']\n",
    "ax2.scatter(df.loc[mask2, 'drsc_count'], df.loc[mask2, 'sub_count'], s=2, c='r')\n",
    "plt.tight_layout()"
   ]
  },
  {
   "cell_type": "code",
   "execution_count": 90,
   "metadata": {},
   "outputs": [],
   "source": [
    "grp = df[mask1].groupby('drsc')\n",
    "highly_biased = grp['drsc'].count().to_frame().sort_values(by='drsc')\n",
    "highly_biased.columns = ['num_highly_biased']"
   ]
  },
  {
   "cell_type": "code",
   "execution_count": 91,
   "metadata": {
    "collapsed": true
   },
   "outputs": [],
   "source": [
    "grp = df[mask2].groupby('drsc')\n",
    "lower_biased = grp['drsc'].count().to_frame().sort_values(by='drsc')\n",
    "lower_biased.columns = ['num_lower_biased']"
   ]
  },
  {
   "cell_type": "code",
   "execution_count": 120,
   "metadata": {},
   "outputs": [],
   "source": [
    "all_drsc = df[['drsc', 'gene']].copy().drop_duplicates()\n",
    "all_drsc.set_index('drsc', inplace=True)"
   ]
  },
  {
   "cell_type": "code",
   "execution_count": 125,
   "metadata": {},
   "outputs": [],
   "source": [
    "mbias = all_drsc.join([highly_biased, lower_biased], how='left')\n",
    "mbias.fillna(0, inplace=True)"
   ]
  },
  {
   "cell_type": "code",
   "execution_count": 128,
   "metadata": {},
   "outputs": [
    {
     "data": {
      "text/html": [
       "<div>\n",
       "<style>\n",
       "    .dataframe thead tr:only-child th {\n",
       "        text-align: right;\n",
       "    }\n",
       "\n",
       "    .dataframe thead th {\n",
       "        text-align: left;\n",
       "    }\n",
       "\n",
       "    .dataframe tbody tr th {\n",
       "        vertical-align: top;\n",
       "    }\n",
       "</style>\n",
       "<table border=\"1\" class=\"dataframe\">\n",
       "  <thead>\n",
       "    <tr style=\"text-align: right;\">\n",
       "      <th>num_lower_biased</th>\n",
       "      <th>0</th>\n",
       "      <th>1</th>\n",
       "      <th>2</th>\n",
       "    </tr>\n",
       "    <tr>\n",
       "      <th>num_highly_biased</th>\n",
       "      <th></th>\n",
       "      <th></th>\n",
       "      <th></th>\n",
       "    </tr>\n",
       "  </thead>\n",
       "  <tbody>\n",
       "    <tr>\n",
       "      <th>0</th>\n",
       "      <td>251</td>\n",
       "      <td>120</td>\n",
       "      <td>533</td>\n",
       "    </tr>\n",
       "    <tr>\n",
       "      <th>1</th>\n",
       "      <td>0</td>\n",
       "      <td>3</td>\n",
       "      <td>15</td>\n",
       "    </tr>\n",
       "    <tr>\n",
       "      <th>2</th>\n",
       "      <td>0</td>\n",
       "      <td>0</td>\n",
       "      <td>18</td>\n",
       "    </tr>\n",
       "  </tbody>\n",
       "</table>\n",
       "</div>"
      ],
      "text/plain": [
       "num_lower_biased     0    1    2\n",
       "num_highly_biased               \n",
       "0                  251  120  533\n",
       "1                    0    3   15\n",
       "2                    0    0   18"
      ]
     },
     "execution_count": 128,
     "metadata": {},
     "output_type": "execute_result"
    }
   ],
   "source": [
    "pd.crosstab(mbias.num_highly_biased.astype(int), mbias.num_lower_biased.astype(int))"
   ]
  },
  {
   "cell_type": "code",
   "execution_count": 94,
   "metadata": {
    "collapsed": true
   },
   "outputs": [],
   "source": [
    "mbias.fillna(0, inplace=True)"
   ]
  },
  {
   "cell_type": "code",
   "execution_count": 98,
   "metadata": {},
   "outputs": [],
   "source": [
    "mbias = mbias.astype(int)"
   ]
  },
  {
   "cell_type": "code",
   "execution_count": 100,
   "metadata": {},
   "outputs": [
    {
     "data": {
      "text/html": [
       "<div>\n",
       "<style>\n",
       "    .dataframe thead tr:only-child th {\n",
       "        text-align: right;\n",
       "    }\n",
       "\n",
       "    .dataframe thead th {\n",
       "        text-align: left;\n",
       "    }\n",
       "\n",
       "    .dataframe tbody tr th {\n",
       "        vertical-align: top;\n",
       "    }\n",
       "</style>\n",
       "<table border=\"1\" class=\"dataframe\">\n",
       "  <thead>\n",
       "    <tr style=\"text-align: right;\">\n",
       "      <th></th>\n",
       "      <th>num_highly_biased</th>\n",
       "      <th>num_lower_biased</th>\n",
       "    </tr>\n",
       "    <tr>\n",
       "      <th>drsc</th>\n",
       "      <th></th>\n",
       "      <th></th>\n",
       "    </tr>\n",
       "  </thead>\n",
       "  <tbody>\n",
       "    <tr>\n",
       "      <th>DRSC00309</th>\n",
       "      <td>0</td>\n",
       "      <td>2</td>\n",
       "    </tr>\n",
       "    <tr>\n",
       "      <th>DRSC00324</th>\n",
       "      <td>0</td>\n",
       "      <td>2</td>\n",
       "    </tr>\n",
       "    <tr>\n",
       "      <th>DRSC00451</th>\n",
       "      <td>0</td>\n",
       "      <td>2</td>\n",
       "    </tr>\n",
       "    <tr>\n",
       "      <th>DRSC00467</th>\n",
       "      <td>1</td>\n",
       "      <td>1</td>\n",
       "    </tr>\n",
       "    <tr>\n",
       "      <th>DRSC00471</th>\n",
       "      <td>0</td>\n",
       "      <td>2</td>\n",
       "    </tr>\n",
       "  </tbody>\n",
       "</table>\n",
       "</div>"
      ],
      "text/plain": [
       "           num_highly_biased  num_lower_biased\n",
       "drsc                                          \n",
       "DRSC00309                  0                 2\n",
       "DRSC00324                  0                 2\n",
       "DRSC00451                  0                 2\n",
       "DRSC00467                  1                 1\n",
       "DRSC00471                  0                 2"
      ]
     },
     "execution_count": 100,
     "metadata": {},
     "output_type": "execute_result"
    }
   ],
   "source": [
    "mbias.head()"
   ]
  },
  {
   "cell_type": "code",
   "execution_count": 141,
   "metadata": {},
   "outputs": [],
   "source": [
    "ct = pd.crosstab(mbias.num_highly_biased, mbias.num_lower_biased)"
   ]
  },
  {
   "cell_type": "code",
   "execution_count": 160,
   "metadata": {},
   "outputs": [
    {
     "data": {
      "text/html": [
       "<div>\n",
       "<style>\n",
       "    .dataframe thead tr:only-child th {\n",
       "        text-align: right;\n",
       "    }\n",
       "\n",
       "    .dataframe thead th {\n",
       "        text-align: left;\n",
       "    }\n",
       "\n",
       "    .dataframe tbody tr th {\n",
       "        vertical-align: top;\n",
       "    }\n",
       "</style>\n",
       "<table border=\"1\" class=\"dataframe\">\n",
       "  <thead>\n",
       "    <tr style=\"text-align: right;\">\n",
       "      <th>num_lower_biased</th>\n",
       "      <th>0.0</th>\n",
       "      <th>1.0</th>\n",
       "      <th>2.0</th>\n",
       "    </tr>\n",
       "    <tr>\n",
       "      <th>num_highly_biased</th>\n",
       "      <th></th>\n",
       "      <th></th>\n",
       "      <th></th>\n",
       "    </tr>\n",
       "  </thead>\n",
       "  <tbody>\n",
       "    <tr>\n",
       "      <th>0.0</th>\n",
       "      <td>251</td>\n",
       "      <td>120</td>\n",
       "      <td>533</td>\n",
       "    </tr>\n",
       "    <tr>\n",
       "      <th>1.0</th>\n",
       "      <td>0</td>\n",
       "      <td>3</td>\n",
       "      <td>15</td>\n",
       "    </tr>\n",
       "    <tr>\n",
       "      <th>2.0</th>\n",
       "      <td>0</td>\n",
       "      <td>0</td>\n",
       "      <td>18</td>\n",
       "    </tr>\n",
       "  </tbody>\n",
       "</table>\n",
       "</div>"
      ],
      "text/plain": [
       "num_lower_biased   0.0  1.0  2.0\n",
       "num_highly_biased               \n",
       "0.0                251  120  533\n",
       "1.0                  0    3   15\n",
       "2.0                  0    0   18"
      ]
     },
     "execution_count": 160,
     "metadata": {},
     "output_type": "execute_result"
    }
   ],
   "source": [
    "ct"
   ]
  },
  {
   "cell_type": "code",
   "execution_count": null,
   "metadata": {
    "collapsed": true
   },
   "outputs": [],
   "source": []
  },
  {
   "cell_type": "code",
   "execution_count": 130,
   "metadata": {
    "code_folding": []
   },
   "outputs": [
    {
     "data": {
      "image/png": "[encoded data removed]",
      "text/plain": [
       "<matplotlib.figure.Figure at 0x2aab2c3ae3c8>"
      ]
     },
     "metadata": {},
     "output_type": "display_data"
    }
   ],
   "source": [
    "# Length normalized counts\n",
    "drsc_rpb = df.drsc_count / df.drsc_length\n",
    "sub_rpb = df.sub_count / df.sub_length\n",
    "gene_rpb = df.gene_count / df.gene_length\n",
    "\n",
    "fig, (ax1, ax2, ax3) = plt.subplots(1, 3, figsize=plt.figaspect(1/3), sharex=True, sharey=True)\n",
    "    \n",
    "make_plot(drsc_rpb, gene_rpb, 'Reads Per Base (DRSC)', 'Reads Per Base (Gene)', ax1)\n",
    "make_plot(drsc_rpb, sub_rpb, 'Reads Per Base (DRSC)', 'Reads Per Base (Subtracted Gene)', ax2)\n",
    "make_plot(gene_rpb, sub_rpb, 'Reads Per Base (Gene)', 'Reads Per Base (Subtracted Gene)', ax3)\n",
    "plt.suptitle('DRSC Length Corrected Reagent Counts (n={:,})'.format(len(drsc)))\n",
    "plt.tight_layout(rect=[0, 0, 1, .95])"
   ]
  },
  {
   "cell_type": "code",
   "execution_count": null,
   "metadata": {
    "collapsed": true
   },
   "outputs": [],
   "source": []
  },
  {
   "cell_type": "code",
   "execution_count": null,
   "metadata": {
    "collapsed": true
   },
   "outputs": [],
   "source": []
  },
  {
   "cell_type": "code",
   "execution_count": null,
   "metadata": {
    "collapsed": true
   },
   "outputs": [],
   "source": []
  },
  {
   "cell_type": "code",
   "execution_count": null,
   "metadata": {
    "collapsed": true
   },
   "outputs": [],
   "source": []
  },
  {
   "cell_type": "code",
   "execution_count": null,
   "metadata": {
    "collapsed": true
   },
   "outputs": [],
   "source": []
  },
  {
   "cell_type": "code",
   "execution_count": null,
   "metadata": {
    "collapsed": true
   },
   "outputs": [],
   "source": []
  },
  {
   "cell_type": "code",
   "execution_count": null,
   "metadata": {
    "collapsed": true
   },
   "outputs": [],
   "source": []
  },
  {
   "cell_type": "code",
   "execution_count": null,
   "metadata": {
    "collapsed": true
   },
   "outputs": [],
   "source": []
  },
  {
   "cell_type": "code",
   "execution_count": null,
   "metadata": {
    "collapsed": true
   },
   "outputs": [],
   "source": []
  }
 ],
 "metadata": {
  "kernelspec": {
   "display_name": "Python [conda env:s2rnai]",
   "language": "python",
   "name": "conda-env-s2rnai-py"
  },
  "language_info": {
   "codemirror_mode": {
    "name": "ipython",
    "version": 3
   },
   "file_extension": ".py",
   "mimetype": "text/x-python",
   "name": "python",
   "nbconvert_exporter": "python",
   "pygments_lexer": "ipython3",
   "version": "3.5.2"
  },
  "toc": {
   "nav_menu": {},
   "number_sections": false,
   "sideBar": true,
   "skip_h1_title": false,
   "toc_cell": false,
   "toc_position": {},
   "toc_section_display": "block",
   "toc_window_display": false
  }
 },
 "nbformat": 4,
 "nbformat_minor": 2
}
