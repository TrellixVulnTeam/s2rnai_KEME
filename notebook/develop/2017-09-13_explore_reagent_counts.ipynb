{
 "cells": [
  {
   "cell_type": "markdown",
   "metadata": {
    "collapsed": true
   },
   "source": [
    "Exploring the how reagent contribute to gene counts. "
   ]
  },
  {
   "cell_type": "code",
   "execution_count": 1,
   "metadata": {
    "code_folding": []
   },
   "outputs": [
    {
     "name": "stdout",
     "output_type": "stream",
     "text": [
      "last updated: 2017-09-13 \n",
      "\n",
      "CPython 3.5.2\n",
      "IPython 6.1.0\n",
      "Git hash: f20b1ea9e0a95e9c9bcb262ed1f1b5b5e6ae8b02\n"
     ]
    }
   ],
   "source": [
    "# %load ../start.py\n",
    "# Load useful extensions\n",
    "import os\n",
    "import sys\n",
    "\n",
    "# Activate the autoreload extension for easy reloading of external packages\n",
    "%reload_ext autoreload\n",
    "%autoreload 1\n",
    "\n",
    "# Set up cashdir\n",
    "from ipycache import CacheMagics\n",
    "CacheMagics.cachedir = '../cachedir'\n",
    "\n",
    "# Trun on the water mark\n",
    "%reload_ext watermark\n",
    "%watermark -u -d -v -g\n",
    "\n",
    "# Load ipycache extension\n",
    "%reload_ext ipycache\n",
    "from ipycache import CacheMagics\n",
    "CacheMagics.cachedir = '../cachedir'\n",
    "\n",
    "# Add project library to path\n",
    "sys.path.insert(0, '../../lcdb-wf/lib')\n",
    "sys.path.insert(0, '../../lib/python')\n",
    "\n",
    "# Set up references\n",
    "import yaml\n",
    "with open('../../config/config.yml') as fh:\n",
    "    config = yaml.load(fh)\n",
    "\n",
    "assembly = config['assembly']\n",
    "tag = config['aligner']['tag']\n",
    "REF = os.path.join(os.environ['REFERENCES_DIR'], assembly, tag)\n"
   ]
  },
  {
   "cell_type": "code",
   "execution_count": null,
   "metadata": {
    "collapsed": true
   },
   "outputs": [],
   "source": []
  },
  {
   "cell_type": "code",
   "execution_count": 2,
   "metadata": {
    "collapsed": true
   },
   "outputs": [],
   "source": [
    "# imports\n",
    "import collections\n",
    "import pandas as pd\n",
    "import pybedtools\n",
    "import HTSeq\n",
    "import yaml"
   ]
  },
  {
   "cell_type": "code",
   "execution_count": 3,
   "metadata": {
    "code_folding": []
   },
   "outputs": [
    {
     "data": {
      "text/html": [
       "<div>\n",
       "<style>\n",
       "    .dataframe thead tr:only-child th {\n",
       "        text-align: right;\n",
       "    }\n",
       "\n",
       "    .dataframe thead th {\n",
       "        text-align: left;\n",
       "    }\n",
       "\n",
       "    .dataframe tbody tr th {\n",
       "        vertical-align: top;\n",
       "    }\n",
       "</style>\n",
       "<table border=\"1\" class=\"dataframe\">\n",
       "  <thead>\n",
       "    <tr style=\"text-align: right;\">\n",
       "      <th></th>\n",
       "      <th>samplename</th>\n",
       "      <th>SRX</th>\n",
       "      <th>BioSample</th>\n",
       "      <th>GEO</th>\n",
       "      <th>drsc</th>\n",
       "      <th>target_FBgn</th>\n",
       "      <th>target_symbol</th>\n",
       "      <th>drsc_rep</th>\n",
       "      <th>rep</th>\n",
       "      <th>plate_id</th>\n",
       "      <th>well_id</th>\n",
       "      <th>plate_row</th>\n",
       "      <th>plate_column</th>\n",
       "    </tr>\n",
       "  </thead>\n",
       "  <tbody>\n",
       "    <tr>\n",
       "      <th>948</th>\n",
       "      <td>SRR3486828</td>\n",
       "      <td>SRX1748824</td>\n",
       "      <td>SAMN04959159</td>\n",
       "      <td>GSM2145091</td>\n",
       "      <td>DRSC30750</td>\n",
       "      <td>FBgn0284249</td>\n",
       "      <td>Adf1</td>\n",
       "      <td>1</td>\n",
       "      <td>2</td>\n",
       "      <td>10</td>\n",
       "      <td>H4</td>\n",
       "      <td>H</td>\n",
       "      <td>4</td>\n",
       "    </tr>\n",
       "  </tbody>\n",
       "</table>\n",
       "</div>"
      ],
      "text/plain": [
       "     samplename         SRX     BioSample         GEO       drsc  target_FBgn  \\\n",
       "948  SRR3486828  SRX1748824  SAMN04959159  GSM2145091  DRSC30750  FBgn0284249   \n",
       "\n",
       "    target_symbol  drsc_rep  rep  plate_id well_id plate_row  plate_column  \n",
       "948          Adf1         1    2        10      H4         H             4  "
      ]
     },
     "execution_count": 3,
     "metadata": {},
     "output_type": "execute_result"
    }
   ],
   "source": [
    "# import sample table\n",
    "with open('../../config/config.yml') as fh:\n",
    "    config = yaml.load(fh)\n",
    "    \n",
    "srr = 'SRR3486828'\n",
    "stable = pd.read_table('../../config/sampletable.tsv')\n",
    "mask = stable.samplename == srr\n",
    "drsc = stable[mask].drsc.iloc[0]\n",
    "fbgn = stable[mask].target_FBgn.iloc[0]\n",
    "\n",
    "stable[mask]"
   ]
  },
  {
   "cell_type": "code",
   "execution_count": 4,
   "metadata": {},
   "outputs": [
    {
     "data": {
      "text/plain": [
       "('DRSC30750', 'FBgn0284249')"
      ]
     },
     "execution_count": 4,
     "metadata": {},
     "output_type": "execute_result"
    }
   ],
   "source": [
    "drsc, fbgn"
   ]
  },
  {
   "cell_type": "code",
   "execution_count": 5,
   "metadata": {
    "collapsed": true
   },
   "outputs": [],
   "source": [
    "sys.path.insert(0, '../../bin')"
   ]
  },
  {
   "cell_type": "code",
   "execution_count": 6,
   "metadata": {
    "collapsed": true
   },
   "outputs": [],
   "source": [
    "from drsc_adjust_count import *"
   ]
  },
  {
   "cell_type": "code",
   "execution_count": 7,
   "metadata": {
    "collapsed": true
   },
   "outputs": [],
   "source": [
    "drsc_bed = get_drsc_bed('../../output/drsc_coordinates.bed', drsc)"
   ]
  },
  {
   "cell_type": "code",
   "execution_count": 8,
   "metadata": {
    "collapsed": true
   },
   "outputs": [],
   "source": [
    "gene_bed = filter_gtf(config, fbgn)"
   ]
  },
  {
   "cell_type": "code",
   "execution_count": 9,
   "metadata": {
    "collapsed": true
   },
   "outputs": [],
   "source": [
    "gene_sub = gene_bed.subtract(drsc_bed)"
   ]
  },
  {
   "cell_type": "code",
   "execution_count": null,
   "metadata": {
    "collapsed": true
   },
   "outputs": [],
   "source": []
  },
  {
   "cell_type": "code",
   "execution_count": 13,
   "metadata": {
    "collapsed": true
   },
   "outputs": [],
   "source": [
    "gene_interval = build_interval_from_file(gene_bed.fn)"
   ]
  },
  {
   "cell_type": "code",
   "execution_count": 15,
   "metadata": {
    "collapsed": true
   },
   "outputs": [],
   "source": [
    "gene_sub_interval = build_interval_from_file(gene_sub.fn)"
   ]
  },
  {
   "cell_type": "code",
   "execution_count": 16,
   "metadata": {
    "collapsed": true
   },
   "outputs": [],
   "source": [
    "drsc_interval = build_interval_from_list(drsc_bed)"
   ]
  },
  {
   "cell_type": "code",
   "execution_count": 20,
   "metadata": {
    "collapsed": true
   },
   "outputs": [],
   "source": [
    "bam = os.path.join(\n",
    "    '../../rnaseq-wf/data/rnaseq_samples/{srr}/{srr}.cutadapt.bam'.format(srr=srr)\n",
    ")\n",
    "counts, reads = count_algn(gene_interval, gene_sub_interval, drsc_interval, bam)"
   ]
  },
  {
   "cell_type": "code",
   "execution_count": 21,
   "metadata": {},
   "outputs": [
    {
     "data": {
      "text/plain": [
       "{'drsc_count': 178, 'gene_count': 460, 'sub_count': 296}"
      ]
     },
     "execution_count": 21,
     "metadata": {},
     "output_type": "execute_result"
    }
   ],
   "source": [
    "counts"
   ]
  },
  {
   "cell_type": "code",
   "execution_count": 22,
   "metadata": {},
   "outputs": [
    {
     "data": {
      "text/plain": [
       "['>SRR3486828.7924951\\n                GCTCTGTTTGTTTTTATTTTGATTGGTTTCTGCTACGAGGAAGGAACGTCG\\n                +\\n                CCCFFDDEHHFFBCEHBDB@EHHIGIHGHIG*?CFDD0?@HGE;?BFG8BB',\n",
       " '>SRR3486828.1004772\\n                GCACGCTCTGTTTGTTTTTATTTTGATTGGTTTCTTCTACGAGGAA\\n                +\\n                @;@DB@D?FDFHAHGBACG@@CHHA8AEC@B=?CF<@FG0?:@66B',\n",
       " '>SRR3486828.4484954\\n                GCTGTTAAGTATTTGGCGCGAACGCACGCTCTGTTTGTTTTTATTTTGATT\\n                +\\n                ?@;DADDDHDFDFIIIIBEGIIIIIEIBGGDHIGGIIGHIGGCEEHI@;CE',\n",
       " '>SRR3486828.6215833\\n                GTTGTTAAGTATTTGGCGCGAACGCACGCTCTGTTTGTTTTTATTTTGATT\\n                +\\n                BBCFDDFFHCFHHJJJJIJJJJJIJJJJJJJJJBHHGGHIJJJJJJJHHHH',\n",
       " '>SRR3486828.35985\\n                GTTGTTAAGTATTTGGCGCGAACGCACGCTCTGTTTGTTTTTTTTTTTTTT\\n                +\\n                @?@FDFDDFHFHHIJJFFHGIB@DGIDGG@FB>FFHGCGGGHHFCDDDDD@',\n",
       " '>SRR3486828.3217434\\n                TTGCTAATTGTTGTTAAGTATTTGGCGCGAACGCACGCTCTGTTTGTTTTT\\n                +\\n                CCCFF>DFHDDFHHEHBFAAIFGIIIIIIIIHGIHHIIGIICHIIIDGHHH',\n",
       " '>SRR3486828.2000364\\n                GTTTGCTAATTGTTGTTAAGTATTTGGCGCGAGCGCACGCTCTGTTTGTTT\\n                +\\n                @:?DDBDDB?FFDGBHIHGDAEIHIGBCGFIIIFIEGEHIIIIIIIIFEHH',\n",
       " '>SRR3486828.2935817\\n                GTTTGCTAATTGTTGTTAAGTATTTGGCGCGAACGCACGCTCTGTTTGTTT\\n                +\\n                CC@FFFFFHGGHFHIIJJIEHIIJJGGEIEIFIJIIJIGIJJIFHIJIHHH',\n",
       " '>SRR3486828.3360863\\n                GTTTGCTAATTGTTGTTAAGTATTTGGCGCGAACGCACGCTCTGTTTGTTT\\n                +\\n                CCCFFFFFHHHHHJJIJJJIIGJJJJJJJJJIJJJJGIJJJJIJJJJIHHH',\n",
       " '>SRR3486828.3424210\\n                GTTTGCTAATTGTTGTTAAGTATTTGGCGCGAACGCACGCTCTGTTTGTTT\\n                +\\n                CBCFFFFFHHHHHJJJJIJJHIJJJJJJJJJJJJJJJJJJJJJJJJIJHHH',\n",
       " '>SRR3486828.1277676\\n                GTTTGCTAATTGTTGTTAAGTATTTGGCGCGAACGCACGCTCTGTTTGTT\\n                +\\n                @@@?B>DAF?F<C4ACFDFC3:@DHFF@FF?8@<DFEEIEFFIIIIDD?=',\n",
       " '>SRR3486828.3111125\\n                GCAGTTTGCTAATTGTTGTTAAGTATTTGGCGCGAACGCACGCTCTGTTTG\\n                +\\n                CCCFFFFFHHHHHJJIJJJJJJJGIIJJIJJJJJJJIJJJJJJJJJJJJHH',\n",
       " '>SRR3486828.3714176\\n                ATGCAGTTTGCTAATTGTTGTTAAGTATTTGGCGCGAACGCACGCTCTGTT\\n                +\\n                @BBFFFFFHHHHHGHIIIIJJJFHIHIJJJIJJJJJJIJJJJJJJJJJJHH',\n",
       " '>SRR3486828.1557015\\n                GCTTCTTACGTTTGCTAATTGTTGTTAAGTATTTGGCGCGAACGCACGCTC\\n                +\\n                CCCFFFFFHHFHHJJJIJJJJJJJJJJIJFIIJJJIIJJJJJJJJJJJJHH',\n",
       " '>SRR3486828.4889746\\n                GCTTCTTACGTTTGCTAATTGTTGTTAAGTATTTGGCGCGAACGCACGCTC\\n                +\\n                @@?B?BBAD=AFACFA:?BHHBH:3A94<FBFBG?BF>AGFBF@:AAEF::',\n",
       " '>SRR3486828.6649687\\n                GCTTCTTACGTTTGCTAATTGTTGTTAAGTATTTGGCGCGAACGCACGCTC\\n                +\\n                @@@AD?BBFHA?FH<<E?F<ACHD<AECEF9CAFDEG<@GGAH@:4@BHAE',\n",
       " '>SRR3486828.334345\\n                AGCTCCTTACGTTTGCTAATTGTTGTTAAGTATTTGGCGCGAACGCACGCT\\n                +\\n                C@CFFFFFHHHHHIJJJHGGIJBHIIIHGHBGGIJIIHIJIIIJJJIJJHH',\n",
       " '>SRR3486828.1210707\\n                TGCTTCTTACGTTTGCTAATTGTTGTTAAGTATTTGGCGCGAACGCACGCT\\n                +\\n                C@@FFFFFHHHHBGHIIIIJJFAHHIIJIJHIGIJIJIIIIIIJIIHIIHG',\n",
       " '>SRR3486828.743148\\n                GAGGGTATGCAGTTTGCTAATTGTTGTTAAGTATTTGGCGCGAACGCACGC\\n                +\\n                CCCFFDDFHHHHHJJJJJJJJJJJJJIIIJJHGIJJJIJJJIJIJJJJJJJ',\n",
       " '>SRR3486828.3951194\\n                CGCCGTGAGGGTATGCAGTTTGCTAATTGTTGTTAAGTATTTGGCGCGAAC\\n                +\\n                @@CFFDDDDAACDBHHAHCHIIIIGDHGH?F;CGHEDFHFGG?@GIDGIGG',\n",
       " '>SRR3486828.2872782\\n                GACACTCACTTTGCTTCTTACGTTTGCTAATTGTTGTTAAGTATTTGGCGC\\n                +\\n                CCCFFFFFHHHHHJJJJJJJJJHJJJJJJJJJJIJIJIJGIGHIIJJJJJJ',\n",
       " '>SRR3486828.1083191\\n                AGGGTATGCATTTGCTTCTTACGTTTGCTAATTGTTGTTAAGTATTTGGCG\\n                +\\n                <@@DDEFDHHHHHIGEGEGGIIGCFHJIICHHHEBAD?DHIJ?HGGGIGHG',\n",
       " '>SRR3486828.1155077\\n                CGACACTCACTTTGCTTCTTACGTTTGCTAATTGTTGTTAAGTATTTGGCG\\n                +\\n                @C@FFFFFHHHHHJIJJJGIIIJIHJIJJFGIICF@HEGIIEFIIGIJFII',\n",
       " '>SRR3486828.4234367\\n                GAGGGTATGCATTTGCTTCTTACGTTTGCTAATTGTTGTTAAGTATTTGGC\\n                +\\n                CCCFFDDFHHHHHJJJJJJJJJJJIJJJJJJJJJJGJJJJJJJGIIJJJJJ',\n",
       " '>SRR3486828.7295366\\n                GAAGGTATGCATTTGCTTCTTACGTTTGCTAATTGTTGTTAAGTATTTGGC\\n                +\\n                CCCFFEFFHHHHHJJJJJJJJJJJJJJJJJJJJJJIJJJJJJIIJJJJJIJ',\n",
       " '>SRR3486828.837539\\n                GACGACACTCACTTTGCTTCTTACGTTTGCTAATTGTTGTTAAGTATTTGG\\n                +\\n                CCCFFFFFHHHHFIJGIIIIIGIIGHIICGCDHFHGHDHDDDFI>FIHEIH',\n",
       " '>SRR3486828.3385448\\n                GACGACACTCACTTTGCTTCTTACGTTTGCTAATTGTTGTTAAGTATTTGG\\n                +\\n                CCCFFFFFHHHHHJJJJJJJJJJJJGHIIIJJIJJJJGJJJJJJBFIJJJI',\n",
       " '>SRR3486828.5163761\\n                TGAGGGTATGCATTTGCTTCTTACGTTTGCTAATTGTTGTTAAGTATTTGG\\n                +\\n                @@BFFFDFHHGGHJJIJJJJJJJIJJJJJJJGGIJAHIGHIGGIGGHIJIG',\n",
       " '>SRR3486828.6300822\\n                GACGACACTCACTTTGCTTCTTACGTTTGCTAATTGTTGTTAAGTATTTGG\\n                +\\n                CCCFFFFFHHHHHIJJJJJJJIJJJGGIIIIIJJJJIIJIJJIJFHHIJJJ',\n",
       " '>SRR3486828.930174\\n                CGTGAGGGTATGCATTTGCTTCTTACGTTTGCTAATTGTTGTTAAGTATTT\\n                +\\n                ?@@D?BD?+:CDBHGEBA@CHBAECH7CF@FD<FEGIBCF3FFHDE:?BAD',\n",
       " '>SRR3486828.6459287\\n                CCGACGACACTCACTTTGCTTCTTACGTTTGCTAATTGTTGTTAAGTATTT\\n                +\\n                @@?DAD@DHFBBDGFEG<FGIICGHEHF@FHGIIIIID@FCHII@FFGGII',\n",
       " '>SRR3486828.5183384\\n                GCCGACGACACTCACTTTGCTTCTTACGTTTGCTAATTGTTGTTAAGTATT\\n                +\\n                BCCFFFFFHHHHHJJJJJJJJJJJJJJJGIIJJJIJJJJJJJJJJHIGIHI',\n",
       " '>SRR3486828.1771168\\n                AGCCGACGACACTCACTTTGCTTCTTACGTTTGCTAATTGTTGTTAAGTAT\\n                +\\n                C@@FDADDAF>FHI?GHIEGGIIIBG@FHIIGFGHB??FDBFGFHGFA=FF',\n",
       " '>SRR3486828.3633141\\n                GCCGTGAGGGTATGCATTTGCTTCTTACGTTTGCTAATTGTTGTTAAGTAT\\n                +\\n                BCCFFFFFHHCFHIIJJJIJJJJJIIJJJHGIGHIJIIIIJIJHHIIIDHG',\n",
       " '>SRR3486828.7423133\\n                GGCCGACGACACTCACTTTGCTTCTTACGTTTGCTAATTGTTGTTAAGTAT\\n                +\\n                @@CFFFFF>FHHHJGIFIIEEGGIGGIDDHHEGGGBBFCDHHIGG@CE=FH',\n",
       " '>SRR3486828.4785844\\n                CAGCCGACGACACTCACTTTGCTTCTTACGTTTGCTAATTGTTGTTAAGTA\\n                +\\n                CCCFFFFFHHHHHJJIJJJJJJJJJJJJJJIJJJJJIJIJJIJJJJJIJGI',\n",
       " '>SRR3486828.6414347\\n                CCGCCGACGACACTCACTTTGCTTCTTACGTTTGCTAATTGTTGTTAAGTA\\n                +\\n                CCCFFFFFHHHHHJJJJJJJJJJJJJJJJJGIJJJJJJJJJJJJIIJIJDH',\n",
       " '>SRR3486828.617214\\n                CCGCCGTGAGGGTATGCATTTGCTTCTTACGTTTGCTAATTGTTGTTAAGT\\n                +\\n                @CCFDDFF?DFFDG@FEFHHIEGHDGIIDFF:CFBBF<??@BHGHHI@GGF',\n",
       " '>SRR3486828.1042154\\n                CAGCCGACGACACTCACTTTGCTTCTTACGTTTGCTAATTGTTGTTAAG\\n                +\\n                @@@DDDADHDA<DEGFBGHB?FBCD?G<B=DGGDD*9?BFHBBDBHACA',\n",
       " '>SRR3486828.4781883\\n                GGCCGCCGTGAGGGTATGCATTTGCTTCTTACGTTTGCTAATTGTTGTTAA\\n                +\\n                CCCFFFFFHHHHHJ@FHJJJJJJJIJJJJJJJIJJJJJJHGHIJJJJJJIG',\n",
       " '>SRR3486828.6796630\\n                CCGCAGCCGACGACACTCACTTTGCTTCTTACGTTTGCTAATTGTTGTTAA\\n                +\\n                @?@DFFFFGDHHDFFGHGGIJIGIGIIIJJJJIFEGGGHA@FEEFCEIIGH',\n",
       " '>SRR3486828.1973234\\n                TCGCCGTGAGGGTATGCATTTGCTTCTTACGTTTGCTAATTGTTGTTA\\n                +\\n                +:?B;?@11ABC:CEB>?EFBEDEEE9E*?81)C)**0*9BB*?DDDB',\n",
       " '>SRR3486828.4985924\\n                CCCGCAGCCGACGACACTCACTTTGCTTCTTACGTTTGCTAATTGTTGTTA\\n                +\\n                @CCDDFFFHHDHHFEHGGIJJIIJIJ@DEHHJJJJJJIHIGAHIGIGDEHH',\n",
       " '>SRR3486828.3519136\\n                TCCCGCAGCCGACGACACTCACTTTGCTTCTTACGTTTGCTAATTGTTGTT\\n                +\\n                CCCFFFFFGHHHHJIJJJJJJJJJJIJJJJJJJJGHJJJJJJGIGJJJHHH',\n",
       " '>SRR3486828.3129573\\n                TTCCCGCAGCCGACGACACTCACTTTGCTTCTTACGTTTGCTAATTGTTGT\\n                +\\n                BCCFFFFFHHHHHJJJJJJJJJJIJJJIJJJJJJJJHIJJJJIIIJJJHHH',\n",
       " '>SRR3486828.5596680\\n                TTCCCGCAGCCGACGACACTCACTTTGCTTCTTACGTTTGCTAATTGTTGT\\n                +\\n                CCCFFFFFHHHHHJJJJIJJJJIJJJJJJJJJJIJJHIJJJJJIJJJJHHH',\n",
       " '>SRR3486828.1241012\\n                GCTCCCGCAGCCGACGACACTCACTTTGCTTCTTACGTTTGCTAATTGTTG\\n                +\\n                @BCFFFFFHHHHHJJJJJJJJJJJJJJJJJJJJJJJJJJJJJJJFIHHHFH',\n",
       " '>SRR3486828.2725576\\n                GCTCCCGCAGCCGACGACACTCACTTTGCTTCTTACGTTTGCTAATTGTTG\\n                +\\n                CCCFFFFFHHHHHJJJJJJJJJIJJJJIJIICHIIJJJJJJJJJGIHDHHH',\n",
       " '>SRR3486828.4274804\\n                GCTCCCGCAGCCGACGACACTCACTTTGCTTCTTACGTTTGCTAATTGTTG\\n                +\\n                <;@DDDDDDD?:CFBA?DD@GB??F??B@D@8CG885FH@@DH=)7=?AEC',\n",
       " '>SRR3486828.7372024\\n                GGCTCCCGCAGCCGACGACACTCACTTTGCTTCTTACGTTTGCTAATTGTT\\n                +\\n                @@@FFFFFHGGHHJIJJIJIJJIJJIJJGGJJGJJCGGIIJGGIEDEHHHH',\n",
       " '>SRR3486828.3847199\\n                CACGGGCTCCCGCAGCCGACGACACTCACTTTGCTTCTTACGTTTGCTAAT\\n                +\\n                CCCFFFFFGHHHHIJJJJJJIGIDHJIIIEIJJIGEGHGIHFEEDFFEFFE',\n",
       " '>SRR3486828.4542019\\n                GGGCACACGGGCTCCCGCAGCCGACGACACTCACTTTGCTTCTTACGTTTG\\n                +\\n                @@@;DDDDFFFFD:ADFFIBF<GB:?@AA4@3=)=AEE)7?;?B>BCBC>5',\n",
       " '>SRR3486828.1982986\\n                GTTCAGCTTGACAGCCTCGATGAGATTGAGATCAAACTGTTTGCTTCTTAC\\n                +\\n                CCCFFFFFHFFHDIIIEFHBFGIEEBHCAGEDFHGHGCHIJIJGGIH@GII',\n",
       " '>SRR3486828.2264774\\n                GGTCGGATCCCAGTTCCAAACTGGGCACACGGGCTCCCGCAGCCGACGATA\\n                +\\n                @@@DFFFFHGHHHJIEGHGHIIJIJJJJJIJJIJJJJIJIHIIIHGFFDDD',\n",
       " '>SRR3486828.2984338\\n                CGAGACGGACGTGGACTGGGTCGGATCCCAGTTCCAAACTGGGCACACGGG\\n                +\\n                CCCFFFFFFHHFHJIJJJJJGIIIJIJJJJJFHGIBHIIHIIIBCHIEHGF',\n",
       " '>SRR3486828.342708\\n                GGACGAGACGGACGTGGACTGGGTCGGATCCCAGTTCCAAACTGGGCACAC\\n                +\\n                CCCFFFFFHHHHHJJJJJJJJJJFHIJJJJJJIJGHIJJIJJJJIHHHFFF',\n",
       " '>SRR3486828.7949079\\n                GGACGAGACGGACGTGGACTGGGTCGGATCCCAGTTCCAAACTGGGCACAC\\n                +\\n                CCCFFFFFHHHHHJIJJJJJJJJIJJJJJJJJJJJJIIIJIJJJJHHHFFF',\n",
       " '>SRR3486828.2857979\\n                GGGGACGAGACGGACGTGGACTGGGTCGGATCCCAGTTCCAAACTGGGCAC\\n                +\\n                BCCFFFFFHHHHHJJJJJJIIJJJJGIJJJJJJJJJHIJJHHHHHHFFFFD',\n",
       " '>SRR3486828.3411955\\n                GGGGACGAGACGGACGTGGACTGGGTCGGATCCCAGTTCCAAACTGGGCAC\\n                +\\n                @C@FDDFDAFFHFIDEHBCB@BD?;?970;;@C@=7=7CH?EH=EEB2?BA',\n",
       " '>SRR3486828.4910287\\n                GGGGACGAGACGGACGTGGACTGGGTCGGATCCCAGTTCCAAACTGGGCAC\\n                +\\n                @@CFFFFFHHHFHJIJHIGIIJIJGHIIIIIIJJBHJIIJHHHHHHFFFFD',\n",
       " '>SRR3486828.7370979\\n                GGGGACGAGACGGACTTGGACTGGGTCGGATCCCAGTTCCAAACTGGGCAC\\n                +\\n                CCCFFFFFGHHHHJJJJJJGHIJJJHHIJIJJJJGIFHJIJJJJJJJHHHG',\n",
       " '>SRR3486828.1691686\\n                CGGGGACGAGACGGACGTGGACTGGGTCGGATCCCAGTTCCAAACTGGGCA\\n                +\\n                CCCFFFFFHHHGHJIJJHIJIIIJJJGIJJIIJJJIHHHHHHFFFFFEDDE',\n",
       " '>SRR3486828.4606471\\n                CGGGGACGAGACGGACGTGGACTGGGTCGGATCCCAGTTCCAAACTGGGCA\\n                +\\n                CCCFFFFFHHHGHJJIJHIIGIIIIIDFHIGIIJJIGHCAHEFFFFFDDCC',\n",
       " '>SRR3486828.97975\\n                GCGGGGACGAGACGGACGTGGACTGGGTCGGATCCCAGTTCCAAACTGGGC\\n                +\\n                CCCFFFFFHHHHHIJJJJFHIIIJJJJEEHFFDDEEDDCDDDEDDDDDDB@',\n",
       " '>SRR3486828.213213\\n                GCGGGGACGAGACGGACATGGACTGGGTCGGATCCCAGTTCCAAACTGGGC\\n                +\\n                CCCFFFFFHHHHGJJJJJJJJJJJJJJHGIHHHFFFDEEEEEEDDDDDDDD',\n",
       " '>SRR3486828.520213\\n                GCGGGGACGAGACGGACGTGGACTGGGTCGGATCCCAGTTCCAAACTGGGC\\n                +\\n                @@CFDDDFHHDFDI>EHGAGGIIIIGJDEHB>BDDECD@;@CDCDBCC>AB',\n",
       " '>SRR3486828.623388\\n                GCGGGGACGAGACGGACGTGGACTGGGTCGGATCCCAGTTCCAAACTGGGC\\n                +\\n                @@@DBDADHFH6DFHBHH;;6;@=FH;C7:B<?A;CCCCCCCDCABAC99<',\n",
       " '>SRR3486828.1270139\\n                GCGGGGACGAGACGGACGTGGACTGGGTCGGATCCCAGTTTCAAACTGGGC\\n                +\\n                CC@FFFFFHHHHGJJJJJHIJJJIJJJJJHFFBCEEDDCDEEEDDDDDDDD',\n",
       " '>SRR3486828.1652301\\n                GCGGGGACGAGACGGACGTGGACTGGGTCGGATCCCAGTTCCAAACTGGGC\\n                +\\n                @<@DA??@CFFHFIGEGG-B=;=@F@==C-5=A<@C9;@;>AC(,9:,5?B',\n",
       " '>SRR3486828.1962891\\n                GCGGGGACGAGACGGACGTGGACTGGGTCGGATCCCAGTTCCAAACTGGGC\\n                +\\n                ?<?DDDDDDAFF?GEA>:<DF1@FCGG7@8>6=A>@@C;;>CCC>?>:A@?',\n",
       " '>SRR3486828.2737166\\n                GCGGGGACGAGACGGACGTGGACTGGGTCGGATCCCAGTTCCAAACTGGGC\\n                +\\n                CCCFFFFFHHHHHJJJJIHIJJIJJJJGIHFFDDEEDDDDDDEDDDDDDDD',\n",
       " '>SRR3486828.3856778\\n                GCGGGGACGAGACGGACGTGGACTGGGTCGGATCCCAGTTCCAAACTGGGC\\n                +\\n                =??=:1)@?:?)?@@?DD;;@@@A=C@.@AD6=?AA>>5>ABEAA?AAA?<',\n",
       " '>SRR3486828.5780805\\n                GCGGGGACGAGACGGACGTGGACTGGGTCGGATCCCAGTTCCAAACTGGGC\\n                +\\n                CCCFFFFFHHHHHJJIJIFHIGHIIJJHGHFFDDEECDDDDDEDDDDDDDD',\n",
       " '>SRR3486828.6380065\\n                GCGGGGACGAGACGGACGTGGACTGGGTCGGATCCCAGTTCCAAACTGGGC\\n                +\\n                @@@FFFFDDFFDHIIJIJGIIGIGGJJGHEEFDDEEDD@CCDDCCDDDDDD',\n",
       " '>SRR3486828.6975350\\n                GCGGGGACGAGACGGACGTGGACTGGGTCGGATCCCAGTTCCAAACTGGGC\\n                +\\n                CCCFFFFFHHHHHJJJJJIJJJJJJJJHIHFFDDEEDDDDDDEDDDDDDDD',\n",
       " '>SRR3486828.6988139\\n                GCGGGGACGAGACGGACGTGGACTGGGTCGGATCCCAGTTCCAAACTGGGC\\n                +\\n                CCCFFFFFHHHHHJJJJJHJJJJJJJJHJHFFDDEEDDDDDDEDDDDDDDD',\n",
       " '>SRR3486828.7042830\\n                GCGGGGACGAGACGGACGTGGACTGGGTCGGATCCCAGTTCCAAACTGGGC\\n                +\\n                CCCFFFFFHHHHHJJJJJIJJJJJJJJEHHFFDDEEDDDDDDEDDDDDDDD',\n",
       " '>SRR3486828.7513470\\n                GCGGGGACGAGACGGACGTGGACTGGGTCGGATCCCAGTTCCAAACTGGGC\\n                +\\n                CCCFFFFFHHHHHJJIJJJJJJJJJJJHJHFFDDEEDDDDDDEDDDDDDDD',\n",
       " '>SRR3486828.221022\\n                GGCGGGGACGAGACGGACGTGGACTGGGTCGGATCCCAGTTCCAAACTGGG\\n                +\\n                CC@FFFFFHH?DHGGHFHIEAHEFFFDD;>@DDD?CCDCCCCDDDDBCDC@',\n",
       " '>SRR3486828.253948\\n                AGCGGGGACGAGACGGACGTGGACTGGGTCGGATCCCAGTTCCAAACTGGG\\n                +\\n                CCCFFFFFHHHHHJJIIJIHIIIJJJJHHFFDCDDDDDDCDDDEDDDDDDD',\n",
       " '>SRR3486828.1952656\\n                GGCGGGGACGAGACGGACGTGGACTGGGTCGGATCCCAGTTCCAAACTGGG\\n                +\\n                CCCFFFFFHHHHHJJJJIJHHHFFFFDDEEDDDDDDDDDDDDDEDDDDDDD',\n",
       " '>SRR3486828.7915921\\n                AGCGGGGACGAGACGGACGTGGACTGGGTCGGATCCCAGTTCCAAACTGGG\\n                +\\n                @@8BBDD:?D::?DGGA::;@@GGIG==?=5=AABCC@A>@C>CC@?CCCB',\n",
       " '>SRR3486828.3620418\\n                CAGGAGTTACAAATTTAGCGGGGACGAGACGGACGTGGACTGGGTCGGATC\\n                +\\n                @@CDDFEFHHFHHJJIJJGJJGIIGGGIJIIJJHFBDCDECDDDCCBBBDD',\n",
       " '>SRR3486828.250622\\n                GGGGAAACAAGAGTTACAAATTTAGCGGGGACGAGACGGACGTGGACTGGG\\n                +\\n                CCCFFFFFHHHHHGIGIJJJJJIJJJIJJJJIHIJJHHHFFDDDDDDDDDD',\n",
       " '>SRR3486828.5671883\\n                GGGGAAACAAGAGCTACAAATTTAGCGGGGACGAGACGGACGTGGACTGGG\\n                +\\n                CCCFFFFFHHHGHJJJJJJJJJJIJJJJJJIIIIIJGHFFFDDDDDDDDDD',\n",
       " '>SRR3486828.118692\\n                CGGGGAAACAAGAGTTACAAATTTAGCGGGGACGAGACGGACGTGGACTGG\\n                +\\n                @@@DD?DDFHHDHG<CFH@HIGGIIGHIIIBHBBAEB>DECCB>???ACB?',\n",
       " '>SRR3486828.152844\\n                CGGGGAAACAAGAGTTACAAATTTAGCGGGGACGAGACGGACGTGGACTGG\\n                +\\n                CCCFFFFFGHGHHJGHJJJJJJJJJJIJJJJIJJJGHFFFDDDBDDDDDDD',\n",
       " '>SRR3486828.486777\\n                CGGGGAAACAAGAGTTACAAATTTAGCGGGGACGAGACGGACGTGGACTGG\\n                +\\n                CCCFFFFFHHHHHJHHJJJJJJJJIJJJJJIJJJJHHFFFDDDDDDDDDDD',\n",
       " '>SRR3486828.2027070\\n                CGGGGAAACAAGAGTTACAAATTTAGCGGGGACGAGACGGACGTGGACTGG\\n                +\\n                <@@DDDABB?F3A92<<ECHA@FBCDHDDGE@F68B<BBB<<8;=1(5@55',\n",
       " '>SRR3486828.7765554\\n                CGGGGAAACAAGAGTTACAAATTTAGCGGGGACGAGACGGACGTGGACTGG\\n                +\\n                @CCFDDFFHGDHFBEHEGHGGH@EHGEHIJBEGGGA=BDE>9?BBB@CCBB',\n",
       " '>SRR3486828.2630685\\n                ACGGGGAAACAAGAGTTACAAATTTAGCGGGGACGAGACGGACGTGGACTG\\n                +\\n                @@?FFFFFGDHHHIJBBHHJJJGJIH<EFGEB<AAHADF?<>BB;@BDDDB',\n",
       " '>SRR3486828.2939461\\n                ACGGGGAAACAAGAGTTACAAATTTAGCGGGGACGAGACGGACGTGGACTG\\n                +\\n                @@@FFDDDFFHFHGHCCGHGE>EHIGGIIIII@FEBEDDFCCBC;@@?CCB',\n",
       " '>SRR3486828.7411375\\n                ACGGGGAAACAAGAGTTACAAATTTAGCGGGGACGAGACGGACGTGGACTG\\n                +\\n                @@BFFFFFHFHHGIIEHIJJIJIJJIJJJJIJBGIFFEEFCDDDDDD@CDD',\n",
       " '>SRR3486828.7684378\\n                ACGGGGAAACAAGAGTTACAAATTTAGCGGGGACGAGACGGACGTGGACTG\\n                +\\n                @BBFFFFFHHHHHGJFHGIJJJJJJJJIJJJIJJJHHFFFDDDDBDDDDDD',\n",
       " '>SRR3486828.1639249\\n                GGCGGGGAAACAAGAGTTACAAATTTAGCGGGGACGAGACGGACGTGGACT\\n                +\\n                CCCFFFFDHHHHHJIJGIJJJJJJJJIJJJJHDDDDDDDDDDDDDBDDDDD',\n",
       " '>SRR3486828.2553355\\n                GCCGGGGAAACAAGAGTTACAAATTTAGCGGGGACGAGACGGACGTGGACT\\n                +\\n                @@@FFDFFHHHHHJJJIIJJJJIJJJJJJJJIJJHHFFDDDDDDDBDDDDC',\n",
       " '>SRR3486828.2756234\\n                GACGGGGAAACAAGAGTTACAAATTTAGCGGGGACGAGACGGACGTGGACT\\n                +\\n                CCCFFFFFHHHHHJJJFHIJJJJJJJJJJJJJJJJHHFFDDDDDDDDDBDD',\n",
       " '>SRR3486828.5591814\\n                GCCGGGGAAACAAGAGTTACAAATTTAGCGGGGACGAGACGGACGTGGACT\\n                +\\n                CCCFFFFFHHHHHJJJGIJJJJJJJJJJJJJJJJHHFFDDDDDDDDDDDDD',\n",
       " '>SRR3486828.7515401\\n                GACGGGGAAACAAGAGTTACAAATTTAGCGGGGACGAGACGGACGTGGACT\\n                +\\n                <@@FFADADFBF?FDBFF?CHHCGGEHG@GIHI@@EE<9<ACBCB=?B?A>',\n",
       " '>SRR3486828.933508\\n                AGACGGGGAAACAAGAGTTACAAATTTAGCGGGGACGAGACGGACGTGGAC\\n                +\\n                CCCFFFFFHDHHGIJFIGGGIGIJJJJIGIIJJIHIHDFDDDDBDDBDDDC',\n",
       " '>SRR3486828.3604430\\n                GGACAAGACGGGGAAACAAGAGTTACAAATTTAGCGGGGACGAGACGGACG\\n                +\\n                CCCFFFFFHHHGHJIGJJIJGGEHGIIJJJJJJJJJJJIGFFDDBDDBB=B',\n",
       " '>SRR3486828.4952459\\n                GGACAAGACGGGGAAACAAGAGTTACAAATTTAGCGGGGACGAGACGGACG\\n                +\\n                @@CFFFFFHHHGGGHIJGJJIJCGGCFHIIJJIIIJIJIHFFCBDDDDDDD',\n",
       " '>SRR3486828.7706343\\n                GGACAAGACGGGGAAACAAGAGTTACAAATTTAGCGGGGACGACACGGACG\\n                +\\n                @@CFDFFFHHHHHJJJJJJJJJEGIJJJJJJJJJIJJJJHFFDBDDDDDDD',\n",
       " '>SRR3486828.634418\\n                GGGACAAGACGGGGAAACAAGAGTTACAAATTTAGCGGGGACGAGACGGAC\\n                +\\n                CCCFFFFFHHHHHJIIJIJJJIIDGGIJJJJJJIIJJJJHFFDDDDDDDDD',\n",
       " '>SRR3486828.1449204\\n                GGGACAAGACGGGGAAACAAGAGTTACAAATTTAGCGGGGACGAGACGGAC\\n                +\\n                @@@?DDDDHHAHFEFEHGGHEH@:?FCAGEHIEIBB@DGHEE?>?>@?B?B',\n",
       " '>SRR3486828.1720257\\n                GGGACAAGACGGGGAAACAAGAGTTACAAATTTAGCGGGGACGAGACGGAC\\n                +\\n                CCCDDFFFHHHHHJIJJJJJJIJHIIJJJJIJJJJJJJIHFFDDBDDDDDD',\n",
       " '>SRR3486828.6334424\\n                GGGACAAGACGGGGAAACAAGAGTTACAAATTTAGCGGGGACGAGACGGAC\\n                +\\n                CCCFFFFFHHHHHIJJJJJJJIIHIJJJJJJJJJJIJJJHFFDDDDDDDDD',\n",
       " '>SRR3486828.240027\\n                GGGGACAAGACGGGGAAACAAGAGTTACAAATTTAGCGGGGACGAGACGGA\\n                +\\n                CCCFFFFFHHHHHIIGIIJJJEGIDGHHGIJJJJJJJJJJHFFDDDDDDDD',\n",
       " '>SRR3486828.569437\\n                GGGGACAAGACGGGGAAACAAGAGTTACAAGTTTAGCGGGGACGAGACGGA\\n                +\\n                ?@@D1@?BFDDAFFFFF?EGFIFFFG@DFF<BFFFIIIIDFDB?@?3=<6=',\n",
       " '>SRR3486828.1552369\\n                GGGGACAAGACGGGGAAACAAGAGTTACAAATTTAGCGGGGACGAGACGGA\\n                +\\n                @@CFFFFFHHHHHJIJJIJJJJIIEIIJIIJIJJIIJJJJHFFDDDDDDDD',\n",
       " '>SRR3486828.1797440\\n                GGGGACAAGACGGGGAAACAAGAGTTACAAATTTAGCGGGGACGAGACGGA\\n                +\\n                CCCFFFFFHHHHHJJJJJJJJJIJHIJJJJJJJJJJJJJJHFFDDDDDDDD',\n",
       " '>SRR3486828.3039858\\n                GGGGACAAGACGGGGAAACAAGAGTTACAAATTTAGCGGGGACGAGACGGA\\n                +\\n                CCCFFFFFHHHHHJDIIIJJJJJJFDHIJJJJJJJJJJJJHFFDDDDDDDD',\n",
       " '>SRR3486828.3087295\\n                GGGGACAAGACGGGGAAACAAGAGTTACAAATTTAGCGGGGACGAGACGGA\\n                +\\n                BC@FFFFFHHGHHJJGAHIIIIDHGHIIJJJJJJJJIJJGHFDDBDDDDDD',\n",
       " '>SRR3486828.3445084\\n                GGGGACAAGACGGGGAAACAAGAGTTACAAATTTAGCGGGGACGAGACGGA\\n                +\\n                BCCFFFFFHHHGHJJJIIIJIIGJIIJJJJJIIJIHIJJJGFFDDDDDDDD',\n",
       " '>SRR3486828.4746977\\n                GGGGACAAGGCGGGGAAACAAGAGTTACAAATTTAGCGGGGACGAGACGGA\\n                +\\n                @@@DDFFDFFHHHIJIJJGGHIBECEEHHHFEFFFFEDDDBDBBDBBDBDD',\n",
       " '>SRR3486828.5211709\\n                GGGGACAAGACGGGGAAACAAGAGTTACAAATTTAGCGGGGACGAGACGGA\\n                +\\n                CCCFFFFFHHHHHJJJIJJJJJJJGIJJJJJJJJJJIJJJHDFDBDDDDDD',\n",
       " '>SRR3486828.6400213\\n                GGGGACAAGACGGGGAAACAAGAGTTACAAATTTAGCGGGGACGAGACGGA\\n                +\\n                CCCFFFFFHHHHHJJJJJJJJJJJFIIJJJJJJJJJIJJJHFFDDDDDDDD',\n",
       " '>SRR3486828.7038588\\n                GGGGACAAGACGGGGAAACAAGAGTTACAAATTTAGCGGGGACGAGACGGA\\n                +\\n                CCCFFFFFHFHHHJJJIJJJJJJJGIIJJIJJJJIJJIJJHFFDDDDDDDD',\n",
       " '>SRR3486828.640016\\n                GGGGGACAAGACGGGGAAACAAGAGTTACAAATTTAGCGGGGACGAGACGG\\n                +\\n                @C@DFDFFHHGFHGEG>GIIIIGIIBHGIIIEGGIEEHGHIEACDDDDDBB',\n",
       " '>SRR3486828.1196324\\n                GGGGGACAAGCCGGGGAAACAAGAGTTACAAATTTAGCGGGGACGAGACGG\\n                +\\n                CCCFFFFFHHHHHJJJJJJJJJJIJFGHIIJJIJJJJJJJJDDDDDDDDDD',\n",
       " '>SRR3486828.98419\\n                GAGGGGACAAGACGGGGAAACAAGAGTTACAAATTTAGCGGGGACGAGACG\\n                +\\n                B@@FFFDDHHHHHJJJIGIIJIJIGIDGHJJJJIJJJJIJJJFCBDDDDDD',\n",
       " '>SRR3486828.650841\\n                AAGGGGACAAGACGGGGAAACAAGAGTTACAAATTTAGCGGGGACGAGACG\\n                +\\n                @CCFDDDDHFHHHGGIIJJJJHHGIGBFHIJJIJJIJJJIJJFDDDDDDDD',\n",
       " '>SRR3486828.1384146\\n                GAGGGGACAAGCCGGGGAAACAAGAGTTACAAATTTAGCGGGGACGAGACG\\n                +\\n                CCCFFFFFHHHHHJJJJJJJJJJJJJIIJJJJJJJJJJJJJJDDDDDDDDD',\n",
       " '>SRR3486828.1761847\\n                GAGGGGCCAAGACGGGGAAACAAGAGTTACAAATTTAGCGGGGACGAGACG\\n                +\\n                @@@FFFFFGHHHHIJIIGIJIJIJIIGGGGIIJJJIGHJIIJCBBDDDDDD',\n",
       " '>SRR3486828.1848139\\n                GAGGGGACAAGACGGGGAAACAAGAGTTACAAATTTAGCGGGGACGAGACG\\n                +\\n                @?@DDDDDFFHDFIJJIGIGIGGGIIDHGGJIJIJHGICHIIFCBDDDDDD',\n",
       " '>SRR3486828.1984639\\n                GAGGGGACAAGACGGGGAAACAAGAGTTACAAATTTAGCGGGGACGAGACG\\n                +\\n                @;@DADADABFBDEEHEBHBH>FFGG9*?DHGICGHGEIHEE<9?8;;@@?',\n",
       " '>SRR3486828.3627300\\n                GGGGGGACAAGACGGGGAAACAAGAGTTACAAATTTAGCGGGGACGAGACG\\n                +\\n                <@<BD66;?A?A?BBBCBCBCCB?CB@CCCCCCCACCCCBCBBBBBBC@B?',\n",
       " '>SRR3486828.4574582\\n                GAGGGGACAAGCCGGGGAAACAAGAGTTACAAATTTAGCGGGGACGAGACG\\n                +\\n                <1:DDDADF;FBFD<6G?FGBEFEII?BFEIEECFFFFEB8@>BBBB@B-?',\n",
       " '>SRR3486828.5471958\\n                GAGGGGACAAGACGGGGAAACAAGAGTTACAAATTTAGCGGGGACGAGACG\\n                +\\n                CCCFFFFFHHHHHJJJJJJJJJJJJJHIJJJJJJJJJJJJJJFDDDDDDDD',\n",
       " '>SRR3486828.5674361\\n                GTGGGGACAAGACGGGGAAACAAGAGTTACAAATTTAGCGGGGACGAGACG\\n                +\\n                @CCFDF=DFBFDFGGIIEFGIIGG@FHHB>GDHGHIFD>FGGB<A8??8=?',\n",
       " '>SRR3486828.5796765\\n                GAGGGGACAAGACGGGGAAACAAGAGTTACAAATTTAGCGGGGAAGAGACG\\n                +\\n                @@@DD?6@FFH?FF@GG<@DEFHIIEFH@GGIIEHIIIFIEGE?BB@ACC?',\n",
       " '>SRR3486828.5970903\\n                GAGGGGACAAGACGGGGAAACAAGAGTTACAAATTTAGCGGGGACGAGACG\\n                +\\n                @@@FFFFFBDHFHIGGHFGFGHGIGIFGHIHGGGHIIFEIHGDDDDBDBBD',\n",
       " '>SRR3486828.6856736\\n                GAGGGGACAAGACGGGGAAACAAGAGTTACAAATTTAGCGGGGACGAGACG\\n                +\\n                @@@FFFFFHGGBFHFBHHGIIGDFAF<DGIIDHHIIIIIIIIF<@B@BBB@',\n",
       " '>SRR3486828.7033073\\n                GTGGGGACAAGACGGGGAAACAAGAGTTACAAATTTAGCGGGGACGAGACG\\n                +\\n                CCCFFFFFHHHGHJJJIIJIJJJIJIDHIJJJJJJJJJJIJJFDDDDDDDD',\n",
       " '>SRR3486828.7482365\\n                GGGGGGACAAGACGGGGAAACAAGAGTTACAAATTTAGCGGGGACGAGACG\\n                +\\n                @<@DD638<?BA?@76037?>>?C?8CDCCCCCCACCCCBB6BBBBB-7<?',\n",
       " '>SRR3486828.1495128\\n                GGAGGGGACAGGACGGGGAAACAAGAGTTACAAATTTAGCGGGGACGAGAC\\n                +\\n                CCCFFFFFHHHHHJIJJJJJJJJJJGJIIIJJJJJJJJJJJJHDDDDDDDD',\n",
       " '>SRR3486828.2012514\\n                GGAGGGGACAAGACGGGGAAACAAGAGTTACAAATTTAGCGGGGACGAGAC\\n                +\\n                CCCFFFFFHHHHHIIJJJJJIJJJIIIFHIJJIJIJIIIIIJJDBBDDDDD',\n",
       " '>SRR3486828.3543806\\n                TGAGGGGACAAGCCGGGGAAACAAGAGTTACAAATTTAGCGGGGACGAGAC\\n                +\\n                @@@DDDFDDBFBAGHIIFEG<;089BD/?8?FHGHGGI@);@B8;==88<<',\n",
       " '>SRR3486828.4888564\\n                AGAGGGGACAAGCCGGGGAAACAAGAGTTACAAATTTAGCGGGGACGAGAC\\n                +\\n                BCCFFFFFHHHHHJIJJJJJJJJJJJJFHIJJJJJJJJJJJJIDBBDDDDD',\n",
       " '>SRR3486828.5898633\\n                TGAGGGGACAAGACGGGGAAACAAGAGTTACAAATTTAGCGGGGACGAGAC\\n                +\\n                CCCFFFFFGHHHHJJJIIBHGIGGGII?DFFHIHJJGICIIHIACDDDDDB',\n",
       " '>SRR3486828.1056185\\n                GAGGGGACAAGCCGGGGAAACAAGAGTTACAAATTTAGCGGGGACGAGAAG\\n                +\\n                CCCFFFFFHHHHHJJJJJJEIJJJIJGHIJJJJJJJJJJJJJDDDDDDDDD',\n",
       " '>SRR3486828.3823255\\n                GGGGACAAGACGGGGAAACAAGAGTTACAAATTTAGCGGGGACGAGATGGA\\n                +\\n                @@CFFDDFDCFDAEGBHGGGIIBGFFBH@C9BDCHC>GBHG8??>@BBDDC',\n",
       " '>SRR3486828.1034121\\n                ACTGAGGGGACAAGACGGGGAAACAAGAGTTACAAATTTAGCGGGGACGAG\\n                +\\n                @@CFFFDDDHHHFEGGHIJJHJGIIJIII@GHGIJJIIIIIFIIGC>@DDD',\n",
       " '>SRR3486828.5160795\\n                CACTGAGGGGACAAGACGGGGAAACAAGAGTTACAAATTTAGCGGGGACGA\\n                +\\n                @@@FFDED=D<FDEAEE@F>DDHIGIGGIIFHGIIGIIIIIIIGIICBBB=',\n",
       " '>SRR3486828.58434\\n                GCACTGAGGGGACAAGACGGGGAAACAAGAGTTACAAATTTAGCGGGGACG\\n                +\\n                B@?DFFFFHHHHHJJJJJJJJJJJJJJJJIIFIIJJJJJJJJJIJJJDDDD',\n",
       " '>SRR3486828.96350\\n                GCACTGAGGGGACAAGACGGGGAAACAAGAGTTACAAATTTAGCGGGGACG\\n                +\\n                @<@?DD8B;FFF@1<CFBG<):DGF@30??B09?BBE<C===FCFFBCB3=',\n",
       " '>SRR3486828.670732\\n                ACGGGGAAACAAGAGTTACAAATTTAGCGGGGACG\\n                +\\n                ;??DD<8A;A<AC;<22C?F@BFC?EEEIA<;4@D',\n",
       " '>SRR3486828.1857417\\n                GCACTGAGGGGACAAGACGGGGAAACAAGAGTTACAAATTTAGCGGGGACG\\n                +\\n                CCCFFFFFHHHHHJJJJJJJJJIIJJJJJJJFIIJJJJJJJHIJJJJDDDD',\n",
       " '>SRR3486828.2092643\\n                GCACTGAGGGGACAAGACGGGGAAACAAGAGTTACAAATTTAGCGGGGACG\\n                +\\n                @@@DDDDDBFF:1CD:A;EGEF8?D;DF9DA/9?DFFE8BFEFEIIEC89=',\n",
       " '>SRR3486828.2391238\\n                GCACTGAGGGGACAAGCCGGGGAAACAAGAGTTACAAATTTAGCGGGGACG\\n                +\\n                ;?<DBDD?A=?C)A;?CBFE@60@;DEIIIG=CCAHFA4@FFFBAHBBB;=',\n",
       " '>SRR3486828.2745529\\n                GCACTGAGGGGACAAGACGGGGAAACAAGAGTTACAAATTTAGCGGGGACG\\n                +\\n                CCCFFFFFHHHGHJJJJJJJJJIJJJJJJIJFIIJJJJJJJJJJJJJDBDD',\n",
       " '>SRR3486828.2968498\\n                GCACAGAGGGGACAAGACGGGGAAACAAGAGTTACAAATTTAGCGGGGACG\\n                +\\n                @@<D?D;A=<DH8AEGEBEFGGHG=DGGIF@**?<FHEA=<BFGHGI:B@B',\n",
       " '>SRR3486828.3278975\\n                GCACTGAGGGGACAAGACGGGGAAACAAGAGTTACAAATTTAGCGGGGACG\\n                +\\n                CCCFFFDFHGHHHIIJIHHIIJJJIIJJGHIBHGGIJJHIGGGIJJID?BB',\n",
       " '>SRR3486828.3464221\\n                GCACTGAGGGGACAAGACGGGGAAACAAGAGTTACAAATTTAGCGGGGACG\\n                +\\n                @?@DDDADFDH?D@HIBHIIEHAH?FGHI?G9?BGHIGIIGGGHEFHB@BB',\n",
       " '>SRR3486828.3996921\\n                GCACTGAGGGGACAAGACGGGGAAACAAGAGTTACAAATTTAGCGGGGACG\\n                +\\n                CCCFFFFFHHHHHJJJJIJJJJJJJJJJJJJFIIJJJJJJJIJJJJJDBDD',\n",
       " '>SRR3486828.4282143\\n                GCACTGAGGGGACAAGACGGGGAAACAAGAGTTACAAATTTAGCGGGGACG\\n                +\\n                @@@DDDDBFFH<FHIIGGBFA@FHEGE@@DD9BGGGGGHICHBBEGDABB=',\n",
       " '>SRR3486828.5181450\\n                GCACTGAGGGGCCAAGACGGGGAAACAAGAGTTACAAATTTAGCGGGGACG\\n                +\\n                @@@DFBDDA??F@FHB@GGGGGFHHIIIIDG?BHGCGHIGEDDHBHB?8;B',\n",
       " '>SRR3486828.5527644\\n                GCACTGAGGGGACAAGACGGGGAAACAAGAGTTACAAATTTAGCGGGGACG\\n                +\\n                CCCFFFFFHHHHHJJJJJJJJJHGIIIIJIIBGIJJJJJJIJJJJJJDDDD',\n",
       " '>SRR3486828.5764865\\n                GCACTGAGGGGACAAGCCGGGGAAACAAGAGTTACAAATTTAGCGGGGACG\\n                +\\n                CCCFFFFFHHHHHJJJIJJJJJJIJJJJJJJHIIJJJGIJJJJJJJHDDDD',\n",
       " '>SRR3486828.7450111\\n                GCACTGAGGGGACAAGACGGGGAAACAAGAGTTACAAATTTAGCGGGGACG\\n                +\\n                CCCFFFFFHHHHHJJJJJJJJJIJJJJJJJJIIIJJJJJJJJJJJJIDDDD',\n",
       " '>SRR3486828.7577757\\n                GCACTGAGGGGACAAGCCGGGGAAACAAGAGTTACAAATTTAGCGGGGACG\\n                +\\n                @CCFFFFFHHHFFIGIJJIIJJHIJJJJJIIFFHIIJJJIGGJJIJHDDDD',\n",
       " '>SRR3486828.7850010\\n                GCACTGAGGGGACAAGACGGGGAAACAAGAGTTACAAATTTAGCGGGGACG\\n                +\\n                @@@DDFFDDHHHFIGIGIGAHHGEEIJJJEIFGIGIGIIGGHJIHIGDDDD',\n",
       " '>SRR3486828.3797486\\n                TGCACTGAGGGGACAAGACGGGGAAACAAGAGTTACAAATTTAGCGGGGAC\\n                +\\n                @@?BDBDDB7FFDFF3?+ACFFFDFCD???;BFF@4DFIFFIDBCFAEBB;',\n",
       " '>SRR3486828.5095264\\n                TGCACTGAGGGGACAAGACGGGGAAACAAGAGTTACAAATTTAGCGGGGAC\\n                +\\n                @@@DDD>BFHB)0@BFFEEFA?:DAFBBG?BFB?DFBHIGHIIGCHG@BBB',\n",
       " '>SRR3486828.1273495\\n                ATGCACTGAGGGGACAAGACGGGGAAACAAGAGTTACAAATTTAGCGGGGA\\n                +\\n                <?@DABDDFDHHDAGBADEIJIFIGHIJIFIEHBFHIIGEGIIGHGGJFDD',\n",
       " '>SRR3486828.2043142\\n                GATGCACTGAGGGGACAAGACGGGGAAACAAGAGTTACAAATTTAGCGGGG\\n                +\\n                @;@DDDBDHA?FHEEHGHGCGIEGGE@=DFDGBBGFHEBFHECHHCHHIGC',\n",
       " '>SRR3486828.3444389\\n                GGAAACAAGAGTTACAAATTTAGCGGGG\\n                +\\n                ???B?ABAD+2C:E@<A<<:A33<FD:D',\n",
       " '>SRR3486828.1513291\\n                GGATGCACTGAGGGGACAAGACGGGGAAACAAGGGTTACAAATTTAGCGGG\\n                +\\n                @C@FFFFFHGHHHJJIJJIJJJJJJJIJJJJJJJJBFGIJJJJJJJJJJHH',\n",
       " '>SRR3486828.3273983\\n                GGATGCACTGAGGGGACAAGACGGGGAAACAAGAGTTACAAATTTAGCGGG\\n                +\\n                CCCFFFFFHHFHHIJJJIJJJJJJJJJJIJJIIDGBGGIIJJIJJIIJFIF',\n",
       " '>SRR3486828.369836\\n                GAGGGGACAAGACGGGGAAACAAGAGTTACAAATTTAGCGG\\n                +\\n                ?;@BDA?@FB??CDEB?8:DBDFDEBGBGHDD9<<BFH@EG',\n",
       " '>SRR3486828.1786256\\n                GGGATGCACTGAGGGGACAAGACGGGGAAACAAGAGTTACAAATTTAGCGG\\n                +\\n                @@@DDFFFHHFHHGDGBHIIJJJJJIGJJJEIIEGHHGGHIIGIIJJJJJE',\n",
       " '>SRR3486828.2085387\\n                GGGTTGCACTGAGGGGACAAGCCGGGGAAACAAGAGTTACAAATTTAGCGG\\n                +\\n                @@CDDDDDHFDHDG@@FDFHJGEABBE@DDDGHGGH8@FHJJGGHCHFFEB',\n",
       " '>SRR3486828.2954226\\n                GGGATGCACTGAGGGGACAAGACGGGGAAACAAGAGTTACAAATTTAGCGG\\n                +\\n                ?@@DFDDFHHFBFGGHEG?FHJJJGIJJJIJG?HCG=BFHGIGIIIJIEIG',\n",
       " '>SRR3486828.6042276\\n                GGGATGCACTGAGGGGACAAGACGGGGAAACAAGAGTTACAAATTTAGCGG\\n                +\\n                CCCFFFFFHHHHHJJJIJJJJIJJJJJJJJJJJJJIEGIJJJJJJJJIJJH',\n",
       " '>SRR3486828.3783402\\n                AGGGGTGCACTGAGGGGACAAGACGGGGAAACAAGAGTTACAAATTTAGCG\\n                +\\n                CCCFFDDDFHHHHJJJJJJIJIJJIJJJJIGJJIIGIFGGIJIJIJJJJHH',\n",
       " '>SRR3486828.7195482\\n                AGGGATGCACTGAGGGGACAAGACGGGGAAACAAGAGTTACAAATTTAGCG\\n                +\\n                @CCF?DDFHHHHHJJJIHGJIJJJJJJJJIJIJJJIIFHIJIJJJFGIJJJ',\n",
       " '>SRR3486828.1091072\\n                GAGGGGACAAGCCGGGGAAACAAGAGTTACAAATTTAGC\\n                +\\n                ?<??DA)@DD3A:E@:::6BDDA?BA**9B?<<DDE<=B',\n",
       " '>SRR3486828.5858992\\n                TGCACTGAGGGGACAAGACGGGGAAACAAGAGTTAC\\n                +\\n                <@@DDD32CFD:1<ECDFF6:?C:0?BF29)?*/?@']"
      ]
     },
     "execution_count": 22,
     "metadata": {},
     "output_type": "execute_result"
    }
   ],
   "source": [
    "reads"
   ]
  },
  {
   "cell_type": "code",
   "execution_count": null,
   "metadata": {
    "collapsed": true
   },
   "outputs": [],
   "source": []
  },
  {
   "cell_type": "code",
   "execution_count": null,
   "metadata": {
    "collapsed": true
   },
   "outputs": [],
   "source": []
  },
  {
   "cell_type": "code",
   "execution_count": null,
   "metadata": {
    "collapsed": true
   },
   "outputs": [],
   "source": []
  }
 ],
 "metadata": {
  "kernelspec": {
   "display_name": "Python [conda env:s2rnai]",
   "language": "python",
   "name": "conda-env-s2rnai-py"
  },
  "language_info": {
   "codemirror_mode": {
    "name": "ipython",
    "version": 3
   },
   "file_extension": ".py",
   "mimetype": "text/x-python",
   "name": "python",
   "nbconvert_exporter": "python",
   "pygments_lexer": "ipython3",
   "version": "3.5.2"
  },
  "toc": {
   "nav_menu": {},
   "number_sections": true,
   "sideBar": true,
   "skip_h1_title": false,
   "toc_cell": false,
   "toc_position": {},
   "toc_section_display": "block",
   "toc_window_display": false
  }
 },
 "nbformat": 4,
 "nbformat_minor": 2
}
