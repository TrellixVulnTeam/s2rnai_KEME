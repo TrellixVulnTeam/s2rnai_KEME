{
 "cells": [
  {
   "cell_type": "markdown",
   "metadata": {
    "collapsed": true
   },
   "source": [
    "Exploring Yijie gene list."
   ]
  },
  {
   "cell_type": "code",
   "execution_count": 37,
   "metadata": {
    "collapsed": false
   },
   "outputs": [],
   "source": [
    "%reload_ext autoreload\n",
    "%autoreload 1"
   ]
  },
  {
   "cell_type": "code",
   "execution_count": 151,
   "metadata": {
    "code_folding": [],
    "collapsed": true
   },
   "outputs": [],
   "source": [
    "# imports\n",
    "import pandas as pd\n",
    "from io import StringIO\n",
    "from IPython.display import Image, IFrame\n",
    "import qgrid"
   ]
  },
  {
   "cell_type": "code",
   "execution_count": 133,
   "metadata": {
    "collapsed": false
   },
   "outputs": [],
   "source": [
    "# set display options\n",
    "pd.options.display.max_columns = 999"
   ]
  },
  {
   "cell_type": "markdown",
   "metadata": {},
   "source": [
    "# Data Munging"
   ]
  },
  {
   "cell_type": "code",
   "execution_count": 13,
   "metadata": {
    "code_folding": [
     0
    ],
    "collapsed": false
   },
   "outputs": [],
   "source": [
    "# import the worksheet\n",
    "df = pd.read_excel('../../data/yijie/TFlist_for_genes.xlsx', sheetname='fru', header=None)\n",
    "df.columns = ['symbol', 'weight']"
   ]
  },
  {
   "cell_type": "code",
   "execution_count": 14,
   "metadata": {
    "code_folding": [
     0
    ],
    "collapsed": false
   },
   "outputs": [],
   "source": [
    "# sort vlaus by weight\n",
    "df.sort_values('weight', inplace=True)"
   ]
  },
  {
   "cell_type": "markdown",
   "metadata": {},
   "source": [
    "Merge on FBgn for easy comparison across gene lists. The easiest way to do this is use FlyBase's (FB) batch download utility. \n",
    "\n",
    "I copied and pasted gene symbols into the FB Batch download and selected:\n",
    "\n",
    "* field data\n",
    "* as tab-separated file\n",
    "* send results to: Browser\n",
    "* selected the fields: Name and FlyBaseID\n",
    "\n",
    "I then copied and pasted these results and replace tabs with commas.\n",
    "\n",
    "This is Yijie's list with FBgn and name added."
   ]
  },
  {
   "cell_type": "code",
   "execution_count": 29,
   "metadata": {
    "code_folding": [
     0
    ],
    "collapsed": false
   },
   "outputs": [],
   "source": [
    "# Use flybase data to make table with fbgn and names\n",
    "fbdat = StringIO(\"\"\"SUBMITTED ID,FBID_KEY,NAME\n",
    "CG7099,FBgn0032517,-\n",
    "fru,FBgn0004652,fruitless\n",
    "HP1b,FBgn0030082,Heterochromatin Protein 1b\n",
    "CG7987,FBgn0038244,-\n",
    "shn,FBgn0003396,schnurri\n",
    "CG6689,FBgn0037877,-\n",
    "tgo,FBgn0264075,tango\n",
    "CG8089,FBgn0033993,-\n",
    "CG3065,FBgn0034946,-\n",
    "gem,FBgn0050011,gemini\n",
    "Hr51,FBgn0034012,Hormone receptor 51\n",
    "Nipped-A,FBgn0053554,Nipped-A\n",
    "CG18476,FBgn0037931,-\n",
    "CG12942,FBgn0033569,-\n",
    "CG7357,FBgn0038551,-\n",
    "CG12391,FBgn0033581,-\n",
    "Rtf1,FBgn0034722,Rtf1\n",
    "CycC,FBgn0004597,Cyclin C\n",
    "HmgD,FBgn0004362,High mobility group protein D\n",
    "CG8159,FBgn0037619,-\n",
    "CrebB,FBgn0265784,Cyclic-AMP response element binding protein B\n",
    "CG4820,FBgn0037876,-\n",
    "Trf2,FBgn0261793,TATA box binding protein-related factor 2\n",
    "CG9305,FBgn0032512,-\n",
    "Df31,FBgn0022893,Decondensation factor 31\n",
    "hng3,FBgn0035160,hinge3\n",
    "Myb,FBgn0002914,Myb oncogene-like\n",
    "key,FBgn0041205,kenny\n",
    "Crg-1,FBgn0021738,Circadianly Regulated Gene\"\"\")\n",
    "\n",
    "df2 = pd.read_csv(fbdat)\n",
    "df2.columns = ['symbol', 'FBgn', 'name']"
   ]
  },
  {
   "cell_type": "code",
   "execution_count": 125,
   "metadata": {
    "collapsed": false
   },
   "outputs": [
    {
     "data": {
      "text/html": [
       "<script type=\"text/javascript\">\n",
       "if ($(\"#dg-css\").length == 0){\n",
       "    $(\"head\").append([\n",
       "        \"<link href='https://cdn.rawgit.com/quantopian/qgrid/master/qgrid/qgridjs//lib/slick.grid.css' rel='stylesheet'>\",\n",
       "        \"<link href='https://cdn.rawgit.com/quantopian/qgrid/master/qgrid/qgridjs//lib/slick-default-theme.css' rel='stylesheet'>\",\n",
       "        \"<link href='http://cdnjs.cloudflare.com/ajax/libs/jqueryui/1.10.4/css/jquery-ui.min.css' rel='stylesheet'>\",\n",
       "        \"<link id='dg-css' href='https://cdn.rawgit.com/quantopian/qgrid/master/qgrid/qgridjs//qgrid.css' rel='stylesheet'>\"\n",
       "    ]);\n",
       "}\n",
       "</script>\n",
       "<div class='q-grid-container'>\n",
       "<div id='c86d21e6-deb3-4e0a-a10c-31cd0d16c813' class='q-grid'></div>\n",
       "</div>"
      ]
     },
     "metadata": {},
     "output_type": "display_data"
    },
    {
     "data": {
      "application/javascript": [
       "var path_dictionary = {\n",
       "    jquery_drag: \"https://cdn.rawgit.com/quantopian/qgrid/master/qgrid/qgridjs//lib/jquery.event.drag-2.2\",\n",
       "    slick_core: \"https://cdn.rawgit.com/quantopian/qgrid/master/qgrid/qgridjs//lib/slick.core.2.2\",\n",
       "    slick_data_view: \"https://cdn.rawgit.com/quantopian/qgrid/master/qgrid/qgridjs//lib/slick.dataview.2.2\",\n",
       "    slick_check_box_column: \"https://cdn.rawgit.com/quantopian/qgrid/master/qgrid/qgridjs//lib/slick.checkboxselectcolumn\",\n",
       "    slick_row_selection_model: \"https://cdn.rawgit.com/quantopian/qgrid/master/qgrid/qgridjs//lib/slick.rowselectionmodel\",\n",
       "    slick_grid: \"https://cdn.rawgit.com/quantopian/qgrid/master/qgrid/qgridjs//lib/slick.grid.2.2\",\n",
       "    data_grid: \"https://cdn.rawgit.com/quantopian/qgrid/master/qgrid/qgridjs//qgrid\",\n",
       "    date_filter: \"https://cdn.rawgit.com/quantopian/qgrid/master/qgrid/qgridjs//qgrid.datefilter\",\n",
       "    slider_filter: \"https://cdn.rawgit.com/quantopian/qgrid/master/qgrid/qgridjs//qgrid.sliderfilter\",\n",
       "    text_filter: \"https://cdn.rawgit.com/quantopian/qgrid/master/qgrid/qgridjs//qgrid.textfilter\",\n",
       "    filter_base:  \"https://cdn.rawgit.com/quantopian/qgrid/master/qgrid/qgridjs//qgrid.filterbase\",\n",
       "    handlebars: \"https://cdnjs.cloudflare.com/ajax/libs/handlebars.js/2.0.0/handlebars.min\"\n",
       "};\n",
       "\n",
       "var existing_config = require.s.contexts._.config;\n",
       "if (!existing_config.paths['underscore']){\n",
       "    path_dictionary['underscore'] = \"https://cdnjs.cloudflare.com/ajax/libs/underscore.js/1.7.0/underscore-min\";\n",
       "}\n",
       "\n",
       "if (!existing_config.paths['moment']){\n",
       "    path_dictionary['moment'] = \"https://cdnjs.cloudflare.com/ajax/libs/moment.js/2.8.3/moment.min\";\n",
       "}\n",
       "\n",
       "if (!existing_config.paths['jqueryui']){\n",
       "    path_dictionary['jqueryui'] = \"https://ajax.googleapis.com/ajax/libs/jqueryui/1.11.1/jquery-ui.min\";\n",
       "}\n",
       "\n",
       "require.config({\n",
       "    paths: path_dictionary\n",
       "});\n",
       "\n",
       "if (typeof jQuery === 'function') {\n",
       "    define('jquery', function() { return jQuery; });\n",
       "}\n",
       "\n",
       "require([\n",
       "    'jquery',\n",
       "    'jquery_drag',\n",
       "    'slick_core',\n",
       "    'slick_data_view'\n",
       "],\n",
       "function($){\n",
       "    $('#c86d21e6-deb3-4e0a-a10c-31cd0d16c813').closest('.rendered_html').removeClass('rendered_html');\n",
       "    require([\n",
       "      'slick_check_box_column',\n",
       "      'slick_row_selection_model',\n",
       "      'slick_grid'\n",
       "    ], function(){\n",
       "        require([\"data_grid\"], function(dgrid){\n",
       "            var grid = new dgrid.QGrid('#c86d21e6-deb3-4e0a-a10c-31cd0d16c813', [{\"FBgn\":\"FBgn0032517\",\"symbol\":\"CG7099\",\"name\":\"-\"},{\"FBgn\":\"FBgn0004652\",\"symbol\":\"fru\",\"name\":\"fruitless\"},{\"FBgn\":\"FBgn0030082\",\"symbol\":\"HP1b\",\"name\":\"Heterochromatin Protein 1b\"},{\"FBgn\":\"FBgn0038244\",\"symbol\":\"CG7987\",\"name\":\"-\"},{\"FBgn\":\"FBgn0003396\",\"symbol\":\"shn\",\"name\":\"schnurri\"},{\"FBgn\":\"FBgn0037877\",\"symbol\":\"CG6689\",\"name\":\"-\"},{\"FBgn\":\"FBgn0264075\",\"symbol\":\"tgo\",\"name\":\"tango\"},{\"FBgn\":\"FBgn0033993\",\"symbol\":\"CG8089\",\"name\":\"-\"},{\"FBgn\":\"FBgn0034946\",\"symbol\":\"CG3065\",\"name\":\"-\"},{\"FBgn\":\"FBgn0050011\",\"symbol\":\"gem\",\"name\":\"gemini\"},{\"FBgn\":\"FBgn0034012\",\"symbol\":\"Hr51\",\"name\":\"Hormone receptor 51\"},{\"FBgn\":\"FBgn0053554\",\"symbol\":\"Nipped-A\",\"name\":\"Nipped-A\"},{\"FBgn\":\"FBgn0037931\",\"symbol\":\"CG18476\",\"name\":\"-\"},{\"FBgn\":\"FBgn0033569\",\"symbol\":\"CG12942\",\"name\":\"-\"},{\"FBgn\":\"FBgn0038551\",\"symbol\":\"CG7357\",\"name\":\"-\"},{\"FBgn\":\"FBgn0033581\",\"symbol\":\"CG12391\",\"name\":\"-\"},{\"FBgn\":\"FBgn0034722\",\"symbol\":\"Rtf1\",\"name\":\"Rtf1\"},{\"FBgn\":\"FBgn0004597\",\"symbol\":\"CycC\",\"name\":\"Cyclin C\"},{\"FBgn\":\"FBgn0004362\",\"symbol\":\"HmgD\",\"name\":\"High mobility group protein D\"},{\"FBgn\":\"FBgn0037619\",\"symbol\":\"CG8159\",\"name\":\"-\"},{\"FBgn\":\"FBgn0265784\",\"symbol\":\"CrebB\",\"name\":\"Cyclic-AMP response element binding protein B\"},{\"FBgn\":\"FBgn0037876\",\"symbol\":\"CG4820\",\"name\":\"-\"},{\"FBgn\":\"FBgn0261793\",\"symbol\":\"Trf2\",\"name\":\"TATA box binding protein-related factor 2\"},{\"FBgn\":\"FBgn0032512\",\"symbol\":\"CG9305\",\"name\":\"-\"},{\"FBgn\":\"FBgn0022893\",\"symbol\":\"Df31\",\"name\":\"Decondensation factor 31\"},{\"FBgn\":\"FBgn0035160\",\"symbol\":\"hng3\",\"name\":\"hinge3\"},{\"FBgn\":\"FBgn0002914\",\"symbol\":\"Myb\",\"name\":\"Myb oncogene-like\"},{\"FBgn\":\"FBgn0041205\",\"symbol\":\"key\",\"name\":\"kenny\"},{\"FBgn\":\"FBgn0021738\",\"symbol\":\"Crg-1\",\"name\":\"Circadianly Regulated Gene\"}], [{\"field\": \"FBgn\"}, {\"field\": \"symbol\"}, {\"field\": \"name\"}]);\n",
       "            grid.initialize_slick_grid({\"enableTextSelectionOnCells\": true, \"defaultColumnWidth\": 150, \"enableColumnReorder\": false, \"rowHeight\": 28, \"syncColumnCellResize\": true, \"editable\": false, \"forceFitColumns\": true, \"fullWidthRows\": true, \"autoEdit\": false});\n",
       "        });\n",
       "    });\n",
       "});\n"
      ]
     },
     "metadata": {},
     "output_type": "display_data"
    }
   ],
   "source": [
    "qgrid.QGridWidget(df=df2.set_index('FBgn')).export()"
   ]
  },
  {
   "cell_type": "markdown",
   "metadata": {},
   "source": [
    "# Fruitless Binding Motifs"
   ]
  },
  {
   "cell_type": "markdown",
   "metadata": {},
   "source": [
    "From a previous paper we identified male isoforms of fruitless (FruM) binding motifs throughout the genome using SELEX. \n",
    "\n",
    "[PMID: 24074028](http://www.ncbi.nlm.nih.gov/pubmed?cmd=search&term=24074028)\n",
    "\n",
    "I have binding data for the three protein binding domains (see panel B of Figure below). This is not a perfect metric because the FruM binding motif is really common, but a good start."
   ]
  },
  {
   "cell_type": "code",
   "execution_count": 52,
   "metadata": {
    "collapsed": false
   },
   "outputs": [
    {
     "data": {
      "image/jpeg": "[encoded data removed]",
      "text/plain": [
       "<IPython.core.display.Image object>"
      ]
     },
     "execution_count": 52,
     "metadata": {},
     "output_type": "execute_result"
    }
   ],
   "source": [
    "Image('https://www.ncbi.nlm.nih.gov/pmc/articles/PMC3852243/bin/1471-2164-14-659-1.jpg')"
   ]
  },
  {
   "cell_type": "code",
   "execution_count": 53,
   "metadata": {
    "collapsed": false
   },
   "outputs": [],
   "source": [
    "fruBS = pd.read_excel('https://www.ncbi.nlm.nih.gov/pmc/articles/PMC3852243/bin/1471-2164-14-659-S4.xlsx')\n",
    "fruBS = fruBS[['FBgn', 'FruA DBD Motif', 'FruB DBD Motif', 'FruC DBD Motif']].drop(0)"
   ]
  },
  {
   "cell_type": "code",
   "execution_count": 127,
   "metadata": {
    "collapsed": false
   },
   "outputs": [
    {
     "data": {
      "text/html": [
       "<script type=\"text/javascript\">\n",
       "if ($(\"#dg-css\").length == 0){\n",
       "    $(\"head\").append([\n",
       "        \"<link href='https://cdn.rawgit.com/quantopian/qgrid/master/qgrid/qgridjs//lib/slick.grid.css' rel='stylesheet'>\",\n",
       "        \"<link href='https://cdn.rawgit.com/quantopian/qgrid/master/qgrid/qgridjs//lib/slick-default-theme.css' rel='stylesheet'>\",\n",
       "        \"<link href='http://cdnjs.cloudflare.com/ajax/libs/jqueryui/1.10.4/css/jquery-ui.min.css' rel='stylesheet'>\",\n",
       "        \"<link id='dg-css' href='https://cdn.rawgit.com/quantopian/qgrid/master/qgrid/qgridjs//qgrid.css' rel='stylesheet'>\"\n",
       "    ]);\n",
       "}\n",
       "</script>\n",
       "<div class='q-grid-container'>\n",
       "<div id='47641ebb-03fe-49dc-8522-b648265056c4' class='q-grid'></div>\n",
       "</div>"
      ]
     },
     "metadata": {},
     "output_type": "display_data"
    },
    {
     "data": {
      "application/javascript": [
       "var path_dictionary = {\n",
       "    jquery_drag: \"https://cdn.rawgit.com/quantopian/qgrid/master/qgrid/qgridjs//lib/jquery.event.drag-2.2\",\n",
       "    slick_core: \"https://cdn.rawgit.com/quantopian/qgrid/master/qgrid/qgridjs//lib/slick.core.2.2\",\n",
       "    slick_data_view: \"https://cdn.rawgit.com/quantopian/qgrid/master/qgrid/qgridjs//lib/slick.dataview.2.2\",\n",
       "    slick_check_box_column: \"https://cdn.rawgit.com/quantopian/qgrid/master/qgrid/qgridjs//lib/slick.checkboxselectcolumn\",\n",
       "    slick_row_selection_model: \"https://cdn.rawgit.com/quantopian/qgrid/master/qgrid/qgridjs//lib/slick.rowselectionmodel\",\n",
       "    slick_grid: \"https://cdn.rawgit.com/quantopian/qgrid/master/qgrid/qgridjs//lib/slick.grid.2.2\",\n",
       "    data_grid: \"https://cdn.rawgit.com/quantopian/qgrid/master/qgrid/qgridjs//qgrid\",\n",
       "    date_filter: \"https://cdn.rawgit.com/quantopian/qgrid/master/qgrid/qgridjs//qgrid.datefilter\",\n",
       "    slider_filter: \"https://cdn.rawgit.com/quantopian/qgrid/master/qgrid/qgridjs//qgrid.sliderfilter\",\n",
       "    text_filter: \"https://cdn.rawgit.com/quantopian/qgrid/master/qgrid/qgridjs//qgrid.textfilter\",\n",
       "    filter_base:  \"https://cdn.rawgit.com/quantopian/qgrid/master/qgrid/qgridjs//qgrid.filterbase\",\n",
       "    handlebars: \"https://cdnjs.cloudflare.com/ajax/libs/handlebars.js/2.0.0/handlebars.min\"\n",
       "};\n",
       "\n",
       "var existing_config = require.s.contexts._.config;\n",
       "if (!existing_config.paths['underscore']){\n",
       "    path_dictionary['underscore'] = \"https://cdnjs.cloudflare.com/ajax/libs/underscore.js/1.7.0/underscore-min\";\n",
       "}\n",
       "\n",
       "if (!existing_config.paths['moment']){\n",
       "    path_dictionary['moment'] = \"https://cdnjs.cloudflare.com/ajax/libs/moment.js/2.8.3/moment.min\";\n",
       "}\n",
       "\n",
       "if (!existing_config.paths['jqueryui']){\n",
       "    path_dictionary['jqueryui'] = \"https://ajax.googleapis.com/ajax/libs/jqueryui/1.11.1/jquery-ui.min\";\n",
       "}\n",
       "\n",
       "require.config({\n",
       "    paths: path_dictionary\n",
       "});\n",
       "\n",
       "if (typeof jQuery === 'function') {\n",
       "    define('jquery', function() { return jQuery; });\n",
       "}\n",
       "\n",
       "require([\n",
       "    'jquery',\n",
       "    'jquery_drag',\n",
       "    'slick_core',\n",
       "    'slick_data_view'\n",
       "],\n",
       "function($){\n",
       "    $('#47641ebb-03fe-49dc-8522-b648265056c4').closest('.rendered_html').removeClass('rendered_html');\n",
       "    require([\n",
       "      'slick_check_box_column',\n",
       "      'slick_row_selection_model',\n",
       "      'slick_grid'\n",
       "    ], function(){\n",
       "        require([\"data_grid\"], function(dgrid){\n",
       "            var grid = new dgrid.QGrid('#47641ebb-03fe-49dc-8522-b648265056c4', [{\"FBgn\":\"FBgn0032517\",\"symbol\":\"CG7099\",\"name\":\"-\",\"FruA DBD Motif\":1,\"FruB DBD Motif\":1,\"FruC DBD Motif\":0},{\"FBgn\":\"FBgn0004652\",\"symbol\":\"fru\",\"name\":\"fruitless\",\"FruA DBD Motif\":32,\"FruB DBD Motif\":8,\"FruC DBD Motif\":2},{\"FBgn\":\"FBgn0030082\",\"symbol\":\"HP1b\",\"name\":\"Heterochromatin Protein 1b\",\"FruA DBD Motif\":1,\"FruB DBD Motif\":1,\"FruC DBD Motif\":0},{\"FBgn\":\"FBgn0038244\",\"symbol\":\"CG7987\",\"name\":\"-\",\"FruA DBD Motif\":1,\"FruB DBD Motif\":1,\"FruC DBD Motif\":2},{\"FBgn\":\"FBgn0003396\",\"symbol\":\"shn\",\"name\":\"schnurri\",\"FruA DBD Motif\":15,\"FruB DBD Motif\":1,\"FruC DBD Motif\":0},{\"FBgn\":\"FBgn0037877\",\"symbol\":\"CG6689\",\"name\":\"-\",\"FruA DBD Motif\":1,\"FruB DBD Motif\":0,\"FruC DBD Motif\":1},{\"FBgn\":\"FBgn0033993\",\"symbol\":\"CG8089\",\"name\":\"-\",\"FruA DBD Motif\":2,\"FruB DBD Motif\":0,\"FruC DBD Motif\":0},{\"FBgn\":\"FBgn0034946\",\"symbol\":\"CG3065\",\"name\":\"-\",\"FruA DBD Motif\":3,\"FruB DBD Motif\":0,\"FruC DBD Motif\":0},{\"FBgn\":\"FBgn0050011\",\"symbol\":\"gem\",\"name\":\"gemini\",\"FruA DBD Motif\":1,\"FruB DBD Motif\":0,\"FruC DBD Motif\":0},{\"FBgn\":\"FBgn0034012\",\"symbol\":\"Hr51\",\"name\":\"Hormone receptor 51\",\"FruA DBD Motif\":1,\"FruB DBD Motif\":2,\"FruC DBD Motif\":0},{\"FBgn\":\"FBgn0053554\",\"symbol\":\"Nipped-A\",\"name\":\"Nipped-A\",\"FruA DBD Motif\":12,\"FruB DBD Motif\":3,\"FruC DBD Motif\":0},{\"FBgn\":\"FBgn0037931\",\"symbol\":\"CG18476\",\"name\":\"-\",\"FruA DBD Motif\":0,\"FruB DBD Motif\":0,\"FruC DBD Motif\":0},{\"FBgn\":\"FBgn0033569\",\"symbol\":\"CG12942\",\"name\":\"-\",\"FruA DBD Motif\":1,\"FruB DBD Motif\":0,\"FruC DBD Motif\":0},{\"FBgn\":\"FBgn0038551\",\"symbol\":\"CG7357\",\"name\":\"-\",\"FruA DBD Motif\":1,\"FruB DBD Motif\":0,\"FruC DBD Motif\":0},{\"FBgn\":\"FBgn0033581\",\"symbol\":\"CG12391\",\"name\":\"-\",\"FruA DBD Motif\":2,\"FruB DBD Motif\":0,\"FruC DBD Motif\":0},{\"FBgn\":\"FBgn0034722\",\"symbol\":\"Rtf1\",\"name\":\"Rtf1\",\"FruA DBD Motif\":1,\"FruB DBD Motif\":1,\"FruC DBD Motif\":0},{\"FBgn\":\"FBgn0004597\",\"symbol\":\"CycC\",\"name\":\"Cyclin C\",\"FruA DBD Motif\":0,\"FruB DBD Motif\":0,\"FruC DBD Motif\":0},{\"FBgn\":\"FBgn0004362\",\"symbol\":\"HmgD\",\"name\":\"High mobility group protein D\",\"FruA DBD Motif\":0,\"FruB DBD Motif\":1,\"FruC DBD Motif\":0},{\"FBgn\":\"FBgn0037619\",\"symbol\":\"CG8159\",\"name\":\"-\",\"FruA DBD Motif\":2,\"FruB DBD Motif\":0,\"FruC DBD Motif\":0},{\"FBgn\":\"FBgn0037876\",\"symbol\":\"CG4820\",\"name\":\"-\",\"FruA DBD Motif\":0,\"FruB DBD Motif\":0,\"FruC DBD Motif\":0},{\"FBgn\":\"FBgn0261793\",\"symbol\":\"Trf2\",\"name\":\"TATA box binding protein-related factor 2\",\"FruA DBD Motif\":5,\"FruB DBD Motif\":0,\"FruC DBD Motif\":1},{\"FBgn\":\"FBgn0032512\",\"symbol\":\"CG9305\",\"name\":\"-\",\"FruA DBD Motif\":2,\"FruB DBD Motif\":0,\"FruC DBD Motif\":0},{\"FBgn\":\"FBgn0022893\",\"symbol\":\"Df31\",\"name\":\"Decondensation factor 31\",\"FruA DBD Motif\":1,\"FruB DBD Motif\":0,\"FruC DBD Motif\":0},{\"FBgn\":\"FBgn0035160\",\"symbol\":\"hng3\",\"name\":\"hinge3\",\"FruA DBD Motif\":1,\"FruB DBD Motif\":0,\"FruC DBD Motif\":0},{\"FBgn\":\"FBgn0002914\",\"symbol\":\"Myb\",\"name\":\"Myb oncogene-like\",\"FruA DBD Motif\":0,\"FruB DBD Motif\":0,\"FruC DBD Motif\":0},{\"FBgn\":\"FBgn0041205\",\"symbol\":\"key\",\"name\":\"kenny\",\"FruA DBD Motif\":1,\"FruB DBD Motif\":1,\"FruC DBD Motif\":0},{\"FBgn\":\"FBgn0021738\",\"symbol\":\"Crg-1\",\"name\":\"Circadianly Regulated Gene\",\"FruA DBD Motif\":0,\"FruB DBD Motif\":0,\"FruC DBD Motif\":1}], [{\"field\": \"FBgn\"}, {\"field\": \"symbol\"}, {\"field\": \"name\"}, {\"field\": \"FruA DBD Motif\"}, {\"field\": \"FruB DBD Motif\"}, {\"field\": \"FruC DBD Motif\"}]);\n",
       "            grid.initialize_slick_grid({\"enableTextSelectionOnCells\": true, \"defaultColumnWidth\": 150, \"enableColumnReorder\": false, \"rowHeight\": 28, \"syncColumnCellResize\": true, \"editable\": false, \"forceFitColumns\": true, \"fullWidthRows\": true, \"autoEdit\": false});\n",
       "        });\n",
       "    });\n",
       "});\n"
      ]
     },
     "metadata": {},
     "output_type": "display_data"
    }
   ],
   "source": [
    "merged = df2.merge(fruBS, on='FBgn')\n",
    "qgrid.QGridWidget(df=merged.set_index('FBgn')).export()"
   ]
  },
  {
   "cell_type": "markdown",
   "metadata": {},
   "source": [
    "In order to do enrichment analysis I would need to have the list of expressed genes, but sense this is a quick look I would say that *schnurri* and *Nipped-A* are both strong candidates for being targeted by Fru. The *fru* locus itself also contains a lot of FruM binding sites."
   ]
  },
  {
   "cell_type": "markdown",
   "metadata": {},
   "source": [
    "# Differential Expression"
   ]
  },
  {
   "cell_type": "markdown",
   "metadata": {},
   "source": [
    "From this same study we also induced FruM{A, B, C} overexpression in P1-neurons (i.e., adult heads). Again not an ideal comparison for S2 cells, but still useful to look at. the below table has binary flags (0, 1) for if a gene was induced (increase expression) or repressed (decreased expression) when over expressing FruM{A, B, C} in P1-neruons. We were very conservative and used an FDR cutoff and required >=2-fold change."
   ]
  },
  {
   "cell_type": "code",
   "execution_count": 134,
   "metadata": {
    "code_folding": [
     0
    ],
    "collapsed": false
   },
   "outputs": [],
   "source": [
    "# FruMA\n",
    "fruMADiff = pd.read_excel('https://www.ncbi.nlm.nih.gov/pmc/articles/PMC3852243/bin/1471-2164-14-659-S1.xlsx', sheetname='FruMA Male 2-fold', skip_rows=2)\n",
    "fruMADiff.columns = ['FBgn', 'symbol']\n",
    "\n",
    "# This shee contains coloring to represent induced and repressed. I am going to add a binary flag.\n",
    "fruMADiff['FruMA_induced'] = 0\n",
    "fruMADiff.loc[:752, 'FruMA_induced'] = 1\n",
    "\n",
    "fruMADiff['FruMA_repressed'] = 0\n",
    "fruMADiff.loc[753:, 'FruMA_repressed'] = 1\n",
    "\n",
    "# FruMB\n",
    "fruMBDiff = pd.read_excel('https://www.ncbi.nlm.nih.gov/pmc/articles/PMC3852243/bin/1471-2164-14-659-S1.xlsx', sheetname='FruMB Male 2-fold', skip_rows=2)\n",
    "fruMBDiff.columns = ['FBgn', 'symbol']\n",
    "\n",
    "# This shee contains coloring to represent induced and repressed. I am going to add a binary flag.\n",
    "fruMBDiff['FruMB_induced'] = 0\n",
    "fruMBDiff.loc[:739, 'FruMB_induced'] = 1\n",
    "\n",
    "fruMBDiff['FruMB_repressed'] = 0\n",
    "fruMBDiff.loc[740:, 'FruMB_repressed'] = 1\n",
    "\n",
    "# FruMC\n",
    "fruMCDiff = pd.read_excel('https://www.ncbi.nlm.nih.gov/pmc/articles/PMC3852243/bin/1471-2164-14-659-S1.xlsx', sheetname='FruMC Male 2-fold', skip_rows=2)\n",
    "fruMCDiff.columns = ['FBgn', 'symbol']\n",
    "\n",
    "# This shee contains coloring to represent induced and repressed. I am going to add a binary flag.\n",
    "fruMCDiff['FruMC_induced'] = 0\n",
    "fruMCDiff.loc[:927, 'FruMC_induced'] = 1\n",
    "\n",
    "fruMCDiff['FruMC_repressed'] = 0\n",
    "fruMCDiff.loc[928:, 'FruMC_repressed'] = 1\n",
    "\n",
    "# Merge them all together\n",
    "merged = df2.merge(fruMADiff[['FBgn', 'FruMA_induced', 'FruMA_repressed']], on='FBgn').merge(fruMBDiff[['FBgn', 'FruMB_induced', 'FruMB_repressed']], on='FBgn').merge(fruMCDiff[['FBgn', 'FruMC_induced', 'FruMC_repressed']], on='FBgn')"
   ]
  },
  {
   "cell_type": "markdown",
   "metadata": {},
   "source": [
    "For comparison the total number of genes incuded or repressed are below."
   ]
  },
  {
   "cell_type": "code",
   "execution_count": 148,
   "metadata": {
    "collapsed": false
   },
   "outputs": [
    {
     "data": {
      "text/html": [
       "<div>\n",
       "<table border=\"1\" class=\"dataframe\">\n",
       "  <thead>\n",
       "    <tr style=\"text-align: right;\">\n",
       "      <th></th>\n",
       "      <th>count</th>\n",
       "    </tr>\n",
       "  </thead>\n",
       "  <tbody>\n",
       "    <tr>\n",
       "      <th>FruMA_induced</th>\n",
       "      <td>753</td>\n",
       "    </tr>\n",
       "    <tr>\n",
       "      <th>FruMA_repressed</th>\n",
       "      <td>204</td>\n",
       "    </tr>\n",
       "    <tr>\n",
       "      <th>FruMB_induced</th>\n",
       "      <td>740</td>\n",
       "    </tr>\n",
       "    <tr>\n",
       "      <th>FruMB_repressed</th>\n",
       "      <td>259</td>\n",
       "    </tr>\n",
       "    <tr>\n",
       "      <th>FruMC_induced</th>\n",
       "      <td>928</td>\n",
       "    </tr>\n",
       "    <tr>\n",
       "      <th>FruMC_repressed</th>\n",
       "      <td>295</td>\n",
       "    </tr>\n",
       "  </tbody>\n",
       "</table>\n",
       "</div>"
      ],
      "text/plain": [
       "                 count\n",
       "FruMA_induced      753\n",
       "FruMA_repressed    204\n",
       "FruMB_induced      740\n",
       "FruMB_repressed    259\n",
       "FruMC_induced      928\n",
       "FruMC_repressed    295"
      ]
     },
     "execution_count": 148,
     "metadata": {},
     "output_type": "execute_result"
    }
   ],
   "source": [
    "pd.DataFrame(pd.concat([fruMADiff[['FruMA_induced', 'FruMA_repressed']].sum(), \n",
    "                        fruMBDiff[['FruMB_induced', 'FruMB_repressed']].sum(), \n",
    "                        fruMCDiff[['FruMC_induced', 'FruMC_repressed']].sum()]),\n",
    "            columns=['count'])"
   ]
  },
  {
   "cell_type": "markdown",
   "metadata": {},
   "source": [
    "Only *fru* and *schnurri* were found to be differential expressed. However, the cutoffs are conservative and this is adult heads."
   ]
  },
  {
   "cell_type": "code",
   "execution_count": 131,
   "metadata": {
    "collapsed": false
   },
   "outputs": [
    {
     "data": {
      "text/html": [
       "<script type=\"text/javascript\">\n",
       "if ($(\"#dg-css\").length == 0){\n",
       "    $(\"head\").append([\n",
       "        \"<link href='https://cdn.rawgit.com/quantopian/qgrid/master/qgrid/qgridjs//lib/slick.grid.css' rel='stylesheet'>\",\n",
       "        \"<link href='https://cdn.rawgit.com/quantopian/qgrid/master/qgrid/qgridjs//lib/slick-default-theme.css' rel='stylesheet'>\",\n",
       "        \"<link href='http://cdnjs.cloudflare.com/ajax/libs/jqueryui/1.10.4/css/jquery-ui.min.css' rel='stylesheet'>\",\n",
       "        \"<link id='dg-css' href='https://cdn.rawgit.com/quantopian/qgrid/master/qgrid/qgridjs//qgrid.css' rel='stylesheet'>\"\n",
       "    ]);\n",
       "}\n",
       "</script>\n",
       "<div class='q-grid-container'>\n",
       "<div id='25731d94-272f-462d-bb10-c4c83b62be79' class='q-grid'></div>\n",
       "</div>"
      ]
     },
     "metadata": {},
     "output_type": "display_data"
    },
    {
     "data": {
      "application/javascript": [
       "var path_dictionary = {\n",
       "    jquery_drag: \"https://cdn.rawgit.com/quantopian/qgrid/master/qgrid/qgridjs//lib/jquery.event.drag-2.2\",\n",
       "    slick_core: \"https://cdn.rawgit.com/quantopian/qgrid/master/qgrid/qgridjs//lib/slick.core.2.2\",\n",
       "    slick_data_view: \"https://cdn.rawgit.com/quantopian/qgrid/master/qgrid/qgridjs//lib/slick.dataview.2.2\",\n",
       "    slick_check_box_column: \"https://cdn.rawgit.com/quantopian/qgrid/master/qgrid/qgridjs//lib/slick.checkboxselectcolumn\",\n",
       "    slick_row_selection_model: \"https://cdn.rawgit.com/quantopian/qgrid/master/qgrid/qgridjs//lib/slick.rowselectionmodel\",\n",
       "    slick_grid: \"https://cdn.rawgit.com/quantopian/qgrid/master/qgrid/qgridjs//lib/slick.grid.2.2\",\n",
       "    data_grid: \"https://cdn.rawgit.com/quantopian/qgrid/master/qgrid/qgridjs//qgrid\",\n",
       "    date_filter: \"https://cdn.rawgit.com/quantopian/qgrid/master/qgrid/qgridjs//qgrid.datefilter\",\n",
       "    slider_filter: \"https://cdn.rawgit.com/quantopian/qgrid/master/qgrid/qgridjs//qgrid.sliderfilter\",\n",
       "    text_filter: \"https://cdn.rawgit.com/quantopian/qgrid/master/qgrid/qgridjs//qgrid.textfilter\",\n",
       "    filter_base:  \"https://cdn.rawgit.com/quantopian/qgrid/master/qgrid/qgridjs//qgrid.filterbase\",\n",
       "    handlebars: \"https://cdnjs.cloudflare.com/ajax/libs/handlebars.js/2.0.0/handlebars.min\"\n",
       "};\n",
       "\n",
       "var existing_config = require.s.contexts._.config;\n",
       "if (!existing_config.paths['underscore']){\n",
       "    path_dictionary['underscore'] = \"https://cdnjs.cloudflare.com/ajax/libs/underscore.js/1.7.0/underscore-min\";\n",
       "}\n",
       "\n",
       "if (!existing_config.paths['moment']){\n",
       "    path_dictionary['moment'] = \"https://cdnjs.cloudflare.com/ajax/libs/moment.js/2.8.3/moment.min\";\n",
       "}\n",
       "\n",
       "if (!existing_config.paths['jqueryui']){\n",
       "    path_dictionary['jqueryui'] = \"https://ajax.googleapis.com/ajax/libs/jqueryui/1.11.1/jquery-ui.min\";\n",
       "}\n",
       "\n",
       "require.config({\n",
       "    paths: path_dictionary\n",
       "});\n",
       "\n",
       "if (typeof jQuery === 'function') {\n",
       "    define('jquery', function() { return jQuery; });\n",
       "}\n",
       "\n",
       "require([\n",
       "    'jquery',\n",
       "    'jquery_drag',\n",
       "    'slick_core',\n",
       "    'slick_data_view'\n",
       "],\n",
       "function($){\n",
       "    $('#25731d94-272f-462d-bb10-c4c83b62be79').closest('.rendered_html').removeClass('rendered_html');\n",
       "    require([\n",
       "      'slick_check_box_column',\n",
       "      'slick_row_selection_model',\n",
       "      'slick_grid'\n",
       "    ], function(){\n",
       "        require([\"data_grid\"], function(dgrid){\n",
       "            var grid = new dgrid.QGrid('#25731d94-272f-462d-bb10-c4c83b62be79', [{\"FBgn\":\"FBgn0004652\",\"symbol\":\"fru\",\"name\":\"fruitless\",\"FruMA_induced\":1,\"FruMA_repressed\":0,\"FruMB_induced\":1,\"FruMB_repressed\":0,\"FruMC_induced\":1,\"FruMC_repressed\":0},{\"FBgn\":\"FBgn0003396\",\"symbol\":\"shn\",\"name\":\"schnurri\",\"FruMA_induced\":1,\"FruMA_repressed\":0,\"FruMB_induced\":1,\"FruMB_repressed\":0,\"FruMC_induced\":1,\"FruMC_repressed\":0}], [{\"field\": \"FBgn\"}, {\"field\": \"symbol\"}, {\"field\": \"name\"}, {\"field\": \"FruMA_induced\", \"type\": \"Integer\"}, {\"field\": \"FruMA_repressed\", \"type\": \"Integer\"}, {\"field\": \"FruMB_induced\", \"type\": \"Integer\"}, {\"field\": \"FruMB_repressed\", \"type\": \"Integer\"}, {\"field\": \"FruMC_induced\", \"type\": \"Integer\"}, {\"field\": \"FruMC_repressed\", \"type\": \"Integer\"}]);\n",
       "            grid.initialize_slick_grid({\"enableTextSelectionOnCells\": true, \"defaultColumnWidth\": 150, \"enableColumnReorder\": false, \"rowHeight\": 28, \"syncColumnCellResize\": true, \"editable\": false, \"forceFitColumns\": true, \"fullWidthRows\": true, \"autoEdit\": false});\n",
       "        });\n",
       "    });\n",
       "});\n"
      ]
     },
     "metadata": {},
     "output_type": "display_data"
    }
   ],
   "source": [
    "qgrid.QGridWidget(df=merged.set_index('FBgn')).export()"
   ]
  },
  {
   "cell_type": "markdown",
   "metadata": {},
   "source": [
    "# Other Network Information"
   ]
  },
  {
   "cell_type": "markdown",
   "metadata": {},
   "source": [
    "Next I wanted to look at http://genemania.org which has some nice network representations from different types of data. Edges are colored by the type of data (e.g. co-expresison, predicted interactions, genetic interactions, co-localization, physical interactions, shared domains). First I looked at the *fru* network. However, none of the other genes in the list are in this network."
   ]
  },
  {
   "cell_type": "code",
   "execution_count": 161,
   "metadata": {
    "code_folding": [
     0
    ],
    "collapsed": false
   },
   "outputs": [
    {
     "data": {
      "text/html": [
       "\n",
       "        <iframe\n",
       "            width=\"900\"\n",
       "            height=\"900\"\n",
       "            src=\"http://genemania.org/link?o=7227&g=fru\"\n",
       "            frameborder=\"0\"\n",
       "            allowfullscreen\n",
       "        ></iframe>\n",
       "        "
      ],
      "text/plain": [
       "<IPython.lib.display.IFrame at 0x145cf5128>"
      ]
     },
     "execution_count": 161,
     "metadata": {},
     "output_type": "execute_result"
    }
   ],
   "source": [
    "# Fru network\n",
    "IFrame('http://genemania.org/link?o=7227&g=fru', 900,900)"
   ]
  },
  {
   "cell_type": "markdown",
   "metadata": {},
   "source": [
    "Next I give genemania the gene list. Here genes from Yijie's list are large and hashed circles. Most of the relationships are co-expression patterns (pink lines). In this network *fru* is related to *Df31* expression patterns. *Df31* in turn is co-expressed/co-localized with a number of genes from the list. Not surprisingly this would indicate that some of the relationships we are seeing in the gene list are a potentially indirect effects."
   ]
  },
  {
   "cell_type": "code",
   "execution_count": 159,
   "metadata": {
    "code_folding": [
     0
    ],
    "collapsed": false
   },
   "outputs": [
    {
     "data": {
      "text/html": [
       "\n",
       "        <iframe\n",
       "            width=\"900\"\n",
       "            height=\"900\"\n",
       "            src=\"http://genemania.org/link?o=7227&g=FBgn0032517|FBgn0004652|FBgn0030082|FBgn0038244|FBgn0003396|FBgn0037877|FBgn0264075|FBgn0033993|FBgn0034946|FBgn0050011|FBgn0034012|FBgn0053554|FBgn0037931|FBgn0033569|FBgn0038551|FBgn0033581|FBgn0034722|FBgn0004597|FBgn0004362|FBgn0037619|FBgn0265784|FBgn0037876|FBgn0261793|FBgn0032512|FBgn0022893|FBgn0035160|FBgn0002914|FBgn0041205|FBgn0021738\"\n",
       "            frameborder=\"0\"\n",
       "            allowfullscreen\n",
       "        ></iframe>\n",
       "        "
      ],
      "text/plain": [
       "<IPython.lib.display.IFrame at 0x11592a208>"
      ]
     },
     "execution_count": 159,
     "metadata": {},
     "output_type": "execute_result"
    }
   ],
   "source": [
    "# Gene list network\n",
    "IFrame('http://genemania.org/link?o=7227&g={genes}'.format(genes='|'.join(df2['FBgn'].tolist())), 1000,900)"
   ]
  },
  {
   "cell_type": "code",
   "execution_count": null,
   "metadata": {
    "collapsed": true
   },
   "outputs": [],
   "source": []
  }
 ],
 "metadata": {
  "anaconda-cloud": {},
  "kernelspec": {
   "display_name": "Python [conda env:s2rnai]",
   "language": "python",
   "name": "conda-env-s2rnai-py"
  },
  "language_info": {
   "codemirror_mode": {
    "name": "ipython",
    "version": 3
   },
   "file_extension": ".py",
   "mimetype": "text/x-python",
   "name": "python",
   "nbconvert_exporter": "python",
   "pygments_lexer": "ipython3",
   "version": "3.5.2"
  },
  "nav_menu": {},
  "report": {
   "author": "Justin M Fear",
   "date": "2016-08-30",
   "email": "justin.fear@nih.gov",
   "title": "Sanity check of <i>fruitless</i> targets."
  },
  "toc": {
   "navigate_menu": true,
   "number_sections": false,
   "sideBar": true,
   "threshold": 6,
   "toc_cell": false,
   "toc_section_display": "block",
   "toc_window_display": true
  }
 },
 "nbformat": 4,
 "nbformat_minor": 1
}
