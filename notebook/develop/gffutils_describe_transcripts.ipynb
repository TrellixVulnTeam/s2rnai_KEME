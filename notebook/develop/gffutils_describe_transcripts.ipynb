{
 "cells": [
  {
   "cell_type": "code",
   "execution_count": 1,
   "metadata": {
    "collapsed": true
   },
   "outputs": [],
   "source": [
    "import gffutils\n",
    "import pybedtools\n",
    "import pandas as pd\n",
    "import seaborn as sb\n",
    "import matplotlib.pyplot as plt\n",
    "%matplotlib inline "
   ]
  },
  {
   "cell_type": "code",
   "execution_count": 2,
   "metadata": {},
   "outputs": [
    {
     "name": "stderr",
     "output_type": "stream",
     "text": [
      "/Users/bergeric/miniconda3/lib/python3.5/site-packages/gffutils/interface.py:161: UserWarning: It appears that this database has not had the ANALYZE sqlite3 command run on it. Doing so can dramatically speed up queries, and is done by default for databases created with gffutils >0.8.7.1 (this database was created with version 0.8.7.1) Consider calling the analyze() method of this object.\n",
      "  \"method of this object.\" % self.version)\n"
     ]
    }
   ],
   "source": [
    "db = gffutils.FeatureDB('/Volumes/Promise_Pegasus/LCDB/lcdb-references/dmel/r6-11/gtf/dmel_r6-11.gtf.db')"
   ]
  },
  {
   "cell_type": "code",
   "execution_count": 3,
   "metadata": {},
   "outputs": [
    {
     "name": "stdout",
     "output_type": "stream",
     "text": [
      "3UTR\n",
      "5UTR\n",
      "CDS\n",
      "exon\n",
      "gene\n",
      "mRNA\n",
      "miRNA\n",
      "ncRNA\n",
      "pre_miRNA\n",
      "pseudogene\n",
      "rRNA\n",
      "snRNA\n",
      "snoRNA\n",
      "start_codon\n",
      "stop_codon\n",
      "tRNA\n",
      "transcript\n"
     ]
    }
   ],
   "source": [
    "for a in db.featuretypes():\n",
    "    print(a)"
   ]
  },
  {
   "cell_type": "code",
   "execution_count": 4,
   "metadata": {},
   "outputs": [
    {
     "name": "stdout",
     "output_type": "stream",
     "text": [
      "chrX\tFlyBase\tgene\t19961297\t19969323\t.\t+\t.\tgene_id \"FBgn0031081\"; gene_symbol \"Nep3\";\n"
     ]
    }
   ],
   "source": [
    "for y in db.features_of_type('gene'):\n",
    "    print(y)\n",
    "    break"
   ]
  },
  {
   "cell_type": "code",
   "execution_count": 5,
   "metadata": {},
   "outputs": [],
   "source": [
    "#number of transcripts per gene\n",
    "table1 = []\n",
    "for gene in db.features_of_type('gene'): \n",
    "    name = gene.id\n",
    "    transcript = db.children(gene, featuretype='transcript')\n",
    "    transcriptnum = len(list(transcript))\n",
    "    row = [name, transcriptnum]\n",
    "    table1.append(row)\n",
    "    "
   ]
  },
  {
   "cell_type": "code",
   "execution_count": 6,
   "metadata": {},
   "outputs": [
    {
     "data": {
      "text/html": [
       "<div>\n",
       "<style>\n",
       "    .dataframe thead tr:only-child th {\n",
       "        text-align: right;\n",
       "    }\n",
       "\n",
       "    .dataframe thead th {\n",
       "        text-align: left;\n",
       "    }\n",
       "\n",
       "    .dataframe tbody tr th {\n",
       "        vertical-align: top;\n",
       "    }\n",
       "</style>\n",
       "<table border=\"1\" class=\"dataframe\">\n",
       "  <thead>\n",
       "    <tr style=\"text-align: right;\">\n",
       "      <th></th>\n",
       "      <th>gene</th>\n",
       "      <th>#transcripts</th>\n",
       "    </tr>\n",
       "  </thead>\n",
       "  <tbody>\n",
       "    <tr>\n",
       "      <th>0</th>\n",
       "      <td>FBgn0031081</td>\n",
       "      <td>3</td>\n",
       "    </tr>\n",
       "    <tr>\n",
       "      <th>1</th>\n",
       "      <td>FBgn0052826</td>\n",
       "      <td>1</td>\n",
       "    </tr>\n",
       "    <tr>\n",
       "      <th>2</th>\n",
       "      <td>FBgn0031085</td>\n",
       "      <td>1</td>\n",
       "    </tr>\n",
       "    <tr>\n",
       "      <th>3</th>\n",
       "      <td>FBgn0062565</td>\n",
       "      <td>1</td>\n",
       "    </tr>\n",
       "    <tr>\n",
       "      <th>4</th>\n",
       "      <td>FBgn0031088</td>\n",
       "      <td>2</td>\n",
       "    </tr>\n",
       "  </tbody>\n",
       "</table>\n",
       "</div>"
      ],
      "text/plain": [
       "          gene  #transcripts\n",
       "0  FBgn0031081             3\n",
       "1  FBgn0052826             1\n",
       "2  FBgn0031085             1\n",
       "3  FBgn0062565             1\n",
       "4  FBgn0031088             2"
      ]
     },
     "execution_count": 6,
     "metadata": {},
     "output_type": "execute_result"
    }
   ],
   "source": [
    "df1 = pd.DataFrame(table1, columns=['gene','#transcripts'])\n",
    "df1.head()"
   ]
  },
  {
   "cell_type": "code",
   "execution_count": 7,
   "metadata": {},
   "outputs": [
    {
     "data": {
      "text/plain": [
       "<matplotlib.axes._subplots.AxesSubplot at 0x110722a58>"
      ]
     },
     "execution_count": 7,
     "metadata": {},
     "output_type": "execute_result"
    },
    {
     "data": {
      "image/png": "[encoded data removed]",
      "text/plain": [
       "<matplotlib.figure.Figure at 0x1068a4828>"
      ]
     },
     "metadata": {},
     "output_type": "display_data"
    }
   ],
   "source": [
    "sb.violinplot(df1['#transcripts'])"
   ]
  },
  {
   "cell_type": "code",
   "execution_count": 8,
   "metadata": {},
   "outputs": [],
   "source": [
    "newdf = df1.describe()"
   ]
  },
  {
   "cell_type": "code",
   "execution_count": 9,
   "metadata": {},
   "outputs": [
    {
     "name": "stdout",
     "output_type": "stream",
     "text": [
      "3UTR\n",
      "5UTR\n",
      "CDS\n",
      "exon\n",
      "gene\n",
      "mRNA\n",
      "miRNA\n",
      "ncRNA\n",
      "pre_miRNA\n",
      "pseudogene\n",
      "rRNA\n",
      "snRNA\n",
      "snoRNA\n",
      "start_codon\n",
      "stop_codon\n",
      "tRNA\n",
      "transcript\n"
     ]
    }
   ],
   "source": [
    "introns = list(db.create_introns(exon_featuretype='exon',grandparent_featuretype=None,parent_featuretype='transcript'))\n",
    "for a in db.featuretypes():\n",
    "    print(a)"
   ]
  },
  {
   "cell_type": "code",
   "execution_count": 10,
   "metadata": {},
   "outputs": [
    {
     "name": "stdout",
     "output_type": "stream",
     "text": [
      "chrX\tFlyBase\tmRNA\t19961689\t19968479\t15\t+\t.\ttranscript_symbol \"Nep3-RA\"; transcript_id \"FBtr0070000\"; gene_id \"FBgn0031081\"; gene_symbol \"Nep3\";\n"
     ]
    }
   ],
   "source": [
    "for x in db.features_of_type('mRNA'):\n",
    "    print(x)\n",
    "    break"
   ]
  },
  {
   "cell_type": "code",
   "execution_count": 11,
   "metadata": {},
   "outputs": [
    {
     "name": "stdout",
     "output_type": "stream",
     "text": [
      "chrX\tgffutils_derived\ttranscript\t19961689\t19968479\t.\t+\t.\ttranscript_id \"FBtr0070000\"; gene_id \"FBgn0031081\";\n"
     ]
    }
   ],
   "source": [
    "for x in db.features_of_type('transcript'): \n",
    "    if x.id=='FBtr0070000':\n",
    "        print(x)"
   ]
  },
  {
   "cell_type": "code",
   "execution_count": 12,
   "metadata": {},
   "outputs": [
    {
     "data": {
      "text/plain": [
       "'FBtr0301831'"
      ]
     },
     "execution_count": 12,
     "metadata": {},
     "output_type": "execute_result"
    }
   ],
   "source": [
    "x.id"
   ]
  },
  {
   "cell_type": "code",
   "execution_count": 13,
   "metadata": {},
   "outputs": [],
   "source": [
    "table = []\n",
    "flag = False\n",
    "for trns in db.features_of_type('transcript'):\n",
    "    name = trns.id\n",
    "    exons = list(db.children(trns, featuretype='exon'))\n",
    "  \n",
    "    #ints = list(db.children(trns, featuretype='intron'))\n",
    "    # length of 1st exon for each transcript\n",
    "    firstex = exons[0]\n",
    "    exlen = firstex.end - firstex.start\n",
    "    # number of introns/exons\n",
    "    numex = len(exons)\n",
    "    numin = (numex - 1)\n",
    "    stuff = [name, exlen, numex, numin]\n",
    "    table.append(stuff) "
   ]
  },
  {
   "cell_type": "code",
   "execution_count": 14,
   "metadata": {},
   "outputs": [
    {
     "data": {
      "text/html": [
       "<div>\n",
       "<style>\n",
       "    .dataframe thead tr:only-child th {\n",
       "        text-align: right;\n",
       "    }\n",
       "\n",
       "    .dataframe thead th {\n",
       "        text-align: left;\n",
       "    }\n",
       "\n",
       "    .dataframe tbody tr th {\n",
       "        vertical-align: top;\n",
       "    }\n",
       "</style>\n",
       "<table border=\"1\" class=\"dataframe\">\n",
       "  <thead>\n",
       "    <tr style=\"text-align: right;\">\n",
       "      <th></th>\n",
       "      <th>transcript</th>\n",
       "      <th>1st_ex_len</th>\n",
       "      <th>#ex</th>\n",
       "      <th>#int</th>\n",
       "    </tr>\n",
       "  </thead>\n",
       "  <tbody>\n",
       "    <tr>\n",
       "      <th>0</th>\n",
       "      <td>FBtr0081624</td>\n",
       "      <td>298</td>\n",
       "      <td>1</td>\n",
       "      <td>0</td>\n",
       "    </tr>\n",
       "    <tr>\n",
       "      <th>1</th>\n",
       "      <td>FBtr0071763</td>\n",
       "      <td>240</td>\n",
       "      <td>10</td>\n",
       "      <td>9</td>\n",
       "    </tr>\n",
       "    <tr>\n",
       "      <th>2</th>\n",
       "      <td>FBtr0071764</td>\n",
       "      <td>818</td>\n",
       "      <td>9</td>\n",
       "      <td>8</td>\n",
       "    </tr>\n",
       "    <tr>\n",
       "      <th>3</th>\n",
       "      <td>FBtr0100521</td>\n",
       "      <td>58</td>\n",
       "      <td>10</td>\n",
       "      <td>9</td>\n",
       "    </tr>\n",
       "    <tr>\n",
       "      <th>4</th>\n",
       "      <td>FBtr0342981</td>\n",
       "      <td>58</td>\n",
       "      <td>9</td>\n",
       "      <td>8</td>\n",
       "    </tr>\n",
       "  </tbody>\n",
       "</table>\n",
       "</div>"
      ],
      "text/plain": [
       "    transcript  1st_ex_len  #ex  #int\n",
       "0  FBtr0081624         298    1     0\n",
       "1  FBtr0071763         240   10     9\n",
       "2  FBtr0071764         818    9     8\n",
       "3  FBtr0100521          58   10     9\n",
       "4  FBtr0342981          58    9     8"
      ]
     },
     "execution_count": 14,
     "metadata": {},
     "output_type": "execute_result"
    }
   ],
   "source": [
    "df = pd.DataFrame(table, columns=['transcript','1st_ex_len','#ex','#int'])\n",
    "df.head()"
   ]
  },
  {
   "cell_type": "code",
   "execution_count": null,
   "metadata": {},
   "outputs": [],
   "source": [
    "tlist = df['transcript']"
   ]
  },
  {
   "cell_type": "code",
   "execution_count": null,
   "metadata": {},
   "outputs": [],
   "source": [
    "# length of coding sequence \n",
    "table2 = []\n",
    "cdslen = 0\n",
    "for x in tlist:\n",
    "    if list(db.children(x, featuretype='CDS')): \n",
    "        for i in db.children(x, featuretype='CDS'):\n",
    "            len1 = (len(i) - 1 )\n",
    "            cdslen += len1\n",
    "    else:     \n",
    "        cdslen = 0\n",
    "    \n",
    "    newline = [x, cdslen]\n",
    "    table2.append(newline)"
   ]
  },
  {
   "cell_type": "code",
   "execution_count": null,
   "metadata": {},
   "outputs": [],
   "source": [
    "# length of utrs using transcript\n",
    "table3 = []\n",
    "utrlen = 0\n",
    "for x in tlist: \n",
    "    if list(db.children(x, featuretype='3UTR')):\n",
    "        for utr in db.children(x, featuretype='3UTR'):\n",
    "            len2 = len(utr) - 1 \n",
    "            utrlen += len2\n",
    "    else:\n",
    "        utrlen = 0\n",
    "    newline = [x, utrlen]\n",
    "    table3.append(newline)"
   ]
  },
  {
   "cell_type": "code",
   "execution_count": null,
   "metadata": {
    "collapsed": true
   },
   "outputs": [],
   "source": [
    "table4 = []\n",
    "utrlen = 0\n",
    "for x in tlist: \n",
    "    if list(db.children(x, featuretype='5UTR')):\n",
    "        for utr in db.children(x, featuretype='5UTR'):\n",
    "            len2 = len(utr) - 1 \n",
    "            utrlen += len2\n",
    "    else:\n",
    "        utrlen = 0\n",
    "    newline = [x, utrlen]\n",
    "    table4.append(newline)"
   ]
  },
  {
   "cell_type": "code",
   "execution_count": null,
   "metadata": {},
   "outputs": [],
   "source": [
    "#mrna utrs\n",
    "table4 = []\n",
    "utrln=0\n",
    "for x in db.features_of_type('mRNA'):\n",
    "    for utr in db.region(x, featuretype='3UTR'):\n",
    "        ln = len(utr) - 1\n",
    "        utrln += ln\n",
    "    newline = [x, utrln]\n",
    "    table4.append(newline)\n",
    "        "
   ]
  },
  {
   "cell_type": "code",
   "execution_count": null,
   "metadata": {},
   "outputs": [],
   "source": [
    "utr3frame = pd.DataFrame(table3, columns=['transcript','3UTR_len'])\n",
    "utr5frame = pd.DataFrame(table4, columns=['transcript','5UTR_len'])\n",
    "utr3frame.head()"
   ]
  },
  {
   "cell_type": "code",
   "execution_count": null,
   "metadata": {
    "collapsed": true
   },
   "outputs": [],
   "source": []
  },
  {
   "cell_type": "code",
   "execution_count": null,
   "metadata": {},
   "outputs": [],
   "source": [
    "df3 = pd.DataFrame(table2, columns=['transcript','cds_len'])\n",
    "df3"
   ]
  },
  {
   "cell_type": "code",
   "execution_count": null,
   "metadata": {},
   "outputs": [],
   "source": [
    "df3['cds_len'].sort_values()"
   ]
  },
  {
   "cell_type": "code",
   "execution_count": null,
   "metadata": {},
   "outputs": [],
   "source": [
    "bigdf = df.merge(df3, how='left', on='transcript').merge(utr3frame, how='left', on='transcript').merge(utr5frame,how='left', on='transcript')\n",
    "bigdf.head()"
   ]
  },
  {
   "cell_type": "code",
   "execution_count": null,
   "metadata": {},
   "outputs": [],
   "source": [
    "pd.concat([bigdf.describe(), newdf], axis=1)"
   ]
  },
  {
   "cell_type": "code",
   "execution_count": null,
   "metadata": {
    "collapsed": true
   },
   "outputs": [],
   "source": []
  }
 ],
 "metadata": {
  "kernelspec": {
   "display_name": "Python 3",
   "language": "python",
   "name": "python3"
  },
  "language_info": {
   "codemirror_mode": {
    "name": "ipython",
    "version": 3
   },
   "file_extension": ".py",
   "mimetype": "text/x-python",
   "name": "python",
   "nbconvert_exporter": "python",
   "pygments_lexer": "ipython3",
   "version": "3.5.4"
  }
 },
 "nbformat": 4,
 "nbformat_minor": 2
}
