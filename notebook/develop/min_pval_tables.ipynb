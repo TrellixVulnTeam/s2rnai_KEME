{
 "cells": [
  {
   "cell_type": "markdown",
   "metadata": {},
   "source": [
    "# Big fimo output table cleanup\n",
    "\n",
    "The \"distribution_qvals_dmmpmm\" notebook worked to create a big table containing information from five different motif databases. This notebook will clean up, collapse, and work with this big table. \n",
    "\n",
    "First, I'll import the table as a dataframe: "
   ]
  },
  {
   "cell_type": "code",
   "execution_count": 1,
   "metadata": {
    "collapsed": true
   },
   "outputs": [],
   "source": [
    "import pandas as pd\n",
    "import numpy as np\n",
    "import seaborn as sb\n",
    "import matplotlib.pyplot as plt\n",
    "%matplotlib inline "
   ]
  },
  {
   "cell_type": "code",
   "execution_count": 6,
   "metadata": {},
   "outputs": [
    {
     "name": "stderr",
     "output_type": "stream",
     "text": [
      "/Users/bergeric/miniconda3/lib/python3.5/site-packages/numpy/lib/arraysetops.py:395: FutureWarning: elementwise comparison failed; returning scalar instead, but in the future will perform elementwise comparison\n",
      "  mask |= (ar1 == a)\n"
     ]
    }
   ],
   "source": [
    "bigtable = pd.read_csv('/../../output/concat.txt', sep='\\t', index_col=0)"
   ]
  },
  {
   "cell_type": "markdown",
   "metadata": {},
   "source": [
    "Collapsing over motif: "
   ]
  },
  {
   "cell_type": "code",
   "execution_count": 21,
   "metadata": {
    "collapsed": true
   },
   "outputs": [],
   "source": [
    "bigtable['motif_hits'] = 0\n",
    "grp=bigtable.groupby(['motif_FBgn','target_gene','source','#hits'])"
   ]
  },
  {
   "cell_type": "code",
   "execution_count": 22,
   "metadata": {
    "collapsed": true
   },
   "outputs": [],
   "source": [
    "agg=grp.agg({'min_pval': ['min'], 'motif_hits': 'count'})"
   ]
  },
  {
   "cell_type": "code",
   "execution_count": 23,
   "metadata": {
    "collapsed": true
   },
   "outputs": [],
   "source": [
    "agg.columns = ['min_pval', 'motif_hits'] "
   ]
  },
  {
   "cell_type": "code",
   "execution_count": 28,
   "metadata": {
    "collapsed": true
   },
   "outputs": [],
   "source": [
    "agg2 = agg.reset_index()"
   ]
  },
  {
   "cell_type": "code",
   "execution_count": 29,
   "metadata": {
    "collapsed": true
   },
   "outputs": [],
   "source": [
    "agg2.columns = ['motif_FBgn','target_gene','source','pos_hits','min_pval', 'motif_hits']"
   ]
  },
  {
   "cell_type": "code",
   "execution_count": 31,
   "metadata": {},
   "outputs": [
    {
     "data": {
      "text/html": [
       "<div>\n",
       "<style>\n",
       "    .dataframe thead tr:only-child th {\n",
       "        text-align: right;\n",
       "    }\n",
       "\n",
       "    .dataframe thead th {\n",
       "        text-align: left;\n",
       "    }\n",
       "\n",
       "    .dataframe tbody tr th {\n",
       "        vertical-align: top;\n",
       "    }\n",
       "</style>\n",
       "<table border=\"1\" class=\"dataframe\">\n",
       "  <thead>\n",
       "    <tr style=\"text-align: right;\">\n",
       "      <th></th>\n",
       "      <th>motif_FBgn</th>\n",
       "      <th>target_gene</th>\n",
       "      <th>source</th>\n",
       "      <th>pos_hits</th>\n",
       "      <th>min_pval</th>\n",
       "      <th>motif_hits</th>\n",
       "    </tr>\n",
       "  </thead>\n",
       "  <tbody>\n",
       "    <tr>\n",
       "      <th>0</th>\n",
       "      <td>FBgn0000014</td>\n",
       "      <td>FBgn0000003</td>\n",
       "      <td>flyReg</td>\n",
       "      <td>1</td>\n",
       "      <td>0.000027</td>\n",
       "      <td>1</td>\n",
       "    </tr>\n",
       "    <tr>\n",
       "      <th>1</th>\n",
       "      <td>FBgn0000014</td>\n",
       "      <td>FBgn0000003</td>\n",
       "      <td>onTheFly</td>\n",
       "      <td>1</td>\n",
       "      <td>0.000022</td>\n",
       "      <td>2</td>\n",
       "    </tr>\n",
       "    <tr>\n",
       "      <th>2</th>\n",
       "      <td>FBgn0000014</td>\n",
       "      <td>FBgn0000008</td>\n",
       "      <td>flyFactor</td>\n",
       "      <td>26</td>\n",
       "      <td>0.000118</td>\n",
       "      <td>1</td>\n",
       "    </tr>\n",
       "    <tr>\n",
       "      <th>3</th>\n",
       "      <td>FBgn0000014</td>\n",
       "      <td>FBgn0000008</td>\n",
       "      <td>flyReg</td>\n",
       "      <td>21</td>\n",
       "      <td>0.000027</td>\n",
       "      <td>1</td>\n",
       "    </tr>\n",
       "    <tr>\n",
       "      <th>4</th>\n",
       "      <td>FBgn0000014</td>\n",
       "      <td>FBgn0000008</td>\n",
       "      <td>idmmpmm</td>\n",
       "      <td>26</td>\n",
       "      <td>0.000027</td>\n",
       "      <td>1</td>\n",
       "    </tr>\n",
       "  </tbody>\n",
       "</table>\n",
       "</div>"
      ],
      "text/plain": [
       "    motif_FBgn  target_gene     source  pos_hits  min_pval  motif_hits\n",
       "0  FBgn0000014  FBgn0000003     flyReg         1  0.000027           1\n",
       "1  FBgn0000014  FBgn0000003   onTheFly         1  0.000022           2\n",
       "2  FBgn0000014  FBgn0000008  flyFactor        26  0.000118           1\n",
       "3  FBgn0000014  FBgn0000008     flyReg        21  0.000027           1\n",
       "4  FBgn0000014  FBgn0000008    idmmpmm        26  0.000027           1"
      ]
     },
     "execution_count": 31,
     "metadata": {},
     "output_type": "execute_result"
    }
   ],
   "source": [
    "agg2.head()"
   ]
  },
  {
   "cell_type": "markdown",
   "metadata": {},
   "source": [
    "Collapsing over database: "
   ]
  },
  {
   "cell_type": "code",
   "execution_count": 47,
   "metadata": {
    "collapsed": true
   },
   "outputs": [],
   "source": [
    "#agg2['sum_pos_hits'] = 0\n",
    "#agg2['sum_motif_hits'] = 0 \n",
    "grp2 = agg2.groupby(['motif_FBgn','target_gene'])"
   ]
  },
  {
   "cell_type": "code",
   "execution_count": 48,
   "metadata": {
    "collapsed": true
   },
   "outputs": [],
   "source": [
    "agg3 = grp2.agg({'min_pval':['min'], 'pos_hits':['sum'],'motif_hits':['sum']})"
   ]
  },
  {
   "cell_type": "code",
   "execution_count": 49,
   "metadata": {
    "collapsed": true
   },
   "outputs": [],
   "source": [
    "agg3.columns = ['min_pval', 'sum_motif_hits', 'sum_pos_hits'] "
   ]
  },
  {
   "cell_type": "code",
   "execution_count": 50,
   "metadata": {
    "collapsed": true
   },
   "outputs": [],
   "source": [
    "agg4 = agg3.reset_index()"
   ]
  },
  {
   "cell_type": "code",
   "execution_count": 57,
   "metadata": {},
   "outputs": [
    {
     "data": {
      "text/html": [
       "<div>\n",
       "<style>\n",
       "    .dataframe thead tr:only-child th {\n",
       "        text-align: right;\n",
       "    }\n",
       "\n",
       "    .dataframe thead th {\n",
       "        text-align: left;\n",
       "    }\n",
       "\n",
       "    .dataframe tbody tr th {\n",
       "        vertical-align: top;\n",
       "    }\n",
       "</style>\n",
       "<table border=\"1\" class=\"dataframe\">\n",
       "  <thead>\n",
       "    <tr style=\"text-align: right;\">\n",
       "      <th></th>\n",
       "      <th>motif_FBgn</th>\n",
       "      <th>motif_symbol</th>\n",
       "      <th>target_gene</th>\n",
       "      <th>min_pval</th>\n",
       "      <th>sum_motif_hits</th>\n",
       "      <th>sum_pos_hits</th>\n",
       "    </tr>\n",
       "  </thead>\n",
       "  <tbody>\n",
       "    <tr>\n",
       "      <th>0</th>\n",
       "      <td>FBgn0000014</td>\n",
       "      <td>abd-A</td>\n",
       "      <td>FBgn0000003</td>\n",
       "      <td>0.000022</td>\n",
       "      <td>3</td>\n",
       "      <td>2</td>\n",
       "    </tr>\n",
       "    <tr>\n",
       "      <th>1</th>\n",
       "      <td>FBgn0000014</td>\n",
       "      <td>abd-A</td>\n",
       "      <td>FBgn0000008</td>\n",
       "      <td>0.000022</td>\n",
       "      <td>7</td>\n",
       "      <td>151</td>\n",
       "    </tr>\n",
       "    <tr>\n",
       "      <th>2</th>\n",
       "      <td>FBgn0000014</td>\n",
       "      <td>abd-A</td>\n",
       "      <td>FBgn0000014</td>\n",
       "      <td>0.000022</td>\n",
       "      <td>7</td>\n",
       "      <td>121</td>\n",
       "    </tr>\n",
       "    <tr>\n",
       "      <th>3</th>\n",
       "      <td>FBgn0000014</td>\n",
       "      <td>abd-A</td>\n",
       "      <td>FBgn0000015</td>\n",
       "      <td>0.000022</td>\n",
       "      <td>7</td>\n",
       "      <td>202</td>\n",
       "    </tr>\n",
       "    <tr>\n",
       "      <th>4</th>\n",
       "      <td>FBgn0000014</td>\n",
       "      <td>abd-A</td>\n",
       "      <td>FBgn0000017</td>\n",
       "      <td>0.000022</td>\n",
       "      <td>7</td>\n",
       "      <td>95</td>\n",
       "    </tr>\n",
       "  </tbody>\n",
       "</table>\n",
       "</div>"
      ],
      "text/plain": [
       "    motif_FBgn motif_symbol  target_gene  min_pval  sum_motif_hits  \\\n",
       "0  FBgn0000014        abd-A  FBgn0000003  0.000022               3   \n",
       "1  FBgn0000014        abd-A  FBgn0000008  0.000022               7   \n",
       "2  FBgn0000014        abd-A  FBgn0000014  0.000022               7   \n",
       "3  FBgn0000014        abd-A  FBgn0000015  0.000022               7   \n",
       "4  FBgn0000014        abd-A  FBgn0000017  0.000022               7   \n",
       "\n",
       "   sum_pos_hits  \n",
       "0             2  \n",
       "1           151  \n",
       "2           121  \n",
       "3           202  \n",
       "4            95  "
      ]
     },
     "execution_count": 57,
     "metadata": {},
     "output_type": "execute_result"
    }
   ],
   "source": [
    "#add column for motif_symbol\n",
    "symbolmap = pd.read_table('/data/LCDB/lcdb-references/dmel/r6-11/gtf/dmel_r6-11.SYMBOL.csv', sep=',', na_values='NA', keep_default_na=False) \n",
    "update = agg4.merge(symbolmap, left_on='motif_FBgn', right_on='ENSEMBL', how='left')\n",
    "update = update.rename(columns={'SYMBOL': 'motif_symbol'})\n",
    "trim = update[['motif_FBgn','motif_symbol','target_gene','min_pval','sum_motif_hits','sum_pos_hits']]\n",
    "trim.head()"
   ]
  },
  {
   "cell_type": "code",
   "execution_count": 59,
   "metadata": {
    "collapsed": true
   },
   "outputs": [],
   "source": [
    "#add column for gene_symbol\n",
    "update2 = trim.merge(symbolmap, left_on='target_gene', right_on='ENSEMBL', how='left')\n",
    "update2 = update2.rename(columns={'SYMBOL': 'gene_symbol'})\n",
    "trim2 = update2[['motif_FBgn','motif_symbol','target_gene','gene_symbol','min_pval','sum_motif_hits','sum_pos_hits']]"
   ]
  },
  {
   "cell_type": "code",
   "execution_count": 103,
   "metadata": {
    "scrolled": true
   },
   "outputs": [
    {
     "data": {
      "text/html": [
       "<div>\n",
       "<style>\n",
       "    .dataframe thead tr:only-child th {\n",
       "        text-align: right;\n",
       "    }\n",
       "\n",
       "    .dataframe thead th {\n",
       "        text-align: left;\n",
       "    }\n",
       "\n",
       "    .dataframe tbody tr th {\n",
       "        vertical-align: top;\n",
       "    }\n",
       "</style>\n",
       "<table border=\"1\" class=\"dataframe\">\n",
       "  <thead>\n",
       "    <tr>\n",
       "      <th></th>\n",
       "      <th>sum_motif_hits</th>\n",
       "    </tr>\n",
       "    <tr>\n",
       "      <th></th>\n",
       "      <th>count</th>\n",
       "    </tr>\n",
       "  </thead>\n",
       "  <tbody>\n",
       "    <tr>\n",
       "      <th>count</th>\n",
       "      <td>17659.000000</td>\n",
       "    </tr>\n",
       "    <tr>\n",
       "      <th>mean</th>\n",
       "      <td>264.822810</td>\n",
       "    </tr>\n",
       "    <tr>\n",
       "      <th>std</th>\n",
       "      <td>265.228333</td>\n",
       "    </tr>\n",
       "    <tr>\n",
       "      <th>min</th>\n",
       "      <td>13.000000</td>\n",
       "    </tr>\n",
       "    <tr>\n",
       "      <th>25%</th>\n",
       "      <td>216.000000</td>\n",
       "    </tr>\n",
       "    <tr>\n",
       "      <th>50%</th>\n",
       "      <td>247.000000</td>\n",
       "    </tr>\n",
       "    <tr>\n",
       "      <th>75%</th>\n",
       "      <td>283.000000</td>\n",
       "    </tr>\n",
       "    <tr>\n",
       "      <th>max</th>\n",
       "      <td>5681.000000</td>\n",
       "    </tr>\n",
       "  </tbody>\n",
       "</table>\n",
       "</div>"
      ],
      "text/plain": [
       "      sum_motif_hits\n",
       "               count\n",
       "count   17659.000000\n",
       "mean      264.822810\n",
       "std       265.228333\n",
       "min        13.000000\n",
       "25%       216.000000\n",
       "50%       247.000000\n",
       "75%       283.000000\n",
       "max      5681.000000"
      ]
     },
     "execution_count": 103,
     "metadata": {},
     "output_type": "execute_result"
    }
   ],
   "source": [
    "trim2.groupby(['target_gene']).agg({'sum_motif_hits':['count']}).describe()"
   ]
  },
  {
   "cell_type": "code",
   "execution_count": 104,
   "metadata": {},
   "outputs": [
    {
     "data": {
      "text/plain": [
       "299"
      ]
     },
     "execution_count": 104,
     "metadata": {},
     "output_type": "execute_result"
    }
   ],
   "source": [
    "len(trim2.motif_FBgn.unique())"
   ]
  },
  {
   "cell_type": "code",
   "execution_count": null,
   "metadata": {
    "collapsed": true
   },
   "outputs": [],
   "source": [
    "trim2.to_csv('/../../output/concat.txt', sep='\\t')"
   ]
  }
 ],
 "metadata": {
  "kernelspec": {
   "display_name": "Python 3",
   "language": "python",
   "name": "python3"
  },
  "language_info": {
   "codemirror_mode": {
    "name": "ipython",
    "version": 3
   },
   "file_extension": ".py",
   "mimetype": "text/x-python",
   "name": "python",
   "nbconvert_exporter": "python",
   "pygments_lexer": "ipython3",
   "version": "3.5.4"
  }
 },
 "nbformat": 4,
 "nbformat_minor": 2
}
