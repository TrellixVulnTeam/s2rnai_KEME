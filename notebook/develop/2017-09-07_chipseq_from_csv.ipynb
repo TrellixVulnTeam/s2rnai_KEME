{
 "cells": [
  {
   "cell_type": "markdown",
   "metadata": {},
   "source": [
    "New chip seq notebook: \n",
    "- All of the datasets downloaded in previous notebook lacked information\n",
    "- I think that the excel files have information I need, which means I need to redo all of the work from the other notebook with downloaded excel files as pandas dataframes\n",
    "- 166 chipseq d. mel datasets from modENCODE\n",
    "- Only downloading 159 of those because modMINE lacks information for the rest (see no_data list)"
   ]
  },
  {
   "cell_type": "code",
   "execution_count": 1,
   "metadata": {
    "collapsed": true
   },
   "outputs": [],
   "source": [
    "import pandas as pd\n",
    "import urllib\n",
    "import os\n",
    "from urllib.request import urlopen"
   ]
  },
  {
   "cell_type": "code",
   "execution_count": 2,
   "metadata": {},
   "outputs": [
    {
     "ename": "IndexError",
     "evalue": "list index out of range",
     "output_type": "error",
     "traceback": [
      "\u001b[0;31m---------------------------------------------------------------------------\u001b[0m",
      "\u001b[0;31mIndexError\u001b[0m                                Traceback (most recent call last)",
      "\u001b[0;32m<ipython-input-2-5274d0cce74f>\u001b[0m in \u001b[0;36m<module>\u001b[0;34m()\u001b[0m\n\u001b[1;32m      6\u001b[0m \u001b[0;32mfor\u001b[0m \u001b[0mline\u001b[0m \u001b[0;32min\u001b[0m \u001b[0mpage\u001b[0m\u001b[0;34m:\u001b[0m\u001b[0;34m\u001b[0m\u001b[0m\n\u001b[1;32m      7\u001b[0m     \u001b[0;32mif\u001b[0m \u001b[0;32mnot\u001b[0m \u001b[0mline\u001b[0m\u001b[0;34m.\u001b[0m\u001b[0mstartswith\u001b[0m\u001b[0;34m(\u001b[0m\u001b[0;34m'#'\u001b[0m\u001b[0;34m)\u001b[0m\u001b[0;34m:\u001b[0m\u001b[0;34m\u001b[0m\u001b[0m\n\u001b[0;32m----> 8\u001b[0;31m         \u001b[0mmodid\u001b[0m \u001b[0;34m=\u001b[0m \u001b[0mstr\u001b[0m\u001b[0;34m(\u001b[0m\u001b[0mline\u001b[0m\u001b[0;34m.\u001b[0m\u001b[0msplit\u001b[0m\u001b[0;34m(\u001b[0m\u001b[0;34m)\u001b[0m\u001b[0;34m[\u001b[0m\u001b[0;36m0\u001b[0m\u001b[0;34m]\u001b[0m\u001b[0;34m)\u001b[0m \u001b[0;31m#gives an error but still works?\u001b[0m\u001b[0;34m\u001b[0m\u001b[0m\n\u001b[0m\u001b[1;32m      9\u001b[0m         \u001b[0mmodid_list\u001b[0m\u001b[0;34m.\u001b[0m\u001b[0mappend\u001b[0m\u001b[0;34m(\u001b[0m\u001b[0mmodid\u001b[0m\u001b[0;34m)\u001b[0m\u001b[0;34m\u001b[0m\u001b[0m\n",
      "\u001b[0;31mIndexError\u001b[0m: list index out of range"
     ]
    }
   ],
   "source": [
    "url = 'http://data.modencode.org/cgi-bin/cloud_list.pl?accessions=3393,3806,3825,3231,2625,2626,2637,3403,4078,3240,4080,5068,4082,4081,3959,5069,2638,2639,3395,3235,4974,5008,5070,5071,5072,5577,3229,3230,3402,3401,2640,2641,2642,3234,3236,3239,3241,3400,3398,4976,3824,3826,4089,3809,3238,3397,5028,3814,3245,3830,4119,4981,5257,3815,4982,3827,2629,2630,2635,2636,2633,2634,2627,2628,2631,2632,3391,3392,4091,3956,4936,5592,5111,5110,5590,5587,5112,5591,5264,5113,5593,4944,3390,5023,4998,4070,3242,5114,5575,5115,5594,3243,3394,3812,5004,5005,5116,5597,5574,5117,4094,5118,854,858,3233,862,863,856,849,857,855,985,859,860,861,5119,4074,4107,3957,3237,3813,3816,5120,5121,5598,4095,4096,3960,3808,4098,5576,5570,5579,5571,984,850,848,4352,5580,5569,5122,5123,5124,846,847,851,852,853,5125,5126,5599,4099,4071,3232,5568,5014,4103,5017,4069,4104,3958,4716,4105,4943,5127,5606,3396,5128,5024,5025,3399,4114,4113,3823,5029,5129&urls=1'\n",
    "page = urlopen(url).read().decode('utf-8')\n",
    "page = page.split('\\n')\n",
    "\n",
    "modid_list = []\n",
    "for line in page:\n",
    "    if not line.startswith('#'):\n",
    "        modid = str(line.split()[0]) #gives an error but still works? \n",
    "        modid_list.append(modid)"
   ]
  },
  {
   "cell_type": "code",
   "execution_count": 3,
   "metadata": {},
   "outputs": [
    {
     "data": {
      "text/plain": [
       "176"
      ]
     },
     "execution_count": 3,
     "metadata": {},
     "output_type": "execute_result"
    }
   ],
   "source": [
    "len(set(modid_list))"
   ]
  },
  {
   "cell_type": "code",
   "execution_count": 8,
   "metadata": {
    "collapsed": true
   },
   "outputs": [],
   "source": [
    "#define 18? ids that modmine has no data for (unknown reasons...)\n",
    "no_data = ['2635', '2625', '2637', '2631', '3806', '2632', '3827', '3826', '3235', '3236', '3823', '3824', '3825', '2640', '3231', '3397', '3233', '2628'] "
   ]
  },
  {
   "cell_type": "code",
   "execution_count": 11,
   "metadata": {
    "code_folding": [],
    "collapsed": true
   },
   "outputs": [],
   "source": [
    "PATH = '../../data/modENCODE_downloads_2ndtry/'\n",
    "DWNLD1 = 'http://intermine.modencode.org/release-33/features.do?type=submission&action=export&format=csv&submission=modENCODE_'\n",
    "DWNLD2 = '&feature=BindingSite'\n",
    "os.makedirs(PATH, exist_ok=True)\n",
    "\n",
    "done = []\n",
    "for name in modid_list: \n",
    "    if name not in no_data: \n",
    "        if name not in done: \n",
    "            #try:\n",
    "            urllib.request.urlretrieve(DWNLD1+name+DWNLD2, PATH+name) \n",
    "            done.append(name)\n",
    "            #except          "
   ]
  },
  {
   "cell_type": "markdown",
   "metadata": {},
   "source": [
    "After the download:\n",
    "- combine files to make one big file\n",
    "- get as bed file\n",
    "- do liftover\n",
    "- intersect w gene bed file (one idea: if it's too hard to get these as beds, could use data from before and merge on location) \n",
    "- clean up table\n",
    "- phantom peak overlap? "
   ]
  },
  {
   "cell_type": "code",
   "execution_count": 9,
   "metadata": {},
   "outputs": [],
   "source": [
    "#combine files into one: \n",
    "concat=[]\n",
    "import glob\n",
    "for fname in glob.glob('../../data/modENCODE_downloads_2ndtry/[0-9]*'):\n",
    "    name = os.path.splitext(os.path.basename(fname))[0]\n",
    "    if name not in no_data:\n",
    "        df = pd.read_csv(fname)\n",
    "        #df.astype(int)\n",
    "        #df[2]\n",
    "        concat.append(df)     "
   ]
  },
  {
   "cell_type": "code",
   "execution_count": 10,
   "metadata": {
    "collapsed": true
   },
   "outputs": [],
   "source": [
    "big = pd.concat(concat)\n",
    "big.to_csv('../../data/modENCODE_downloads_2ndtry/modENCODE_big', sep='\\t', na_rep=':.', header=None, index=False)"
   ]
  },
  {
   "cell_type": "code",
   "execution_count": 3,
   "metadata": {},
   "outputs": [],
   "source": [
    "#get gene file as a bed:\n",
    "import pybedtools\n",
    "from pybedtools import BedTool\n",
    "from pybedtools.featurefuncs import gff2bed\n",
    "genes = BedTool('../../data/dmel-all-r6.12.gene_only.chr.gff')\n",
    "genes_bed = genes.each(gff2bed, name_field='ID').saveas()"
   ]
  },
  {
   "cell_type": "code",
   "execution_count": 13,
   "metadata": {
    "collapsed": true
   },
   "outputs": [],
   "source": [
    "#make new id column (set to name/4th column)\n",
    "#make this a bed and add chr to chromosome \n",
    "big.columns = ['DB_id','score','chrom','start','end','strand','modENCODE_id','type','name']"
   ]
  },
  {
   "cell_type": "code",
   "execution_count": 14,
   "metadata": {
    "collapsed": true
   },
   "outputs": [],
   "source": [
    "big['id'] = ['id='+str(x) for x in range(0, len(big.score))]"
   ]
  },
  {
   "cell_type": "code",
   "execution_count": 15,
   "metadata": {
    "collapsed": true
   },
   "outputs": [],
   "source": [
    "big['chrom'] = ['chr'+x for x in big['chrom']]"
   ]
  },
  {
   "cell_type": "code",
   "execution_count": 122,
   "metadata": {
    "collapsed": true
   },
   "outputs": [],
   "source": [
    "bigsub = big[['chrom','start','end','id']]\n",
    "bigsub.to_csv('../../data/modENCODE_downloads_2ndtry/modENCODE_big.bed', sep='\\t', header=None, index=False)"
   ]
  },
  {
   "cell_type": "code",
   "execution_count": 123,
   "metadata": {
    "collapsed": true
   },
   "outputs": [],
   "source": [
    "#do liftover"
   ]
  },
  {
   "cell_type": "code",
   "execution_count": 12,
   "metadata": {
    "collapsed": true
   },
   "outputs": [],
   "source": [
    "#import liftover file, bed intersect\n",
    "with open('../../data/modENCODE_downloads_2ndtry/modENCODE_big.liftover') as f: \n",
    "    peaks_bed = BedTool(f)\n",
    "    intersect = genes_bed.intersect(peaks_bed, wb=True).saveas()\n",
    "    intdf = intersect.to_dataframe()\n",
    "#then merge back on location to get all the info"
   ]
  },
  {
   "cell_type": "code",
   "execution_count": 5,
   "metadata": {
    "collapsed": true
   },
   "outputs": [],
   "source": [
    "trim = intdf[['chrom','start','end','name','score','strand','blockCount']]"
   ]
  },
  {
   "cell_type": "code",
   "execution_count": 16,
   "metadata": {},
   "outputs": [
    {
     "data": {
      "text/html": [
       "<div>\n",
       "<style>\n",
       "    .dataframe thead tr:only-child th {\n",
       "        text-align: right;\n",
       "    }\n",
       "\n",
       "    .dataframe thead th {\n",
       "        text-align: left;\n",
       "    }\n",
       "\n",
       "    .dataframe tbody tr th {\n",
       "        vertical-align: top;\n",
       "    }\n",
       "</style>\n",
       "<table border=\"1\" class=\"dataframe\">\n",
       "  <thead>\n",
       "    <tr style=\"text-align: right;\">\n",
       "      <th></th>\n",
       "      <th>chrom_x</th>\n",
       "      <th>start_x</th>\n",
       "      <th>end_x</th>\n",
       "      <th>name_x</th>\n",
       "      <th>score_x</th>\n",
       "      <th>strand_x</th>\n",
       "      <th>blockCount</th>\n",
       "      <th>DB_id</th>\n",
       "      <th>score_y</th>\n",
       "      <th>chrom_y</th>\n",
       "      <th>start_y</th>\n",
       "      <th>end_y</th>\n",
       "      <th>strand_y</th>\n",
       "      <th>modENCODE_id</th>\n",
       "      <th>type</th>\n",
       "      <th>name_y</th>\n",
       "      <th>id</th>\n",
       "    </tr>\n",
       "  </thead>\n",
       "  <tbody>\n",
       "    <tr>\n",
       "      <th>0</th>\n",
       "      <td>chr2L</td>\n",
       "      <td>7528</td>\n",
       "      <td>8128</td>\n",
       "      <td>FBgn0031208</td>\n",
       "      <td>.</td>\n",
       "      <td>+</td>\n",
       "      <td>id=280047</td>\n",
       "      <td>Trithorax_like_WPP_ChIP_chip.gff_ID000002</td>\n",
       "      <td>51.150000</td>\n",
       "      <td>chr2L</td>\n",
       "      <td>7492</td>\n",
       "      <td>8128</td>\n",
       "      <td>0</td>\n",
       "      <td>modENCODE_3830</td>\n",
       "      <td>strain</td>\n",
       "      <td>yellow cinnabar brown speck</td>\n",
       "      <td>id=280047</td>\n",
       "    </tr>\n",
       "    <tr>\n",
       "      <th>1</th>\n",
       "      <td>chr2L</td>\n",
       "      <td>7528</td>\n",
       "      <td>8128</td>\n",
       "      <td>FBgn0031208</td>\n",
       "      <td>.</td>\n",
       "      <td>+</td>\n",
       "      <td>id=280048</td>\n",
       "      <td>Trithorax_like_WPP_ChIP_chip.gff_ID000002</td>\n",
       "      <td>51.150000</td>\n",
       "      <td>chr2L</td>\n",
       "      <td>7492</td>\n",
       "      <td>8128</td>\n",
       "      <td>0</td>\n",
       "      <td>modENCODE_3830</td>\n",
       "      <td>developmental stage</td>\n",
       "      <td>L3 stage larvae</td>\n",
       "      <td>id=280048</td>\n",
       "    </tr>\n",
       "    <tr>\n",
       "      <th>2</th>\n",
       "      <td>chr2L</td>\n",
       "      <td>7528</td>\n",
       "      <td>8128</td>\n",
       "      <td>FBgn0031208</td>\n",
       "      <td>.</td>\n",
       "      <td>+</td>\n",
       "      <td>id=280049</td>\n",
       "      <td>Trithorax_like_WPP_ChIP_chip.gff_ID000002</td>\n",
       "      <td>51.150000</td>\n",
       "      <td>chr2L</td>\n",
       "      <td>7492</td>\n",
       "      <td>8128</td>\n",
       "      <td>0</td>\n",
       "      <td>modENCODE_3830</td>\n",
       "      <td>antibody</td>\n",
       "      <td>KW3-Trl-D2</td>\n",
       "      <td>id=280049</td>\n",
       "    </tr>\n",
       "    <tr>\n",
       "      <th>3</th>\n",
       "      <td>chr2L</td>\n",
       "      <td>7528</td>\n",
       "      <td>9484</td>\n",
       "      <td>FBgn0031208</td>\n",
       "      <td>.</td>\n",
       "      <td>+</td>\n",
       "      <td>id=383688</td>\n",
       "      <td>Solexa_Pc_14_16_hr_OR_embryo.gff_ID000002</td>\n",
       "      <td>1.986896</td>\n",
       "      <td>chr2L</td>\n",
       "      <td>5038</td>\n",
       "      <td>13342</td>\n",
       "      <td>0</td>\n",
       "      <td>modENCODE_3957</td>\n",
       "      <td>strain</td>\n",
       "      <td>Oregon-R-modENCODE</td>\n",
       "      <td>id=383688</td>\n",
       "    </tr>\n",
       "    <tr>\n",
       "      <th>4</th>\n",
       "      <td>chr2L</td>\n",
       "      <td>7528</td>\n",
       "      <td>9484</td>\n",
       "      <td>FBgn0031208</td>\n",
       "      <td>.</td>\n",
       "      <td>+</td>\n",
       "      <td>id=383689</td>\n",
       "      <td>Solexa_Pc_14_16_hr_OR_embryo.gff_ID000002</td>\n",
       "      <td>1.986896</td>\n",
       "      <td>chr2L</td>\n",
       "      <td>5038</td>\n",
       "      <td>13342</td>\n",
       "      <td>0</td>\n",
       "      <td>modENCODE_3957</td>\n",
       "      <td>developmental stage</td>\n",
       "      <td>Embryo 14-16hr OR</td>\n",
       "      <td>id=383689</td>\n",
       "    </tr>\n",
       "  </tbody>\n",
       "</table>\n",
       "</div>"
      ],
      "text/plain": [
       "  chrom_x  start_x  end_x       name_x score_x strand_x blockCount  \\\n",
       "0   chr2L     7528   8128  FBgn0031208       .        +  id=280047   \n",
       "1   chr2L     7528   8128  FBgn0031208       .        +  id=280048   \n",
       "2   chr2L     7528   8128  FBgn0031208       .        +  id=280049   \n",
       "3   chr2L     7528   9484  FBgn0031208       .        +  id=383688   \n",
       "4   chr2L     7528   9484  FBgn0031208       .        +  id=383689   \n",
       "\n",
       "                                       DB_id    score_y chrom_y start_y  \\\n",
       "0  Trithorax_like_WPP_ChIP_chip.gff_ID000002  51.150000   chr2L    7492   \n",
       "1  Trithorax_like_WPP_ChIP_chip.gff_ID000002  51.150000   chr2L    7492   \n",
       "2  Trithorax_like_WPP_ChIP_chip.gff_ID000002  51.150000   chr2L    7492   \n",
       "3  Solexa_Pc_14_16_hr_OR_embryo.gff_ID000002   1.986896   chr2L    5038   \n",
       "4  Solexa_Pc_14_16_hr_OR_embryo.gff_ID000002   1.986896   chr2L    5038   \n",
       "\n",
       "   end_y strand_y    modENCODE_id                 type  \\\n",
       "0   8128        0  modENCODE_3830               strain   \n",
       "1   8128        0  modENCODE_3830  developmental stage   \n",
       "2   8128        0  modENCODE_3830             antibody   \n",
       "3  13342        0  modENCODE_3957               strain   \n",
       "4  13342        0  modENCODE_3957  developmental stage   \n",
       "\n",
       "                        name_y         id  \n",
       "0  yellow cinnabar brown speck  id=280047  \n",
       "1              L3 stage larvae  id=280048  \n",
       "2                   KW3-Trl-D2  id=280049  \n",
       "3           Oregon-R-modENCODE  id=383688  \n",
       "4            Embryo 14-16hr OR  id=383689  "
      ]
     },
     "execution_count": 16,
     "metadata": {},
     "output_type": "execute_result"
    }
   ],
   "source": [
    "merge = trim.merge(big, left_on='blockCount', right_on='id', how='left')\n",
    "merge.head()"
   ]
  },
  {
   "cell_type": "code",
   "execution_count": 18,
   "metadata": {
    "collapsed": true
   },
   "outputs": [],
   "source": [
    "another = merge[['chrom_x', 'start_x', 'end_x', 'name_x', 'strand_x', 'blockCount', 'DB_id', 'score_y','modENCODE_id', 'type', 'name_y']]\n",
    "another.columns=['chrom','start','end','gene','strand','id','DB_id','score','modENCODE_id','type','name']      "
   ]
  },
  {
   "cell_type": "code",
   "execution_count": 19,
   "metadata": {},
   "outputs": [
    {
     "data": {
      "text/plain": [
       "150"
      ]
     },
     "execution_count": 19,
     "metadata": {},
     "output_type": "execute_result"
    }
   ],
   "source": [
    "len(another.modENCODE_id.unique())"
   ]
  },
  {
   "cell_type": "code",
   "execution_count": 258,
   "metadata": {},
   "outputs": [
    {
     "data": {
      "text/html": [
       "<div>\n",
       "<style>\n",
       "    .dataframe thead tr:only-child th {\n",
       "        text-align: right;\n",
       "    }\n",
       "\n",
       "    .dataframe thead th {\n",
       "        text-align: left;\n",
       "    }\n",
       "\n",
       "    .dataframe tbody tr th {\n",
       "        vertical-align: top;\n",
       "    }\n",
       "</style>\n",
       "<table border=\"1\" class=\"dataframe\">\n",
       "  <thead>\n",
       "    <tr style=\"text-align: right;\">\n",
       "      <th></th>\n",
       "      <th>chrom</th>\n",
       "      <th>start</th>\n",
       "      <th>end</th>\n",
       "      <th>gene</th>\n",
       "      <th>strand</th>\n",
       "      <th>id</th>\n",
       "      <th>DB_id</th>\n",
       "      <th>score</th>\n",
       "      <th>modENCODE_id</th>\n",
       "      <th>type</th>\n",
       "      <th>name</th>\n",
       "    </tr>\n",
       "  </thead>\n",
       "  <tbody>\n",
       "    <tr>\n",
       "      <th>0</th>\n",
       "      <td>chr2L</td>\n",
       "      <td>7528</td>\n",
       "      <td>8128</td>\n",
       "      <td>FBgn0031208</td>\n",
       "      <td>+</td>\n",
       "      <td>id=280047</td>\n",
       "      <td>Trithorax_like_WPP_ChIP_chip.gff_ID000002</td>\n",
       "      <td>51.150000</td>\n",
       "      <td>modENCODE_3830</td>\n",
       "      <td>strain</td>\n",
       "      <td>yellow cinnabar brown speck</td>\n",
       "    </tr>\n",
       "    <tr>\n",
       "      <th>1</th>\n",
       "      <td>chr2L</td>\n",
       "      <td>7528</td>\n",
       "      <td>8128</td>\n",
       "      <td>FBgn0031208</td>\n",
       "      <td>+</td>\n",
       "      <td>id=280048</td>\n",
       "      <td>Trithorax_like_WPP_ChIP_chip.gff_ID000002</td>\n",
       "      <td>51.150000</td>\n",
       "      <td>modENCODE_3830</td>\n",
       "      <td>developmental stage</td>\n",
       "      <td>L3 stage larvae</td>\n",
       "    </tr>\n",
       "    <tr>\n",
       "      <th>2</th>\n",
       "      <td>chr2L</td>\n",
       "      <td>7528</td>\n",
       "      <td>8128</td>\n",
       "      <td>FBgn0031208</td>\n",
       "      <td>+</td>\n",
       "      <td>id=280049</td>\n",
       "      <td>Trithorax_like_WPP_ChIP_chip.gff_ID000002</td>\n",
       "      <td>51.150000</td>\n",
       "      <td>modENCODE_3830</td>\n",
       "      <td>antibody</td>\n",
       "      <td>KW3-Trl-D2</td>\n",
       "    </tr>\n",
       "    <tr>\n",
       "      <th>3</th>\n",
       "      <td>chr2L</td>\n",
       "      <td>7528</td>\n",
       "      <td>9484</td>\n",
       "      <td>FBgn0031208</td>\n",
       "      <td>+</td>\n",
       "      <td>id=383688</td>\n",
       "      <td>Solexa_Pc_14_16_hr_OR_embryo.gff_ID000002</td>\n",
       "      <td>1.986896</td>\n",
       "      <td>modENCODE_3957</td>\n",
       "      <td>strain</td>\n",
       "      <td>Oregon-R-modENCODE</td>\n",
       "    </tr>\n",
       "    <tr>\n",
       "      <th>4</th>\n",
       "      <td>chr2L</td>\n",
       "      <td>7528</td>\n",
       "      <td>9484</td>\n",
       "      <td>FBgn0031208</td>\n",
       "      <td>+</td>\n",
       "      <td>id=383689</td>\n",
       "      <td>Solexa_Pc_14_16_hr_OR_embryo.gff_ID000002</td>\n",
       "      <td>1.986896</td>\n",
       "      <td>modENCODE_3957</td>\n",
       "      <td>developmental stage</td>\n",
       "      <td>Embryo 14-16hr OR</td>\n",
       "    </tr>\n",
       "  </tbody>\n",
       "</table>\n",
       "</div>"
      ],
      "text/plain": [
       "   chrom  start   end         gene strand         id  \\\n",
       "0  chr2L   7528  8128  FBgn0031208      +  id=280047   \n",
       "1  chr2L   7528  8128  FBgn0031208      +  id=280048   \n",
       "2  chr2L   7528  8128  FBgn0031208      +  id=280049   \n",
       "3  chr2L   7528  9484  FBgn0031208      +  id=383688   \n",
       "4  chr2L   7528  9484  FBgn0031208      +  id=383689   \n",
       "\n",
       "                                       DB_id      score    modENCODE_id  \\\n",
       "0  Trithorax_like_WPP_ChIP_chip.gff_ID000002  51.150000  modENCODE_3830   \n",
       "1  Trithorax_like_WPP_ChIP_chip.gff_ID000002  51.150000  modENCODE_3830   \n",
       "2  Trithorax_like_WPP_ChIP_chip.gff_ID000002  51.150000  modENCODE_3830   \n",
       "3  Solexa_Pc_14_16_hr_OR_embryo.gff_ID000002   1.986896  modENCODE_3957   \n",
       "4  Solexa_Pc_14_16_hr_OR_embryo.gff_ID000002   1.986896  modENCODE_3957   \n",
       "\n",
       "                  type                         name  \n",
       "0               strain  yellow cinnabar brown speck  \n",
       "1  developmental stage              L3 stage larvae  \n",
       "2             antibody                   KW3-Trl-D2  \n",
       "3               strain           Oregon-R-modENCODE  \n",
       "4  developmental stage            Embryo 14-16hr OR  "
      ]
     },
     "execution_count": 258,
     "metadata": {},
     "output_type": "execute_result"
    }
   ],
   "source": [
    "another.head()"
   ]
  },
  {
   "cell_type": "code",
   "execution_count": 21,
   "metadata": {
    "collapsed": true
   },
   "outputs": [],
   "source": [
    "happy = another.set_index(\n",
    "    ['modENCODE_id','DB_id','score','chrom','start','end','strand','gene','type']).pivot_table(\n",
    "        columns='type', index=['DB_id','score','chrom','start','end','strand','modENCODE_id','gene'], \n",
    "        values='name',aggfunc='first')"
   ]
  },
  {
   "cell_type": "code",
   "execution_count": 22,
   "metadata": {
    "collapsed": true
   },
   "outputs": [],
   "source": [
    "happy = happy.reset_index()"
   ]
  },
  {
   "cell_type": "code",
   "execution_count": 24,
   "metadata": {},
   "outputs": [
    {
     "data": {
      "text/plain": [
       "array([None, 'Eip74EF', 'Hr78', 'Stat92E', 'usp', 'lola'], dtype=object)"
      ]
     },
     "execution_count": 24,
     "metadata": {},
     "output_type": "execute_result"
    }
   ],
   "source": [
    "happy['target gene'].unique()"
   ]
  },
  {
   "cell_type": "code",
   "execution_count": 259,
   "metadata": {},
   "outputs": [
    {
     "data": {
      "text/plain": [
       "107"
      ]
     },
     "execution_count": 259,
     "metadata": {},
     "output_type": "execute_result"
    }
   ],
   "source": [
    "len(happy['modENCODE_id'].unique())"
   ]
  },
  {
   "cell_type": "code",
   "execution_count": 29,
   "metadata": {},
   "outputs": [],
   "source": [
    "#parse before GFP from DB_id: \n",
    "hopefully_genes = []\n",
    "for item in happy.DB_id:\n",
    "    new = item.split('_GFP')[0]\n",
    "    new = new.split('.gff')[0]\n",
    "    new = new.split('.')[0]\n",
    "    hopefully_genes.append(new)"
   ]
  },
  {
   "cell_type": "code",
   "execution_count": 30,
   "metadata": {},
   "outputs": [
    {
     "data": {
      "text/plain": [
       "105"
      ]
     },
     "execution_count": 30,
     "metadata": {},
     "output_type": "execute_result"
    }
   ],
   "source": [
    "len(set(hopefully_genes))"
   ]
  },
  {
   "cell_type": "code",
   "execution_count": 32,
   "metadata": {
    "collapsed": true
   },
   "outputs": [],
   "source": [
    "# The following two lines will be needed in every python script:\n",
    "from intermine.webservice import Service\n",
    "service = Service(\"http://intermine.modencode.org/release-33/service\")\n",
    "\n",
    "# Get a new query on the class (table) you will be querying:\n",
    "query = service.new_query(\"Submission\")\n",
    "\n",
    "# The view specifies the output columns\n",
    "query.add_view(\"DCCid\", \"assayFactor\")\n",
    "\n",
    "# Uncomment and edit the line below (the default) to select a custom sort order:\n",
    "# query.add_sort_order(\"Submission.DCCid\", \"ASC\")\n",
    "\n",
    "# You can edit the constraint values below\n",
    "query.add_constraint(\"experimentType\", \"=\", \"ChIP-seq\", code = \"A\")\n",
    "query.add_constraint(\"organism.commonName\", \"=\", \"fruit fly\", code = \"B\")\n",
    "#query.add_constraint(\"lab.name\", \"=\", \"Kevin White\", code = \"C\")\n",
    "\n",
    "# Uncomment and edit the code below to specify your own custom logic:\n",
    "# query.set_logic(\"A and B and C\")\n",
    "table = []\n",
    "for row in query.rows():\n",
    "    newline = [row[\"DCCid\"], row[\"assayFactor\"]]\n",
    "    table.append(newline)"
   ]
  },
  {
   "cell_type": "code",
   "execution_count": 33,
   "metadata": {},
   "outputs": [
    {
     "data": {
      "text/html": [
       "<div>\n",
       "<style>\n",
       "    .dataframe thead tr:only-child th {\n",
       "        text-align: right;\n",
       "    }\n",
       "\n",
       "    .dataframe thead th {\n",
       "        text-align: left;\n",
       "    }\n",
       "\n",
       "    .dataframe tbody tr th {\n",
       "        vertical-align: top;\n",
       "    }\n",
       "</style>\n",
       "<table border=\"1\" class=\"dataframe\">\n",
       "  <thead>\n",
       "    <tr style=\"text-align: right;\">\n",
       "      <th></th>\n",
       "      <th>modENCODE_id</th>\n",
       "      <th>gene</th>\n",
       "    </tr>\n",
       "  </thead>\n",
       "  <tbody>\n",
       "    <tr>\n",
       "      <th>0</th>\n",
       "      <td>modENCODE_2626</td>\n",
       "      <td>Caudal</td>\n",
       "    </tr>\n",
       "    <tr>\n",
       "      <th>1</th>\n",
       "      <td>modENCODE_2627</td>\n",
       "      <td>HDAC4a</td>\n",
       "    </tr>\n",
       "    <tr>\n",
       "      <th>2</th>\n",
       "      <td>modENCODE_2629</td>\n",
       "      <td>HDAC11</td>\n",
       "    </tr>\n",
       "    <tr>\n",
       "      <th>3</th>\n",
       "      <td>modENCODE_2630</td>\n",
       "      <td>HDAC11</td>\n",
       "    </tr>\n",
       "    <tr>\n",
       "      <th>4</th>\n",
       "      <td>modENCODE_2633</td>\n",
       "      <td>HDAC3</td>\n",
       "    </tr>\n",
       "  </tbody>\n",
       "</table>\n",
       "</div>"
      ],
      "text/plain": [
       "     modENCODE_id    gene\n",
       "0  modENCODE_2626  Caudal\n",
       "1  modENCODE_2627  HDAC4a\n",
       "2  modENCODE_2629  HDAC11\n",
       "3  modENCODE_2630  HDAC11\n",
       "4  modENCODE_2633   HDAC3"
      ]
     },
     "execution_count": 33,
     "metadata": {},
     "output_type": "execute_result"
    }
   ],
   "source": [
    "gene_map = pd.DataFrame(table)\n",
    "gene_map.columns = ['modENCODE_id','gene']\n",
    "gene_map.head()"
   ]
  },
  {
   "cell_type": "code",
   "execution_count": 34,
   "metadata": {
    "collapsed": true
   },
   "outputs": [],
   "source": [
    "withmap = happy.merge(gene_map, on='modENCODE_id', how='left')"
   ]
  },
  {
   "cell_type": "code",
   "execution_count": 35,
   "metadata": {
    "collapsed": true
   },
   "outputs": [],
   "source": [
    "withmap.columns = ['DB_id', 'score', 'chrom', 'start', 'end', 'strand', 'modENCODE_id',\n",
    "       'gene', 'antibody', 'cell line', 'developmental stage', 'strain',\n",
    "       'target gene', 'tissue', 'TF']"
   ]
  },
  {
   "cell_type": "code",
   "execution_count": 71,
   "metadata": {
    "collapsed": true
   },
   "outputs": [],
   "source": [
    "#add column for motif_FBgn\n",
    "symbolmap = pd.read_table('/data/LCDB/lcdb-references/dmel/r6-11/gtf/dmel_r6-11.SYMBOL.csv', sep=',') \n",
    "addfbgn = withmap.merge(symbolmap, left_on='TF', right_on='SYMBOL', how='left')\n",
    "addfbgn = addfbgn.rename(columns={'ENSEMBL': 'motif_FBgn'})"
   ]
  },
  {
   "cell_type": "code",
   "execution_count": 72,
   "metadata": {},
   "outputs": [],
   "source": [
    "addfbgn = addfbgn[['DB_id', 'score', 'chrom', 'start', 'end', 'strand', 'modENCODE_id',\n",
    "       'gene', 'antibody', 'cell line', 'developmental stage', 'strain',\n",
    "       'target gene', 'tissue', 'TF', 'motif_FBgn']]"
   ]
  },
  {
   "cell_type": "code",
   "execution_count": 46,
   "metadata": {},
   "outputs": [
    {
     "data": {
      "text/html": [
       "<div>\n",
       "<style>\n",
       "    .dataframe thead tr:only-child th {\n",
       "        text-align: right;\n",
       "    }\n",
       "\n",
       "    .dataframe thead th {\n",
       "        text-align: left;\n",
       "    }\n",
       "\n",
       "    .dataframe tbody tr th {\n",
       "        vertical-align: top;\n",
       "    }\n",
       "</style>\n",
       "<table border=\"1\" class=\"dataframe\">\n",
       "  <thead>\n",
       "    <tr style=\"text-align: right;\">\n",
       "      <th></th>\n",
       "      <th>gene</th>\n",
       "      <th>a</th>\n",
       "      <th>b</th>\n",
       "    </tr>\n",
       "  </thead>\n",
       "  <tbody>\n",
       "    <tr>\n",
       "      <th>0</th>\n",
       "      <td>FBgn0262029</td>\n",
       "      <td>d</td>\n",
       "      <td>dachs</td>\n",
       "    </tr>\n",
       "    <tr>\n",
       "      <th>1</th>\n",
       "      <td>FBgn0052532</td>\n",
       "      <td>CG32532</td>\n",
       "      <td>CG14203,CG14202,CG14201</td>\n",
       "    </tr>\n",
       "    <tr>\n",
       "      <th>2</th>\n",
       "      <td>FBgn0023536</td>\n",
       "      <td>CG3156</td>\n",
       "      <td>EG:171D11.2</td>\n",
       "    </tr>\n",
       "    <tr>\n",
       "      <th>3</th>\n",
       "      <td>FBgn0029718</td>\n",
       "      <td>mRpL30</td>\n",
       "      <td>mitochondrial</td>\n",
       "    </tr>\n",
       "    <tr>\n",
       "      <th>4</th>\n",
       "      <td>FBgn0031101</td>\n",
       "      <td>CG1631</td>\n",
       "      <td>NaN</td>\n",
       "    </tr>\n",
       "  </tbody>\n",
       "</table>\n",
       "</div>"
      ],
      "text/plain": [
       "          gene        a                        b\n",
       "0  FBgn0262029        d                    dachs\n",
       "1  FBgn0052532  CG32532  CG14203,CG14202,CG14201\n",
       "2  FBgn0023536   CG3156              EG:171D11.2\n",
       "3  FBgn0029718   mRpL30            mitochondrial\n",
       "4  FBgn0031101   CG1631                      NaN"
      ]
     },
     "execution_count": 46,
     "metadata": {},
     "output_type": "execute_result"
    }
   ],
   "source": [
    "symbolmap2 = pd.read_table('../../data/fb_synonym.tsv', sep=' ', header=None)\n",
    "symbolmap2.columns = ['gene','a','b']\n",
    "symbolmap2.head()"
   ]
  },
  {
   "cell_type": "code",
   "execution_count": 99,
   "metadata": {},
   "outputs": [
    {
     "name": "stdout",
     "output_type": "stream",
     "text": [
      "Smc3\n",
      "dMi-2\n",
      "Caudal\n",
      "RNA polymerase II CTD repeat YSPTSPS (phospho S5)\n",
      "RNA polymerase II\n",
      "MOF\n",
      "JMJD2A/KDM4A\n",
      "dRING\n",
      "Chriz\n",
      "HP1a\n",
      "NURF301\n",
      "LSD1\n",
      "dSFMBT\n",
      "POF\n",
      "RNA polymerase II CTD repeat YSPTSPS (phospho S2)\n",
      "DLL\n",
      "CP190\n",
      "Su(Hw)\n",
      "dm\n",
      "RPD3\n",
      "GROUCHO\n",
      "Yki\n",
      "CG16778\n",
      "GAF\n",
      "HP2\n",
      "ZW5\n",
      "JHDM1\n"
     ]
    }
   ],
   "source": [
    "for val in set(addfbgn.TF):\n",
    "    if val not in list(symbolmap2.a):\n",
    "        if val not in list(symbolmap2.b):\n",
    "            print(val)\n",
    "    "
   ]
  },
  {
   "cell_type": "markdown",
   "metadata": {},
   "source": [
    "Change all of the incorrect gene names so that symbolmap2 can recognize them: "
   ]
  },
  {
   "cell_type": "code",
   "execution_count": 151,
   "metadata": {
    "collapsed": true
   },
   "outputs": [],
   "source": [
    "addfbgn_copy = addfbgn.copy()"
   ]
  },
  {
   "cell_type": "code",
   "execution_count": 203,
   "metadata": {},
   "outputs": [],
   "source": [
    "addfbgn_copy.loc[addfbgn.TF == 'dMi-2','TF'] = 'Mi-2'\n",
    "addfbgn_copy.loc[addfbgn.TF == 'Smc3','TF'] = 'SMC3'\n",
    "addfbgn_copy.loc[addfbgn.TF == 'Caudal','TF'] = 'caudal'\n",
    "addfbgn_copy.loc[addfbgn.TF == 'MOF','TF'] = 'mof'\n",
    "addfbgn_copy.loc[addfbgn.TF == 'JMJD2A/KDM4A','TF'] = 'Kdm4A'\n",
    "addfbgn_copy.loc[addfbgn.TF == 'dRING','TF'] = 'Sce'\n",
    "addfbgn_copy.loc[addfbgn.TF == 'Chriz','TF'] = 'Chro'\n",
    "addfbgn_copy.loc[addfbgn.TF == 'HP1a','TF'] = 'Su(var)205'\n",
    "addfbgn_copy.loc[addfbgn.TF == 'LSD1','TF'] = 'Su(var)3-3'\n",
    "addfbgn_copy.loc[addfbgn.TF == 'POF','TF'] = 'Pof'\n",
    "addfbgn_copy.loc[addfbgn.TF == 'DLL','TF'] = 'Dll'\n",
    "addfbgn_copy.loc[addfbgn.TF == 'CP190','TF'] = 'Cp190'\n",
    "addfbgn_copy.loc[addfbgn.TF == 'GROUCHO','TF'] = 'groucho'\n",
    "addfbgn_copy.loc[addfbgn.TF == 'Yki','TF'] = 'yki'\n",
    "addfbgn_copy.loc[addfbgn.TF == 'GAF','TF'] = 'Trl'\n",
    "addfbgn_copy.loc[addfbgn.TF == 'RPD3','TF'] = 'HDAC1'\n",
    "addfbgn_copy.loc[addfbgn.TF == 'HP2','TF'] = 'Su(var)2-HP2'\n",
    "addfbgn_copy.loc[addfbgn.TF == 'Su(Hw)','TF'] = 'su(Hw)'\n",
    "addfbgn_copy.loc[addfbgn.TF == 'NURF301','TF'] = 'E(bx)'\n",
    "addfbgn_copy.loc[addfbgn.TF == 'dSFMBT','TF'] = 'Sfmbt'\n",
    "addfbgn_copy.loc[addfbgn.TF == 'ZW5','TF'] = 'dwg'\n",
    "addfbgn_copy.loc[addfbgn.TF == 'JHDM1','TF'] = 'Kdm2'\n",
    "addfbgn_copy.loc[addfbgn.TF == 'CG16778','TF'] = 'lov'\n",
    "addfbgn_copy.loc[addfbgn.TF == 'dm','TF'] = 'Myc'"
   ]
  },
  {
   "cell_type": "code",
   "execution_count": 204,
   "metadata": {},
   "outputs": [
    {
     "name": "stdout",
     "output_type": "stream",
     "text": [
      "RNA polymerase II CTD repeat YSPTSPS (phospho S5)\n",
      "RNA polymerase II\n",
      "RNA polymerase II CTD repeat YSPTSPS (phospho S2)\n"
     ]
    }
   ],
   "source": [
    "for val in set(addfbgn_copy.TF):\n",
    "    if val not in list(symbolmap2.a):\n",
    "        if val not in list(symbolmap2.b):\n",
    "            print(val)"
   ]
  },
  {
   "cell_type": "code",
   "execution_count": 205,
   "metadata": {},
   "outputs": [],
   "source": [
    "merge2 = addfbgn_copy.merge(symbolmap2, left_on='TF', right_on='a', how='left').merge(symbolmap2, left_on='TF', right_on='b', how='left')"
   ]
  },
  {
   "cell_type": "code",
   "execution_count": 231,
   "metadata": {},
   "outputs": [],
   "source": [
    "merge2.fillna('')\n",
    "merge2['motif_FBgn_sum']= merge2.motif_FBgn.combine_first(merge2.gene).combine_first(merge2.gene_y)"
   ]
  },
  {
   "cell_type": "code",
   "execution_count": 246,
   "metadata": {},
   "outputs": [],
   "source": [
    "almost = merge2[['DB_id', 'score', 'chrom', 'start', 'end', 'strand', 'modENCODE_id',\n",
    "       'gene_x', 'antibody', 'cell line', 'developmental stage', 'strain',\n",
    "       'target gene', 'tissue', 'TF', 'motif_FBgn_sum']]"
   ]
  },
  {
   "cell_type": "code",
   "execution_count": 247,
   "metadata": {},
   "outputs": [
    {
     "data": {
      "text/plain": [
       "63"
      ]
     },
     "execution_count": 247,
     "metadata": {},
     "output_type": "execute_result"
    }
   ],
   "source": [
    "len(almost.motif_FBgn_sum.unique())"
   ]
  },
  {
   "cell_type": "code",
   "execution_count": 249,
   "metadata": {},
   "outputs": [
    {
     "data": {
      "text/html": [
       "<div>\n",
       "<style>\n",
       "    .dataframe thead tr:only-child th {\n",
       "        text-align: right;\n",
       "    }\n",
       "\n",
       "    .dataframe thead th {\n",
       "        text-align: left;\n",
       "    }\n",
       "\n",
       "    .dataframe tbody tr th {\n",
       "        vertical-align: top;\n",
       "    }\n",
       "</style>\n",
       "<table border=\"1\" class=\"dataframe\">\n",
       "  <thead>\n",
       "    <tr style=\"text-align: right;\">\n",
       "      <th></th>\n",
       "      <th>DB_id</th>\n",
       "      <th>score</th>\n",
       "      <th>chrom</th>\n",
       "      <th>start</th>\n",
       "      <th>end</th>\n",
       "      <th>strand</th>\n",
       "      <th>modENCODE_id</th>\n",
       "      <th>gene_x</th>\n",
       "      <th>antibody</th>\n",
       "      <th>cell line</th>\n",
       "      <th>developmental stage</th>\n",
       "      <th>strain</th>\n",
       "      <th>target gene</th>\n",
       "      <th>tissue</th>\n",
       "      <th>TF</th>\n",
       "      <th>motif_FBgn_sum</th>\n",
       "    </tr>\n",
       "  </thead>\n",
       "  <tbody>\n",
       "    <tr>\n",
       "      <th>0</th>\n",
       "      <td>15T_8_16_NW_GFP.1</td>\n",
       "      <td>50.62</td>\n",
       "      <td>chr2L</td>\n",
       "      <td>470602</td>\n",
       "      <td>471025</td>\n",
       "      <td>-</td>\n",
       "      <td>modENCODE_3402</td>\n",
       "      <td>FBgn0031258</td>\n",
       "      <td>No Antibody Control</td>\n",
       "      <td>None</td>\n",
       "      <td>Embryo 8-16 h</td>\n",
       "      <td>hairy-GFP-P[acman]-15T</td>\n",
       "      <td>None</td>\n",
       "      <td>None</td>\n",
       "      <td>hairy</td>\n",
       "      <td>FBgn0001168</td>\n",
       "    </tr>\n",
       "    <tr>\n",
       "      <th>1</th>\n",
       "      <td>15T_8_16_NW_GFP.10</td>\n",
       "      <td>51.05</td>\n",
       "      <td>chr2L</td>\n",
       "      <td>3153151</td>\n",
       "      <td>3153697</td>\n",
       "      <td>-</td>\n",
       "      <td>modENCODE_3402</td>\n",
       "      <td>FBgn0011648</td>\n",
       "      <td>No Antibody Control</td>\n",
       "      <td>None</td>\n",
       "      <td>Embryo 8-16 h</td>\n",
       "      <td>hairy-GFP-P[acman]-15T</td>\n",
       "      <td>None</td>\n",
       "      <td>None</td>\n",
       "      <td>hairy</td>\n",
       "      <td>FBgn0001168</td>\n",
       "    </tr>\n",
       "    <tr>\n",
       "      <th>2</th>\n",
       "      <td>15T_8_16_NW_GFP.101</td>\n",
       "      <td>106.48</td>\n",
       "      <td>chr2R</td>\n",
       "      <td>340719</td>\n",
       "      <td>341071</td>\n",
       "      <td>+</td>\n",
       "      <td>modENCODE_3402</td>\n",
       "      <td>FBgn0267428</td>\n",
       "      <td>No Antibody Control</td>\n",
       "      <td>None</td>\n",
       "      <td>Embryo 8-16 h</td>\n",
       "      <td>hairy-GFP-P[acman]-15T</td>\n",
       "      <td>None</td>\n",
       "      <td>None</td>\n",
       "      <td>hairy</td>\n",
       "      <td>FBgn0001168</td>\n",
       "    </tr>\n",
       "    <tr>\n",
       "      <th>3</th>\n",
       "      <td>15T_8_16_NW_GFP.106</td>\n",
       "      <td>254.37</td>\n",
       "      <td>chr2R</td>\n",
       "      <td>1734635</td>\n",
       "      <td>1735241</td>\n",
       "      <td>+</td>\n",
       "      <td>modENCODE_3402</td>\n",
       "      <td>FBgn0087011</td>\n",
       "      <td>No Antibody Control</td>\n",
       "      <td>None</td>\n",
       "      <td>Embryo 8-16 h</td>\n",
       "      <td>hairy-GFP-P[acman]-15T</td>\n",
       "      <td>None</td>\n",
       "      <td>None</td>\n",
       "      <td>hairy</td>\n",
       "      <td>FBgn0001168</td>\n",
       "    </tr>\n",
       "    <tr>\n",
       "      <th>4</th>\n",
       "      <td>15T_8_16_NW_GFP.107</td>\n",
       "      <td>55.08</td>\n",
       "      <td>chr2R</td>\n",
       "      <td>1878921</td>\n",
       "      <td>1879127</td>\n",
       "      <td>-</td>\n",
       "      <td>modENCODE_3402</td>\n",
       "      <td>FBgn0263780</td>\n",
       "      <td>No Antibody Control</td>\n",
       "      <td>None</td>\n",
       "      <td>Embryo 8-16 h</td>\n",
       "      <td>hairy-GFP-P[acman]-15T</td>\n",
       "      <td>None</td>\n",
       "      <td>None</td>\n",
       "      <td>hairy</td>\n",
       "      <td>FBgn0001168</td>\n",
       "    </tr>\n",
       "  </tbody>\n",
       "</table>\n",
       "</div>"
      ],
      "text/plain": [
       "                 DB_id   score  chrom    start      end strand  \\\n",
       "0    15T_8_16_NW_GFP.1   50.62  chr2L   470602   471025      -   \n",
       "1   15T_8_16_NW_GFP.10   51.05  chr2L  3153151  3153697      -   \n",
       "2  15T_8_16_NW_GFP.101  106.48  chr2R   340719   341071      +   \n",
       "3  15T_8_16_NW_GFP.106  254.37  chr2R  1734635  1735241      +   \n",
       "4  15T_8_16_NW_GFP.107   55.08  chr2R  1878921  1879127      -   \n",
       "\n",
       "     modENCODE_id       gene_x             antibody cell line  \\\n",
       "0  modENCODE_3402  FBgn0031258  No Antibody Control      None   \n",
       "1  modENCODE_3402  FBgn0011648  No Antibody Control      None   \n",
       "2  modENCODE_3402  FBgn0267428  No Antibody Control      None   \n",
       "3  modENCODE_3402  FBgn0087011  No Antibody Control      None   \n",
       "4  modENCODE_3402  FBgn0263780  No Antibody Control      None   \n",
       "\n",
       "  developmental stage                  strain target gene tissue     TF  \\\n",
       "0       Embryo 8-16 h  hairy-GFP-P[acman]-15T        None   None  hairy   \n",
       "1       Embryo 8-16 h  hairy-GFP-P[acman]-15T        None   None  hairy   \n",
       "2       Embryo 8-16 h  hairy-GFP-P[acman]-15T        None   None  hairy   \n",
       "3       Embryo 8-16 h  hairy-GFP-P[acman]-15T        None   None  hairy   \n",
       "4       Embryo 8-16 h  hairy-GFP-P[acman]-15T        None   None  hairy   \n",
       "\n",
       "  motif_FBgn_sum  \n",
       "0    FBgn0001168  \n",
       "1    FBgn0001168  \n",
       "2    FBgn0001168  \n",
       "3    FBgn0001168  \n",
       "4    FBgn0001168  "
      ]
     },
     "execution_count": 249,
     "metadata": {},
     "output_type": "execute_result"
    }
   ],
   "source": [
    "almost.head()"
   ]
  },
  {
   "cell_type": "code",
   "execution_count": 250,
   "metadata": {},
   "outputs": [],
   "source": [
    "almost = almost.rename(columns={'gene_x': 'peak_location_fbgn'})\n",
    "almost = almost.rename(columns={'motif_FBgn_sum': 'TF_fbgn'})"
   ]
  },
  {
   "cell_type": "code",
   "execution_count": 252,
   "metadata": {},
   "outputs": [],
   "source": [
    "#merge to add column for peak_location_symbol\n",
    "almost1 = almost.merge(symbolmap, left_on='peak_location_fbgn', right_on='ENSEMBL', how='left')"
   ]
  },
  {
   "cell_type": "code",
   "execution_count": 253,
   "metadata": {},
   "outputs": [
    {
     "data": {
      "text/plain": [
       "Index(['DB_id', 'score', 'chrom', 'start', 'end', 'strand', 'modENCODE_id',\n",
       "       'peak_location_fbgn', 'antibody', 'cell line', 'developmental stage',\n",
       "       'strain', 'target gene', 'tissue', 'TF', 'TF_fbgn', 'ENSEMBL',\n",
       "       'peak_location_symbol'],\n",
       "      dtype='object')"
      ]
     },
     "execution_count": 253,
     "metadata": {},
     "output_type": "execute_result"
    }
   ],
   "source": [
    "almost1 = almost1.rename(columns={'SYMBOL': 'peak_location_symbol'})\n",
    "almost1.columns"
   ]
  },
  {
   "cell_type": "code",
   "execution_count": 255,
   "metadata": {},
   "outputs": [],
   "source": [
    "final = almost1[['DB_id', 'score', 'chrom', 'start', 'end', 'strand', 'modENCODE_id',\n",
    "       'peak_location_fbgn',\n",
    "       'peak_location_symbol', 'antibody', 'cell line', 'developmental stage',\n",
    "       'strain', 'target gene', 'tissue', 'TF', 'TF_fbgn']]"
   ]
  },
  {
   "cell_type": "code",
   "execution_count": 256,
   "metadata": {},
   "outputs": [
    {
     "data": {
      "text/html": [
       "<div>\n",
       "<style>\n",
       "    .dataframe thead tr:only-child th {\n",
       "        text-align: right;\n",
       "    }\n",
       "\n",
       "    .dataframe thead th {\n",
       "        text-align: left;\n",
       "    }\n",
       "\n",
       "    .dataframe tbody tr th {\n",
       "        vertical-align: top;\n",
       "    }\n",
       "</style>\n",
       "<table border=\"1\" class=\"dataframe\">\n",
       "  <thead>\n",
       "    <tr style=\"text-align: right;\">\n",
       "      <th></th>\n",
       "      <th>DB_id</th>\n",
       "      <th>score</th>\n",
       "      <th>chrom</th>\n",
       "      <th>start</th>\n",
       "      <th>end</th>\n",
       "      <th>strand</th>\n",
       "      <th>modENCODE_id</th>\n",
       "      <th>peak_location_fbgn</th>\n",
       "      <th>peak_location_symbol</th>\n",
       "      <th>antibody</th>\n",
       "      <th>cell line</th>\n",
       "      <th>developmental stage</th>\n",
       "      <th>strain</th>\n",
       "      <th>target gene</th>\n",
       "      <th>tissue</th>\n",
       "      <th>TF</th>\n",
       "      <th>TF_fbgn</th>\n",
       "    </tr>\n",
       "  </thead>\n",
       "  <tbody>\n",
       "    <tr>\n",
       "      <th>0</th>\n",
       "      <td>15T_8_16_NW_GFP.1</td>\n",
       "      <td>50.62</td>\n",
       "      <td>chr2L</td>\n",
       "      <td>470602</td>\n",
       "      <td>471025</td>\n",
       "      <td>-</td>\n",
       "      <td>modENCODE_3402</td>\n",
       "      <td>FBgn0031258</td>\n",
       "      <td>CG4297</td>\n",
       "      <td>No Antibody Control</td>\n",
       "      <td>None</td>\n",
       "      <td>Embryo 8-16 h</td>\n",
       "      <td>hairy-GFP-P[acman]-15T</td>\n",
       "      <td>None</td>\n",
       "      <td>None</td>\n",
       "      <td>hairy</td>\n",
       "      <td>FBgn0001168</td>\n",
       "    </tr>\n",
       "    <tr>\n",
       "      <th>1</th>\n",
       "      <td>15T_8_16_NW_GFP.10</td>\n",
       "      <td>51.05</td>\n",
       "      <td>chr2L</td>\n",
       "      <td>3153151</td>\n",
       "      <td>3153697</td>\n",
       "      <td>-</td>\n",
       "      <td>modENCODE_3402</td>\n",
       "      <td>FBgn0011648</td>\n",
       "      <td>Mad</td>\n",
       "      <td>No Antibody Control</td>\n",
       "      <td>None</td>\n",
       "      <td>Embryo 8-16 h</td>\n",
       "      <td>hairy-GFP-P[acman]-15T</td>\n",
       "      <td>None</td>\n",
       "      <td>None</td>\n",
       "      <td>hairy</td>\n",
       "      <td>FBgn0001168</td>\n",
       "    </tr>\n",
       "    <tr>\n",
       "      <th>2</th>\n",
       "      <td>15T_8_16_NW_GFP.101</td>\n",
       "      <td>106.48</td>\n",
       "      <td>chr2R</td>\n",
       "      <td>340719</td>\n",
       "      <td>341071</td>\n",
       "      <td>+</td>\n",
       "      <td>modENCODE_3402</td>\n",
       "      <td>FBgn0267428</td>\n",
       "      <td>CG40378</td>\n",
       "      <td>No Antibody Control</td>\n",
       "      <td>None</td>\n",
       "      <td>Embryo 8-16 h</td>\n",
       "      <td>hairy-GFP-P[acman]-15T</td>\n",
       "      <td>None</td>\n",
       "      <td>None</td>\n",
       "      <td>hairy</td>\n",
       "      <td>FBgn0001168</td>\n",
       "    </tr>\n",
       "    <tr>\n",
       "      <th>3</th>\n",
       "      <td>15T_8_16_NW_GFP.101</td>\n",
       "      <td>106.48</td>\n",
       "      <td>chr2R</td>\n",
       "      <td>340719</td>\n",
       "      <td>341071</td>\n",
       "      <td>+</td>\n",
       "      <td>modENCODE_3402</td>\n",
       "      <td>FBgn0267428</td>\n",
       "      <td>CG42644</td>\n",
       "      <td>No Antibody Control</td>\n",
       "      <td>None</td>\n",
       "      <td>Embryo 8-16 h</td>\n",
       "      <td>hairy-GFP-P[acman]-15T</td>\n",
       "      <td>None</td>\n",
       "      <td>None</td>\n",
       "      <td>hairy</td>\n",
       "      <td>FBgn0001168</td>\n",
       "    </tr>\n",
       "    <tr>\n",
       "      <th>4</th>\n",
       "      <td>15T_8_16_NW_GFP.101</td>\n",
       "      <td>106.48</td>\n",
       "      <td>chr2R</td>\n",
       "      <td>340719</td>\n",
       "      <td>341071</td>\n",
       "      <td>+</td>\n",
       "      <td>modENCODE_3402</td>\n",
       "      <td>FBgn0267428</td>\n",
       "      <td>CG43676</td>\n",
       "      <td>No Antibody Control</td>\n",
       "      <td>None</td>\n",
       "      <td>Embryo 8-16 h</td>\n",
       "      <td>hairy-GFP-P[acman]-15T</td>\n",
       "      <td>None</td>\n",
       "      <td>None</td>\n",
       "      <td>hairy</td>\n",
       "      <td>FBgn0001168</td>\n",
       "    </tr>\n",
       "  </tbody>\n",
       "</table>\n",
       "</div>"
      ],
      "text/plain": [
       "                 DB_id   score  chrom    start      end strand  \\\n",
       "0    15T_8_16_NW_GFP.1   50.62  chr2L   470602   471025      -   \n",
       "1   15T_8_16_NW_GFP.10   51.05  chr2L  3153151  3153697      -   \n",
       "2  15T_8_16_NW_GFP.101  106.48  chr2R   340719   341071      +   \n",
       "3  15T_8_16_NW_GFP.101  106.48  chr2R   340719   341071      +   \n",
       "4  15T_8_16_NW_GFP.101  106.48  chr2R   340719   341071      +   \n",
       "\n",
       "     modENCODE_id peak_location_fbgn peak_location_symbol  \\\n",
       "0  modENCODE_3402        FBgn0031258               CG4297   \n",
       "1  modENCODE_3402        FBgn0011648                  Mad   \n",
       "2  modENCODE_3402        FBgn0267428              CG40378   \n",
       "3  modENCODE_3402        FBgn0267428              CG42644   \n",
       "4  modENCODE_3402        FBgn0267428              CG43676   \n",
       "\n",
       "              antibody cell line developmental stage                  strain  \\\n",
       "0  No Antibody Control      None       Embryo 8-16 h  hairy-GFP-P[acman]-15T   \n",
       "1  No Antibody Control      None       Embryo 8-16 h  hairy-GFP-P[acman]-15T   \n",
       "2  No Antibody Control      None       Embryo 8-16 h  hairy-GFP-P[acman]-15T   \n",
       "3  No Antibody Control      None       Embryo 8-16 h  hairy-GFP-P[acman]-15T   \n",
       "4  No Antibody Control      None       Embryo 8-16 h  hairy-GFP-P[acman]-15T   \n",
       "\n",
       "  target gene tissue     TF      TF_fbgn  \n",
       "0        None   None  hairy  FBgn0001168  \n",
       "1        None   None  hairy  FBgn0001168  \n",
       "2        None   None  hairy  FBgn0001168  \n",
       "3        None   None  hairy  FBgn0001168  \n",
       "4        None   None  hairy  FBgn0001168  "
      ]
     },
     "execution_count": 256,
     "metadata": {},
     "output_type": "execute_result"
    }
   ],
   "source": [
    "final.head()"
   ]
  },
  {
   "cell_type": "code",
   "execution_count": 260,
   "metadata": {
    "collapsed": true
   },
   "outputs": [],
   "source": [
    "final.to_csv('../../data/modENCODE_downloads_2ndtry/modENCODE_finaltable', sep='\\t', header=None, index=False)"
   ]
  },
  {
   "cell_type": "code",
   "execution_count": null,
   "metadata": {
    "collapsed": true
   },
   "outputs": [],
   "source": []
  }
 ],
 "metadata": {
  "kernelspec": {
   "display_name": "Python 3",
   "language": "python",
   "name": "python3"
  },
  "language_info": {
   "codemirror_mode": {
    "name": "ipython",
    "version": 3
   },
   "file_extension": ".py",
   "mimetype": "text/x-python",
   "name": "python",
   "nbconvert_exporter": "python",
   "pygments_lexer": "ipython3",
   "version": "3.5.4"
  }
 },
 "nbformat": 4,
 "nbformat_minor": 2
}
