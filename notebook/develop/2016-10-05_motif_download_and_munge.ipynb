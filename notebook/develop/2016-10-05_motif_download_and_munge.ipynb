{
 "cells": [
  {
   "cell_type": "code",
   "execution_count": 15,
   "metadata": {
    "code_folding": [
     0
    ],
    "collapsed": false,
    "init_cell": true
   },
   "outputs": [
    {
     "name": "stdout",
     "output_type": "stream",
     "text": [
      "Justin M Fear \n",
      "last updated: 2016-10-05 \n",
      "\n",
      "CPython 3.5.2\n",
      "IPython 5.1.0\n"
     ]
    }
   ],
   "source": [
    "# %load ../start.py\n",
    "# Load useful extensions\n",
    "\n",
    "# Activate the autoreload extension for easy reloading of external packages\n",
    "%reload_ext autoreload\n",
    "%autoreload 1\n",
    "\n",
    "# Set up cashdir\n",
    "from ipycache import CacheMagics\n",
    "CacheMagics.cachedir = '../cachedir'\n",
    "\n",
    "# Trun on the water mark\n",
    "%reload_ext watermark\n",
    "%watermark -a \"Justin M Fear\" -u -d -v\n",
    "\n",
    "# Load ipycache extension\n",
    "%reload_ext ipycache\n",
    "from ipycache import CacheMagics\n",
    "CacheMagics.cachedir = '../cachedir'\n",
    "\n",
    "# Add project library to path\n",
    "import sys\n",
    "sys.path.insert(0, '../../lib/python')\n"
   ]
  },
  {
   "cell_type": "markdown",
   "metadata": {},
   "source": [
    "In the last S2 cell RNAi project meeting we reviewed Yijie's network model. One concern that I had was the addition of edges from transcription factors to genes, when a gene is highly correlated. For example:\n",
    "\n",
    "```\n",
    "TFa -> A\n",
    "\n",
    "A and B are highly correlated...\n",
    "\n",
    "Add edge TFa ->B\n",
    "```\n",
    "\n",
    "This is a good idea, but does not necessarily hold true. We decided the addition of motif information would be important. Then we could only add `TFa->B` when `B` has a motif from `TFa`. \n",
    "\n",
    "Lee had started generating a TF motif list/weights, but Brian wanted him to stop this and have me do it. They basic analysis plan is:\n",
    "\n",
    "1. Download annotated TF motifs from various online sources.\n",
    "2. Map motifs to the genome and identify motifs within some range of the TSS. \n",
    "3. Do the same thing across Drosophila species and calculate a conservation score (see DSX motif paper).\n",
    "4. Build a weight matrix where each row is a gene and each column is transcription factor. Valuse can either be binary or weights for if the TF motif was within the regulatory region of the gene.\n",
    "\n",
    "Lee has looked for sources of motifs and concluded that the MEME website is a good source. Here is an email from Lee updating me on this information:\n",
    "\n",
    "    Justin, \n",
    "\n",
    "    My R scripts seem to be not super-helpful.  There are just about how I defined TSS regions (+ first introns).  I assigned a motif to a gene when a motif is within the range between 1kb upstream to min(500bp downstream or first intron end).  Just briefly go over for fun.\n",
    "\n",
    "\n",
    "    You can download the weight matrices from MEME, but I attach here, too. \n",
    "\n",
    "    OnTheFly data, used very weird IDs, which are mixture of Swissprot and others.  It is very nagging to deal with it, so I actually crawled their website (which also in in the Handling_motif_data.R).  I attach the ID conversion matrix.  This will be very useful.\n",
    "\n",
    "\n",
    "    FIMO results are quite large, and I don’t think that you will use them.  But the links follow.\n",
    "    https://www.dropbox.com/s/czse5ur5md8wm1u/OnTheFly_2014_p0.0001.txt?dl=0\n",
    "    https://www.dropbox.com/s/hq812lsv6hijqet/fly_factor_survey_p0.0001.txt?dl=0\n",
    "\n",
    "    An example of my FIMO code is below\n",
    "    cd /data/leehang/motif/fly_factor_survey; fimo --qv-thresh --thresh 0.05 ./fly_factor_survey.meme ~/Annotation/Dmel.FB6_06.fa\n",
    "\n",
    "\n",
    "    Lee\n",
    "\n",
    "I think I am going to approach this cleanly so that I know exactly where and how files were downloaded."
   ]
  },
  {
   "cell_type": "code",
   "execution_count": 23,
   "metadata": {
    "code_folding": [],
    "collapsed": false,
    "init_cell": true
   },
   "outputs": [],
   "source": [
    "# Imports\n",
    "import os\n",
    "import re\n",
    "import tarfile\n",
    "from tempfile import mkstemp\n",
    "from time import sleep\n",
    "from urllib.request import urlretrieve, urlopen\n",
    "from collections import defaultdict\n",
    "\n",
    "import pandas as pd\n",
    "\n",
    "from Bio import motifs\n",
    "\n",
    "# My library\n",
    "import meme"
   ]
  },
  {
   "cell_type": "code",
   "execution_count": 17,
   "metadata": {
    "code_folding": [],
    "collapsed": false
   },
   "outputs": [],
   "source": [
    "# Download MEME motif database\n",
    "if not os.path.exists('../../data/external/meme/motif_databases/FLY/fly_factor_survey.meme'):\n",
    "    # Download file\n",
    "    temp = mkstemp(suffix='tgz')\n",
    "    urlretrieve(url='http://meme-suite.org/meme-software/Databases/motifs/motif_databases.12.12.tgz', filename=temp[1])\n",
    "    \n",
    "    # Make sure output dir is there\n",
    "    if not os.path.exists('../../data/external/meme'):\n",
    "        os.mkdir('../../data/external/meme')\n",
    "\n",
    "    # Open tar\n",
    "    tar = tarfile.open(temp[1])\n",
    "\n",
    "    # Extract only the Fly data\n",
    "    def fly(members):\n",
    "        for tarinfo in members:\n",
    "            if 'FLY' in tarinfo.name:\n",
    "                yield tarinfo\n",
    "    \n",
    "    tar.extractall(path='../../data/external/meme', members=fly(tar))\n",
    "    \n",
    "    # Clean up\n",
    "    tar.close()\n",
    "    os.unlink(temp[1])"
   ]
  },
  {
   "cell_type": "code",
   "execution_count": 18,
   "metadata": {
    "code_folding": [],
    "collapsed": false,
    "init_cell": false
   },
   "outputs": [],
   "source": [
    "%%cache -s flyfactory.pkl flyFactoryTFS\n",
    "# Verify Meme downloads\n",
    "flyFactoryTFS = meme.memeFile('../../data/external/meme/motif_databases/FLY/fly_factor_survey.meme')\n",
    "# According to the meme website the fly factor database has 656 motifs, this will error if not\n",
    "assert flyFactoryTFS.count() == 656"
   ]
  },
  {
   "cell_type": "code",
   "execution_count": 36,
   "metadata": {
    "code_folding": [],
    "collapsed": false,
    "scrolled": false
   },
   "outputs": [
    {
     "name": "stdout",
     "output_type": "stream",
     "text": [
      "OTF0208  https://bhapp.c2b2.columbia.edu/OnTheFly/cgi-bin/protein_entry.php?protein_ID=\n",
      "OTF0160  https://bhapp.c2b2.columbia.edu/OnTheFly/cgi-bin/protein_entry.php?protein_ID=\n",
      "OTF0223  https://bhapp.c2b2.columbia.edu/OnTheFly/cgi-bin/protein_entry.php?protein_ID=\n",
      "OTF0067  https://bhapp.c2b2.columbia.edu/OnTheFly/cgi-bin/protein_entry.php?protein_ID=\n",
      "OTF0408  https://bhapp.c2b2.columbia.edu/OnTheFly/cgi-bin/protein_entry.php?protein_ID=\n",
      "OTF0415  https://bhapp.c2b2.columbia.edu/OnTheFly/cgi-bin/protein_entry.php?protein_ID=\n",
      "OTF0388  https://bhapp.c2b2.columbia.edu/OnTheFly/cgi-bin/protein_entry.php?protein_ID=\n",
      "OTF0339  https://bhapp.c2b2.columbia.edu/OnTheFly/cgi-bin/protein_entry.php?protein_ID=\n",
      "OTF0515  https://bhapp.c2b2.columbia.edu/OnTheFly/cgi-bin/protein_entry.php?protein_ID=\n",
      "OTF0279  https://bhapp.c2b2.columbia.edu/OnTheFly/cgi-bin/protein_entry.php?protein_ID=\n",
      "OTF0237  https://bhapp.c2b2.columbia.edu/OnTheFly/cgi-bin/protein_entry.php?protein_ID=\n"
     ]
    }
   ],
   "source": [
    "%%cache -s onthefly.pkl onTheFlyTFS otToFbgn FbgnToOt\n",
    "# map OnTheFly to FBgn\n",
    "FAILED = []\n",
    "\n",
    "# The OnTheFly motifs are not as stright forward because they use their own identifier. There is an added step to query their website and get the FBgn value.\n",
    "URL = 'https://bhapp.c2b2.columbia.edu/OnTheFly/cgi-bin/protein_entry.php?protein_ID={0}'\n",
    "def map_onthefly(tf):\n",
    "    attempts = 1\n",
    "    while attempts < 4:\n",
    "        try:\n",
    "            query = '_'.join(tf.name.split('_')[:-1])\n",
    "            site = URL.format(query)\n",
    "            with urlopen(site) as fh:\n",
    "                page = fh.read().decode('utf-8')\n",
    "                return re.findall('FBgn\\d+', page)[0]\n",
    "        except:\n",
    "            attempts += 1\n",
    "        sleep(2)\n",
    "    \n",
    "    global FAILED\n",
    "    FAILED.append((tf.id, tf.name, site))\n",
    "    return None\n",
    "    \n",
    "onTheFlyTFS = meme.memeFile('../../data/external/meme/motif_databases/FLY/OnTheFly_2014_Drosophila.meme')\n",
    "# According to the meme website the fly factor database has 608 motifs, this will error if not\n",
    "assert onTheFlyTFS.count() == 608\n",
    "\n",
    "# Get a list of all the IDs\n",
    "keys = list(onTheFlyTFS.keys())\n",
    "\n",
    "otToFbgn = {}\n",
    "FbgnToOt = defaultdict(list)\n",
    "\n",
    "for key in keys:\n",
    "    fbgn = map_onthefly(onTheFlyTFS[key][0])\n",
    "    if fbgn is not None:\n",
    "        otToFbgn[key] = fbgn\n",
    "        FbgnToOt[fbgn].append(key)\n",
    "    else:\n",
    "        otToFbgn[key] = None\n",
    "        FbgnToOt['None'].append(key)\n",
    "        \n",
    "# Print Failures\n",
    "for f in FAILED:\n",
    "    print(' '.join(f))"
   ]
  },
  {
   "cell_type": "markdown",
   "metadata": {},
   "source": [
    "The above IDs had no associated protein and could not be mapped to an FBgn. \n",
    "\n",
    "Lee has done this process separately so I want to compare results and make sure things look the same."
   ]
  },
  {
   "cell_type": "code",
   "execution_count": 37,
   "metadata": {
    "code_folding": [],
    "collapsed": false
   },
   "outputs": [
    {
     "data": {
      "text/html": [
       "<div>\n",
       "<table border=\"1\" class=\"dataframe\">\n",
       "  <thead>\n",
       "    <tr style=\"text-align: right;\">\n",
       "      <th></th>\n",
       "      <th>motif</th>\n",
       "      <th>summary</th>\n",
       "      <th>uniprot</th>\n",
       "      <th>url</th>\n",
       "      <th>id</th>\n",
       "    </tr>\n",
       "  </thead>\n",
       "  <tbody>\n",
       "    <tr>\n",
       "      <th>0</th>\n",
       "      <td>OTF0001.1</td>\n",
       "      <td>7UP1_DROME_B1H</td>\n",
       "      <td>7UP1_DROME</td>\n",
       "      <td>https://bhapp.c2b2.columbia.edu/OnTheFly/cgi-b...</td>\n",
       "      <td>FBgn0003651</td>\n",
       "    </tr>\n",
       "    <tr>\n",
       "      <th>1</th>\n",
       "      <td>OTF0002.1</td>\n",
       "      <td>A0AQF9_DROME_B1H</td>\n",
       "      <td>A0AQF9_DROME</td>\n",
       "      <td>https://bhapp.c2b2.columbia.edu/OnTheFly/cgi-b...</td>\n",
       "      <td>FBgn0034599</td>\n",
       "    </tr>\n",
       "    <tr>\n",
       "      <th>2</th>\n",
       "      <td>OTF0003.1</td>\n",
       "      <td>A0JQ60_DROME_SELEX</td>\n",
       "      <td>A0JQ60_DROME</td>\n",
       "      <td>https://bhapp.c2b2.columbia.edu/OnTheFly/cgi-b...</td>\n",
       "      <td>FBgn0000567</td>\n",
       "    </tr>\n",
       "    <tr>\n",
       "      <th>3</th>\n",
       "      <td>OTF0003.2</td>\n",
       "      <td>A0JQ60_DROME_DNaseI</td>\n",
       "      <td>A0JQ60_DROME</td>\n",
       "      <td>https://bhapp.c2b2.columbia.edu/OnTheFly/cgi-b...</td>\n",
       "      <td>FBgn0000567</td>\n",
       "    </tr>\n",
       "    <tr>\n",
       "      <th>4</th>\n",
       "      <td>OTF0004.1</td>\n",
       "      <td>A1A6R5_DROME_B1H</td>\n",
       "      <td>A1A6R5_DROME</td>\n",
       "      <td>https://bhapp.c2b2.columbia.edu/OnTheFly/cgi-b...</td>\n",
       "      <td>FBgn0004914</td>\n",
       "    </tr>\n",
       "  </tbody>\n",
       "</table>\n",
       "</div>"
      ],
      "text/plain": [
       "       motif              summary       uniprot  \\\n",
       "0  OTF0001.1       7UP1_DROME_B1H    7UP1_DROME   \n",
       "1  OTF0002.1     A0AQF9_DROME_B1H  A0AQF9_DROME   \n",
       "2  OTF0003.1   A0JQ60_DROME_SELEX  A0JQ60_DROME   \n",
       "3  OTF0003.2  A0JQ60_DROME_DNaseI  A0JQ60_DROME   \n",
       "4  OTF0004.1     A1A6R5_DROME_B1H  A1A6R5_DROME   \n",
       "\n",
       "                                                 url           id  \n",
       "0  https://bhapp.c2b2.columbia.edu/OnTheFly/cgi-b...  FBgn0003651  \n",
       "1  https://bhapp.c2b2.columbia.edu/OnTheFly/cgi-b...  FBgn0034599  \n",
       "2  https://bhapp.c2b2.columbia.edu/OnTheFly/cgi-b...  FBgn0000567  \n",
       "3  https://bhapp.c2b2.columbia.edu/OnTheFly/cgi-b...  FBgn0000567  \n",
       "4  https://bhapp.c2b2.columbia.edu/OnTheFly/cgi-b...  FBgn0004914  "
      ]
     },
     "execution_count": 37,
     "metadata": {},
     "output_type": "execute_result"
    }
   ],
   "source": [
    "# import Lee's webscrapper results\n",
    "lee = pd.read_csv('../../data/lee/OnTheFly_ID_conversion.txt', sep='\\t')\n",
    "lee.head()"
   ]
  },
  {
   "cell_type": "markdown",
   "metadata": {},
   "source": [
    "Below are a list of OTF's that changed FBgn number between when Lee ran his script and when I ran mine. Following Lee's URL I can see that they have updated the FBgn so that it no longer matches what Lee had down."
   ]
  },
  {
   "cell_type": "code",
   "execution_count": 38,
   "metadata": {
    "code_folding": [
     0
    ],
    "collapsed": false
   },
   "outputs": [
    {
     "name": "stdout",
     "output_type": "stream",
     "text": [
      "OTF0026.1 FBgn0262656 https://bhapp.c2b2.columbia.edu/OnTheFly/cgi-bin/protein_entry.php?protein_ID=A8VEM3_DROME\n",
      "OTF0031.1 FBgn0267033 https://bhapp.c2b2.columbia.edu/OnTheFly/cgi-bin/protein_entry.php?protein_ID=A9YHI4_DROME\n",
      "OTF0037.1 FBgn0264442 https://bhapp.c2b2.columbia.edu/OnTheFly/cgi-bin/protein_entry.php?protein_ID=ABRU_DROME\n",
      "OTF0043.1 FBgn0267978 https://bhapp.c2b2.columbia.edu/OnTheFly/cgi-bin/protein_entry.php?protein_ID=APTE_DROME\n",
      "OTF0043.2 FBgn0267978 https://bhapp.c2b2.columbia.edu/OnTheFly/cgi-bin/protein_entry.php?protein_ID=APTE_DROME\n",
      "OTF0045.1 FBgn0264075 https://bhapp.c2b2.columbia.edu/OnTheFly/cgi-bin/protein_entry.php?protein_ID=ARNT_DROME\n",
      "OTF0061.1 FBgn0266411 https://bhapp.c2b2.columbia.edu/OnTheFly/cgi-bin/protein_entry.php?protein_ID=B7Z0S3_DROME\n",
      "OTF0063.1 FBgn0267337 https://bhapp.c2b2.columbia.edu/OnTheFly/cgi-bin/protein_entry.php?protein_ID=B7Z0U8_DROME\n",
      "OTF0072.1 FBgn0283451 https://bhapp.c2b2.columbia.edu/OnTheFly/cgi-bin/protein_entry.php?protein_ID=BRC1_DROME\n",
      "OTF0072.2 FBgn0283451 https://bhapp.c2b2.columbia.edu/OnTheFly/cgi-bin/protein_entry.php?protein_ID=BRC1_DROME\n",
      "OTF0073.1 FBgn0283451 https://bhapp.c2b2.columbia.edu/OnTheFly/cgi-bin/protein_entry.php?protein_ID=BRC4_DROME\n",
      "OTF0093.1 FBgn0262582 https://bhapp.c2b2.columbia.edu/OnTheFly/cgi-bin/protein_entry.php?protein_ID=CIC_DROME\n",
      "OTF0100.1 FBgn0267821 https://bhapp.c2b2.columbia.edu/OnTheFly/cgi-bin/protein_entry.php?protein_ID=DA_DROME\n",
      "OTF0102.1 FBgn0263118 https://bhapp.c2b2.columbia.edu/OnTheFly/cgi-bin/protein_entry.php?protein_ID=DEI_DROME\n",
      "OTF0124.3 FBgn0002733 https://bhapp.c2b2.columbia.edu/OnTheFly/cgi-bin/protein_entry.php?protein_ID=ESMB_DROME\n",
      "OTF0130.1 FBgn0283451 https://bhapp.c2b2.columbia.edu/OnTheFly/cgi-bin/protein_entry.php?protein_ID=FBpp0070252\n",
      "OTF0131.1 FBgn0283451 https://bhapp.c2b2.columbia.edu/OnTheFly/cgi-bin/protein_entry.php?protein_ID=FBpp0070255\n",
      "OTF0132.1 FBgn0283451 https://bhapp.c2b2.columbia.edu/OnTheFly/cgi-bin/protein_entry.php?protein_ID=FBpp0070256\n",
      "OTF0162.1 FBgn0267978 https://bhapp.c2b2.columbia.edu/OnTheFly/cgi-bin/protein_entry.php?protein_ID=FBpp0085395\n",
      "OTF0162.2 FBgn0267978 https://bhapp.c2b2.columbia.edu/OnTheFly/cgi-bin/protein_entry.php?protein_ID=FBpp0085395\n",
      "OTF0193.1 FBgn0283451 https://bhapp.c2b2.columbia.edu/OnTheFly/cgi-bin/protein_entry.php?protein_ID=FBpp0289659\n",
      "OTF0194.1 FBgn0267978 https://bhapp.c2b2.columbia.edu/OnTheFly/cgi-bin/protein_entry.php?protein_ID=FBpp0289731\n",
      "OTF0194.2 FBgn0267978 https://bhapp.c2b2.columbia.edu/OnTheFly/cgi-bin/protein_entry.php?protein_ID=FBpp0289731\n",
      "OTF0226.1 FBgn0264005 https://bhapp.c2b2.columbia.edu/OnTheFly/cgi-bin/protein_entry.php?protein_ID=HMX_DROME\n",
      "OTF0228.1 FBgn0264562 https://bhapp.c2b2.columbia.edu/OnTheFly/cgi-bin/protein_entry.php?protein_ID=HR4_DROME\n",
      "OTF0293.1 FBgn0261930 https://bhapp.c2b2.columbia.edu/OnTheFly/cgi-bin/protein_entry.php?protein_ID=Q0KHX8_DROME\n",
      "OTF0293.2 FBgn0261930 https://bhapp.c2b2.columbia.edu/OnTheFly/cgi-bin/protein_entry.php?protein_ID=Q0KHX8_DROME\n",
      "OTF0294.1 FBgn0264005 https://bhapp.c2b2.columbia.edu/OnTheFly/cgi-bin/protein_entry.php?protein_ID=Q24016_DROME\n",
      "OTF0295.1 FBgn0264490 https://bhapp.c2b2.columbia.edu/OnTheFly/cgi-bin/protein_entry.php?protein_ID=Q24079_DROME\n",
      "OTF0336.1 FBgn0263511 https://bhapp.c2b2.columbia.edu/OnTheFly/cgi-bin/protein_entry.php?protein_ID=Q5U1D9_DROME\n",
      "OTF0342.1 FBgn0263112 https://bhapp.c2b2.columbia.edu/OnTheFly/cgi-bin/protein_entry.php?protein_ID=Q6WSQ9_DROME\n",
      "OTF0347.1 FBgn0263240 https://bhapp.c2b2.columbia.edu/OnTheFly/cgi-bin/protein_entry.php?protein_ID=Q7JUZ9_DROME\n",
      "OTF0351.1 FBgn0262636 https://bhapp.c2b2.columbia.edu/OnTheFly/cgi-bin/protein_entry.php?protein_ID=Q7K3X3_DROME\n",
      "OTF0361.1 FBgn0265276 https://bhapp.c2b2.columbia.edu/OnTheFly/cgi-bin/protein_entry.php?protein_ID=Q7KSP5_DROME\n",
      "OTF0392.1 FBgn0264442 https://bhapp.c2b2.columbia.edu/OnTheFly/cgi-bin/protein_entry.php?protein_ID=Q8IPA9_DROME\n",
      "OTF0395.1 FBgn0283451 https://bhapp.c2b2.columbia.edu/OnTheFly/cgi-bin/protein_entry.php?protein_ID=Q8IRX4_DROME\n",
      "OTF0417.1 FBgn0263511 https://bhapp.c2b2.columbia.edu/OnTheFly/cgi-bin/protein_entry.php?protein_ID=Q8T990_DROME\n",
      "OTF0430.1 FBgn0263108 https://bhapp.c2b2.columbia.edu/OnTheFly/cgi-bin/protein_entry.php?protein_ID=Q960S0_DROME\n",
      "OTF0459.1 FBgn0262477 https://bhapp.c2b2.columbia.edu/OnTheFly/cgi-bin/protein_entry.php?protein_ID=Q9VH87_DROME\n",
      "OTF0489.1 FBgn0263239 https://bhapp.c2b2.columbia.edu/OnTheFly/cgi-bin/protein_entry.php?protein_ID=Q9VZN4_DROME\n",
      "OTF0490.1 FBgn0261723 https://bhapp.c2b2.columbia.edu/OnTheFly/cgi-bin/protein_entry.php?protein_ID=Q9W064_DROME\n",
      "OTF0494.1 FBgn0261705 https://bhapp.c2b2.columbia.edu/OnTheFly/cgi-bin/protein_entry.php?protein_ID=Q9W1W2_DROME\n",
      "OTF0499.1 FBgn0263512 https://bhapp.c2b2.columbia.edu/OnTheFly/cgi-bin/protein_entry.php?protein_ID=Q9W4B3_DROME\n",
      "OTF0522.1 FBgn0266129 https://bhapp.c2b2.columbia.edu/OnTheFly/cgi-bin/protein_entry.php?protein_ID=TKR_DROME\n",
      "OTF0531.1 FBgn0261930 https://bhapp.c2b2.columbia.edu/OnTheFly/cgi-bin/protein_entry.php?protein_ID=VND_DROME\n",
      "OTF0531.2 FBgn0261930 https://bhapp.c2b2.columbia.edu/OnTheFly/cgi-bin/protein_entry.php?protein_ID=VND_DROME\n"
     ]
    }
   ],
   "source": [
    "# Compare webscapper results\n",
    "for row in lee.to_records():\n",
    "    try:\n",
    "        assert otToFbgn[row.motif.split('.')[0]] == row.id\n",
    "    except:\n",
    "        print(row.motif, row.id, row.url)"
   ]
  },
  {
   "cell_type": "code",
   "execution_count": null,
   "metadata": {
    "collapsed": true
   },
   "outputs": [],
   "source": []
  }
 ],
 "metadata": {
  "anaconda-cloud": {},
  "celltoolbar": "Initialisation Cell",
  "kernelspec": {
   "display_name": "Python [conda env:s2rnai]",
   "language": "python",
   "name": "conda-env-s2rnai-py"
  },
  "language_info": {
   "codemirror_mode": {
    "name": "ipython",
    "version": 3
   },
   "file_extension": ".py",
   "mimetype": "text/x-python",
   "name": "python",
   "nbconvert_exporter": "python",
   "pygments_lexer": "ipython3",
   "version": "3.5.2"
  },
  "nav_menu": {},
  "toc": {
   "navigate_menu": true,
   "number_sections": true,
   "sideBar": true,
   "threshold": 6,
   "toc_cell": false,
   "toc_section_display": "block",
   "toc_window_display": false
  }
 },
 "nbformat": 4,
 "nbformat_minor": 0
}
