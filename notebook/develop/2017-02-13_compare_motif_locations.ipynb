{
 "cells": [
  {
   "cell_type": "markdown",
   "metadata": {},
   "source": [
    "# Compare different motif search locations\n",
    "\n",
    "We are interested in figuring which genes are regulated by which transcription \n",
    "factors. Our results will likely depend on how we make this association.\n",
    "**Question: Where should we look for transcription factor binding motifs?** \n",
    "Here I look into the affects of using various regulatory regions. This is a \n",
    "deceptively simple question, which quickly becomes complicated.\n",
    "\n",
    "Given a single isoform, the regulatory region would include a region upstream \n",
    "and downstream of the transcription start site. Typically this region is \n",
    "defined as +/- 1 or 2 kb. Sometimes this region is expanded to include the \n",
    "first exon and/or first intron, or the entire genic region. Things are worse \n",
    "when looking at genes with multiple isoforms.\n",
    "\n",
    "Here I take two major approaches: the first focuses on the gene level, and the \n",
    "second looks at each isoform individually and then summarizes to the gene \n",
    "level. For each of these approaches I define several regions:\n",
    "\n",
    "* basic 1kb: Is a 1kb regions +/- the gene/transcription start site.\n",
    "* basic 2kb: Is a 2kb regions +/- the gene/transcription start site.\n",
    "* first exon: Is a 1kb upstream of gene/transcription start site through the \n",
    "  longest first exon.\n",
    "* first intron: Is a 1kb upstream of gene/transcription start site the longest \n",
    "  first intron."
   ]
  },
  {
   "cell_type": "code",
   "execution_count": 1,
   "metadata": {
    "collapsed": false
   },
   "outputs": [
    {
     "name": "stdout",
     "output_type": "stream",
     "text": [
      "last updated: 2017-02-13 \n",
      "\n",
      "CPython 3.5.2\n",
      "IPython 5.1.0\n",
      "Git hash: 791144d59378fbaea73087996644b5f6be125ca1\n"
     ]
    }
   ],
   "source": [
    "# %load ../start.py\n",
    "# Load useful extensions\n",
    "\n",
    "# Activate the autoreload extension for easy reloading of external packages\n",
    "%reload_ext autoreload\n",
    "%autoreload 1\n",
    "\n",
    "# Set up cashdir\n",
    "from ipycache import CacheMagics\n",
    "CacheMagics.cachedir = '../cachedir'\n",
    "\n",
    "# Trun on the water mark\n",
    "%reload_ext watermark\n",
    "%watermark -u -d -v -g\n",
    "\n",
    "# Load ipycache extension\n",
    "%reload_ext ipycache\n",
    "from ipycache import CacheMagics\n",
    "CacheMagics.cachedir = '../cachedir'\n",
    "\n",
    "# Add project library to path\n",
    "import sys\n",
    "sys.path.insert(0, '../../lib/python')\n"
   ]
  },
  {
   "cell_type": "code",
   "execution_count": 5,
   "metadata": {
    "collapsed": false
   },
   "outputs": [],
   "source": [
    "import pandas as pd\n",
    "import gffutils\n",
    "import pybedtools"
   ]
  },
  {
   "cell_type": "code",
   "execution_count": 3,
   "metadata": {
    "collapsed": true
   },
   "outputs": [],
   "source": [
    "db = gffutils.FeatureDB('/data/LCDB/lcdb-references/dm6/r6-11/gtf/dm6_r6-11.gtf.db')"
   ]
  },
  {
   "cell_type": "markdown",
   "metadata": {},
   "source": [
    "## Gene Level Analysis"
   ]
  },
  {
   "cell_type": "code",
   "execution_count": 4,
   "metadata": {
    "collapsed": false
   },
   "outputs": [],
   "source": [
    "genes = []\n",
    "for gene in db.features_of_type('gene'):\n",
    "    if gene.strand == '+':\n",
    "        gene_start = gene.start\n",
    "    elif gene.strand == '-':\n",
    "        gene_start = gene.end\n",
    "\n",
    "    genes.append([gene.chrom, \n",
    "                  gene.start, \n",
    "                  gene.end, \n",
    "                  gene.id, \n",
    "                  '.',\n",
    "                  gene.strand, \n",
    "                  gene_start - 1000, \n",
    "                  gene_start + 1000, \n",
    "                  gene_start - 2000, \n",
    "                  gene_start + 2000])\n",
    "\n",
    "header = ['chrom', 'start', 'end', 'name', 'score', 'strand', '1kb_start', '1kb_end', '2kb_start', '2kb_end']\n",
    "gene_df = pd.DataFrame(genes, columns=header)"
   ]
  },
  {
   "cell_type": "code",
   "execution_count": 6,
   "metadata": {
    "collapsed": false
   },
   "outputs": [],
   "source": [
    "gene_bed = pybedtools.BedTool.from_dataframe(gene_df.loc[gene_df['name'] == 'FBgn0000008',['chrom', 'start', 'end', 'name', 'score', 'strand']])\n",
    "onekb_bed = pybedtools.BedTool.from_dataframe(gene_df.loc[gene_df['name'] == 'FBgn0000008',['chrom', '1kb_start', '1kb_end', 'name', 'score', 'strand']])\n",
    "twokb_bed = pybedtools.BedTool.from_dataframe(gene_df.loc[:,['chrom', '2kb_start', '2kb_end', 'name', 'score', 'strand']])"
   ]
  },
  {
   "cell_type": "code",
   "execution_count": 7,
   "metadata": {
    "collapsed": false
   },
   "outputs": [
    {
     "name": "stdout",
     "output_type": "stream",
     "text": [
      "chr2R\t22135968\t22137968\tFBgn0000008\t.\t+\n",
      " "
     ]
    }
   ],
   "source": [
    "onekb_bed.head()"
   ]
  },
  {
   "cell_type": "code",
   "execution_count": 8,
   "metadata": {
    "collapsed": true
   },
   "outputs": [],
   "source": [
    "otf = pd.read_csv('../../output/fimo/motif_alignments_onTheFly_dm6.txt', sep='\\t')"
   ]
  },
  {
   "cell_type": "code",
   "execution_count": 9,
   "metadata": {
    "collapsed": false
   },
   "outputs": [
    {
     "data": {
      "text/html": [
       "<div>\n",
       "<table border=\"1\" class=\"dataframe\">\n",
       "  <thead>\n",
       "    <tr style=\"text-align: right;\">\n",
       "      <th></th>\n",
       "      <th>#pattern name</th>\n",
       "      <th>sequence name</th>\n",
       "      <th>start</th>\n",
       "      <th>stop</th>\n",
       "      <th>strand</th>\n",
       "      <th>score</th>\n",
       "      <th>p-value</th>\n",
       "      <th>q-value</th>\n",
       "      <th>matched sequence</th>\n",
       "    </tr>\n",
       "  </thead>\n",
       "  <tbody>\n",
       "    <tr>\n",
       "      <th>0</th>\n",
       "      <td>OTF0063.1</td>\n",
       "      <td>chr3R</td>\n",
       "      <td>16912689</td>\n",
       "      <td>16912710</td>\n",
       "      <td>+</td>\n",
       "      <td>19.3433</td>\n",
       "      <td>6.330000e-13</td>\n",
       "      <td>0.000172</td>\n",
       "      <td>CCCACAAAAAAAACCCCCAAAA</td>\n",
       "    </tr>\n",
       "    <tr>\n",
       "      <th>1</th>\n",
       "      <td>OTF0481.1</td>\n",
       "      <td>chr3R</td>\n",
       "      <td>23630570</td>\n",
       "      <td>23630589</td>\n",
       "      <td>-</td>\n",
       "      <td>32.5321</td>\n",
       "      <td>1.630000e-12</td>\n",
       "      <td>0.000190</td>\n",
       "      <td>GGGGGGGGGGGGGGGAAACT</td>\n",
       "    </tr>\n",
       "    <tr>\n",
       "      <th>2</th>\n",
       "      <td>OTF0481.1</td>\n",
       "      <td>chr2R</td>\n",
       "      <td>10690729</td>\n",
       "      <td>10690748</td>\n",
       "      <td>-</td>\n",
       "      <td>32.5046</td>\n",
       "      <td>2.250000e-12</td>\n",
       "      <td>0.000190</td>\n",
       "      <td>GGGGGGGGGGGGGGGAATAT</td>\n",
       "    </tr>\n",
       "    <tr>\n",
       "      <th>3</th>\n",
       "      <td>OTF0481.1</td>\n",
       "      <td>chrX</td>\n",
       "      <td>9492014</td>\n",
       "      <td>9492033</td>\n",
       "      <td>-</td>\n",
       "      <td>32.3853</td>\n",
       "      <td>3.000000e-12</td>\n",
       "      <td>0.000190</td>\n",
       "      <td>GAGGGGGGGGGGGGGAAAAT</td>\n",
       "    </tr>\n",
       "    <tr>\n",
       "      <th>4</th>\n",
       "      <td>OTF0481.1</td>\n",
       "      <td>chrX</td>\n",
       "      <td>6505661</td>\n",
       "      <td>6505680</td>\n",
       "      <td>+</td>\n",
       "      <td>31.9450</td>\n",
       "      <td>5.000000e-12</td>\n",
       "      <td>0.000190</td>\n",
       "      <td>GGGGGGGGGGGGGGGAAAAG</td>\n",
       "    </tr>\n",
       "  </tbody>\n",
       "</table>\n",
       "</div>"
      ],
      "text/plain": [
       "  #pattern name sequence name     start      stop strand    score  \\\n",
       "0     OTF0063.1         chr3R  16912689  16912710      +  19.3433   \n",
       "1     OTF0481.1         chr3R  23630570  23630589      -  32.5321   \n",
       "2     OTF0481.1         chr2R  10690729  10690748      -  32.5046   \n",
       "3     OTF0481.1          chrX   9492014   9492033      -  32.3853   \n",
       "4     OTF0481.1          chrX   6505661   6505680      +  31.9450   \n",
       "\n",
       "        p-value   q-value        matched sequence  \n",
       "0  6.330000e-13  0.000172  CCCACAAAAAAAACCCCCAAAA  \n",
       "1  1.630000e-12  0.000190    GGGGGGGGGGGGGGGAAACT  \n",
       "2  2.250000e-12  0.000190    GGGGGGGGGGGGGGGAATAT  \n",
       "3  3.000000e-12  0.000190    GAGGGGGGGGGGGGGAAAAT  \n",
       "4  5.000000e-12  0.000190    GGGGGGGGGGGGGGGAAAAG  "
      ]
     },
     "execution_count": 9,
     "metadata": {},
     "output_type": "execute_result"
    }
   ],
   "source": [
    "otf.head()"
   ]
  },
  {
   "cell_type": "code",
   "execution_count": 10,
   "metadata": {
    "collapsed": true
   },
   "outputs": [],
   "source": [
    "otf_bed = pybedtools.BedTool.from_dataframe(otf.loc[:, ['sequence name', 'start', 'stop', '#pattern name', 'q-value', 'strand']])"
   ]
  },
  {
   "cell_type": "code",
   "execution_count": 11,
   "metadata": {
    "collapsed": false
   },
   "outputs": [
    {
     "name": "stdout",
     "output_type": "stream",
     "text": [
      "chr3R\t16912689\t16912710\tOTF0063.1\t0.000172\t+\n",
      " chr3R\t23630570\t23630589\tOTF0481.1\t0.00018999999999999998\t-\n",
      " chr2R\t10690729\t10690748\tOTF0481.1\t0.00018999999999999998\t-\n",
      " chrX\t9492014\t9492033\tOTF0481.1\t0.00018999999999999998\t-\n",
      " chrX\t6505661\t6505680\tOTF0481.1\t0.00018999999999999998\t+\n",
      " chrX\t7020679\t7020698\tOTF0481.1\t0.00018999999999999998\t-\n",
      " chrX\t10536826\t10536845\tOTF0481.1\t0.00018999999999999998\t-\n",
      " chrX\t12153398\t12153417\tOTF0481.1\t0.00018999999999999998\t-\n",
      " chrX\t14601015\t14601034\tOTF0481.1\t0.00018999999999999998\t+\n",
      " chr3R\t22891728\t22891747\tOTF0481.1\t0.00018999999999999998\t-\n",
      " "
     ]
    }
   ],
   "source": [
    "otf_bed.head()"
   ]
  },
  {
   "cell_type": "code",
   "execution_count": 12,
   "metadata": {
    "collapsed": false
   },
   "outputs": [],
   "source": [
    "otf_gene = otf_bed.intersect(gene_bed, wo=True)"
   ]
  },
  {
   "cell_type": "code",
   "execution_count": 13,
   "metadata": {
    "collapsed": false
   },
   "outputs": [
    {
     "data": {
      "text/plain": [
       "58"
      ]
     },
     "execution_count": 13,
     "metadata": {},
     "output_type": "execute_result"
    }
   ],
   "source": [
    "otf_gene.count()"
   ]
  },
  {
   "cell_type": "code",
   "execution_count": 113,
   "metadata": {
    "collapsed": false
   },
   "outputs": [],
   "source": [
    "res = []\n",
    "for row in otf_gene:\n",
    "    res.append([row[3], row[9], row[4]])"
   ]
  },
  {
   "cell_type": "code",
   "execution_count": 114,
   "metadata": {
    "collapsed": false
   },
   "outputs": [],
   "source": [
    "df2 = pd.DataFrame(res, columns=['otf', 'FBgn', 'q-value'])\n",
    "df2['q-value'] = df2['q-value'].astype(float)"
   ]
  },
  {
   "cell_type": "code",
   "execution_count": 115,
   "metadata": {
    "collapsed": false
   },
   "outputs": [
    {
     "data": {
      "text/html": [
       "<div>\n",
       "<table border=\"1\" class=\"dataframe\">\n",
       "  <thead>\n",
       "    <tr>\n",
       "      <th></th>\n",
       "      <th></th>\n",
       "      <th colspan=\"3\" halign=\"left\">q-value</th>\n",
       "    </tr>\n",
       "    <tr>\n",
       "      <th></th>\n",
       "      <th></th>\n",
       "      <th>count</th>\n",
       "      <th>mean</th>\n",
       "      <th>std</th>\n",
       "    </tr>\n",
       "    <tr>\n",
       "      <th>otf</th>\n",
       "      <th>FBgn</th>\n",
       "      <th></th>\n",
       "      <th></th>\n",
       "      <th></th>\n",
       "    </tr>\n",
       "  </thead>\n",
       "  <tbody>\n",
       "    <tr>\n",
       "      <th>OTF0039.1</th>\n",
       "      <th>FBgn0000008</th>\n",
       "      <td>4</td>\n",
       "      <td>0.023400</td>\n",
       "      <td>0.013800</td>\n",
       "    </tr>\n",
       "    <tr>\n",
       "      <th>OTF0063.1</th>\n",
       "      <th>FBgn0000008</th>\n",
       "      <td>13</td>\n",
       "      <td>0.041846</td>\n",
       "      <td>0.006446</td>\n",
       "    </tr>\n",
       "    <tr>\n",
       "      <th>OTF0231.2</th>\n",
       "      <th>FBgn0000008</th>\n",
       "      <td>5</td>\n",
       "      <td>0.021900</td>\n",
       "      <td>0.000000</td>\n",
       "    </tr>\n",
       "    <tr>\n",
       "      <th>OTF0249.1</th>\n",
       "      <th>FBgn0000008</th>\n",
       "      <td>6</td>\n",
       "      <td>0.011822</td>\n",
       "      <td>0.003621</td>\n",
       "    </tr>\n",
       "    <tr>\n",
       "      <th>OTF0304.1</th>\n",
       "      <th>FBgn0000008</th>\n",
       "      <td>1</td>\n",
       "      <td>0.038800</td>\n",
       "      <td>NaN</td>\n",
       "    </tr>\n",
       "    <tr>\n",
       "      <th>OTF0351.1</th>\n",
       "      <th>FBgn0000008</th>\n",
       "      <td>9</td>\n",
       "      <td>0.012000</td>\n",
       "      <td>0.000000</td>\n",
       "    </tr>\n",
       "    <tr>\n",
       "      <th>OTF0361.1</th>\n",
       "      <th>FBgn0000008</th>\n",
       "      <td>6</td>\n",
       "      <td>0.006653</td>\n",
       "      <td>0.007231</td>\n",
       "    </tr>\n",
       "    <tr>\n",
       "      <th>OTF0397.1</th>\n",
       "      <th>FBgn0000008</th>\n",
       "      <td>1</td>\n",
       "      <td>0.033000</td>\n",
       "      <td>NaN</td>\n",
       "    </tr>\n",
       "    <tr>\n",
       "      <th>OTF0481.1</th>\n",
       "      <th>FBgn0000008</th>\n",
       "      <td>3</td>\n",
       "      <td>0.032900</td>\n",
       "      <td>0.000755</td>\n",
       "    </tr>\n",
       "    <tr>\n",
       "      <th>OTF0516.1</th>\n",
       "      <th>FBgn0000008</th>\n",
       "      <td>10</td>\n",
       "      <td>0.020000</td>\n",
       "      <td>0.000422</td>\n",
       "    </tr>\n",
       "  </tbody>\n",
       "</table>\n",
       "</div>"
      ],
      "text/plain": [
       "                      q-value                    \n",
       "                        count      mean       std\n",
       "otf       FBgn                                   \n",
       "OTF0039.1 FBgn0000008       4  0.023400  0.013800\n",
       "OTF0063.1 FBgn0000008      13  0.041846  0.006446\n",
       "OTF0231.2 FBgn0000008       5  0.021900  0.000000\n",
       "OTF0249.1 FBgn0000008       6  0.011822  0.003621\n",
       "OTF0304.1 FBgn0000008       1  0.038800       NaN\n",
       "OTF0351.1 FBgn0000008       9  0.012000  0.000000\n",
       "OTF0361.1 FBgn0000008       6  0.006653  0.007231\n",
       "OTF0397.1 FBgn0000008       1  0.033000       NaN\n",
       "OTF0481.1 FBgn0000008       3  0.032900  0.000755\n",
       "OTF0516.1 FBgn0000008      10  0.020000  0.000422"
      ]
     },
     "execution_count": 115,
     "metadata": {},
     "output_type": "execute_result"
    }
   ],
   "source": [
    "df2.groupby(['otf', 'FBgn']).agg(['count', 'mean', 'std'])"
   ]
  },
  {
   "cell_type": "code",
   "execution_count": 118,
   "metadata": {
    "collapsed": false
   },
   "outputs": [
    {
     "data": {
      "text/html": [
       "<div>\n",
       "<table border=\"1\" class=\"dataframe\">\n",
       "  <thead>\n",
       "    <tr style=\"text-align: right;\">\n",
       "      <th></th>\n",
       "      <th>otf</th>\n",
       "      <th>FBgn</th>\n",
       "      <th>q-value</th>\n",
       "    </tr>\n",
       "  </thead>\n",
       "  <tbody>\n",
       "    <tr>\n",
       "      <th>16</th>\n",
       "      <td>OTF0039.1</td>\n",
       "      <td>FBgn0000008</td>\n",
       "      <td>0.0165</td>\n",
       "    </tr>\n",
       "    <tr>\n",
       "      <th>17</th>\n",
       "      <td>OTF0039.1</td>\n",
       "      <td>FBgn0000008</td>\n",
       "      <td>0.0165</td>\n",
       "    </tr>\n",
       "    <tr>\n",
       "      <th>18</th>\n",
       "      <td>OTF0039.1</td>\n",
       "      <td>FBgn0000008</td>\n",
       "      <td>0.0165</td>\n",
       "    </tr>\n",
       "    <tr>\n",
       "      <th>43</th>\n",
       "      <td>OTF0039.1</td>\n",
       "      <td>FBgn0000008</td>\n",
       "      <td>0.0441</td>\n",
       "    </tr>\n",
       "  </tbody>\n",
       "</table>\n",
       "</div>"
      ],
      "text/plain": [
       "          otf         FBgn  q-value\n",
       "16  OTF0039.1  FBgn0000008   0.0165\n",
       "17  OTF0039.1  FBgn0000008   0.0165\n",
       "18  OTF0039.1  FBgn0000008   0.0165\n",
       "43  OTF0039.1  FBgn0000008   0.0441"
      ]
     },
     "execution_count": 118,
     "metadata": {},
     "output_type": "execute_result"
    }
   ],
   "source": [
    "df2[df2['otf'] == 'OTF0039.1']"
   ]
  },
  {
   "cell_type": "code",
   "execution_count": null,
   "metadata": {
    "collapsed": true
   },
   "outputs": [],
   "source": []
  },
  {
   "cell_type": "code",
   "execution_count": null,
   "metadata": {
    "collapsed": true
   },
   "outputs": [],
   "source": []
  },
  {
   "cell_type": "code",
   "execution_count": null,
   "metadata": {
    "collapsed": true
   },
   "outputs": [],
   "source": []
  },
  {
   "cell_type": "code",
   "execution_count": null,
   "metadata": {
    "collapsed": true
   },
   "outputs": [],
   "source": []
  },
  {
   "cell_type": "code",
   "execution_count": null,
   "metadata": {
    "collapsed": true
   },
   "outputs": [],
   "source": []
  }
 ],
 "metadata": {
  "anaconda-cloud": {},
  "kernelspec": {
   "display_name": "Python [conda env:s2rnai]",
   "language": "python",
   "name": "conda-env-s2rnai-py"
  },
  "language_info": {
   "codemirror_mode": {
    "name": "ipython",
    "version": 3
   },
   "file_extension": ".py",
   "mimetype": "text/x-python",
   "name": "python",
   "nbconvert_exporter": "python",
   "pygments_lexer": "ipython3",
   "version": "3.5.2"
  },
  "nav_menu": {},
  "toc": {
   "navigate_menu": true,
   "number_sections": false,
   "sideBar": true,
   "threshold": 6,
   "toc_cell": false,
   "toc_section_display": "block",
   "toc_window_display": false
  },
  "toc_position": {
   "height": "1214px",
   "left": "0px",
   "right": "1066px",
   "top": "106px",
   "width": "212px"
  }
 },
 "nbformat": 4,
 "nbformat_minor": 2
}
