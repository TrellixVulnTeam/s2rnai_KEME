{
 "cells": [
  {
   "cell_type": "markdown",
   "metadata": {},
   "source": [
    "I have a list of SRX's from GEO. I really need the SRRs, so I need to query SRA and pull out this info. This notebook is just an exploration on how to do this."
   ]
  },
  {
   "cell_type": "code",
   "execution_count": 11,
   "metadata": {
    "collapsed": true
   },
   "outputs": [],
   "source": [
    "SRX = 'SRX1750011'\n",
    "EMAIL = 'justin.fear@nih.gov'"
   ]
  },
  {
   "cell_type": "code",
   "execution_count": 3,
   "metadata": {
    "code_folding": [
     0
    ]
   },
   "outputs": [
    {
     "name": "stdout",
     "output_type": "stream",
     "text": [
      "last updated: 2017-09-05 \n",
      "\n",
      "CPython 3.5.4\n",
      "IPython 6.1.0\n",
      "Git hash: a2fbba51af25664c8939ac610c57be6a43df45d5\n"
     ]
    }
   ],
   "source": [
    "# %load ../start.py\n",
    "# Load useful extensions\n",
    "import os\n",
    "import sys\n",
    "\n",
    "# Activate the autoreload extension for easy reloading of external packages\n",
    "%reload_ext autoreload\n",
    "%autoreload 1\n",
    "\n",
    "# Set up cashdir\n",
    "from ipycache import CacheMagics\n",
    "CacheMagics.cachedir = '../cachedir'\n",
    "\n",
    "# Trun on the water mark\n",
    "%reload_ext watermark\n",
    "%watermark -u -d -v -g\n",
    "\n",
    "# Load ipycache extension\n",
    "%reload_ext ipycache\n",
    "from ipycache import CacheMagics\n",
    "CacheMagics.cachedir = '../cachedir'\n",
    "\n",
    "# Add project library to path\n",
    "sys.path.insert(0, '../../lcdb-wf/lib')\n",
    "sys.path.insert(0, '../../lib/python')\n",
    "\n",
    "# Set up references\n",
    "import yaml\n",
    "with open('../../config/config.yml') as fh:\n",
    "    config = yaml.load(fh)\n",
    "\n",
    "assembly = config['assembly']\n",
    "tag = config['aligner']['tag']\n",
    "REF = os.path.join(os.environ['REFERENCES_DIR'], assembly, tag)\n"
   ]
  },
  {
   "cell_type": "code",
   "execution_count": 9,
   "metadata": {
    "collapsed": true
   },
   "outputs": [],
   "source": [
    "from Bio import Entrez\n",
    "from xml.etree import ElementTree"
   ]
  },
  {
   "cell_type": "code",
   "execution_count": 10,
   "metadata": {
    "collapsed": true
   },
   "outputs": [],
   "source": [
    "Entrez.email = EMAIL"
   ]
  },
  {
   "cell_type": "code",
   "execution_count": 20,
   "metadata": {},
   "outputs": [],
   "source": [
    "res = Entrez.efetch(db='sra', id=SRX)\n",
    "xml = res.read()"
   ]
  },
  {
   "cell_type": "code",
   "execution_count": 24,
   "metadata": {},
   "outputs": [],
   "source": [
    "root = ElementTree.fromstring(xml)"
   ]
  },
  {
   "cell_type": "code",
   "execution_count": 37,
   "metadata": {},
   "outputs": [],
   "source": [
    "for run in root.iter('RUN'):\n",
    "    pass"
   ]
  },
  {
   "cell_type": "code",
   "execution_count": 39,
   "metadata": {},
   "outputs": [
    {
     "data": {
      "text/plain": [
       "'SRR3488009'"
      ]
     },
     "execution_count": 39,
     "metadata": {},
     "output_type": "execute_result"
    }
   ],
   "source": [
    "run.get('accession')"
   ]
  }
 ],
 "metadata": {
  "kernelspec": {
   "display_name": "Python [conda env:s2rnai]",
   "language": "python",
   "name": "conda-env-s2rnai-py"
  },
  "language_info": {
   "codemirror_mode": {
    "name": "ipython",
    "version": 3
   },
   "file_extension": ".py",
   "mimetype": "text/x-python",
   "name": "python",
   "nbconvert_exporter": "python",
   "pygments_lexer": "ipython3",
   "version": "3.5.4"
  },
  "toc": {
   "colors": {
    "hover_highlight": "#DAA520",
    "navigate_num": "#000000",
    "navigate_text": "#333333",
    "running_highlight": "#FF0000",
    "selected_highlight": "#FFD700",
    "sidebar_border": "#EEEEEE",
    "wrapper_background": "#FFFFFF"
   },
   "moveMenuLeft": true,
   "nav_menu": {
    "height": "12px",
    "width": "252px"
   },
   "navigate_menu": true,
   "number_sections": true,
   "sideBar": true,
   "threshold": 4,
   "toc_cell": false,
   "toc_section_display": "block",
   "toc_window_display": false,
   "widenNotebook": false
  }
 },
 "nbformat": 4,
 "nbformat_minor": 2
}
