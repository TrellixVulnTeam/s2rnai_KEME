{
 "cells": [
  {
   "cell_type": "markdown",
   "metadata": {
    "collapsed": true
   },
   "source": [
    "Exploring the how reagent contribute to gene counts. "
   ]
  },
  {
   "cell_type": "code",
   "execution_count": 1,
   "metadata": {
    "code_folding": []
   },
   "outputs": [
    {
     "name": "stdout",
     "output_type": "stream",
     "text": [
      "last updated: 2017-09-11 \n",
      "\n",
      "CPython 3.5.2\n",
      "IPython 6.1.0\n",
      "Git hash: 30323ff5d7b851313f09f17f572ce19c6c6afe6c\n"
     ]
    }
   ],
   "source": [
    "# %load ../start.py\n",
    "# Load useful extensions\n",
    "import os\n",
    "import sys\n",
    "\n",
    "# Activate the autoreload extension for easy reloading of external packages\n",
    "%reload_ext autoreload\n",
    "%autoreload 1\n",
    "\n",
    "# Set up cashdir\n",
    "from ipycache import CacheMagics\n",
    "CacheMagics.cachedir = '../cachedir'\n",
    "\n",
    "# Trun on the water mark\n",
    "%reload_ext watermark\n",
    "%watermark -u -d -v -g\n",
    "\n",
    "# Load ipycache extension\n",
    "%reload_ext ipycache\n",
    "from ipycache import CacheMagics\n",
    "CacheMagics.cachedir = '../cachedir'\n",
    "\n",
    "# Add project library to path\n",
    "sys.path.insert(0, '../../lcdb-wf/lib')\n",
    "sys.path.insert(0, '../../lib/python')\n",
    "\n",
    "# Set up references\n",
    "import yaml\n",
    "with open('../../config/config.yml') as fh:\n",
    "    config = yaml.load(fh)\n",
    "\n",
    "assembly = config['assembly']\n",
    "tag = config['aligner']['tag']\n",
    "REF = os.path.join(os.environ['REFERENCES_DIR'], assembly, tag)\n"
   ]
  },
  {
   "cell_type": "code",
   "execution_count": 2,
   "metadata": {
    "collapsed": true
   },
   "outputs": [],
   "source": [
    "gene = 'Adf1'"
   ]
  },
  {
   "cell_type": "code",
   "execution_count": 200,
   "metadata": {
    "collapsed": true
   },
   "outputs": [],
   "source": [
    "# imports\n",
    "import collections\n",
    "import pandas as pd\n",
    "import pybedtools\n",
    "import HTSeq"
   ]
  },
  {
   "cell_type": "code",
   "execution_count": 22,
   "metadata": {
    "code_folding": [
     0
    ]
   },
   "outputs": [
    {
     "data": {
      "text/html": [
       "<div>\n",
       "<style>\n",
       "    .dataframe thead tr:only-child th {\n",
       "        text-align: right;\n",
       "    }\n",
       "\n",
       "    .dataframe thead th {\n",
       "        text-align: left;\n",
       "    }\n",
       "\n",
       "    .dataframe tbody tr th {\n",
       "        vertical-align: top;\n",
       "    }\n",
       "</style>\n",
       "<table border=\"1\" class=\"dataframe\">\n",
       "  <thead>\n",
       "    <tr style=\"text-align: right;\">\n",
       "      <th></th>\n",
       "      <th>samplename</th>\n",
       "      <th>SRX</th>\n",
       "      <th>BioSample</th>\n",
       "      <th>GEO</th>\n",
       "      <th>drsc</th>\n",
       "      <th>target_FBgn</th>\n",
       "      <th>target_symbol</th>\n",
       "      <th>drsc_rep</th>\n",
       "      <th>rep</th>\n",
       "      <th>plate_id</th>\n",
       "      <th>well_id</th>\n",
       "      <th>plate_row</th>\n",
       "      <th>plate_column</th>\n",
       "    </tr>\n",
       "  </thead>\n",
       "  <tbody>\n",
       "    <tr>\n",
       "      <th>948</th>\n",
       "      <td>SRR3486828</td>\n",
       "      <td>SRX1748824</td>\n",
       "      <td>SAMN04959159</td>\n",
       "      <td>GSM2145091</td>\n",
       "      <td>DRSC30750</td>\n",
       "      <td>FBgn0284249</td>\n",
       "      <td>Adf1</td>\n",
       "      <td>1</td>\n",
       "      <td>2</td>\n",
       "      <td>10</td>\n",
       "      <td>H4</td>\n",
       "      <td>H</td>\n",
       "      <td>4</td>\n",
       "    </tr>\n",
       "    <tr>\n",
       "      <th>949</th>\n",
       "      <td>SRR3486733</td>\n",
       "      <td>SRX1748729</td>\n",
       "      <td>SAMN04959113</td>\n",
       "      <td>GSM2144996</td>\n",
       "      <td>DRSC30750</td>\n",
       "      <td>FBgn0284249</td>\n",
       "      <td>Adf1</td>\n",
       "      <td>1</td>\n",
       "      <td>1</td>\n",
       "      <td>10</td>\n",
       "      <td>H4</td>\n",
       "      <td>H</td>\n",
       "      <td>4</td>\n",
       "    </tr>\n",
       "  </tbody>\n",
       "</table>\n",
       "</div>"
      ],
      "text/plain": [
       "     samplename         SRX     BioSample         GEO       drsc  target_FBgn  \\\n",
       "948  SRR3486828  SRX1748824  SAMN04959159  GSM2145091  DRSC30750  FBgn0284249   \n",
       "949  SRR3486733  SRX1748729  SAMN04959113  GSM2144996  DRSC30750  FBgn0284249   \n",
       "\n",
       "    target_symbol  drsc_rep  rep  plate_id well_id plate_row  plate_column  \n",
       "948          Adf1         1    2        10      H4         H             4  \n",
       "949          Adf1         1    1        10      H4         H             4  "
      ]
     },
     "execution_count": 22,
     "metadata": {},
     "output_type": "execute_result"
    }
   ],
   "source": [
    "# import sample table\n",
    "sampletable = pd.read_table('../../config/sampletable.tsv')\n",
    "mask = sampletable.target_symbol == gene\n",
    "srrs = sampletable[mask].samplename.unique().tolist()\n",
    "drsc = sampletable[mask].drsc.unique().tolist()\n",
    "fbgn = sampletable[mask].target_FBgn.unique().tolist()\n",
    "\n",
    "sampletable[mask]"
   ]
  },
  {
   "cell_type": "code",
   "execution_count": 346,
   "metadata": {
    "code_folding": []
   },
   "outputs": [],
   "source": [
    "# import drsc coords and make drsc_bed\n",
    "bed = pd.read_table('../../output/drsc_coordinates.bed', header=None)\n",
    "bed.columns = 'chrom', 'start', 'end', 'rname', 'score', 'strand'\n",
    "bed.chrom = 'chr' + bed.chrom\n",
    "mask = bed.rname.isin(drsc)\n",
    "\n",
    "drsc_bed = pybedtools.BedTool(bed[mask].values.tolist())"
   ]
  },
  {
   "cell_type": "code",
   "execution_count": 575,
   "metadata": {
    "code_folding": []
   },
   "outputs": [],
   "source": [
    "# Import GTF and make gene_bed\n",
    "def featuretype_filter(feature, featuretype, fbgns):\n",
    "    if (feature[2] == featuretype) & (feature.attrs['gene_id'] in fbgns):\n",
    "        return True\n",
    "    return False\n",
    "\n",
    "assembly = config['assembly']\n",
    "tag = config['gtf']['tag']\n",
    "gtfName = os.path.join(\n",
    "    os.environ['REFERENCES_DIR'], assembly, tag, 'gtf', '{assembly}_{tag}.gtf'.format(\n",
    "        assembly=assembly, tag=tag\n",
    "    )\n",
    ")\n",
    "\n",
    "with open(gtfName) as fh:\n",
    "    gtf_full = pybedtools.BedTool(fh.read().strip(), from_string=True)\n",
    "gene_bed = pybedtools.BedTool(gtf_full.filter(featuretype_filter, 'exon', fbgn).saveas().fn)"
   ]
  },
  {
   "cell_type": "code",
   "execution_count": 398,
   "metadata": {
    "code_folding": [],
    "collapsed": true
   },
   "outputs": [],
   "source": [
    "# Subtract DRSC from Gene model\n",
    "gene_sub = gene_bed.subtract(drsc_bed)"
   ]
  },
  {
   "cell_type": "code",
   "execution_count": 474,
   "metadata": {
    "code_folding": []
   },
   "outputs": [],
   "source": [
    "# Build gene interval\n",
    "gtf_fh = HTSeq.GFF_Reader(gene_bed.fn)\n",
    "gene_interval = HTSeq.GenomicArrayOfSets(\"auto\", stranded=True)\n",
    "for feature in gtf_fh:\n",
    "    if (feature.type == 'exon') & (feature.attr['gene_id'] in fbgn):\n",
    "        gene_interval[feature.iv] += feature.attr['gene_id']"
   ]
  },
  {
   "cell_type": "code",
   "execution_count": 475,
   "metadata": {
    "code_folding": [],
    "collapsed": true
   },
   "outputs": [],
   "source": [
    "# Build gene drsc subtracted interval\n",
    "gtf_fh = HTSeq.GFF_Reader(gene_sub.fn)\n",
    "gene_sub_interval = HTSeq.GenomicArrayOfSets(\"auto\", stranded=True)\n",
    "for feature in gtf_fh:\n",
    "    if (feature.type == 'exon') & (feature.attr['gene_id'] in fbgn):\n",
    "        gene_sub_interval[feature.iv] += feature.attr['gene_id']"
   ]
  },
  {
   "cell_type": "code",
   "execution_count": 476,
   "metadata": {
    "code_folding": [],
    "collapsed": true
   },
   "outputs": [],
   "source": [
    "# Build drsc interval\n",
    "drsc_interval = HTSeq.GenomicArrayOfSets(\"auto\", stranded=True)\n",
    "for feature in drsc_bed:\n",
    "    interval = HTSeq.GenomicInterval(\n",
    "        chrom=feature.chrom,\n",
    "        start=feature.start,\n",
    "        end=feature.end,\n",
    "        strand=feature.strand\n",
    "    )\n",
    "    drsc_interval[interval] += feature.name"
   ]
  },
  {
   "cell_type": "code",
   "execution_count": 425,
   "metadata": {
    "code_folding": []
   },
   "outputs": [
    {
     "data": {
      "text/plain": [
       "['../../rnaseq-wf/data/rnaseq_samples/SRR3486828/SRR3486828.cutadapt.bam',\n",
       " '../../rnaseq-wf/data/rnaseq_samples/SRR3486733/SRR3486733.cutadapt.bam']"
      ]
     },
     "execution_count": 425,
     "metadata": {},
     "output_type": "execute_result"
    }
   ],
   "source": [
    "# Get BAMs file names\n",
    "bams = []\n",
    "for srr in srrs:\n",
    "    bams.append(os.path.join(\n",
    "        '../../rnaseq-wf/data/rnaseq_samples/{srr}/{srr}.cutadapt.bam'.format(srr=srr)\n",
    "    ))\n",
    "\n",
    "bams"
   ]
  },
  {
   "cell_type": "code",
   "execution_count": 49,
   "metadata": {
    "code_folding": [],
    "collapsed": true
   },
   "outputs": [],
   "source": [
    "def invert_strand(iv):\n",
    "    iv2 = iv.copy()\n",
    "    if iv2.strand == \"+\":\n",
    "        iv2.strand = \"-\"\n",
    "    elif iv2.strand == \"-\":\n",
    "        iv2.strand = \"+\"\n",
    "    else:\n",
    "        raise ValueError(\"Illegal strand\")\n",
    "    return iv2"
   ]
  },
  {
   "cell_type": "code",
   "execution_count": 477,
   "metadata": {
    "code_folding": []
   },
   "outputs": [],
   "source": [
    "counter = {\n",
    "    'gene': 0,\n",
    "    'sub': 0,\n",
    "    'drsc': 0\n",
    "}\n",
    "\n",
    "almnt_file = HTSeq.BAM_Reader(bams[0])\n",
    "for almnt in almnt_file:\n",
    "    if not almnt.aligned:\n",
    "        continue\n",
    "        \n",
    "    # skip reads that are on different chromosomes\n",
    "    if almnt.iv.chrom not in list(gene_interval.chrom_vectors.keys()):\n",
    "        continue\n",
    "        \n",
    "    # Count on full gene\n",
    "    gene_ids = set()\n",
    "    for iv, val in gene_interval[invert_strand(almnt.iv)].steps():\n",
    "        gene_ids |= val\n",
    "        \n",
    "    if len(gene_ids) == 1:\n",
    "        gene_id = list(gene_ids)[0]\n",
    "        counter['gene'] += 1\n",
    "        \n",
    "    # Count on drsc subtracted gene\n",
    "    gene_ids = set()\n",
    "    for iv, val in gene_sub_interval[invert_strand(almnt.iv)].steps():\n",
    "        gene_ids |= val\n",
    "        \n",
    "    if len(gene_ids) == 1:\n",
    "        gene_id = list(gene_ids)[0]\n",
    "        counter['sub'] += 1\n",
    "        \n",
    "    # Count on drsc \n",
    "    gene_ids = set()\n",
    "    for iv, val in drsc_interval[invert_strand(almnt.iv)].steps():\n",
    "        gene_ids |= val\n",
    "        \n",
    "    if len(gene_ids) == 1:\n",
    "        gene_id = list(gene_ids)[0]\n",
    "        counter['drsc'] += 1"
   ]
  },
  {
   "cell_type": "code",
   "execution_count": 479,
   "metadata": {},
   "outputs": [
    {
     "data": {
      "text/plain": [
       "Counter({'FBgn0284249': 460})"
      ]
     },
     "execution_count": 479,
     "metadata": {},
     "output_type": "execute_result"
    }
   ],
   "source": [
    "gene_counts"
   ]
  },
  {
   "cell_type": "code",
   "execution_count": 480,
   "metadata": {},
   "outputs": [
    {
     "data": {
      "text/plain": [
       "Counter({'FBgn0284249': 296})"
      ]
     },
     "execution_count": 480,
     "metadata": {},
     "output_type": "execute_result"
    }
   ],
   "source": [
    "gene_sub_counts"
   ]
  },
  {
   "cell_type": "code",
   "execution_count": 478,
   "metadata": {},
   "outputs": [
    {
     "data": {
      "text/plain": [
       "Counter({'DRSC30750': 178})"
      ]
     },
     "execution_count": 478,
     "metadata": {},
     "output_type": "execute_result"
    }
   ],
   "source": [
    "drsc_counts"
   ]
  },
  {
   "cell_type": "code",
   "execution_count": 500,
   "metadata": {
    "collapsed": true
   },
   "outputs": [],
   "source": [
    "counter = {'gene': 460, 'sub': 296, 'drsc': 178}"
   ]
  },
  {
   "cell_type": "code",
   "execution_count": 491,
   "metadata": {},
   "outputs": [
    {
     "data": {
      "text/plain": [
       "dict_values([460])"
      ]
     },
     "execution_count": 491,
     "metadata": {},
     "output_type": "execute_result"
    }
   ],
   "source": []
  },
  {
   "cell_type": "code",
   "execution_count": 539,
   "metadata": {},
   "outputs": [],
   "source": [
    "df = pd.DataFrame([counter], index=['SRR'])"
   ]
  },
  {
   "cell_type": "code",
   "execution_count": 533,
   "metadata": {
    "collapsed": true
   },
   "outputs": [],
   "source": [
    "def get_bed_len(bed):\n",
    "    \"\"\"Calcuates the total length of a gene.\n",
    "\n",
    "    Returns\n",
    "    -------\n",
    "    int:\n",
    "        Length of a gene.\n",
    "    \"\"\"\n",
    "    length = 0\n",
    "    merged = bed.sort().merge()\n",
    "    for x in merged:\n",
    "        length += x.length\n",
    "    return length"
   ]
  },
  {
   "cell_type": "code",
   "execution_count": 534,
   "metadata": {},
   "outputs": [
    {
     "data": {
      "text/plain": [
       "1800"
      ]
     },
     "execution_count": 534,
     "metadata": {},
     "output_type": "execute_result"
    }
   ],
   "source": [
    "get_bed_len(gene_bed)"
   ]
  },
  {
   "cell_type": "code",
   "execution_count": 536,
   "metadata": {},
   "outputs": [
    {
     "data": {
      "text/plain": [
       "1572"
      ]
     },
     "execution_count": 536,
     "metadata": {},
     "output_type": "execute_result"
    }
   ],
   "source": [
    "get_bed_len(gene_sub)"
   ]
  },
  {
   "cell_type": "code",
   "execution_count": 537,
   "metadata": {},
   "outputs": [
    {
     "data": {
      "text/plain": [
       "228"
      ]
     },
     "execution_count": 537,
     "metadata": {},
     "output_type": "execute_result"
    }
   ],
   "source": [
    "get_bed_len(drsc_bed)"
   ]
  },
  {
   "cell_type": "code",
   "execution_count": 545,
   "metadata": {},
   "outputs": [
    {
     "name": "stdout",
     "output_type": "stream",
     "text": [
      "srr  drsc  gene  sub\n",
      "SRR   178   460  296\n"
     ]
    }
   ],
   "source": [
    "df.index.name='srr'\n",
    "print(df.reset_index().to_string(index=False))"
   ]
  },
  {
   "cell_type": "code",
   "execution_count": 546,
   "metadata": {},
   "outputs": [
    {
     "name": "stdout",
     "output_type": "stream",
     "text": [
      "chr2R\tFlyBase\texon\t6662265\t6662436\t7\t+\t.\tgene_symbol \"Adf1\";transcript_id \"FBtr0086111\";gene_id \"FBgn0284249\";transcript_symbol \"Adf1-RA\";\n",
      "chr2R\tFlyBase\texon\t6662569\t6662757\t7\t+\t.\tgene_symbol \"Adf1\";transcript_id \"FBtr0086111\";gene_id \"FBgn0284249\";transcript_symbol \"Adf1-RA\";\n",
      "chr2R\tFlyBase\texon\t6666720\t6667013\t7\t+\t.\tgene_symbol \"Adf1\";transcript_id \"FBtr0086111\";gene_id \"FBgn0284249\";transcript_symbol \"Adf1-RA\";\n",
      "chr2R\tFlyBase\texon\t6667073\t6668085\t7\t+\t.\tgene_symbol \"Adf1\";transcript_id \"FBtr0086111\";gene_id \"FBgn0284249\";transcript_symbol \"Adf1-RA\";\n",
      "chr2R\tFlyBase\texon\t6662270\t6662757\t15\t+\t.\tgene_symbol \"Adf1\";transcript_id \"FBtr0086112\";gene_id \"FBgn0284249\";transcript_symbol \"Adf1-RB\";\n",
      "chr2R\tFlyBase\texon\t6666720\t6667013\t15\t+\t.\tgene_symbol \"Adf1\";transcript_id \"FBtr0086112\";gene_id \"FBgn0284249\";transcript_symbol \"Adf1-RB\";\n",
      "chr2R\tFlyBase\texon\t6667073\t6668085\t15\t+\t.\tgene_symbol \"Adf1\";transcript_id \"FBtr0086112\";gene_id \"FBgn0284249\";transcript_symbol \"Adf1-RB\";\n",
      "chr2R\tFlyBase\texon\t6662270\t6662448\t15\t+\t.\tgene_symbol \"Adf1\";transcript_id \"FBtr0086113\";gene_id \"FBgn0284249\";transcript_symbol \"Adf1-RC\";\n",
      "chr2R\tFlyBase\texon\t6662569\t6662757\t15\t+\t.\tgene_symbol \"Adf1\";transcript_id \"FBtr0086113\";gene_id \"FBgn0284249\";transcript_symbol \"Adf1-RC\";\n",
      "chr2R\tFlyBase\texon\t6666720\t6667013\t15\t+\t.\tgene_symbol \"Adf1\";transcript_id \"FBtr0086113\";gene_id \"FBgn0284249\";transcript_symbol \"Adf1-RC\";\n",
      "chr2R\tFlyBase\texon\t6667073\t6668085\t15\t+\t.\tgene_symbol \"Adf1\";transcript_id \"FBtr0086113\";gene_id \"FBgn0284249\";transcript_symbol \"Adf1-RC\";\n",
      "chr2R\tFlyBase\texon\t6662265\t6662436\t7\t+\t.\tgene_symbol \"Adf1\";transcript_id \"FBtr0330252\";gene_id \"FBgn0284249\";transcript_symbol \"Adf1-RE\";\n",
      "chr2R\tFlyBase\texon\t6662569\t6662757\t7\t+\t.\tgene_symbol \"Adf1\";transcript_id \"FBtr0330252\";gene_id \"FBgn0284249\";transcript_symbol \"Adf1-RE\";\n",
      "chr2R\tFlyBase\texon\t6666720\t6667013\t7\t+\t.\tgene_symbol \"Adf1\";transcript_id \"FBtr0330252\";gene_id \"FBgn0284249\";transcript_symbol \"Adf1-RE\";\n",
      "chr2R\tFlyBase\texon\t6667073\t6668085\t7\t+\t.\tgene_symbol \"Adf1\";transcript_id \"FBtr0330252\";gene_id \"FBgn0284249\";transcript_symbol \"Adf1-RE\";\n",
      "\n"
     ]
    }
   ],
   "source": [
    "print(gene_bed)"
   ]
  },
  {
   "cell_type": "code",
   "execution_count": null,
   "metadata": {
    "collapsed": true
   },
   "outputs": [],
   "source": []
  }
 ],
 "metadata": {
  "kernelspec": {
   "display_name": "Python [conda env:s2rnai]",
   "language": "python",
   "name": "conda-env-s2rnai-py"
  },
  "language_info": {
   "codemirror_mode": {
    "name": "ipython",
    "version": 3
   },
   "file_extension": ".py",
   "mimetype": "text/x-python",
   "name": "python",
   "nbconvert_exporter": "python",
   "pygments_lexer": "ipython3",
   "version": "3.5.2"
  },
  "toc": {
   "nav_menu": {},
   "number_sections": true,
   "sideBar": true,
   "skip_h1_title": false,
   "toc_cell": false,
   "toc_position": {},
   "toc_section_display": "block",
   "toc_window_display": false
  }
 },
 "nbformat": 4,
 "nbformat_minor": 2
}
