{
 "cells": [
  {
   "cell_type": "code",
   "execution_count": 2,
   "metadata": {
    "code_folding": [
     0
    ],
    "collapsed": false,
    "init_cell": true
   },
   "outputs": [
    {
     "name": "stdout",
     "output_type": "stream",
     "text": [
      "Justin M Fear \n",
      "last updated: 2017-01-24 \n",
      "\n",
      "CPython 3.5.2\n",
      "IPython 5.1.0\n"
     ]
    }
   ],
   "source": [
    "# %load ../start.py\n",
    "# Load useful extensions\n",
    "\n",
    "# Activate the autoreload extension for easy reloading of external packages\n",
    "%reload_ext autoreload\n",
    "%autoreload 1\n",
    "\n",
    "# Trun on the water mark\n",
    "%reload_ext watermark\n",
    "%watermark -a \"Justin M Fear\" -u -d -v\n",
    "\n",
    "# Load ipycache extension\n",
    "%reload_ext ipycache\n",
    "from ipycache import CacheMagics\n",
    "CacheMagics.cachedir = '../cachedir'\n",
    "\n",
    "# Add project library to path\n",
    "import sys\n",
    "sys.path.insert(0, '../../lib/python')\n"
   ]
  },
  {
   "cell_type": "markdown",
   "metadata": {},
   "source": [
    "In the last S2 cell RNAi project meeting we reviewed Yijie's network model. One concern that I had was the addition of edges from transcription factors to genes, when a gene is highly correlated. For example:\n",
    "\n",
    "```\n",
    "TFa -> A\n",
    "\n",
    "A and B are highly correlated...\n",
    "\n",
    "Add edge TFa ->B\n",
    "```\n",
    "\n",
    "This is a good idea, but does not necessarily hold true. We decided the addition of motif information would be important. Then we could only add `TFa->B` when `B` has a motif from `TFa`. \n",
    "\n",
    "Lee had started generating a TF motif list/weights, but Brian wanted him to stop this and have me do it. They basic analysis plan is:\n",
    "\n",
    "1. Download annotated TF motifs from various online sources.\n",
    "2. Map motifs to the genome and identify motifs within some range of the TSS. \n",
    "3. Do the same thing across Drosophila species and calculate a conservation score (see DSX motif paper).\n",
    "4. Build a weight matrix where each row is a gene and each column is transcription factor. Valuse can either be binary or weights for if the TF motif was within the regulatory region of the gene.\n",
    "\n",
    "Lee has looked for sources of motifs and concluded that the MEME website is a good source. Here is an email from Lee updating me on this information:\n",
    "\n",
    "    Justin, \n",
    "\n",
    "    My R scripts seem to be not super-helpful.  There are just about how I defined TSS regions (+ first introns).  I assigned a motif to a gene when a motif is within the range between 1kb upstream to min(500bp downstream or first intron end).  Just briefly go over for fun.\n",
    "\n",
    "\n",
    "    You can download the weight matrices from MEME, but I attach here, too. \n",
    "\n",
    "    OnTheFly data, used very weird IDs, which are mixture of Swissprot and others.  It is very nagging to deal with it, so I actually crawled their website (which also in in the Handling_motif_data.R).  I attach the ID conversion matrix.  This will be very useful.\n",
    "\n",
    "\n",
    "    FIMO results are quite large, and I don’t think that you will use them.  But the links follow.\n",
    "    https://www.dropbox.com/s/czse5ur5md8wm1u/OnTheFly_2014_p0.0001.txt?dl=0\n",
    "    https://www.dropbox.com/s/hq812lsv6hijqet/fly_factor_survey_p0.0001.txt?dl=0\n",
    "\n",
    "    An example of my FIMO code is below\n",
    "    cd /data/leehang/motif/fly_factor_survey; fimo --qv-thresh --thresh 0.05 ./fly_factor_survey.meme ~/Annotation/Dmel.FB6_06.fa\n",
    "\n",
    "\n",
    "    Lee\n",
    "\n",
    "I think I am going to approach this cleanly so that I know exactly where and how files were downloaded."
   ]
  },
  {
   "cell_type": "code",
   "execution_count": 3,
   "metadata": {
    "code_folding": [],
    "collapsed": false,
    "init_cell": true
   },
   "outputs": [],
   "source": [
    "# Imports\n",
    "import os\n",
    "import re\n",
    "import tarfile\n",
    "from urllib.request import urlretrieve, urlopen\n",
    "from tempfile import mkstemp\n",
    "\n",
    "import pandas as pd\n",
    "\n",
    "from Bio import motifs\n",
    "\n",
    "# My library\n",
    "import meme"
   ]
  },
  {
   "cell_type": "code",
   "execution_count": 4,
   "metadata": {
    "code_folding": [
     0
    ],
    "collapsed": false
   },
   "outputs": [],
   "source": [
    "# Download MEME motif database\n",
    "if not os.path.exists('../../data/external/meme/motif_databases/FLY/fly_factor_survey.meme'):\n",
    "    # Download file\n",
    "    temp = mkstemp(suffix='tgz')\n",
    "    urlretrieve(url='http://meme-suite.org/meme-software/Databases/motifs/motif_databases.12.15.tgz', filename=temp[1])\n",
    "    \n",
    "    # Make sure output dir is there\n",
    "    if not os.path.exists('../../data/external/meme'):\n",
    "        os.mkdir('../../data/external/meme')\n",
    "\n",
    "    # Open tar\n",
    "    tar = tarfile.open(temp[1])\n",
    "\n",
    "    # Extract only the Fly data\n",
    "    def fly(members):\n",
    "        for tarinfo in members:\n",
    "            if 'FLY' in tarinfo.name:\n",
    "                yield tarinfo\n",
    "    \n",
    "    tar.extractall(path='../../data/external/meme', members=fly(tar))\n",
    "    \n",
    "    # Clean up\n",
    "    tar.close()\n",
    "    os.unlink(temp[1])"
   ]
  },
  {
   "cell_type": "code",
   "execution_count": 5,
   "metadata": {
    "code_folding": [
     0
    ],
    "collapsed": false
   },
   "outputs": [],
   "source": [
    "%%cache -s flyfactory.pkl flyFactoryTFS\n",
    "# Verify Meme downloads\n",
    "flyFactoryTFS = meme.memeFile('../../data/external/meme/motif_databases/FLY/fly_factor_survey.meme')\n",
    "# According to the meme website the fly factor database has 656 motifs, this will error if not\n",
    "assert flyFactoryTFS .count() == 656"
   ]
  },
  {
   "cell_type": "code",
   "execution_count": 31,
   "metadata": {
    "collapsed": false
   },
   "outputs": [],
   "source": [
    "%%cache -s -f onthefly.pkl onTheFlyTFS\n",
    "# map OnTheFly to FBgn\n",
    "\n",
    "# The OnTheFly motifs are not as stright forward because they use their own identifier. There is \n",
    "# an added step to query their website and get the FBgn value.\n",
    "URL = 'https://bhapp.c2b2.columbia.edu/OnTheFly/cgi-bin/protein_entry.php?protein_ID={0}'\n",
    "def map_onthefly(query):\n",
    "    try:\n",
    "        with urlopen(URL.format(query)) as fh:\n",
    "            return re.findall(r'FBgn\\d+', fh.read().decode('utf-8'))[0]\n",
    "    except:\n",
    "        print(query)\n",
    "        raise\n",
    "    \n",
    "onTheFlyTFS = meme.memeFile('../../data/external/meme/motif_databases/FLY/OnTheFly_2014_Drosophila.meme')\n",
    "# According to the meme website the fly factor database has 608 motifs, this will error if not\n",
    "assert onTheFlyTFS.count() == 608"
   ]
  },
  {
   "cell_type": "code",
   "execution_count": 40,
   "metadata": {
    "collapsed": false
   },
   "outputs": [],
   "source": [
    "results = []\n",
    "for key, values in onTheFlyTFS.items():\n",
    "    for value in values:\n",
    "        # grab link to protein page from url provided\n",
    "        with urlopen(value.url) as fh:\n",
    "            page = fh.read().decode('UTF-8')\n",
    "            name = re.findall(r'protein_entry.php\\?protein_ID=(.*?)\\'', page)[0]\n",
    "            ID = re.findall(r'ID: (OTF\\d+\\.\\d+)', page)[0]\n",
    "        URL = 'https://bhapp.c2b2.columbia.edu/OnTheFly/cgi-bin/protein_entry.php?protein_ID={0}'\n",
    "        try:\n",
    "            with urlopen(URL.format(name)) as fh:\n",
    "                fbgn = re.findall(r'FBgn\\d+', fh.read().decode('utf-8'))[0]\n",
    "            results.append((key, ID, value.name, fbgn))\n",
    "        except:\n",
    "            pass"
   ]
  },
  {
   "cell_type": "code",
   "execution_count": 41,
   "metadata": {
    "collapsed": false
   },
   "outputs": [],
   "source": [
    "df = pd.DataFrame(results, columns=['name', 'id', 'portein', 'FBgn'])"
   ]
  },
  {
   "cell_type": "code",
   "execution_count": 53,
   "metadata": {
    "collapsed": false
   },
   "outputs": [
    {
     "name": "stdout",
     "output_type": "stream",
     "text": [
      "(607, 4)\n"
     ]
    },
    {
     "data": {
      "text/html": [
       "<div>\n",
       "<table border=\"1\" class=\"dataframe\">\n",
       "  <thead>\n",
       "    <tr style=\"text-align: right;\">\n",
       "      <th></th>\n",
       "      <th>name</th>\n",
       "      <th>id</th>\n",
       "      <th>portein</th>\n",
       "      <th>FBgn</th>\n",
       "    </tr>\n",
       "  </thead>\n",
       "  <tbody>\n",
       "    <tr>\n",
       "      <th>230</th>\n",
       "      <td>OTF0001</td>\n",
       "      <td>OTF0001.1</td>\n",
       "      <td>7UP1_DROME_B1H</td>\n",
       "      <td>FBgn0003651</td>\n",
       "    </tr>\n",
       "    <tr>\n",
       "      <th>242</th>\n",
       "      <td>OTF0002</td>\n",
       "      <td>OTF0002.1</td>\n",
       "      <td>A0AQF9_DROME_B1H</td>\n",
       "      <td>FBgn0034599</td>\n",
       "    </tr>\n",
       "    <tr>\n",
       "      <th>362</th>\n",
       "      <td>OTF0003</td>\n",
       "      <td>OTF0003.1</td>\n",
       "      <td>A0JQ60_DROME_SELEX</td>\n",
       "      <td>FBgn0000567</td>\n",
       "    </tr>\n",
       "    <tr>\n",
       "      <th>363</th>\n",
       "      <td>OTF0003</td>\n",
       "      <td>OTF0003.2</td>\n",
       "      <td>A0JQ60_DROME_DNaseI</td>\n",
       "      <td>FBgn0000567</td>\n",
       "    </tr>\n",
       "    <tr>\n",
       "      <th>253</th>\n",
       "      <td>OTF0004</td>\n",
       "      <td>OTF0004.1</td>\n",
       "      <td>A1A6R5_DROME_B1H</td>\n",
       "      <td>FBgn0004914</td>\n",
       "    </tr>\n",
       "  </tbody>\n",
       "</table>\n",
       "</div>"
      ],
      "text/plain": [
       "        name         id              portein         FBgn\n",
       "230  OTF0001  OTF0001.1       7UP1_DROME_B1H  FBgn0003651\n",
       "242  OTF0002  OTF0002.1     A0AQF9_DROME_B1H  FBgn0034599\n",
       "362  OTF0003  OTF0003.1   A0JQ60_DROME_SELEX  FBgn0000567\n",
       "363  OTF0003  OTF0003.2  A0JQ60_DROME_DNaseI  FBgn0000567\n",
       "253  OTF0004  OTF0004.1     A1A6R5_DROME_B1H  FBgn0004914"
      ]
     },
     "execution_count": 53,
     "metadata": {},
     "output_type": "execute_result"
    }
   ],
   "source": [
    "df.sort_values(by='id', inplace=True)\n",
    "print(df.shape)\n",
    "df.head()"
   ]
  },
  {
   "cell_type": "code",
   "execution_count": 62,
   "metadata": {
    "collapsed": false
   },
   "outputs": [
    {
     "data": {
      "text/plain": [
       "<meme.memeFile at 0x7f8b24c39470>"
      ]
     },
     "execution_count": 62,
     "metadata": {},
     "output_type": "execute_result"
    }
   ],
   "source": [
    "onTheFlyTFS"
   ]
  },
  {
   "cell_type": "code",
   "execution_count": null,
   "metadata": {
    "collapsed": true
   },
   "outputs": [],
   "source": []
  }
 ],
 "metadata": {
  "anaconda-cloud": {},
  "kernelspec": {
   "display_name": "Python [conda env:s2rnai]",
   "language": "python",
   "name": "conda-env-s2rnai-py"
  },
  "language_info": {
   "codemirror_mode": {
    "name": "ipython",
    "version": 3
   },
   "file_extension": ".py",
   "mimetype": "text/x-python",
   "name": "python",
   "nbconvert_exporter": "python",
   "pygments_lexer": "ipython3",
   "version": "3.5.2"
  },
  "nav_menu": {},
  "toc": {
   "navigate_menu": true,
   "number_sections": true,
   "sideBar": true,
   "threshold": 6,
   "toc_cell": false,
   "toc_section_display": "block",
   "toc_window_display": false
  }
 },
 "nbformat": 4,
 "nbformat_minor": 0
}
